{
  "nbformat": 4,
  "nbformat_minor": 0,
  "metadata": {
    "colab": {
      "name": "7 - Cross Validation and Grid Search.ipynb",
      "provenance": [],
      "collapsed_sections": [],
      "toc_visible": true
    },
    "kernelspec": {
      "name": "python3",
      "display_name": "Python 3"
    },
    "language_info": {
      "name": "python"
    }
  },
  "cells": [
    {
      "cell_type": "markdown",
      "metadata": {
        "id": "dBb-82ZeajeH"
      },
      "source": [
        "---\n",
        "---"
      ]
    },
    {
      "cell_type": "markdown",
      "metadata": {
        "id": "GBd14j9VaDkf"
      },
      "source": [
        "# **1 - Splitting Data**"
      ]
    },
    {
      "cell_type": "markdown",
      "metadata": {
        "id": "GEIN3w6HahHA"
      },
      "source": [
        "**DATA**"
      ]
    },
    {
      "cell_type": "code",
      "metadata": {
        "id": "mxfJR1W3-Qo_"
      },
      "source": [
        "import numpy as np\n",
        "import pandas as pd\n",
        "import matplotlib.pyplot as plt\n",
        "import seaborn as sns"
      ],
      "execution_count": null,
      "outputs": []
    },
    {
      "cell_type": "code",
      "metadata": {
        "id": "A14CsN3W-QpH"
      },
      "source": [
        "df = pd.read_csv('/content/drive/MyDrive/Data_Science/Materi/Notes/7_Cross_Validation_and_Grid_Search/Advertising.csv')"
      ],
      "execution_count": null,
      "outputs": []
    },
    {
      "cell_type": "code",
      "metadata": {
        "id": "2SUbfe8M-QpK",
        "colab": {
          "base_uri": "https://localhost:8080/",
          "height": 206
        },
        "outputId": "2fa8bc57-5918-43d5-d2fa-bd37671c1b2d"
      },
      "source": [
        "df.head()"
      ],
      "execution_count": null,
      "outputs": [
        {
          "output_type": "execute_result",
          "data": {
            "text/html": [
              "<div>\n",
              "<style scoped>\n",
              "    .dataframe tbody tr th:only-of-type {\n",
              "        vertical-align: middle;\n",
              "    }\n",
              "\n",
              "    .dataframe tbody tr th {\n",
              "        vertical-align: top;\n",
              "    }\n",
              "\n",
              "    .dataframe thead th {\n",
              "        text-align: right;\n",
              "    }\n",
              "</style>\n",
              "<table border=\"1\" class=\"dataframe\">\n",
              "  <thead>\n",
              "    <tr style=\"text-align: right;\">\n",
              "      <th></th>\n",
              "      <th>TV</th>\n",
              "      <th>radio</th>\n",
              "      <th>newspaper</th>\n",
              "      <th>sales</th>\n",
              "    </tr>\n",
              "  </thead>\n",
              "  <tbody>\n",
              "    <tr>\n",
              "      <th>0</th>\n",
              "      <td>230.1</td>\n",
              "      <td>37.8</td>\n",
              "      <td>69.2</td>\n",
              "      <td>22.1</td>\n",
              "    </tr>\n",
              "    <tr>\n",
              "      <th>1</th>\n",
              "      <td>44.5</td>\n",
              "      <td>39.3</td>\n",
              "      <td>45.1</td>\n",
              "      <td>10.4</td>\n",
              "    </tr>\n",
              "    <tr>\n",
              "      <th>2</th>\n",
              "      <td>17.2</td>\n",
              "      <td>45.9</td>\n",
              "      <td>69.3</td>\n",
              "      <td>9.3</td>\n",
              "    </tr>\n",
              "    <tr>\n",
              "      <th>3</th>\n",
              "      <td>151.5</td>\n",
              "      <td>41.3</td>\n",
              "      <td>58.5</td>\n",
              "      <td>18.5</td>\n",
              "    </tr>\n",
              "    <tr>\n",
              "      <th>4</th>\n",
              "      <td>180.8</td>\n",
              "      <td>10.8</td>\n",
              "      <td>58.4</td>\n",
              "      <td>12.9</td>\n",
              "    </tr>\n",
              "  </tbody>\n",
              "</table>\n",
              "</div>"
            ],
            "text/plain": [
              "      TV  radio  newspaper  sales\n",
              "0  230.1   37.8       69.2   22.1\n",
              "1   44.5   39.3       45.1   10.4\n",
              "2   17.2   45.9       69.3    9.3\n",
              "3  151.5   41.3       58.5   18.5\n",
              "4  180.8   10.8       58.4   12.9"
            ]
          },
          "metadata": {
            "tags": []
          },
          "execution_count": 3
        }
      ]
    },
    {
      "cell_type": "markdown",
      "metadata": {
        "id": "leE1haBy1lw2"
      },
      "source": [
        "---"
      ]
    },
    {
      "cell_type": "markdown",
      "metadata": {
        "id": "iAwSFX0u-QpM"
      },
      "source": [
        "\n",
        "## **A. Train | Test Split** \n",
        "\n",
        "Procedure:\n",
        "0. Clean and adjust data as necessary for X and y\n",
        "1. Split Data in Train/Test for both X and y\n",
        "2. Fit and Scale on X Train Data\n",
        "3. Scale X Test Data\n",
        "4. Create Model\n",
        "5. Fit/Train Model on X Train Data\n",
        "6. Evaluate Model on X Test Data (by creating predictions and comparing to Y_test)\n",
        "7. Adjust Parameters as Necessary and repeat steps 5 and 6"
      ]
    },
    {
      "cell_type": "code",
      "metadata": {
        "id": "sb0NYL8B-QpO"
      },
      "source": [
        "## CREATE X and y\n",
        "X = df.drop('sales',axis=1)\n",
        "y = df['sales']\n",
        "\n",
        "# TRAIN TEST SPLIT\n",
        "from sklearn.model_selection import train_test_split\n",
        "X_train, X_test, y_train, y_test = train_test_split(X, y, test_size=0.3, random_state=101)"
      ],
      "execution_count": null,
      "outputs": []
    },
    {
      "cell_type": "code",
      "metadata": {
        "id": "plm3svaEVyI5"
      },
      "source": [
        "# SCALE DATA\n",
        "from sklearn.preprocessing import StandardScaler\n",
        "scaler = StandardScaler()\n",
        "\n",
        "# Fit only to training data (fit is to calculate statistical information)\n",
        "scaler.fit(X_train)\n",
        "scaled_X_train = scaler.transform(X_train)\n",
        "\n",
        "scaled_X_test = scaler.transform(X_test)"
      ],
      "execution_count": null,
      "outputs": []
    },
    {
      "cell_type": "code",
      "metadata": {
        "colab": {
          "base_uri": "https://localhost:8080/"
        },
        "id": "gr6-3QdO4tqT",
        "outputId": "edbf020c-8e95-4b6e-9907-da1ad9a09471"
      },
      "source": [
        "scaled_X_train[0:5]"
      ],
      "execution_count": null,
      "outputs": [
        {
          "output_type": "execute_result",
          "data": {
            "text/plain": [
              "array([[ 0.49300171, -0.33994238,  1.61586707],\n",
              "       [ 1.61337153,  1.32852213,  1.90079242],\n",
              "       [-0.84811893, -1.58789957, -1.02319564],\n",
              "       [ 0.36719748,  1.54555816,  1.28890355],\n",
              "       [ 0.83955678, -1.2962574 ,  0.87319278]])"
            ]
          },
          "metadata": {
            "tags": []
          },
          "execution_count": 6
        }
      ]
    },
    {
      "cell_type": "code",
      "metadata": {
        "colab": {
          "base_uri": "https://localhost:8080/"
        },
        "id": "TVLkl9wi5lCB",
        "outputId": "94ed1470-2d5b-4608-a40a-20780cb3e88d"
      },
      "source": [
        "scaled_X_test[0:5]"
      ],
      "execution_count": null,
      "outputs": [
        {
          "output_type": "execute_result",
          "data": {
            "text/plain": [
              "array([[-0.91339472,  1.76259419,  0.68168558],\n",
              "       [ 1.23121149,  0.23655959, -1.19601922],\n",
              "       [-0.46002473, -0.40776614,  0.35005115],\n",
              "       [-0.49681653,  1.65407618,  0.9479273 ],\n",
              "       [-1.42610633,  0.08056494, -1.35015916]])"
            ]
          },
          "metadata": {
            "tags": []
          },
          "execution_count": 7
        }
      ]
    },
    {
      "cell_type": "markdown",
      "metadata": {
        "id": "Ir2j1N8E11Wz"
      },
      "source": [
        "---"
      ]
    },
    {
      "cell_type": "markdown",
      "metadata": {
        "id": "svdWNfiD-QpQ"
      },
      "source": [
        "### **a. Create and Fit Model**"
      ]
    },
    {
      "cell_type": "code",
      "metadata": {
        "id": "fvvOtS3q-QpS"
      },
      "source": [
        "from sklearn.linear_model import Ridge"
      ],
      "execution_count": null,
      "outputs": []
    },
    {
      "cell_type": "code",
      "metadata": {
        "id": "yzPi-B6--QpW"
      },
      "source": [
        "# Poor Alpha Choice on purpose!\n",
        "model = Ridge(alpha=100)"
      ],
      "execution_count": null,
      "outputs": []
    },
    {
      "cell_type": "code",
      "metadata": {
        "id": "IBU6bAaF-QpX",
        "colab": {
          "base_uri": "https://localhost:8080/"
        },
        "outputId": "d2f519a1-1ad9-44a7-f56f-888fbbc1bc93"
      },
      "source": [
        "model.fit(scaled_X_train, y_train)"
      ],
      "execution_count": null,
      "outputs": [
        {
          "output_type": "execute_result",
          "data": {
            "text/plain": [
              "Ridge(alpha=100, copy_X=True, fit_intercept=True, max_iter=None,\n",
              "      normalize=False, random_state=None, solver='auto', tol=0.001)"
            ]
          },
          "metadata": {
            "tags": []
          },
          "execution_count": 10
        }
      ]
    },
    {
      "cell_type": "code",
      "metadata": {
        "id": "SEQmygKT-QpZ"
      },
      "source": [
        "y_pred = model.predict(scaled_X_test)"
      ],
      "execution_count": null,
      "outputs": []
    },
    {
      "cell_type": "markdown",
      "metadata": {
        "id": "8srJMpkz265C"
      },
      "source": [
        "---"
      ]
    },
    {
      "cell_type": "markdown",
      "metadata": {
        "id": "rNUb8lUU-Qpa"
      },
      "source": [
        "### **b. Evaluation**"
      ]
    },
    {
      "cell_type": "code",
      "metadata": {
        "id": "hEtNiJoi-Qpb"
      },
      "source": [
        "from sklearn.metrics import mean_squared_error"
      ],
      "execution_count": null,
      "outputs": []
    },
    {
      "cell_type": "code",
      "metadata": {
        "id": "Y5scir4P-Qpc",
        "colab": {
          "base_uri": "https://localhost:8080/"
        },
        "outputId": "e317f0e5-84b6-4a55-d6c0-2d695a7c7442"
      },
      "source": [
        "mean_squared_error(y_test, y_pred)"
      ],
      "execution_count": null,
      "outputs": [
        {
          "output_type": "execute_result",
          "data": {
            "text/plain": [
              "7.341775789034128"
            ]
          },
          "metadata": {
            "tags": []
          },
          "execution_count": 13
        }
      ]
    },
    {
      "cell_type": "markdown",
      "metadata": {
        "id": "L08cm5ZK29US"
      },
      "source": [
        "---"
      ]
    },
    {
      "cell_type": "markdown",
      "metadata": {
        "id": "Q0kzaLhR-Qpe"
      },
      "source": [
        "### **c. Adjust Parameters and Re-fit the Model**"
      ]
    },
    {
      "cell_type": "code",
      "metadata": {
        "id": "i0ucRx6E-Qpf"
      },
      "source": [
        "model = Ridge(alpha=1)"
      ],
      "execution_count": null,
      "outputs": []
    },
    {
      "cell_type": "code",
      "metadata": {
        "id": "GGg3ebLB-Qpf",
        "colab": {
          "base_uri": "https://localhost:8080/"
        },
        "outputId": "f4b70586-8c05-4627-9c01-0250371fe38f"
      },
      "source": [
        "model.fit(scaled_X_train, y_train)"
      ],
      "execution_count": null,
      "outputs": [
        {
          "output_type": "execute_result",
          "data": {
            "text/plain": [
              "Ridge(alpha=1, copy_X=True, fit_intercept=True, max_iter=None, normalize=False,\n",
              "      random_state=None, solver='auto', tol=0.001)"
            ]
          },
          "metadata": {
            "tags": []
          },
          "execution_count": 15
        }
      ]
    },
    {
      "cell_type": "code",
      "metadata": {
        "id": "J0JE6dgJ-Qpi"
      },
      "source": [
        "y_pred = model.predict(scaled_X_test)"
      ],
      "execution_count": null,
      "outputs": []
    },
    {
      "cell_type": "markdown",
      "metadata": {
        "id": "vNfVddM12-jJ"
      },
      "source": [
        "---"
      ]
    },
    {
      "cell_type": "markdown",
      "metadata": {
        "id": "Bgj4mRIF-Qpj"
      },
      "source": [
        "### **d. Another Evaluation**"
      ]
    },
    {
      "cell_type": "code",
      "metadata": {
        "scrolled": true,
        "id": "g75vRdI4-Qpj",
        "colab": {
          "base_uri": "https://localhost:8080/"
        },
        "outputId": "d7231ca1-9d9a-480d-ce82-333470e3db4e"
      },
      "source": [
        "mean_squared_error(y_test, y_pred)"
      ],
      "execution_count": null,
      "outputs": [
        {
          "output_type": "execute_result",
          "data": {
            "text/plain": [
              "2.3190215794287514"
            ]
          },
          "metadata": {
            "tags": []
          },
          "execution_count": 17
        }
      ]
    },
    {
      "cell_type": "markdown",
      "metadata": {
        "id": "GYFpHzLJ-Qpl"
      },
      "source": [
        "Much better! We could repeat this until satisfied with performance metrics. (We previously showed RidgeCV can do this for us, but the purpose of this lecture is to generalize the CV process for any model)."
      ]
    },
    {
      "cell_type": "markdown",
      "metadata": {
        "id": "Wx2IpLSxPkDv"
      },
      "source": [
        "Train | Test split method has a disadvantage of not having a portion of data that can report performance metric on truly unseen data.\n",
        "\n",
        "While adjusting hyperparameters on test data is a fair technique and not typically referred to as data leakage, it is a potential issue in regards to reporting.\n",
        "\n",
        "If we want a truly fair and final set of performance metrics, we should get these metrics from a final test set that we do not allow ourselves to adjust on."
      ]
    },
    {
      "cell_type": "markdown",
      "metadata": {
        "id": "BrRY9zEl3DQG"
      },
      "source": [
        "---"
      ]
    },
    {
      "cell_type": "markdown",
      "metadata": {
        "id": "VPAqw-mO-Qp8"
      },
      "source": [
        "\n",
        "## **B. Train | Validation | Test Split**\n",
        "\n",
        "\n",
        "This is often also called a `\"hold-out\"` set, since you `should not adjust` parameters based on the `final test` set, but instead `use` it *only* for `reporting` final expected performance.\n",
        "\n",
        "Procedure:\n",
        "0. Clean and adjust data as necessary for X and y\n",
        "1. Split Data in Train/Validation/Test for both X and y\n",
        "2. Fit/Sacler on X Train Data\n",
        "3. Scale X Eval Data\n",
        "4. Create Model\n",
        "5. Fit/Train Model on X Train Data\n",
        "6. Evaluate Model on X Evaluation Data (by creating predictions and comparing to Y_eval)\n",
        "7. Adjust Parameters as Necessary and repeat steps 5 and 6\n",
        "8. Get final metrics on Test set (not allowed to go back and adjust after this!)"
      ]
    },
    {
      "cell_type": "markdown",
      "metadata": {
        "id": "DiI5QZKktR43"
      },
      "source": [
        "![Cross Validation 5.JPG](data:image/jpeg;base64,/9j/4AAQSkZJRgABAQEAYABgAAD/4RD4RXhpZgAATU0AKgAAAAgABAE7AAIAAAAPAAAISodpAAQAAAABAAAIWpydAAEAAAAeAAAQ0uocAAcAAAgMAAAAPgAAAAAc6gAAAAgAAAAAAAAAAAAAAAAAAAAAAAAAAAAAAAAAAAAAAAAAAAAAAAAAAAAAAAAAAAAAAAAAAAAAAAAAAAAAAAAAAAAAAAAAAAAAAAAAAAAAAAAAAAAAAAAAAAAAAAAAAAAAAAAAAAAAAAAAAAAAAAAAAAAAAAAAAAAAAAAAAAAAAAAAAAAAAAAAAAAAAAAAAAAAAAAAAAAAAAAAAAAAAAAAAAAAAAAAAAAAAAAAAAAAAAAAAAAAAAAAAAAAAAAAAAAAAAAAAAAAAAAAAAAAAAAAAAAAAAAAAAAAAAAAAAAAAAAAAAAAAAAAAAAAAAAAAAAAAAAAAAAAAAAAAAAAAAAAAAAAAAAAAAAAAAAAAAAAAAAAAAAAAAAAAAAAAAAAAAAAAAAAAAAAAAAAAAAAAAAAAAAAAAAAAAAAAAAAAAAAAAAAAAAAAAAAAAAAAAAAAAAAAAAAAAAAAAAAAAAAAAAAAAAAAAAAAAAAAAAAAAAAAAAAAAAAAAAAAAAAAAAAAAAAAAAAAAAAAAAAAAAAAAAAAAAAAAAAAAAAAAAAAAAAAAAAAAAAAAAAAAAAAAAAAAAAAAAAAAAAAAAAAAAAAAAAAAAAAAAAAAAAAAAAAAAAAAAAAAAAAAAAAAAAAAAAAAAAAAAAAAAAAAAAAAAAAAAAAAAAAAAAAAAAAAAAAAAAAAAAAAAAAAAAAAAAAAAAAAAAAAAAAAAAAAAAAAAAAAAAAAAAAAAAAAAAAAAAAAAAAAAAAAAAAAAAAAAAAAAAAAAAAAAAAAAAAAAAAAAAAAAAAAAAAAAAAAAAAAAAAAAAAAAAAAAAAAAAAAAAAAAAAAAAAAAAAAAAAAAAAAAAAAAAAAAAAAAAAAAAAAAAAAAAAAAAAAAAAAAAAAAAAAAAAAAAAAAAAAAAAAAAAAAAAAAAAAAAAAAAAAAAAAAAAAAAAAAAAAAAAAAAAAAAAAAAAAAAAAAAAAAAAAAAAAAAAAAAAAAAAAAAAAAAAAAAAAAAAAAAAAAAAAAAAAAAAAAAAAAAAAAAAAAAAAAAAAAAAAAAAAAAAAAAAAAAAAAAAAAAAAAAAAAAAAAAAAAAAAAAAAAAAAAAAAAAAAAAAAAAAAAAAAAAAAAAAAAAAAAAAAAAAAAAAAAAAAAAAAAAAAAAAAAAAAAAAAAAAAAAAAAAAAAAAAAAAAAAAAAAAAAAAAAAAAAAAAAAAAAAAAAAAAAAAAAAAAAAAAAAAAAAAAAAAAAAAAAAAAAAAAAAAAAAAAAAAAAAAAAAAAAAAAAAAAAAAAAAAAAAAAAAAAAAAAAAAAAAAAAAAAAAAAAAAAAAAAAAAAAAAAAAAAAAAAAAAAAAAAAAAAAAAAAAAAAAAAAAAAAAAAAAAAAAAAAAAAAAAAAAAAAAAAAAAAAAAAAAAAAAAAAAAAAAAAAAAAAAAAAAAAAAAAAAAAAAAAAAAAAAAAAAAAAAAAAAAAAAAAAAAAAAAAAAAAAAAAAAAAAAAAAAAAAAAAAAAAAAAAAAAAAAAAAAAAAAAAAAAAAAAAAAAAAAAAAAAAAAAAAAAAAAAAAAAAAAAAAAAAAAAAAAAAAAAAAAAAAAAAAAAAAAAAAAAAAAAAAAAAAAAAAAAAAAAAAAAAAAAAAAAAAAAAAAAAAAAAAAAAAAAAAAAAAAAAAAAAAAAAAAAAAAAAAAAAAAAAAAAAAAAAAAAAAAAAAAAAAAAAAAAAAAAAAAAAAAAAAAAAAAAAAAAAAAAAAAAAAAAAAAAAAAAAAAAAAAAAAAAAAAAAAAAAAAAAAAAAAAAAAAAAAAAAAAAAAAAAAAAAAAAAAAAAAAAAAAAAAAAAAAAAAAAAAAAAAAAAAAAAAAAAAAAAAAAAAAAAAAAAAAAAAAAAAAAAAAAAAAAAAAAAAAAAAAAAAAAAAAAAAAAAAAAAAAAAAAAAAAAAAAAAAAAAAAAAAAAAAAAAAAAAAAAAAAAAAAAAAAAAAAAAAAAAAAAAAAAAAAAAAAAAAAAAAAAAAAAAAAAAAAAAAAAAAAAAAAAAAAAAAAAAAAAAAAAAAAAAAAAAAAAAAAAAAAAAAAAAAAAAAAAAAAAAAAAAAAAAAAAAAAAAAAAAAAAAAAAAAAAAAAAAAAAAAAAAAAAAAAAAAAAAAAAAAAAAAAAAAAAAAAAAAAAAAAAAAAAAAAAAAAAAAAAAAAAAAAAAAAAAAAAAAAAAAAAAAAAAAAAAAAAAAAAAAAAAAAAAAAAAAAAAAAAAAAAAAAAAAAAAAAAAAAAAAAAAAAAAAAAAAAAAAAAAAAAAAAAAAAAAAAAAAAAAAAAAAAAAAAAAAAAAAAAAAAAAAAAAAAAAAAAAAAAAAAAAAAAAAAAAAAAAAAAAAAAAAAAAAAAAAAAAAAAAAAAAAAAAAAAAAAAAAAAAAAAAAAAAAAAAAAAAAAAAAAAAAAAAAAAAAAAAAAAAAAAAAAAAAAAAAAAAAAAAAAAAAAAAAAAAAAAAAAAAAAAAAAAAAAAAAAAAAAAAAAAAAAAAAAAAAAAAAAAAAAAAAAAAAAAAAAAAAAAAAAAAAAAAAAAAAAAAAAAAAAAAAAAAAAAAAAAAAAAAAAAAAAAAAAAAAAAAAAAAAAAAAAAAAAAAAAAAAAAAAAAAAAAAAAAAAAAAAAAAAAAAAAAAAAAAAAAAAAAAAAAAAAAAAAAAAAAAAAAAAAAAAAAAAAAAAAAAAAAAAAAAAAAAAAAAAAAAAAAAAAAAAAAAAAAAAAAAAAAAAAAAAAAAAAAE11Y2hhbWFkIEZhdXp5AAAABZADAAIAAAAUAAAQqJAEAAIAAAAUAAAQvJKRAAIAAAADODkAAJKSAAIAAAADODkAAOocAAcAAAgMAAAInAAAAAAc6gAAAAgAAAAAAAAAAAAAAAAAAAAAAAAAAAAAAAAAAAAAAAAAAAAAAAAAAAAAAAAAAAAAAAAAAAAAAAAAAAAAAAAAAAAAAAAAAAAAAAAAAAAAAAAAAAAAAAAAAAAAAAAAAAAAAAAAAAAAAAAAAAAAAAAAAAAAAAAAAAAAAAAAAAAAAAAAAAAAAAAAAAAAAAAAAAAAAAAAAAAAAAAAAAAAAAAAAAAAAAAAAAAAAAAAAAAAAAAAAAAAAAAAAAAAAAAAAAAAAAAAAAAAAAAAAAAAAAAAAAAAAAAAAAAAAAAAAAAAAAAAAAAAAAAAAAAAAAAAAAAAAAAAAAAAAAAAAAAAAAAAAAAAAAAAAAAAAAAAAAAAAAAAAAAAAAAAAAAAAAAAAAAAAAAAAAAAAAAAAAAAAAAAAAAAAAAAAAAAAAAAAAAAAAAAAAAAAAAAAAAAAAAAAAAAAAAAAAAAAAAAAAAAAAAAAAAAAAAAAAAAAAAAAAAAAAAAAAAAAAAAAAAAAAAAAAAAAAAAAAAAAAAAAAAAAAAAAAAAAAAAAAAAAAAAAAAAAAAAAAAAAAAAAAAAAAAAAAAAAAAAAAAAAAAAAAAAAAAAAAAAAAAAAAAAAAAAAAAAAAAAAAAAAAAAAAAAAAAAAAAAAAAAAAAAAAAAAAAAAAAAAAAAAAAAAAAAAAAAAAAAAAAAAAAAAAAAAAAAAAAAAAAAAAAAAAAAAAAAAAAAAAAAAAAAAAAAAAAAAAAAAAAAAAAAAAAAAAAAAAAAAAAAAAAAAAAAAAAAAAAAAAAAAAAAAAAAAAAAAAAAAAAAAAAAAAAAAAAAAAAAAAAAAAAAAAAAAAAAAAAAAAAAAAAAAAAAAAAAAAAAAAAAAAAAAAAAAAAAAAAAAAAAAAAAAAAAAAAAAAAAAAAAAAAAAAAAAAAAAAAAAAAAAAAAAAAAAAAAAAAAAAAAAAAAAAAAAAAAAAAAAAAAAAAAAAAAAAAAAAAAAAAAAAAAAAAAAAAAAAAAAAAAAAAAAAAAAAAAAAAAAAAAAAAAAAAAAAAAAAAAAAAAAAAAAAAAAAAAAAAAAAAAAAAAAAAAAAAAAAAAAAAAAAAAAAAAAAAAAAAAAAAAAAAAAAAAAAAAAAAAAAAAAAAAAAAAAAAAAAAAAAAAAAAAAAAAAAAAAAAAAAAAAAAAAAAAAAAAAAAAAAAAAAAAAAAAAAAAAAAAAAAAAAAAAAAAAAAAAAAAAAAAAAAAAAAAAAAAAAAAAAAAAAAAAAAAAAAAAAAAAAAAAAAAAAAAAAAAAAAAAAAAAAAAAAAAAAAAAAAAAAAAAAAAAAAAAAAAAAAAAAAAAAAAAAAAAAAAAAAAAAAAAAAAAAAAAAAAAAAAAAAAAAAAAAAAAAAAAAAAAAAAAAAAAAAAAAAAAAAAAAAAAAAAAAAAAAAAAAAAAAAAAAAAAAAAAAAAAAAAAAAAAAAAAAAAAAAAAAAAAAAAAAAAAAAAAAAAAAAAAAAAAAAAAAAAAAAAAAAAAAAAAAAAAAAAAAAAAAAAAAAAAAAAAAAAAAAAAAAAAAAAAAAAAAAAAAAAAAAAAAAAAAAAAAAAAAAAAAAAAAAAAAAAAAAAAAAAAAAAAAAAAAAAAAAAAAAAAAAAAAAAAAAAAAAAAAAAAAAAAAAAAAAAAAAAAAAAAAAAAAAAAAAAAAAAAAAAAAAAAAAAAAAAAAAAAAAAAAAAAAAAAAAAAAAAAAAAAAAAAAAAAAAAAAAAAAAAAAAAAAAAAAAAAAAAAAAAAAAAAAAAAAAAAAAAAAAAAAAAAAAAAAAAAAAAAAAAAAAAAAAAAAAAAAAAAAAAAAAAAAAAAAAAAAAAAAAAAAAAAAAAAAAAAAAAAAAAAAAAAAAAAAAAAAAAAAAAAAAAAAAAAAAAAAAAAAAAAAAAAAAAAAAAAAAAAAAAAAAAAAAAAAAAAAAAAAAAAAAAAAAAAAAAAAAAAAAAAAAAAAAAAAAAAAAAAAAAAAAAAAAAAAAAAAAAAAAAAAAAAAAAAAAAAAAAAAAAAAAAAAAAAAAAAAAAAAAAAAAAAAAAAAAAAAAAAAAAAAAAAAAAAAAAAAAAAAAAAAAAAAAAAAAAAAAAAAAAAAAAAAAAAAAAAAAAAAAAAAAAAAAAAAAAAAAAAAAAAAAAAAAAAAAAAAAAAAAAAAAAAAAAAAAAAAAAAAAAAAAAAAAAAAAAAAAAAAAAAAAAAAAAAAAAAAAAAAAAAAAAAAAAAAAAAAAAAAAAAAAAAAAAAAAAAAAAAAAAAAAAAAAAAAAAAAAAAAAAAAAAAAAAAAAAAAAAAAAAAAAAAAAAAAAAAAAAAAAAAAAAAAAAAAAAAAAAAAAAAAAAAAAAAAAAAAAAAAAAAAAAAAAAAAAAAAAAAAAAAAAAAAAAAAAAAAAAAAAAAAAAAAAAAAAAAAAAAAAAAAAAAAAAAAAAAAAAAAAAAAAAAAAAAAAAAAAAAAAAAAAAAAAAAAAAAAAAAAAAAAAAAAAAAAAAAAAAAAAAAAAAAAAAAAAAAAAAAAAAAAAAAAAAAAAAAAAAAAAAAAAAAAAAAAAAAAAAAAAAAAAAAAAAAAAAAAAAAAAAAAAAAAAAAAAAAAAAAAAAAAAAAAAAAAAAAAAAAAAAAAAAAAAAAAAAAAAAAAAAAAAAAAAAAAAAAAAAAAAAAAAAAAAAAAAAAAAAAAAAAAAAAAAAAAAAAAAAAAAAAAAAAAAAAAAAAAAAAAAAAAAAAAAAAAAAAAAAAAAAAAAAADIwMjE6MDM6MjAgMTk6NTU6NTIAMjAyMTowMzoyMCAxOTo1NTo1MgAAAE0AdQBjAGgAYQBtAGEAZAAgAEYAYQB1AHoAeQAAAP/hCyFodHRwOi8vbnMuYWRvYmUuY29tL3hhcC8xLjAvADw/eHBhY2tldCBiZWdpbj0n77u/JyBpZD0nVzVNME1wQ2VoaUh6cmVTek5UY3prYzlkJz8+DQo8eDp4bXBtZXRhIHhtbG5zOng9ImFkb2JlOm5zOm1ldGEvIj48cmRmOlJERiB4bWxuczpyZGY9Imh0dHA6Ly93d3cudzMub3JnLzE5OTkvMDIvMjItcmRmLXN5bnRheC1ucyMiPjxyZGY6RGVzY3JpcHRpb24gcmRmOmFib3V0PSJ1dWlkOmZhZjViZGQ1LWJhM2QtMTFkYS1hZDMxLWQzM2Q3NTE4MmYxYiIgeG1sbnM6ZGM9Imh0dHA6Ly9wdXJsLm9yZy9kYy9lbGVtZW50cy8xLjEvIi8+PHJkZjpEZXNjcmlwdGlvbiByZGY6YWJvdXQ9InV1aWQ6ZmFmNWJkZDUtYmEzZC0xMWRhLWFkMzEtZDMzZDc1MTgyZjFiIiB4bWxuczp4bXA9Imh0dHA6Ly9ucy5hZG9iZS5jb20veGFwLzEuMC8iPjx4bXA6Q3JlYXRlRGF0ZT4yMDIxLTAzLTIwVDE5OjU1OjUyLjg4NTwveG1wOkNyZWF0ZURhdGU+PC9yZGY6RGVzY3JpcHRpb24+PHJkZjpEZXNjcmlwdGlvbiByZGY6YWJvdXQ9InV1aWQ6ZmFmNWJkZDUtYmEzZC0xMWRhLWFkMzEtZDMzZDc1MTgyZjFiIiB4bWxuczpkYz0iaHR0cDovL3B1cmwub3JnL2RjL2VsZW1lbnRzLzEuMS8iPjxkYzpjcmVhdG9yPjxyZGY6U2VxIHhtbG5zOnJkZj0iaHR0cDovL3d3dy53My5vcmcvMTk5OS8wMi8yMi1yZGYtc3ludGF4LW5zIyI+PHJkZjpsaT5NdWNoYW1hZCBGYXV6eTwvcmRmOmxpPjwvcmRmOlNlcT4NCgkJCTwvZGM6Y3JlYXRvcj48L3JkZjpEZXNjcmlwdGlvbj48L3JkZjpSREY+PC94OnhtcG1ldGE+DQogICAgICAgICAgICAgICAgICAgICAgICAgICAgICAgICAgICAgICAgICAgICAgICAgICAgICAgICAgICAgICAgICAgICAgICAgICAgICAgICAgICAgICAgICAgICAgICAgICAgCiAgICAgICAgICAgICAgICAgICAgICAgICAgICAgICAgICAgICAgICAgICAgICAgICAgICAgICAgICAgICAgICAgICAgICAgICAgICAgICAgICAgICAgICAgICAgICAgICAgICAKICAgICAgICAgICAgICAgICAgICAgICAgICAgICAgICAgICAgICAgICAgICAgICAgICAgICAgICAgICAgICAgICAgICAgICAgICAgICAgICAgICAgICAgICAgICAgICAgICAgIAogICAgICAgICAgICAgICAgICAgICAgICAgICAgICAgICAgICAgICAgICAgICAgICAgICAgICAgICAgICAgICAgICAgICAgICAgICAgICAgICAgICAgICAgICAgICAgICAgICAgCiAgICAgICAgICAgICAgICAgICAgICAgICAgICAgICAgICAgICAgICAgICAgICAgICAgICAgICAgICAgICAgICAgICAgICAgICAgICAgICAgICAgICAgICAgICAgICAgICAgICAKICAgICAgICAgICAgICAgICAgICAgICAgICAgICAgICAgICAgICAgICAgICAgICAgICAgICAgICAgICAgICAgICAgICAgICAgICAgICAgICAgICAgICAgICAgICAgICAgICAgIAogICAgICAgICAgICAgICAgICAgICAgICAgICAgICAgICAgICAgICAgICAgICAgICAgICAgICAgICAgICAgICAgICAgICAgICAgICAgICAgICAgICAgICAgICAgICAgICAgICAgCiAgICAgICAgICAgICAgICAgICAgICAgICAgICAgICAgICAgICAgICAgICAgICAgICAgICAgICAgICAgICAgICAgICAgICAgICAgICAgICAgICAgICAgICAgICAgICAgICAgICAKICAgICAgICAgICAgICAgICAgICAgICAgICAgICAgICAgICAgICAgICAgICAgICAgICAgICAgICAgICAgICAgICAgICAgICAgICAgICAgICAgICAgICAgICAgICAgICAgICAgIAogICAgICAgICAgICAgICAgICAgICAgICAgICAgICAgICAgICAgICAgICAgICAgICAgICAgICAgICAgICAgICAgICAgICAgICAgICAgICAgICAgICAgICAgICAgICAgICAgICAgCiAgICAgICAgICAgICAgICAgICAgICAgICAgICAgICAgICAgICAgICAgICAgICAgICAgICAgICAgICAgICAgICAgICAgICAgICAgICAgICAgICAgICAgICAgICAgICAgICAgICAKICAgICAgICAgICAgICAgICAgICAgICAgICAgICAgICAgICAgICAgICAgICAgICAgICAgICAgICAgICAgICAgICAgICAgICAgICAgICAgICAgICAgICAgICAgICAgICAgICAgIAogICAgICAgICAgICAgICAgICAgICAgICAgICAgICAgICAgICAgICAgICAgICAgICAgICAgICAgICAgICAgICAgICAgICAgICAgICAgICAgICAgICAgICAgICAgICAgICAgICAgCiAgICAgICAgICAgICAgICAgICAgICAgICAgICAgICAgICAgICAgICAgICAgICAgICAgICAgICAgICAgICAgICAgICAgICAgICAgICAgICAgICAgICAgICAgICAgICAgICAgICAKICAgICAgICAgICAgICAgICAgICAgICAgICAgICAgICAgICAgICAgICAgICAgICAgICAgICAgICAgICAgICAgICAgICAgICAgICAgICAgICAgICAgICAgICAgICAgICAgICAgIAogICAgICAgICAgICAgICAgICAgICAgICAgICAgICAgICAgICAgICAgICAgICAgICAgICAgICAgICAgICAgICAgICAgICAgICAgICAgICAgICAgICAgICAgICAgICAgICAgICAgCiAgICAgICAgICAgICAgICAgICAgICAgICAgICAgICAgICAgICAgICAgICAgICAgICAgICAgICAgICAgICAgICAgICAgICAgICAgICAgICAgICAgICAgICAgICAgICAgICAgICAKICAgICAgICAgICAgICAgICAgICAgICAgICAgICAgICAgICAgICAgICAgICAgICAgICAgICAgICAgICAgICAgICAgICAgICAgICAgICAgICAgICAgICAgICAgICAgICAgICAgIAogICAgICAgICAgICAgICAgICAgICAgICAgICAgICAgICAgICAgICAgICAgICAgICAgICAgICAgICAgICAgICAgICAgICAgICAgICAgICAgICAgICAgICAgICAgICAgICAgICAgCiAgICAgICAgICAgICAgICAgICAgICAgICAgICAgICAgICAgICAgICAgICAgICAgICAgICAgICAgICAgICAgICAgICAgICAgICAgICAgICAgICAgICAgICAgICAgICAgICAgICAKICAgICAgICAgICAgICAgICAgICAgICAgICAgIDw/eHBhY2tldCBlbmQ9J3cnPz7/2wBDAAcFBQYFBAcGBQYIBwcIChELCgkJChUPEAwRGBUaGRgVGBcbHichGx0lHRcYIi4iJSgpKywrGiAvMy8qMicqKyr/2wBDAQcICAoJChQLCxQqHBgcKioqKioqKioqKioqKioqKioqKioqKioqKioqKioqKioqKioqKioqKioqKioqKioqKir/wAARCADLA/gDASIAAhEBAxEB/8QAHwAAAQUBAQEBAQEAAAAAAAAAAAECAwQFBgcICQoL/8QAtRAAAgEDAwIEAwUFBAQAAAF9AQIDAAQRBRIhMUEGE1FhByJxFDKBkaEII0KxwRVS0fAkM2JyggkKFhcYGRolJicoKSo0NTY3ODk6Q0RFRkdISUpTVFVWV1hZWmNkZWZnaGlqc3R1dnd4eXqDhIWGh4iJipKTlJWWl5iZmqKjpKWmp6ipqrKztLW2t7i5usLDxMXGx8jJytLT1NXW19jZ2uHi4+Tl5ufo6erx8vP09fb3+Pn6/8QAHwEAAwEBAQEBAQEBAQAAAAAAAAECAwQFBgcICQoL/8QAtREAAgECBAQDBAcFBAQAAQJ3AAECAxEEBSExBhJBUQdhcRMiMoEIFEKRobHBCSMzUvAVYnLRChYkNOEl8RcYGRomJygpKjU2Nzg5OkNERUZHSElKU1RVVldYWVpjZGVmZ2hpanN0dXZ3eHl6goOEhYaHiImKkpOUlZaXmJmaoqOkpaanqKmqsrO0tba3uLm6wsPExcbHyMnK0tPU1dbX2Nna4uPk5ebn6Onq8vP09fb3+Pn6/9oADAMBAAIRAxEAPwD6PooooAKKKKACiiigAooooAKKMUYoAKKMUUAFFFFABRRRQAUVg6x418P6DqcOn6rqMdvczY2oc8ZOBn0rdVgyhlIIIyCO9AC0UUUAFFFFABRWb4h1uDw5oF1q14jvDbKGZU6nkDj86Tw9rtv4k0G21WzR0huFJVZB8w5xzQBp0UUUAFFFFABRRRQAUUUUAFFZD+KdDj1gaU+pQLflgoty3zZ9Kn1nXNO8P6c19q9yttbqQC7dz6CgDQoqjo+s6fr+mpf6TcrcW7kgOvqOx9KvUAFFFZNz4o0Sz1ddLutSgivmKhYGb5iT0oA1qKKKACiiigAooooAKKwdN8a+H9X1uXSdP1KKa8izmNc8464PQ1vUAFFFFABRRRQAUUUUAFFFMmlEFvJK+Ssaljj2FAD6K53wf4zsfGdlc3OnQzRJbzeUwlAyTjPGPrXRUAFFH1oyPUfnQAUUZHqPzo+nNABRRRQAUUUUAFFFFABRRRQAUUUUAFFRyTww/wCtlRP95gKWOWOUZikVx6qc0APooooAKKKKACiqWq6xp+iWf2rVruO1g3BfMkOBk9v0qTT9RtNVsY7zTp0uLeTOyRDkNg4oAs0Vg2njbw/feIH0W11KKS/QkGIZ5I6gHoTW9QAUUUUAFFFFABRRRQAUUUUAFFFFABRRRQAUUUUAFFFFABRRRQAUUUUAFFFFABRRRQAUUUUAFFFFABRRRQAUUUUAFFFFABRRRQAUUUUAFFFFABRRRQAUUUUAFFFFABRRRQAUUVwnxQ+IJ8E6TFHZIsmo3eREH5CAdWI/GgDu6K+SJPiT4wkvvtZ1+8WTOcK+E/756fpXtvwn+JM3jCGXTtXCjUrdN/mKMCVOmcetAHpVFFFABXI/Ejwzqvirw3HY6HcpbXC3CyF3kZBtAPGR9a66lFAHzV4h+GnjHw1oVxqt9rCPBbgFxHdSFjk444qj4Q8FeKvGmmy3ul6t5ccUvlMJrlwc4z2+te4fFv8A5Jhq3+4v/oQrmP2f/wDkTtQ/6/P/AGUUAavww8Fa94Smv216+S6FwqiMLMz4xnPWu9W+tZJzAlzC0wODGJAW/KpK+XtQ1fUtJ+LmqT6OrSXz3csMC9cM3AIHrzQB9PfbLb7ULXz4/PI3CLcN2PXFPkljhjLyuqKOrMcCvMvh/wDDbV9D19fEOvamLm8liZXi5Ygt6sam8cfDvXPGHiVGOuNbaOIwDB/dbvgDrnrk0Ad1Fr2kzzeTDqdo8n9xZlJ/nWhXh2v/AAKh07RLm+0jV7iS6t4zKqSKAGwMkAjoeK3fgb4pvdb0S90/UpnnexZTG7nJ2Nngn2xQBb8cfDTRfE3iqHU77V/scxVRJDuXMgHTGTx6V6FGIrKzRdwSGFAuWOAABjrXg/xndh8UNKAJA8qLv/tmvWfiBn/hXetYOD9kbmgDoIby2uEZ4LiKVF+8yOCBVeLW9LnuDBDqNrJKOCiygmvnP4daN4g8XaddaHpt6bHTBKJrucZyxIwF9+nStPxp8HLjwpocutaXqj3P2bDSqV2MBnGQQe1AH0MDmlrz/wCDfii58S+DCNQcyXNjL5DSHq64BUn37fhXoBoA5D4rf8ku1r/rkP8A0IUz4T/8kz0n/rmf/QjT/it/yS7Wv+uQ/wDQhTPhP/yTPSf+uZ/9CNAHZCvn74y2uo+GfHFvrOnXVxHb3W2UBZG2rIp5GPfANfQIrh/i34bPiHwHdeSm+5s/9IiAHJx94flQB0vhzWItf8OWWpw8C4iDEZztPcfnUutanFo2iXmo3BxHbRNIfwHSvJ/gF4m86zvPD1w3zwnz4Mn+E8MPwPP41P8AHzxJ9k0W10K3fEl23mTYP8A6D8T/ACoA5j4Ux6j4u+I02qXlzcPb27NcOpkbbuJ+UY6f/qr6CnuIbaMvcSpEg6s7ACuE+DfhsaD4EhuZ023OoHz3yOQvRR+XP41j+IfhVrXizxZdXWreIpBpecwRqOVH93bwBj1oA9Jtta0u8l8q01G1mk/upKpP86vV4D40+Dy+FPD82taHq07taYZ1kAVsZxkEd69D+EPia78TeCRJqLmS5tJTbtIergAEE+/NAHmup/8AJyqf9fif+givXvH3haw8W+HPsOp3n2JVlEiTZA2t07/WvIdT/wCTlU/6/E/9BFd/8ciR8NpCDg/aoun1NAHReBPC9j4T8MrYabd/bEaRpHnyDuY4B6fQV0UjpEhaRgqjqWOAK4T4Lt/xa6yJ5/eS/wDoRrzXxX4g1z4mePD4d0GZ4rGORkCo2FIX7zsR1oA95g1rTLicwwahbSSdNiygmvC/Gf8AycRY/wDXa2/kK2G+AJt7HzLLX5hfoNyts2qW+oORXBWk+rS/F3TIvEGTf213DBIx6ttOASe/HegD6nqpdarp9icXl9bwH0klCmofEFnfX+g3dtpV2bO8kjIimAHymvKrP4EPex+f4k8QTvdvy3l/N+rdaAPXrW+tb2PfZ3Ec6+sbhh+lRavdQ2ulXLzTJF+6YKXbbk4NfPGtabqXwe8bWUthqElxZzYcc48xc4ZWFez+OPDNv428ILFLdSW6Rn7UrRqCWwpwOfrQB5l8D9WYeJdWOo352eV8vnzcfe7ZNe6xTwXcRaCVJUPG6Nsj8xXy98NvA1v411e+s7q8mtRbRhg0QB3c4r6I8HeFofB/h8aVbXElyiyNJvkGDz9PpQByXhX4X6FoXjZtXs9X+0yxs7RW25fkJyDnBycZr0uvn34Usx+N2qAkkbbnjP8Atiu8+Lvj2fwlpEVlpTbdQvQdsmM+WvQke9AHd3eradYEC9vreAntJIFqW2u7e8j8y0njnT+9G4YfpXhfh/4K6l4j09NV8TavNDNcgSKmN74POWJPWs7X/DPiL4QahbatpGpSXFizhWIyAf8AZdenPrQB9F9OtQQ31pcSFLe5hldRkqkgJFZnhnxBB4o8KW2rW3AnjO5c/cYcEfnXzf4LTXL7xbe6Z4dl8m4vleKScn/VR7ssf0xQB9OS63pcNx5Euo2qTZx5ZlUH8qughlBU5B6EV4bq/wAA54dJmurPW5bm+jQvtkTAc46ZzVz4FeKr+5lu/D2pyySi3TzITIclMHBX6UAez1W1H/kF3X/XF/5GrVVdR/5Bl1/1xf8AkaAPMPgH/wAi7q//AF/H/wBBFesV5P8AAP8A5F3V/wDr+P8A6CK9YoA8/wDif4L1zxcLD+wb1LU2+7zN0rJuzjHSvIPFvgTxX4N0hdR1PWN8TSCMCG5cnJ//AFV9QCvLvj2P+KCh/wCvtP5GgDzjwz8OPF/irQotV0/WFSCUkKstzIG4OOwr2T4a+FtW8J6FPZ65dJdTyTeYrpIz4GAMZNV/gx/yTGw/33/nXa315Fp+nz3lwdsUEbSOT2AGaAHzTRW8ZkuJEiQdWdgAKq22taXeSGO11C2mf+6koJrwa0t/EPxq8R3Ur3r2ekWzYCjO1AegA7sevNa+r/AZ9O0+S78P6zM95Cu9UcbdxHYEdKAPb6ZLNHBGZJ5FjQdWY4Ary74NeOr7XYbjRNbkM13ZLujlb7zJnGD6kVyXxH1S98T/ABUTwzc6idO02J1iBLYXJGSx9euKAPcrfXdJupvKttStZZP7izKT+VXJZY4ImkmkWONRksxwB+NeOT/AG2+yibSNfnFwBlGdRtP4rzXoE/hD7f8AD1PDN/fTuxgWOS63bnJByTzQB5H4X1dv+F93Jm1BvsnnzYLTfu8YOOpxXvlvd212CbW4jmC9TG4bH5V8t6L4Kt9S+J0vhh7uVIUlkjE4A3HaD/hXv3gXwHbeBre7itL2a6FyysTKANuKAOsrlPiP4ql8IeDZ9QtVDXLMIod3QMe/4V1dcb8U/DVz4o8ETWtgu+5hdZo0/v46j8jQB494e8BeKPidDJrV9q4SF3KiS4ZmLEeijoKvXPwx8e+CpBfeHdQa62nkWkjBvxU9R+dZvgr4nap8P4X0fUNOM1ushJikBSSM9x/+uvVtA+M/hbW50t5pn0+d+ALkYUn03dPzoA7HQl1FNCtBrbo9/wCWPPZBgbqsRX9pPKYoLqGSQdUSQEj8KnDBkDKQykZBByDXypoVzrZ8e39n4cdlvr+SW2D/ANxS+S3tgDrQB9PTa1pdvP5M+o2scv8AcaZQf51dVldQyMGU9CDnNeLt+z/51i0kuvzPfsMlmjyu765zWP4F8T634C8cjwp4gkaS0klEWHJbYT91lPoaAOz+PQ/4t9H/ANfkf8mrY+EQz8LdI/3H/wDQ2rI+PX/JPU/6/I/5NWx8IP8Aklukf7r/APobUAZGh/C/QdL8fNrFvq/nyrK0kdnuXKMc59zjNXPjPfLa/D26jiuhFcmSMqqybXxu/OvPfArN/wANBXYycebc/wAjXR/HTwnDc6S3iVrmQTW6pAIQBtYFuv60Aa3wb1m3Hw7gGoahGJjcS/66YbsZ46mvSFZXUMhDKRkEd6+evh/8JbHxd4Ui1W51O5t3kkdPLjUEDBx3r3+xtRY6fb2qsXWCNYwx6nAxmgCeiiigAooooAKKKKACiiigAooooAKKKKACiiigAooooAKKKKACiiigAooooAKKKKACiiigAooooAKKKKACiiigAooooAKKKKACiiigAooooAKKKKACiiigAooooAK8G/aF0+4GqaXqG0m3aJot2OjZzj8q95qjrGj2OvaXLp+qwLPbSj5lYdD6j0NAHxdXqnwD0+5m8aT3sasLe3t2EjY4JbgD612kn7P/AIfa88xL+8WHdnysjp6ZxXofh/w7pvhjSk0/R4BDCpyx/ic+pPc0AalFFFABRRRQBxnxa/5Jjq3+4v8A6EK5n9n/AP5E7UP+vz/2UV2HxI0y81jwDqVjplu1xcyqoSJSAW+YetYXwZ8Par4d8MXltrdlJZzSXW9Ucg5G0DPBNAHogr568N28c/7RdwJVDBL2ZwD6gHFfQwFeM+HfB2v2nxvudZudMlj09riZ1uCy7SCDg9c0AezO2xWY9AM18/prviv4peNrrTNK1RtLsYCzAISAqA4yccsTX0AQCCDyD1rwfW/h/wCL/Bfi6fWvAyPcwTMzAR4LKG5KMp6igDQ1L4R61Y6TdXVx40unSGF3ZWDYIAJx96qv7Ov+v1v/AHIv5tUv2H4oeO7U2GuKNK05l/fHYEaQf3cA5OfyrU+CnhTW/DVzq51uwktFmWMRlyDvwWz0PuKAOZ+M/wDyVHSv+ucX/oZr1r4h/wDJN9a/69GrgPil4O1/W/iBp1/pOmyXNrFHGHlVlAXDknqfSvR/Gtjc6l4F1SysYmmuJrZkjjXqx9KAOA/Z7A/4RnVDjn7UOf8AgNd18QRn4da9n/nyk/lXM/Bbw5q3hzQNQg1uyks5ZbgOiuQcjb14JrrvGVlcal4J1eysojLcT2kiRxg8sxHAoA84/Z3/AORf1f8A6+l/9Ar2M15j8FPDWr+GtH1KLW7GSzea4V0VyDuG3HYmvTTQByHxW/5JdrX/AFyH/oQpnwn/AOSZ6T/1zP8A6Eaf8Vv+SXa1/wBch/6EKZ8J/wDkmek/9cz/AOhGgDshSOiyRsjjKsCCPUUtLQB8w3G/4afGMuNyW0c+7H96F/8AP6UXs7/E/wCMKJDuNrLMFTj7sKdT+QJ/GvSPjR4Dv/EsdjqOhWjXN7CTFLGhALIeQeT2P86g+C/gHUPDt1e6pr9k1rdMohhRyCQvUng/SgD06+uItE0Ce42fubK3LBF7hV6fpXhPh+Txf8WdZvJF159NsrcjKxEgKGJwABjPTqa9/vbSK/sZ7S4G6KeNo3HqCMGvAU8H+Pvhxr1xL4UhkvbSbgNGA4cdty9cigC54w+GGqaD4Rv9Su/F11eRQJloHDAScgY5Y10H7Pv/ACJmof8AX8f/AEBawtQ8P/Erx3pM/wDwkQ+x2sEZkjtEUK1xIPujAPr611/wY8Par4c8L3ltrVm9nNJdl1RyCSNoGeDQBwGpj/jJRP8Ar8T/ANBFd98dP+Sayf8AX1F/M1zl/wCDvEE3x0TW49MlOmi5Rzcbl24C9eua7H4uaLqOv+BHstHtXurk3EbiNCASBnJ5oArfBxS/wmtVT7xaYD67jXnnwQng074h6lZ34Ed3JC8ce7+8Gyw+vH6V6p8K9Iv9C+H9pYatbNbXKSSFo2IJALZHSuM+IXwp1KXXD4i8Ftsui/mSQI2xg/8AeU9PwoA9i7187eJru2vP2iLd7QhlW8gRiO7DAP61pwX3xj1OH+zPs01uD+7a5eNYyB67v6iqFn8LfEuifEPTZUtZb61hnilmvNy7S2cv1OeDQB6N8XfGt74Q8Owf2Vhby9kKLIRnYoGSfr0rkNB+HHivxJpEGr6p4vubVrtBIqKzMQp5GeQK734m+CW8beHUt7V1jvLZzLAW6McYKn615po9z8W/DdpHotppcksMPyRNJGrhR7NnpQBzHxO8K3PhTUdPt73XJdWeaMuDKDmMbsdyetfSC8eEx/15/wDsleEeLPhp451NrbVtRSTU9RuWPnRxsuIFGNoyTj14FfQVlCV0m3gmXBEKo6n/AHcEUAeG/AH/AJGnWP8ArgP/AEOve68D1DwP4y8A+Lp9U8GwNeW0xYr5ahtoJ+6y+3qK9D+HDeNplvrnxqqxxzEGCIkB0PfgdB+tAHmvwo/5Ldqn+7c/+hipPjxFJD460e7nBNsYFA444fJH5Gtf4deDtf0j4sahqmo6bJb2UgnCTMVw25sjoc16D478E2fjfQ/sdw3k3EZ3W84Gdje/tQBv2FzDd6bbz2rq8MkasjL0IxxXDfGu9tbb4b3MNyy+bcSIsKHqSGBOPwBrgLWw+K/gRG0/SoJLyzDfu/LUSp9R3FSWvw+8b+P9aivPHEr2lrH/AAyEZx6Io6Z9TQB2nwSt5oPhmGmUqs08rx57r0z+YNcL8DQP+Fjame4t5P8A0MV7vY6fBpmkxWFjGEggj8uNB2AFeR/CXwdr+geN9QvNX0yW1tpIXVJHZSGJcHsaAPZJP9S/+6a8A+DQx8VNUx/zzl/9Cr39wTG4HUg4rxv4X+D/ABBonxC1C/1XTJba1lSQJKzKQxLcdDQB7QKq6j/yDLr/AK4v/I1ZFVtR/wCQZdf9cX/kaAPMPgH/AMi7q/8A1/H/ANBFesV5P8A/+Rd1f/r+P/oIr1igBRXl/wAev+RBj/6+0/ka9QrgPjDoOp+IfByWmjWb3c4uFcohAOADzzQBJ8Gv+SY2H+8/862vHsEtz8P9aitwTI1o+AO+Bk/pVH4X6TfaJ4Cs7HVbZra5jZy0bEEjJ46V1siLLG0cg3KwIIPcUAfMPw30bxdrNneJ4T1tLBY5AZoTKVLEjhsY/Cu2Pgb4qlTnxTHjHP79v8Kh174ZeJfCfiB9b+HszPHISWt1YBlB5xg8MtRNq3xi1qFrFNOe03ja03lLFj33E/yoA2vhn8N9c8J+KbjU9WuLWVJoWQ+U5JLEg56VueOfhbpXjaZruOb7FqSgKZkG4MO25a1/APh7VPDfhiOx1rUjfXG4tnqI8/wgnkivPfEfg74h6L4qu9e8M6g16Lp9zIjgHHZSh4IA4oA5jVNA8efC8Lf2+ovLYIwXzIpCyewZD0r2zwB4obxf4QtdUljEc7ExzKvTevBI9j1ryLU7f4qeOraPSNT057e1LgyM6LEpx3Jzz+Fex+C/DMXhHwvbaVE/mMmWkk/vOepoA8a8Jf8AJxVz/wBfM/8AI19BCvFPHfw98R6Z41/4SrwYhnZ381o0xvjfvweoNdF8P7r4iaj4hku/FcIttNMJUROoQ7s8FVHOfUmgD0qquo6nZaPYvealcx21uhAMkhwBmrVcp8QfA6eOdES0N5JaywtviIJKFsfxDvQBpXug+H/E1us15Y2l8ki5WUoGJHswrx/4sfDDRfDug/2zojPbFZAjwM+5WB/u55BFZ0Phj4p+CHaDRjczWwPH2ZxIje+09Pyol8J/Ezx9dQReIBPDbI33rohET1O0dT+FAHo/wW1S61L4dxi8dpGtpmhR26lQAQPwzXmvwpvbaz+MVyLtghnaeKIt/fLZx+QNe5+FvDlv4V8OW+lWZ3LECWc9XY9TXzh4Z8LzeLPHWp2VpeGzuojNPBKM8OsnH86APqk188/E+aLUPjRYxWBDyoYY328/Puzj8jV+8vvjHaxHSzbSzcbBcxRqxI9d/wDWtz4bfCq70rVl8Q+Kn36hktHCW3FWPVmPc0AXfjuMfDmIH/n7j/k1bPwg/wCSW6R/uv8A+htVf4waFqfiHwWlno1o93cfakfYhA4AOTz9a0/hppV7ovw/02w1OBre6iVg8bEEr8xPb60AeTeBf+ThLv8A663P8jXovxr/AOSYXn/XaL/0IVyvhHwdr+n/ABoudYvNMlisGknKzkrtIYHB655r1PxToMPibw1eaTcHatwmFb+6w5B/MUAcf8EOfhrbe1xLn869Fr570nS/ih4Fa40jRbB5reVyVkRVdM9NwOePxr2jwdHrcPhe1j8UMraio/eFWySO2T60AblFFFABRRRQAUUUUAFFFFABRRRQAUUUUAFFFFABRRRQAUUUUAFFFFABRRRQAUUUUAFFFFABRRRQAUUUUAFFFFABRRRQAUUUUAFFFFABRRRQAUUUUAFFFFABRRRQAUUUUAFFFFABRRRQAUUUUAFFFFABRRRQAUUUUAFFFFABRRRQAUUUUAFFFFAGF400OfxJ4O1DSbSRI5rpAqs/Qcg8/lSeCtCn8N+EbLSruRJJrdSGaPoeSa3qKACiiigAooooAKKKKACiiigAooooAKKKKACiiigAooooAKKKKACiiigAooooAKKKKACjNFFABRmiigAqK6iM9nNEpwZI2UE+4qWigDivhp4MvfBel31tqE8MzXFyZVMWcAYA7/Su1oooAKKKKACiiigAooooAKKKKACiiigAooooAKKKKACiiigBD0NeKfDDwlr2kfE2+1DUtLntrSRJgsrgYJLgj9K9sooAKKKKACiiigAooooAKKKKACiiigAooooAKKKKACiiigAooooAKKKKACiiigAooooAKKKKACiiigAooooAKKKKACiiigAooooAKKKKACiiigAooooAKKKKACiiigAooooAKKKKACiiigAooooAKKKKACiiigAooooAKKKKACiiigAooooAKKKKACiiigAooooAKKKKACiiigAooooAKKKKACiiigAooooAKKKKACiiigAooooAKKKKACiiigAooooAKKKKACiiigAooooAKKKKACiiigAooooAKKKKACiiigAooooAKKKKACiiigAooooAKKKKACiiigAooooAKKKKACiiigAooooAKKKKACiiigAooooAKKKKACiiigAooooAKKKKACiiigAooooAKKKKACiiigAooooAKKKKACiiigAooooAKKKKACiiigAooooAKKKKACiiigAooooAKKKKACiiigAooooAKKKKACmySLDC8j/dRSxx6CnVBff8g65/65N/KgDiI/jDoEyloLLVZUBK7ktCRke+ad/wtzRP+gdrH/gGf8axfhhj/hB4eP8Al4m/9DNdcQPQflWyp3Rk6lmZf/C3NE/6B2sf+AZ/xo/4W5on/QO1j/wDP+NaeB6D8qMD0H5U/ZeYvamZ/wALc0T/AKB2sf8AgGf8aP8Ahbmif9A7WP8AwDP+NaeB6D8qMD0H5Uey8w9qZn/C3NE/6B2sf+AZ/wAaP+FuaJ/0DtY/8Az/AI1p4HoPyowPQflR7LzD2pmf8Lc0T/oHax/4Bn/Gmv8AF/Qoo2kksNWVFGWY2ZAA/OtXA9B+VY/i4D/hDdX4/wCXST/0Gj2XmCqaj4/jBoMsavFYas6MMhlsyQR+dP8A+Ft6L/0DdY/8AjUHg4f8UXpP/Xqn8q2hR7Jdxe1Mz/hbei/9A3WP/AI0f8Lb0X/oG6x/4BGtOij2S7h7UzP+Ft6L/wBA3WP/AACNH/C29F/6Busf+ARrToo9ku4e1Mz/AIW3ov8A0DdY/wDAI0f8Lb0X/oG6x/4BGtOij2S7h7UzP+Ft6L/0DdY/8AjUc3xi0C2jMlxZatGg6s9oQB+ta9cj8Tv+REuv+usX/oYpOmktxqpdm0Pi5ohAI07WCD0IsjR/wtvRf+gbrP8A4BGr1nj7DBwP9Wv8qm49BVexXcPaGX/wtvRf+gbrP/gEaP8Ahbei/wDQN1n/AMAjWpx6Cjj0FHsV3D2pl/8AC29F/wCgbrP/AIBGj/hbei/9A3Wf/AI1qcego49BR7Fdw9qZf/C29F/6Bus/+ARo/wCFt6L/ANA3Wf8AwCNanHoKOPQUexXcPamX/wALb0X/AKBus/8AgEajl+Mfh+AoJ7LVoy7bU3WhG4+g5rY49BXHePgDdeHOP+YrF/Ok6SS3Gqlzd/4W5on/AEDtY/8AAI0f8Lc0T/oHax/4BGtTAAHA/Kjj0H5U/YruT7Uy/wDhbmif9A7WP/AI0f8AC3NE/wCgdrH/AIBGtTj0H5Uceg/Kj2K7h7Uy/wDhbmif9A7WP/AI0f8AC3NE/wCgdrH/AIBGtTj0H5Uceg/Kj2K7h7Uy/wDhbmif9A7WP/AI0f8AC3NE/wCgdrH/AIBGtTj0H5Uceg/Kj2K7h7Uy/wDhbmi/9A7WP/AI/wCNRv8AGPw/HMkT2WqrJJnYhtCC2PQZrY49B+VcZ4j/AOSmeF8f3Z//AEGk6SXUaqG//wALc0T/AKB2sf8AgEaP+FuaJ/0DtY/8AjWpmjNP2K7i9qZf/C3NE/6B2sf+ARo/4W5on/QO1j/wCNamaM0exXcPamX/AMLc0T/oHax/4BGj/hbmif8AQO1j/wAAjWpmjNHsV3D2pl/8Lc0T/oHax/4BGj/hbmif9A7WP/AI1qZozR7Fdw9qZf8AwtzRf+gdrH/gEf8AGo/+FyeH/tHkfY9V87G7y/sh3Y9cZrYzXFIAfjRLkf8AMLX/ANCNJ0kupSqHQ/8AC3NF/wCgbrH/AIBGj/hbmif9A3WP/AI1p4HoPyowPQflT9iu5PtTM/4W5on/AEDdY/8AAI0f8Lc0T/oG6x/4BGtPA9B+VGB6D8qPYruHtTM/4W5on/QN1j/wCNH/AAtzRP8AoG6x/wCARrTwPQflRgeg/Kj2K7h7UzP+FuaJ/wBA3WP/AACNH/C3NF/6Busf+ARrTwPQflRgeg/Kj2K7h7UzP+FuaL/0DdY/8AjTE+MWgSyvHHZaszxnDqtoSV+vNa4Az0H5VyPhQD/hNvFfA4ni/wDQTXJip/V6fPub0f3krG1/wtvRf+gbrH/gEaP+Ft6L/wBA3WP/AACNa+1f7o/Kjav90flXkf2lL+U7Pqy7mR/wtvRf+gbrH/gEaP8Ahbei/wDQN1j/AMAjWvtX+6Pyo2r/AHR+VH9pS/lD6su5kf8AC29F/wCgbrH/AIBGj/hbei/9A3WP/AI1r7V/uj8qNq/3R+VH9pS/lD6su5kf8Lb0X/oG6x/4BGj/AIW3ov8A0DdY/wDAI1r7V/uj8qNq/wB0flR/aUv5Q+rLuZH/AAtvRf8AoG6x/wCARqOH4x+H7gMYLPVZAp2sVtCcH061t7RjoPyrjPhoB/Z+s5H/ADFJf6VazCTg5cuwnh0na5uf8Lc0T/oH6x/4BNR/wtzRP+gfrH/gE1bOB6CkwPQVH9pS/lH9WXcx/wDhbmif9A/WP/AJqP8Ahbmif9A/WP8AwCatjA9BRgego/tKX8ofVl3Mf/hbmif9A/WP/AJqP+FuaJ/0D9Y/8AmrYwPQUYHoKP7Sl/KH1ZdzH/4W5on/AED9Y/8AAJqP+FuaJ/0D9Y/8AmrYwPQUYHoKP7Sl/KH1ZdzGb4vaGilm0/VwAMkmybimw/GPQLiISwWOrSRt0ZLQkH8c1f1YD+xb7j/l3k/9BNc/8MgD4A0/IHRv/QjWn9oPk5uXqL2Cva5p/wDC3dE/6Busf+ARo/4W9on/AEDdY/8AAI1s7V/uj8qNq/3R+VZ/2nL+Uf1ddzG/4W9on/QN1j/wCNH/AAt7RP8AoG6x/wCARrZ2r/dH5UbV/uj8qP7Tl/KH1ddzG/4W9on/AEDdY/8AAI0f8Le0T/oG6x/4BGtnav8AdH5UbV/uj8qP7Tl/KH1ddzG/4W9on/QN1j/wCNL/AMLd0T/oHax/4BNWxtX+6Pyo2r/dH5Uf2nL+UPq67mLL8YdAhiaSWx1ZEUZLNZkAV29ldx39hBdwZ8ueNZF3DBwRkVwfjlQPAmsYA/49m7V1/hn/AJFXS/8Ar0i/9BFehhq7rwcrWMKkOR2NSiiiuoyCiiigAooooAKKKKACiiigAooooAKKKKACiiigAooooAKKKKACiiigCnq+qQaLo91qV5uMFrGZJNgycD0FcQnxq8NuoZbbUiD0Itv/AK9dB8Qf+Sda7/15SfyrxzSV/wCJRa/9cl/lVJXOihR9rfU9E/4XP4d/59dT/wDAX/69H/C5vDv/AD66n/4C/wD164jA9KMD0p8qOr6ku52//C5vDv8Az66n/wCAv/16P+FzeHf+fXU//AX/AOvXEYHpRgelHKg+pLudv/wubw7/AM+up/8AgL/9ej/hc3h3/n11P/wF/wDr1xGB6UYHpRyoPqS7nb/8Lm8O/wDPrqf/AIC//Xo/4XN4d/59dT/8Bf8A69cRgelGB6UcqD6ku52//C6fDQZQ8GopuYKC1tgZP416AjB0Vh0YZFfOPiUf8SyPH/PeP/0IV9GW/wDx7Rf7g/lUvQ4q1P2cuUkooopGQVBff8g65/65N/Kp6gvv+Qdc/wDXJv5UAeYfDHjwPD/18Tf+hmuurkfhj/yI8P8A18Tf+hmuursjscktwoooqiQooooAKKKKACsfxd/yJur/APXpJ/Ktisfxd/yJur/9ekn8qT2KW43wd/yJek/9eqfyraHSsXwd/wAiVpP/AF6p/KtodKET1CiiigAooooAKKKKACuR+J3/ACIl1/11i/8AQxXXVyPxO/5ES6/66xf+hilLYa3Oos/+PGD/AK5r/Kpqhs/+PGD/AK5r/KpqoAooooEFFFFABRRRQAVx3j3/AI+/Dn/YVi/nXY1x3j3/AI+/Dn/YVi/nUy2Kjudj6UUelFUSFFFFABRRRQAUUUUAFcZ4j/5Kb4X/AN2f/wBBrs64zxH/AMlO8L/7s/8A6DUyKR2dFFFUSFFFFABRRRQAUUUUAFcWn/JaJf8AsFr/AOhGu0ri0/5LRL/2C1/9CNTLoUjtKKKKokKKKKACiiigAooooAB1rkvCn/I7+K/+u8X/AKCa60da5Lwp/wAjx4r/AOu8X/oJrys0/wB3Z2YT+IdjRmikr5Y9gXNGaSikAuaM0lFAC5opKKAF7GuL+Gh/0DWf+wpL/Su07GuK+Gv/AB4az/2FJf6VtH+FL5ES3R22aTNFJWJQuaM0lFAxc0ZpKKAFzRSUooEVNX/5Al9/17yf+gmuf+GX/JP9P+jf+hGug1f/AJAl9/17yf8AoJrn/hn/AMk/0/6N/wChGuj/AJc/Mj7Z1maM0lJXOWOzRmm0UDHZozTaKAHZoptOFAjA8df8iHrH/Xs1dd4Z/wCRV0v/AK9Iv/QRXI+Ov+RD1j/r2auu8M/8irpf/XpF/wCgivfy3+E/U4sR8RqUUUV6RzBRRRQAUUUUAFFFFABRRRQAUUUUAFFFFABRRRQAUUUUAFFFFABRRRQBznxB/wCSd67/ANecn8q8d0n/AJA9p/1yX+VexfEH/kneu/8AXnJ/KvHdJ/5A9p/1yX+VVE9HBdS7RRRVnoBRRRQAUUUUAFFFFAGP4m/5Bkf/AF3j/wDQhX0Zb/8AHtF/uD+VfOfib/kGR/8AXeP/ANCFfRlv/wAe0X+4P5VmzycX/EJKKKKRyBUF9/yDrn/rk38qnqC+/wCQdc/9cm/lQB5h8Mv+RHh/6+Jv/QzXXVyPwy/5EeH/AK+Jv/QzXXV2R2OSW4UUUVQgooooAKKKKACsfxd/yJur/wDXpJ/Ktisfxd/yJur/APXpJ/Kk9hrcb4O/5ErSf+vVP5VtDpWN4O/5ErSf+vVP5Vs0IXUKKKKYBRRRQAUUUUAFcj8Tv+REuv8ArrF/6GK66uR+J3/IiXX/AF1i/wDQxUy2GtzqLP8A48YP+ua/yqaobP8A48YP+ua/yqamIKKKKYBRRRQAUUUUAFcd49/4+/Dn/YVi/nXY1x3j3/j68Of9haL+dTLYcdzsfSijsKKZIUUUUxhRRRQAUUUUAFcZ4j/5Kd4X/wB2f/0GuzrjPEf/ACU3wv8A7s//AKDUyGjs6KKKokKKKKBhRRRQAUUUUAFcWn/JaJf+wWv/AKEa7SuLT/ktEv8A2C1/9CNTLoNHaUUUUyUFFFFMYUUUUAFFFFAAOtcl4U/5HjxX/wBd4v8A0E11o61yXhP/AJHfxX/13i/9BNeVmn+7s68J/EOxpKWjFfKnsCUUuKMUAJRS4oxQAlFLijFAB2NcV8NP+PDWf+wpN/IV2vY1xfw0/wCPDWf+wpN/IVtH+FL5ES3R2lJS0ViUJRRRQMKKKKAClFJS0CKmr/8AIEvv+veT/wBBNc/8M/8Akn+n/Rv/AEI10Gr/APIEvv8Ar3k/9BNc/wDDP/kn+n/Rv/QjXR/y5+ZH2zq6SlornLEooooGFFFFABThTacKBGB46/5EPWP+vZq67wz/AMirpf8A16Rf+giuR8df8iHrH/Xs1dd4Z/5FXS/+vSL/ANBFe9lv8J+pw4j4jUooor0znCiiigAooooAKKKKACiiigAooooAKKKKACiiigAooooAKKKKACiiigDnPiD/AMk713/rzk/lXjuk/wDIHtP+uS/yr2L4g/8AJO9d/wCvOT+VeO6T/wAge0/65L/KqiejgupdopM0Zqz0BaKTNGaAFopM0ZoAWikzRmgDI8Tf8gyP/rvH/wChCvoy3/49ov8AcH8q+c/Ev/IMj/67x/8AoQr6Mt/+PaL/AHB/Ks2eTi/4hJRRRSOQKiuUaWzmjTlnQqPripaKAPHdD8PfETw9pg0+y0zTJYVkd1aS45O457Vo+T8Tf+gRpP8A4EH/ABr1Gir52LlR5d5PxN/6BGkf+BB/xo8n4m/9AjSP/Ag/416jRRzsXKux5d5PxN/6BGk/+BB/xo8n4m/9AjSP/Ag/416jRRzsOVdjy7yfib/0CNJ/8CD/AI0eT8Tf+gRpH/gQf8a9Roo52HKux5d5PxN/6BGkf+BB/wAaq6lpfxJ1PSrmxm0rSlS4iaNitxyARivW6KOdhyrseR6XpXxJ0rSrawh0rSnjt4xGrNcckD1q35PxM/6A+kf+BB/xr1GilzsOVdjy7yfiZ/0B9I/8CD/jR5PxM/6A+kf+BB/xr1GijmYcq7Hl3k/Ez/oD6R/4EH/GjyfiZ/0B9I/8CD/jXqNFHMw5V2PLvJ+Jn/QH0j/wIP8AjR5PxN/6A+kf+BB/xr1GijmYcq7Hl/k/E3/oD6R/4EH/ABrN1/w98RvEOjyaddaXpcccjKxaO45GDn+lexZozT52HLHseWRWvxMihSNdI0khFCg/aPSneR8Tf+gPpP8A4EV6jmjNHPIOWPY8u8j4m/8AQH0n/wACKPI+Jv8A0B9J/wDAivUs0Uc8h8sex5b5HxN/6A+k/wDgRR5HxN/6A+k/+BFepUUc8g5Y9jy3yPib/wBAfSf/AAIo8j4m/wDQH0n/AMCK9Soo55Byx7HlvkfE3/oD6T/4EVl6z4c+I2tSWLz6ZpiGyuFuE2XHVl6A+1ezUUc8hcq7HlvkfE3/AKBGk/8AgR/9el8j4mf9AjSf/Aj/AOvXqNFHPLuHLHseXeR8TP8AoEaT/wCBH/16PI+Jn/QI0n/wI/8Ar16jRRzy7j5Y9jy7yPiZ/wBAjSf/AAI/+vR5HxM/6BGk/wDgR/8AXr1Gijnl3Dlj2PLvI+Jn/QI0n/wI/wDr0eR8TP8AoEaT/wCBH/169RzSZo55dw5Y9jy/yPiZ/wBAjSf/AAI/+vWTf+G/iLfa9p+qyaZpqzWAcIouPlbcMc17NmjNHPLuLlXY8t8r4m/9AfSP/Ag/40eV8Tf+gPpH/gQf8a9Soo55dw5Y9jy3yvib/wBAfSP/AAIP+NHlfE3/AKA+kf8AgQf8a9Soo55dw5Y9jy3yvib/ANAfSP8AwIP+NHlfE3/oD6R/4EH/ABr1Kijnl3Dlj2PLfK+Jv/QH0j/wIP8AjR5XxN/6A+kf+BB/xr1Kijnl3Dlj2PLfK+J3/QH0j/wIP+NZa+G/iKviltd/szTPPa3FuU+0fLgHOfrXs1FHPLuHJHseXeV8Tf8AoD6T/wB//wD69HlfE3/oD6T/AN//AP69eo0Uc8u4csex5d5XxN/6A+k/9/8A/wCvR5XxN/6A+k/9/wD/AOvXqNFHPLuPlj2PLvK+Jv8A0B9J/wC//wD9ejyvib/0B9J/7/8A/wBevUaKOeXcOWPY8u8r4m/9AfSf+/8A/wDXo8r4m/8AQH0n/v8A/wD169Roo55dxcsex5d5XxN7aPpP/gR/9eszTvD/AMR9N1bUb+DS9LaTUHVpFa44UgY4r2TNGazqJVI8s9UVH3HeJ5d5fxQ/6BGj/wDgQaPL+KH/AECNH/8AAg16lmiuf6pQ/lNPaz7nlvl/FD/oEaP/AOBBo8v4of8AQI0f/wACDXqOR60tH1Sh/KHtJ9zy3y/ih/0CNH/8CDR5fxQ/6BGj/wDgQa9SyBRR9Uofyj9pPueW+X8UP+gRo/8A4EGjy/ih/wBAjR//AAINepZoo+qUP5Re1n3PLvK+J/fSNI/8CDWXoPhz4jaBDdR22maZILm4a4bfcdC3b9K9lyDRQsLRtZRD2s+55f5fxO/6A+kf+BB/xo8v4nf9AfSP/Ag/416hmjOOtL6pQ/lH7Wfc8v8AL+J3/QH0j/wIP+NHl/E7/oD6R/4EH/GvT8j1paPqlD+UPaz7nl/l/E7/AKA+kf8AgQf8aPL+J3/QH0j/AMCD/jXqFGaPqlD+UPaz7nl/l/E7/oD6R/4EH/Gjy/id/wBAfSP/AAIP+NeoUmR60fVKH8oe1n3PK7q1+JlzaSwNpGkhZUKEi4PAIx61S0DQ/iP4f0WHTbbS9LkjhzhnuOTk59a9hyPWjIp/VqNrcovaTve55f5fxO/6A+kf+BB/xpfL+J3/AECNI/8AAg/416hSFlX7zAfU0vqtD+UftZ9zzDy/id/0CNI/8CD/AI0eX8Tv+gRpH/gQf8a9PBBGQcilzR9Vofyh7Wfc8v8AL+J3/QI0j/wIP+NHl/E7/oEaR/4EH/GvUM0hOOpo+q0P5Q9rPueYeX8Tv+gRpH/gQf8AGjy/id/0CNI/8CD/AI16hRR9Uo/yh7Wfc8i1fSfiTrGj3Onz6VpSx3EZRmS45APpzXp2iWstjoNja3AAlht0RwDnBAANXs0VtTpQpq0FYiUnLcKKKK0JCiiigAooooAKKKKACiiigAooooAKKKKACiiigAooooAKKKKACiiigDG8X6bc6x4O1XT7FVa5ubZo4wzYBJHrXkNt4C+IFtaxwpp+nlY1Cgm5GTXu4oyPUUFwnKHwnhv/AAhHxC/6B2nf+BNH/CEfEL/oHad/4E17lkeo/OjNFzT29TueG/8ACEfEL/oHad/4E0f8IR8Qv+gdp3/gTXuWR60uc96Lh7ep3PDP+EI+IX/QO07/AMCaP+EI+IX/AEDtO/8AAmvcicdTQHVvusD9DRcPb1O54b/whHxC/wCgdp3/AIE0f8IR8Qv+gdp3/gTXueaTIouHt6nc8Gu/h3481COOG5sbFIxIrEpcDPBzXu0SlIUVuqqAfyp+aKNzOU5Sd5BRRRQQFFFFABRRRQAUUUUAFFFFABRRRQAUUUUAFFFFABRRRQAUUUUAFFFFABRRRQAUUUUAAqG8vILC2a4u5BHEn3mPapqrX9hb6nZva3ab4nxkZxQ720Kjy8y5tjN/4THQf+gjH+tKPGGhMwA1GPJOB1rjfHXh7TtF0+2l0+Exs8u1iWJyMVr+HPCOj32g2V3cW7NNJGGY7yMmuZTqOTjoenKhhY0lVu7P0OivPEmk6fP5N5eJFJtDbTnoahj8XaFI4RdRiyTgZyK4TxnCjeNoYSuY2ESEe1dHq3gbRl0ueS3jaCSNCyuHJ6D3qVUqSva2gPDYeEYc7d5I7CORJYw8bK6MMhlOQaiu7yCxtXuLqQRxJ95j2rhvhnfzyLd2TuWhiAdAf4cmpPiJqTyNbaRaEtJKQzqO+TgCtPa/u+YxWEf1j2Lei6+R12navY6srnT7hZvLIDbe2as3FxHa27zTsEjQZZj2FeZaOJvCHjRLW4f91OoRmPQg9D+dd54mOfC9/wD9cG/lRGo3BvqhVcPGnWjBO8ZWsyzp2r2Oqo72FwsyxnDFe1MtNd02+vGtbW6R51zlB1461yPwy/48NS/31/ka4t7i4tdenuLQsJYZncEdvm/lUOu1GL7nTDL4zqVIJ/Dse23FzFaW7z3DhIoxlmPYVXsNWs9UiaSwnWZEO1ivY1zsmvw6/wCBr2VCFmSEiWP0P+FU/hl/yCr3/ruP5VftbzUUc31bloSqS3Tsd1RRRW5whRRRQAUUUUAFFFFABRRRQAUUUUAFFFFABRRRQAUUUUAFFFFABRRRQAUUUUAFLSUUAeffECO80+/t9RtZ5UjbCsFcgBhyK7TRtRTVNHt7xDxIgLex7/rUHiPTV1XQri2IyxXcnsw6V594a8S/2HoupWkxIdAWhU/3jwR/WuVy9nU12Z6saf1rDLl+KLt8mXdVvrnxD47jsLO4ljgjYI3lsR05Y8V2HibVV0bw/NKGxIV8uIE9TXOfDnSm8u41efmSUlEz6dSfzrK+IGrLd63FZbz5Ft98L6nr+lTzOMHJ7s29nGriY0or3YFTQNX1DR9asrnUJZmtrofxuSCpOM/ga9YlbNuzKf4SQRXlPiTX9I1fSra3s4Zo5LYBULAY24x6123hHV/7V8Kje26a3Xy3/AcfpRRlvG5OOpNxjWcbdH+hzfw9vLmfxDdLPPJIohOAzkgfMK9IrzH4cf8AIyXf/XE/+hCvTq0oXcDnzFJYhpeR5neXlyvxMSIXEoj89Rs3nH5VP8R7u4h1GzWCeSIGM52MRnmqd9/yVJP+vham+JX/ACE7L/rmf51ztvkl6noxivrFPT7P6EsXgrW5bdJo9aOXQMFLN3FJpXiTVvD+uJpevOZomIXc3JXPQg+ld5Yf8g+3/wCuS/yrzr4hTR3fiO2gtfnmRArbT3J4FaTj7NKUTmoVXipypVEmrPW2x6XPcJb2sk8hwiKWJPpXj15rGq3N9Pq0E0ywJOMYY7V54GPwrsPHmqvY6BBpyNia4UK+D/COv51ztpr+jQ+EH0iSCcyygs8gUY39j1+lKtO8rXtY0wNFwpc7jfmdvkegpMfEHhrzLSXy2uYsBgfuNXBa74d1bQ9P+1y6u8q7wu1WYdfxrT+G2rj99pUh/wCmsWf1H9a0/iN/yLA/67L/AFpztOlz9TOjz4fFew6NnOaJ4Z1fWtKjvYtXeJZCRtZ2JGDj1p/jaS70650y2W6kDJbhXZHI3EHrXU+Av+RPtv8Aef8AnXMfEr/kNWf/AFy/rSlFRppo0o1ZVMW4StZX6HU+IvER0HQYpEG+4lQLGD646muSsfD2v+J4Bf3d8Yo35QyMeR7Adqs/EWOT7Jpcg/1ewqfrgV2fh+4hu/D9m9sQUESrgdiByKu3tKji+hjz/VsPGdNayvqcBM2veCLyLzZzPbOeBklW9Rz0NdN4n1MXvgb7dZSMiy7CCrYI55FQfEm5iXRIbcsPNeYMq9wADk1mPFJF8J4xKpUtJuAPoX4rO7jzRWxtFKqqVaSs27eozwT4teC5Gn6nMzxSH93I5yUb0J9DV74kXM9ubHyJpI927OxiM9Kw7HwwdU8GLf2a/wClwyPkD/lovp9aytT1y41KwtLW8BMtqWXeTyRx19+Kz55Knys6o0Kc8T7Wn0umj2HSGLaLZsxJJgQkk9eBVw1S0b/kB2X/AFwT/wBBFXTXorY+al8TEooopkhRRRQAUUUUAFFFFABRRRQAUUUUAFFFFABRRRQAUUUUAFFFFABRRRQAUUUUAFcfrvhLVNT1aW6ttVMETgYjBYY49q7CkPQ/SolBSVma0qsqUuaJ49pVlqWqa4+mJqUqPGXBcyNg7a6iTRNQ0Dw3q0lxqT3DPENhDHKYPvWV4R/5KFc/Wb+ddn4s/wCRUv8A/rl/WuSEU6bkeziqsvrEaWlnbocF4e0XVfENrLNDqskIjfYQ7sc8Z9a6bRvCGqafq9vd3GrGaOJiWj3N83BFcx4W0PV9VsppNL1I2kaPhlEjLk468V2fh3QdY0y/ebU9TN3GUKhDIzYPrzTpRuk7MMZUcXOKmvS2pzWu6lqGu+LDo8F19lgD+WOcA4HJPrVs+AtXtNsun6yWkHY5X+prR8QeBodWvHvLK4+z3DcspGVJ9eOlc7eHxV4R2SzXbSW2QAS+9T7c8ilJcrbmhwmqkYxoSS02a3Oj1nwnquo3UcsGrNEFiVGyWyxA5PFcZaWepXXiJtIGpSiRXZfM8xscV6joWqf2xolvfbdhlX5l9CDg/wAq4HSP+Soyf9d5P5GnUjFONupnha1TkqKVvdXZHVeGfDt/o13NLe6gbpZE2quScHPXmulpB0pa64xUVZHj1KkqkuaW4UUUVRAUUUUAFFFFABRRRQAUUUUAFFFFABRRRQAUUUUAFFFFABRRRQAUUUUAFFFFABRRRQAUlLRQBxHxO/5BNn/12P8AI1veEf8AkUtO/wCuIqTXvD9t4gt4obuSVFjfcPLIGTjHcVb06xj0zTobOAs0cK7VLdTWMYNVHI7Z1ovDQprdNnmnjpZG8aIsB2yERhD6HtSeI7fxRp9gv9q3ry20jbTsfIz6HFdvqfhCx1XWU1GeadZUKkKjDHy9O1at/YwalZS2l0u6KQYPqKx9g3dnYsfCPs0ldJa6fkc/4Ns9O0vw219bzCUyrvmkPGMfw/hXFQ3Wqap4ll1bTrNrqSOTcPk3BfSu8tfBdrZ6Zc2EN7diC4A3KWXj6cVoaHoFroFo8FoXYO25mfBJqnTlKy2SIjiqdNzmvecu/Y818R/8JDqSpearppgEA/1iRleM9+a69NX/ALY+HNzOxHmpbmOUf7QHX8a6e9s476yltpxmOVSrYrEsPCFlp9jd2cVxctDdptcMw49xxR7KUW7dRPFUqkI8ys4tWt2MX4Zf8eOpf76/yNY/hO3iuvG95DOgeN0mDKe/zV3mheHbXw/DPHZySyCYgt5hBxx7Cq+l+ErLSdYfUYJp2lcNlXI2/McntS9k7Rv0HLF071WvtWscH4g0i78LahMLZm+x3SFQexB/hPuK6P4Z/wDILvf+uw/lXWappttq9i9reLlG7jqp9RVXQvD9r4ft5YrSSVxK+4mQg9sdhTjRcal1sKrjY1cN7OXxXXzNeiiiuo8oKKKKACiiigAooooAKKKKACiiigAooooAKKKKACiiigAooooAKKKKACiiigAooooAMZrzzXvAV5d63Nc6e0IgmO4h2wQe9eh0VnOnGe50UMRUoNuHUoWtn/Z2jpa2YBaKLauTjJx/jXNeHPCNzbavc3+uCGd5Adq53DJPJrtKKbpxbTfQUcROEZRX2tyjJpGnzRPG1nAAykHEYFcx4Z8MapoWqXPzRNZzKVwH5/2Tiu1opOnFu4RxFSMXC90zzSz8G+JtOuXmsLiKB2yCyv1GfcVqWeleM476B7nUVaFZFMi7xyuee1dvRUKjFbNnRPHVJ/El9xxNz4T1GXxsuqqYvs4lVz83OB7VJ4y8MX+uXlvLZeXtjQg72xzmuyop+xjZruQsZVU4z0ulY8/Gg+NPJEP9pBY8bcCXGB+VaPh/wMun3gvtTn+03KnKjHyg+vua6+ihUYp3HPG1ZRcVZX7KxxWo+FNQ1jxcl7emL7DG4wobJKjpx7muq/sux/58oP8Av2Kt0VcacUZTxE5pJvbQ4i68I39t4sTU9H8lIg4YoW2/UYrZ8W6Pc63ootbTYJPMVvmOBxW9RU+zjZruU8VUc4ze8TH8L6ZPpHh+GzutvmoWJ2nI5NYvjHwtf67qVtPZGMJGmG3tjnNdlRVOCceVkwxE4VHVW7M3UNGg1bRxY3q8bRhh1Vh3FcUnhDxNo8zDRr392T1WTbn6g8V6PRUypRk7l0sVUpLlWq7M8+svAmo398LnxFd7wDlkDli3tnsK6bxLo8uo+HWsNPVFYFQoY4AANbdFCpRSsEsXVlNTfTbsYfhLSLnRdDFpebfM8xm+Q5GDWD4o8Cy3+ofa9J8tDJzIjHAz6iu6oodKLjysUMVVp1HUi9WV9Oga10y2gkxvjiVWwe4FWDRRWiVkczd3cKKKKYgooooAKKKKACiiigAooooAKKKKACiiigAooooAKKKKACiiigAooooAKKKKACkPQ0tFAHF6D4U1DTvFk2o3HleS5kxtbn5jxXRa9YS6jod1aW+3zJU2ruOBmtKis1TSi4nRPETnUVR7q34Hm9h4U8WaXE0dheRwI5ywV+p/KtTTdL8YRanbvfair26uDIu8cj8q7SioVFLZs2njqk780Vr5HEan4c8Rx6zPf6RqPMzZKltuPQYPFUrjwx4q1x0i1q7QQKc/eB/QCvRKKHRiwjjqkVolfvbUqabp8Wl6bDZwf6uFNoJ7+prlrDwpf2/jRtVcxfZzI7cNzgjjiu0orRwTtfoYQrzgpJfa3EHSlooqzAKKKKACiiigAooooAKKKKACiiigAooooAKKKKACiiigAooooAKKKKACiiigAooooAKKKKACiiigAooooAKTFLRQAZozRRQAUmKWigBMUYpaKAExRilooAKKKKACiiigAooooAKKKKACiiigAooooAKKKKACiiigAooooAKKKKACiiigAooooAKKKKACiiigAooooAKKKKACiiigAooooAKKKKACiiigAooooAKKKKACiiigAooooAKKKKACiiigAooooAKKKKACiiigAooooAKKKKACiiigAooooAKKKKACiiigAooooAKKKKACiiigAooooAKKKKACiiigAooooAKKKKACiiigAooooAKKKKACiiigAooooAKKKKACiiigAooooAKKKKACiiigAooooAKKKKACiiigAooooAKKKKACiiigAooooAKKKKACiiigAooooAKKKKACiiigAooooAKKKKACiiigAooooAKKKKACiiigAooooAKKKKACiiigAooooAKKKKACiiigAooooAKKKKACiiigAooooAKKKKACiiigAooooAKKKKACiiigAooooAKKKKACiiigAooooAKKKKACiiigAooooAKKKKACiiigAooooAKKKKACiiigAooooAKKKKACiiigAooooAKKKKACiiigAooooAKKKKACiiigAooooAKKKKAP/9k=)"
      ]
    },
    {
      "cell_type": "markdown",
      "metadata": {
        "id": "nRsC0PdxRMln"
      },
      "source": [
        "![Cross Validation 6.JPG](data:image/jpeg;base64,/9j/4AAQSkZJRgABAQEAYABgAAD/4RD4RXhpZgAATU0AKgAAAAgABAE7AAIAAAAPAAAISodpAAQAAAABAAAIWpydAAEAAAAeAAAQ0uocAAcAAAgMAAAAPgAAAAAc6gAAAAgAAAAAAAAAAAAAAAAAAAAAAAAAAAAAAAAAAAAAAAAAAAAAAAAAAAAAAAAAAAAAAAAAAAAAAAAAAAAAAAAAAAAAAAAAAAAAAAAAAAAAAAAAAAAAAAAAAAAAAAAAAAAAAAAAAAAAAAAAAAAAAAAAAAAAAAAAAAAAAAAAAAAAAAAAAAAAAAAAAAAAAAAAAAAAAAAAAAAAAAAAAAAAAAAAAAAAAAAAAAAAAAAAAAAAAAAAAAAAAAAAAAAAAAAAAAAAAAAAAAAAAAAAAAAAAAAAAAAAAAAAAAAAAAAAAAAAAAAAAAAAAAAAAAAAAAAAAAAAAAAAAAAAAAAAAAAAAAAAAAAAAAAAAAAAAAAAAAAAAAAAAAAAAAAAAAAAAAAAAAAAAAAAAAAAAAAAAAAAAAAAAAAAAAAAAAAAAAAAAAAAAAAAAAAAAAAAAAAAAAAAAAAAAAAAAAAAAAAAAAAAAAAAAAAAAAAAAAAAAAAAAAAAAAAAAAAAAAAAAAAAAAAAAAAAAAAAAAAAAAAAAAAAAAAAAAAAAAAAAAAAAAAAAAAAAAAAAAAAAAAAAAAAAAAAAAAAAAAAAAAAAAAAAAAAAAAAAAAAAAAAAAAAAAAAAAAAAAAAAAAAAAAAAAAAAAAAAAAAAAAAAAAAAAAAAAAAAAAAAAAAAAAAAAAAAAAAAAAAAAAAAAAAAAAAAAAAAAAAAAAAAAAAAAAAAAAAAAAAAAAAAAAAAAAAAAAAAAAAAAAAAAAAAAAAAAAAAAAAAAAAAAAAAAAAAAAAAAAAAAAAAAAAAAAAAAAAAAAAAAAAAAAAAAAAAAAAAAAAAAAAAAAAAAAAAAAAAAAAAAAAAAAAAAAAAAAAAAAAAAAAAAAAAAAAAAAAAAAAAAAAAAAAAAAAAAAAAAAAAAAAAAAAAAAAAAAAAAAAAAAAAAAAAAAAAAAAAAAAAAAAAAAAAAAAAAAAAAAAAAAAAAAAAAAAAAAAAAAAAAAAAAAAAAAAAAAAAAAAAAAAAAAAAAAAAAAAAAAAAAAAAAAAAAAAAAAAAAAAAAAAAAAAAAAAAAAAAAAAAAAAAAAAAAAAAAAAAAAAAAAAAAAAAAAAAAAAAAAAAAAAAAAAAAAAAAAAAAAAAAAAAAAAAAAAAAAAAAAAAAAAAAAAAAAAAAAAAAAAAAAAAAAAAAAAAAAAAAAAAAAAAAAAAAAAAAAAAAAAAAAAAAAAAAAAAAAAAAAAAAAAAAAAAAAAAAAAAAAAAAAAAAAAAAAAAAAAAAAAAAAAAAAAAAAAAAAAAAAAAAAAAAAAAAAAAAAAAAAAAAAAAAAAAAAAAAAAAAAAAAAAAAAAAAAAAAAAAAAAAAAAAAAAAAAAAAAAAAAAAAAAAAAAAAAAAAAAAAAAAAAAAAAAAAAAAAAAAAAAAAAAAAAAAAAAAAAAAAAAAAAAAAAAAAAAAAAAAAAAAAAAAAAAAAAAAAAAAAAAAAAAAAAAAAAAAAAAAAAAAAAAAAAAAAAAAAAAAAAAAAAAAAAAAAAAAAAAAAAAAAAAAAAAAAAAAAAAAAAAAAAAAAAAAAAAAAAAAAAAAAAAAAAAAAAAAAAAAAAAAAAAAAAAAAAAAAAAAAAAAAAAAAAAAAAAAAAAAAAAAAAAAAAAAAAAAAAAAAAAAAAAAAAAAAAAAAAAAAAAAAAAAAAAAAAAAAAAAAAAAAAAAAAAAAAAAAAAAAAAAAAAAAAAAAAAAAAAAAAAAAAAAAAAAAAAAAAAAAAAAAAAAAAAAAAAAAAAAAAAAAAAAAAAAAAAAAAAAAAAAAAAAAAAAAAAAAAAAAAAAAAAAAAAAAAAAAAAAAAAAAAAAAAAAAAAAAAAAAAAAAAAAAAAAAAAAAAAAAAAAAAAAAAAAAAAAAAAAAAAAAAAAAAAAAAAAAAAAAAAAAAAAAAAAAAAAAAAAAAAAAAAAAAAAAAAAAAAAAAAAAAAAAAAAAAAAAAAAAAAAAAAAAAAAAAAAAAAAAAAAAAAAAAAAAAAAAAAAAAAAAAAAAAAAAAAAAAAAAAAAAAAAAAAAAAAAAAAAAAAAAAAAAAAAAAAAAAAAAAAAAAAAAAAAAAAAAAAAAAAAAAAAAAAAAAAAAAAAAAAAAAAAAAAAAAAAAAAAAAAAAAAAAAAAAAAAAAAAAAAAAAAAAAAAAAAAAAAAAAAAAAAAAAAAAAAAAAAAAAAAAAAAAAAAAAAAAAAAAAAAAAAAAAAAAAAAAAAAAAAAAAAAAAAAAAAAAAAAAAAAAAAAAAAAAAAAAAAAAAAAAAAAAAAAAAAAAAAAAAAAAAAAAAAAAAAAAAAAAAAAAAAAAAAAAAAAAAAAAAAAAAAAAAAAAAAAAAAAAAAAAAAAAAAAAAAAAAAAAAAAAAAAAAAAAAAAAAAAAAAAAAAAAAAAAAAAAAAAAAAAAAAAAAAAAAAAAAAAAAAAAAAAAAAAAAAAAAAAAAAAAAAAAAAAAAAAAAAAAAAAAAAAAAAAAAAAAAAAAAAAAAAAAAAAAAAAAAAAAAAAAAAAAAAAAAAAAAAAAAAAAAAAAAAAAAAAAAAAAAAAAAAAAAAAAAAAAAAAAAAAAAAAAAAAAAAAAAAAAAAAAAAAAAAAAAAAAAAAAAAAAAAAAAAAAAAAAAAAAAAAAAAAAAAAAAAAAAAAAAAAAAAAAAAAAAAAAAAAAAAAAAAAAAAAAAAAAAAAAAAAAAAAAAAAAAAAAAAAAAAAAAAAAAAAAAAAAAAAAAAAAAAAAAAAAAAAAAAAAAAAE11Y2hhbWFkIEZhdXp5AAAABZADAAIAAAAUAAAQqJAEAAIAAAAUAAAQvJKRAAIAAAADNzYAAJKSAAIAAAADNzYAAOocAAcAAAgMAAAInAAAAAAc6gAAAAgAAAAAAAAAAAAAAAAAAAAAAAAAAAAAAAAAAAAAAAAAAAAAAAAAAAAAAAAAAAAAAAAAAAAAAAAAAAAAAAAAAAAAAAAAAAAAAAAAAAAAAAAAAAAAAAAAAAAAAAAAAAAAAAAAAAAAAAAAAAAAAAAAAAAAAAAAAAAAAAAAAAAAAAAAAAAAAAAAAAAAAAAAAAAAAAAAAAAAAAAAAAAAAAAAAAAAAAAAAAAAAAAAAAAAAAAAAAAAAAAAAAAAAAAAAAAAAAAAAAAAAAAAAAAAAAAAAAAAAAAAAAAAAAAAAAAAAAAAAAAAAAAAAAAAAAAAAAAAAAAAAAAAAAAAAAAAAAAAAAAAAAAAAAAAAAAAAAAAAAAAAAAAAAAAAAAAAAAAAAAAAAAAAAAAAAAAAAAAAAAAAAAAAAAAAAAAAAAAAAAAAAAAAAAAAAAAAAAAAAAAAAAAAAAAAAAAAAAAAAAAAAAAAAAAAAAAAAAAAAAAAAAAAAAAAAAAAAAAAAAAAAAAAAAAAAAAAAAAAAAAAAAAAAAAAAAAAAAAAAAAAAAAAAAAAAAAAAAAAAAAAAAAAAAAAAAAAAAAAAAAAAAAAAAAAAAAAAAAAAAAAAAAAAAAAAAAAAAAAAAAAAAAAAAAAAAAAAAAAAAAAAAAAAAAAAAAAAAAAAAAAAAAAAAAAAAAAAAAAAAAAAAAAAAAAAAAAAAAAAAAAAAAAAAAAAAAAAAAAAAAAAAAAAAAAAAAAAAAAAAAAAAAAAAAAAAAAAAAAAAAAAAAAAAAAAAAAAAAAAAAAAAAAAAAAAAAAAAAAAAAAAAAAAAAAAAAAAAAAAAAAAAAAAAAAAAAAAAAAAAAAAAAAAAAAAAAAAAAAAAAAAAAAAAAAAAAAAAAAAAAAAAAAAAAAAAAAAAAAAAAAAAAAAAAAAAAAAAAAAAAAAAAAAAAAAAAAAAAAAAAAAAAAAAAAAAAAAAAAAAAAAAAAAAAAAAAAAAAAAAAAAAAAAAAAAAAAAAAAAAAAAAAAAAAAAAAAAAAAAAAAAAAAAAAAAAAAAAAAAAAAAAAAAAAAAAAAAAAAAAAAAAAAAAAAAAAAAAAAAAAAAAAAAAAAAAAAAAAAAAAAAAAAAAAAAAAAAAAAAAAAAAAAAAAAAAAAAAAAAAAAAAAAAAAAAAAAAAAAAAAAAAAAAAAAAAAAAAAAAAAAAAAAAAAAAAAAAAAAAAAAAAAAAAAAAAAAAAAAAAAAAAAAAAAAAAAAAAAAAAAAAAAAAAAAAAAAAAAAAAAAAAAAAAAAAAAAAAAAAAAAAAAAAAAAAAAAAAAAAAAAAAAAAAAAAAAAAAAAAAAAAAAAAAAAAAAAAAAAAAAAAAAAAAAAAAAAAAAAAAAAAAAAAAAAAAAAAAAAAAAAAAAAAAAAAAAAAAAAAAAAAAAAAAAAAAAAAAAAAAAAAAAAAAAAAAAAAAAAAAAAAAAAAAAAAAAAAAAAAAAAAAAAAAAAAAAAAAAAAAAAAAAAAAAAAAAAAAAAAAAAAAAAAAAAAAAAAAAAAAAAAAAAAAAAAAAAAAAAAAAAAAAAAAAAAAAAAAAAAAAAAAAAAAAAAAAAAAAAAAAAAAAAAAAAAAAAAAAAAAAAAAAAAAAAAAAAAAAAAAAAAAAAAAAAAAAAAAAAAAAAAAAAAAAAAAAAAAAAAAAAAAAAAAAAAAAAAAAAAAAAAAAAAAAAAAAAAAAAAAAAAAAAAAAAAAAAAAAAAAAAAAAAAAAAAAAAAAAAAAAAAAAAAAAAAAAAAAAAAAAAAAAAAAAAAAAAAAAAAAAAAAAAAAAAAAAAAAAAAAAAAAAAAAAAAAAAAAAAAAAAAAAAAAAAAAAAAAAAAAAAAAAAAAAAAAAAAAAAAAAAAAAAAAAAAAAAAAAAAAAAAAAAAAAAAAAAAAAAAAAAAAAAAAAAAAAAAAAAAAAAAAAAAAAAAAAAAAAAAAAAAAAAAAAAAAAAAAAAAAAAAAAAAAAAAAAAAAAAAAAAAAAAAAAAAAAAAAAAAAAAAAAAAAAAAAAAAAAAAAAAAAAAAAAAAAAAAAAAAAAAAAAAAAAAAAAAAAAAAAAAAAAAAAAAAAAAAAAAAAAAAAAAAAAAAAAAAAAAAAAAAAAAAAAAAAAAAAAAAAAAAAAAAAAAAAAAAAAAAAAAAAAAAAAAAAAAAAAAAAAAAAAAAAAAAAAAAAAAAAAAAAAAAAAAAAAAAAAAAAAAAAAAAAAAAAAAAAAAAAAAAAAAAAAAAAAAAAAAAAAAAAAAAAAAAAAAAAAAAAAAAAAAAAAAAAAAAAAAAAAAAAAAAAAAAAAAAAAAAAAAAAAAAAAAAAAAAAAAAAAAAAAAAAAAAAAAAAAAAAAAAAAAAAAAAAAAAAAAAAAAAAAAAAAAAAAAAAAAAAAAAAAAAAAAAAAAAAAAAAAAAAAAAAAAAAAAAAAAAAAAAAAAAAAAAAAAAAAAAAAAAAAAAAAAAAAAAAAAAAAAAAAAAAAAAAAAAAAAAAAAAAAAAAAAAAAAAAAAAAAAAAAAAAAAAAAAAAAAAAAAAAAAAAAAAAAAAAAAAAAAAAAAAAAAAAAAAAAAAAAAAAAAAAAAAAAAAAAAAAAAAAAAAAAAAAAAAAAAAAAAAAAAAAAAAAAAAAAAAAAAAAAAAAAAAAAAAAAAAAAAAAAAAAAAAAAAAAAAAAAAAAAAAAAAAAAAAAAAAAAAAAAAAAAAAAAAAAAAAAAAAAAAAAAAAAAAAAAAAAAAAAAAAAAAAAAAAAAADIwMjE6MDM6MjcgMDM6NDA6MzEAMjAyMTowMzoyNyAwMzo0MDozMQAAAE0AdQBjAGgAYQBtAGEAZAAgAEYAYQB1AHoAeQAAAP/hCyFodHRwOi8vbnMuYWRvYmUuY29tL3hhcC8xLjAvADw/eHBhY2tldCBiZWdpbj0n77u/JyBpZD0nVzVNME1wQ2VoaUh6cmVTek5UY3prYzlkJz8+DQo8eDp4bXBtZXRhIHhtbG5zOng9ImFkb2JlOm5zOm1ldGEvIj48cmRmOlJERiB4bWxuczpyZGY9Imh0dHA6Ly93d3cudzMub3JnLzE5OTkvMDIvMjItcmRmLXN5bnRheC1ucyMiPjxyZGY6RGVzY3JpcHRpb24gcmRmOmFib3V0PSJ1dWlkOmZhZjViZGQ1LWJhM2QtMTFkYS1hZDMxLWQzM2Q3NTE4MmYxYiIgeG1sbnM6ZGM9Imh0dHA6Ly9wdXJsLm9yZy9kYy9lbGVtZW50cy8xLjEvIi8+PHJkZjpEZXNjcmlwdGlvbiByZGY6YWJvdXQ9InV1aWQ6ZmFmNWJkZDUtYmEzZC0xMWRhLWFkMzEtZDMzZDc1MTgyZjFiIiB4bWxuczp4bXA9Imh0dHA6Ly9ucy5hZG9iZS5jb20veGFwLzEuMC8iPjx4bXA6Q3JlYXRlRGF0ZT4yMDIxLTAzLTI3VDAzOjQwOjMxLjc1ODwveG1wOkNyZWF0ZURhdGU+PC9yZGY6RGVzY3JpcHRpb24+PHJkZjpEZXNjcmlwdGlvbiByZGY6YWJvdXQ9InV1aWQ6ZmFmNWJkZDUtYmEzZC0xMWRhLWFkMzEtZDMzZDc1MTgyZjFiIiB4bWxuczpkYz0iaHR0cDovL3B1cmwub3JnL2RjL2VsZW1lbnRzLzEuMS8iPjxkYzpjcmVhdG9yPjxyZGY6U2VxIHhtbG5zOnJkZj0iaHR0cDovL3d3dy53My5vcmcvMTk5OS8wMi8yMi1yZGYtc3ludGF4LW5zIyI+PHJkZjpsaT5NdWNoYW1hZCBGYXV6eTwvcmRmOmxpPjwvcmRmOlNlcT4NCgkJCTwvZGM6Y3JlYXRvcj48L3JkZjpEZXNjcmlwdGlvbj48L3JkZjpSREY+PC94OnhtcG1ldGE+DQogICAgICAgICAgICAgICAgICAgICAgICAgICAgICAgICAgICAgICAgICAgICAgICAgICAgICAgICAgICAgICAgICAgICAgICAgICAgICAgICAgICAgICAgICAgICAgICAgICAgCiAgICAgICAgICAgICAgICAgICAgICAgICAgICAgICAgICAgICAgICAgICAgICAgICAgICAgICAgICAgICAgICAgICAgICAgICAgICAgICAgICAgICAgICAgICAgICAgICAgICAKICAgICAgICAgICAgICAgICAgICAgICAgICAgICAgICAgICAgICAgICAgICAgICAgICAgICAgICAgICAgICAgICAgICAgICAgICAgICAgICAgICAgICAgICAgICAgICAgICAgIAogICAgICAgICAgICAgICAgICAgICAgICAgICAgICAgICAgICAgICAgICAgICAgICAgICAgICAgICAgICAgICAgICAgICAgICAgICAgICAgICAgICAgICAgICAgICAgICAgICAgCiAgICAgICAgICAgICAgICAgICAgICAgICAgICAgICAgICAgICAgICAgICAgICAgICAgICAgICAgICAgICAgICAgICAgICAgICAgICAgICAgICAgICAgICAgICAgICAgICAgICAKICAgICAgICAgICAgICAgICAgICAgICAgICAgICAgICAgICAgICAgICAgICAgICAgICAgICAgICAgICAgICAgICAgICAgICAgICAgICAgICAgICAgICAgICAgICAgICAgICAgIAogICAgICAgICAgICAgICAgICAgICAgICAgICAgICAgICAgICAgICAgICAgICAgICAgICAgICAgICAgICAgICAgICAgICAgICAgICAgICAgICAgICAgICAgICAgICAgICAgICAgCiAgICAgICAgICAgICAgICAgICAgICAgICAgICAgICAgICAgICAgICAgICAgICAgICAgICAgICAgICAgICAgICAgICAgICAgICAgICAgICAgICAgICAgICAgICAgICAgICAgICAKICAgICAgICAgICAgICAgICAgICAgICAgICAgICAgICAgICAgICAgICAgICAgICAgICAgICAgICAgICAgICAgICAgICAgICAgICAgICAgICAgICAgICAgICAgICAgICAgICAgIAogICAgICAgICAgICAgICAgICAgICAgICAgICAgICAgICAgICAgICAgICAgICAgICAgICAgICAgICAgICAgICAgICAgICAgICAgICAgICAgICAgICAgICAgICAgICAgICAgICAgCiAgICAgICAgICAgICAgICAgICAgICAgICAgICAgICAgICAgICAgICAgICAgICAgICAgICAgICAgICAgICAgICAgICAgICAgICAgICAgICAgICAgICAgICAgICAgICAgICAgICAKICAgICAgICAgICAgICAgICAgICAgICAgICAgICAgICAgICAgICAgICAgICAgICAgICAgICAgICAgICAgICAgICAgICAgICAgICAgICAgICAgICAgICAgICAgICAgICAgICAgIAogICAgICAgICAgICAgICAgICAgICAgICAgICAgICAgICAgICAgICAgICAgICAgICAgICAgICAgICAgICAgICAgICAgICAgICAgICAgICAgICAgICAgICAgICAgICAgICAgICAgCiAgICAgICAgICAgICAgICAgICAgICAgICAgICAgICAgICAgICAgICAgICAgICAgICAgICAgICAgICAgICAgICAgICAgICAgICAgICAgICAgICAgICAgICAgICAgICAgICAgICAKICAgICAgICAgICAgICAgICAgICAgICAgICAgICAgICAgICAgICAgICAgICAgICAgICAgICAgICAgICAgICAgICAgICAgICAgICAgICAgICAgICAgICAgICAgICAgICAgICAgIAogICAgICAgICAgICAgICAgICAgICAgICAgICAgICAgICAgICAgICAgICAgICAgICAgICAgICAgICAgICAgICAgICAgICAgICAgICAgICAgICAgICAgICAgICAgICAgICAgICAgCiAgICAgICAgICAgICAgICAgICAgICAgICAgICAgICAgICAgICAgICAgICAgICAgICAgICAgICAgICAgICAgICAgICAgICAgICAgICAgICAgICAgICAgICAgICAgICAgICAgICAKICAgICAgICAgICAgICAgICAgICAgICAgICAgICAgICAgICAgICAgICAgICAgICAgICAgICAgICAgICAgICAgICAgICAgICAgICAgICAgICAgICAgICAgICAgICAgICAgICAgIAogICAgICAgICAgICAgICAgICAgICAgICAgICAgICAgICAgICAgICAgICAgICAgICAgICAgICAgICAgICAgICAgICAgICAgICAgICAgICAgICAgICAgICAgICAgICAgICAgICAgCiAgICAgICAgICAgICAgICAgICAgICAgICAgICAgICAgICAgICAgICAgICAgICAgICAgICAgICAgICAgICAgICAgICAgICAgICAgICAgICAgICAgICAgICAgICAgICAgICAgICAKICAgICAgICAgICAgICAgICAgICAgICAgICAgIDw/eHBhY2tldCBlbmQ9J3cnPz7/2wBDAAcFBQYFBAcGBQYIBwcIChELCgkJChUPEAwRGBUaGRgVGBcbHichGx0lHRcYIi4iJSgpKywrGiAvMy8qMicqKyr/2wBDAQcICAoJChQLCxQqHBgcKioqKioqKioqKioqKioqKioqKioqKioqKioqKioqKioqKioqKioqKioqKioqKioqKir/wAARCACaAxUDASIAAhEBAxEB/8QAHwAAAQUBAQEBAQEAAAAAAAAAAAECAwQFBgcICQoL/8QAtRAAAgEDAwIEAwUFBAQAAAF9AQIDAAQRBRIhMUEGE1FhByJxFDKBkaEII0KxwRVS0fAkM2JyggkKFhcYGRolJicoKSo0NTY3ODk6Q0RFRkdISUpTVFVWV1hZWmNkZWZnaGlqc3R1dnd4eXqDhIWGh4iJipKTlJWWl5iZmqKjpKWmp6ipqrKztLW2t7i5usLDxMXGx8jJytLT1NXW19jZ2uHi4+Tl5ufo6erx8vP09fb3+Pn6/8QAHwEAAwEBAQEBAQEBAQAAAAAAAAECAwQFBgcICQoL/8QAtREAAgECBAQDBAcFBAQAAQJ3AAECAxEEBSExBhJBUQdhcRMiMoEIFEKRobHBCSMzUvAVYnLRChYkNOEl8RcYGRomJygpKjU2Nzg5OkNERUZHSElKU1RVVldYWVpjZGVmZ2hpanN0dXZ3eHl6goOEhYaHiImKkpOUlZaXmJmaoqOkpaanqKmqsrO0tba3uLm6wsPExcbHyMnK0tPU1dbX2Nna4uPk5ebn6Onq8vP09fb3+Pn6/9oADAMBAAIRAxEAPwD6RooooAKKKKACiiigAoorifGvjjVvC+rQWmmeGLnWI5IBI00JcBDuI28I3pn8aAO2orxw/HHVhqAsD4MmF4elt57+YeM/d8vPTn6V1fgvx1q/ifWJrPUvC9zpEUcBlE8xfDEMo28ovqT17UAdxRRRQAUUUUAFFcR4Jk8eN4g1UeMUhXTwf9F27PvbuNm3krt/vc/d967egAooooAKKKKACiiigAooooAKKwvG2qXWi+CdU1HT3Edzbwl42KhgDkdjWZ4L1zWPEPwvi1Rnim1eaKfyiyhUaRWdUyB24GaAOworkfh4/i99Iuj45VRc+f8AuMhA2zHOdnGM9O/X2rrqACiuN+KPiLUfC/gw6ho8qxXP2iOPcyBhg5zwfpW94Zvp9T8J6TfXbBri6soZpWAwCzICTjtyaANSiiigAori08fu/wAVpPBv9nKFRd32vzuT+5En3NvvjrXaUAFFFFABRRRQAUUUUAFFFFABRRRQAUUV55qPi7V7f43ad4binQaZPBvkj8sEk+W7fe69VFAHodFFFABRRRQAUUV598XPFureEtG0+40SdIZJ7go5eMPkBc96APQaK5fx3J4oXwsr+C1VtRMq7+ELCPBztD8Zzt/DNa/h86ofDtidfCDUvJX7SExjf36cZ9ccZ6cUAaNFFFABRRRQAUVyvxB8Zt4H0GDUUsRemW5WDyzL5eMqzZzg/wB39a6OxuftmnW10V2edEsm3OcZAOM/jQBPRRRQAUUUUAFFFFABRRRQAUUUUAFFFFABRRRQAUUUUAFFFFABRRRQAUUUUAFFFFABRRRQAUUUUAFFFFABRRRQAUUUUAFFFFABRRRQAUUUUAFFFFAGN4s8S23hLw3c6teL5giAWOINgyuTgKD/AD9ACe1eFt8dPFh1L7Qq2Ig/59fIJTH1zuz+Nes/FfwzdeKPA0tvpytJdWsy3UUS9ZdoIK/XDEj1IFfMRt5luTbtDIJw2wxFTu3emOufagD608HeKbbxj4bh1W0QxFiUlhLZMTjque/UEH0IrdrhvhH4bvfDXgZYdTRori7na6aFhhogVVQp98KDjtnHau5oAKKKKAPGZ/8Ak6aD/rn/AO2jV7NXjM3/ACdNB/1z/wDbRq9moA8F0vxN4zv/ABr4i0DQL2ae6uLyRYpbqYvHZRJI+4gHIXqo6fQZxXptvpPirTPh0NPtNUhuvEEYfF3dFpFbc5PVuchTgZBHA4xXHfCiJD8SvGkxUGRbl1VvQGZyR/46Pyq/8b/EGraNoWnW+kzzWkV5Myz3MJKsoUDCZHTOSeOfl+tAFe5+Hfjs2j3v/CfXb6gF8wWyNIsJYfwghgMf8Ax7Vu/Cfxfe+LvC0smrMr3lpN5TyqoXzFwCGIHGeSOPSuYn+Gvw7sNAOp3utzzwrHvNwLxP3pxn5QByT2Ayal/Z9/5F3Vv+vpf/AEGgC98KtX1LUvFXi+HUb+5uo7a6VYUmlZxEN8owoJ46Dp6CsG71/wAWP8ZdZ0Xw/eSyPMhit0uJmMFp8qMZdhyOAGxx1bv0Ol8Hf+Rw8bf9fa/+jJqb4YH/ABkf4i/69G/9o0AZfinSPH3gK0XxCni241OJJAJ43dyibjx8jEqVzxxgjIx7eu+HNXGv+GdP1UIIzdwLIyA52sRyPwOa5v4xf8kp1f6wf+jkqbwDfWumfCXSr2/mWC2gtN8kj9FAJoA7Gqmq2cmoaRd2kFzJayzQskc8TFWiYjhgRzweah0PX9L8SaaL/RLtLu2LFC6gqVYdQQQCDyDyOhB71o0AeZ/B7xNqGoW2p6F4huJptU02cktcSb3Kk4K5PJ2sDz/tCq3xG13VNS8f6J4Q8Oahc2cjsJLuW0lKMA3OCR/dQM2PcVneL5B8PvjPYeJBlNO1ZCt1tHfhX4Hp8j+5zU/witZvEnirXfG+oJhppTDbqx3bM4JAP+yuxQfQmgDs/GOl+LdS+x2nhXVoNNtWBF1M6kyj0w3OfwwcjrzxwHifRfG3w705NftfGV5q0UUipPDdFyoBOB8rOwIzgdjzR40vJPEfxiXwtr2rTaZoSIu1Y5fLWUmMOMk8EljgE+mByay/iR4L8GeFfDu/S72aTU5ZFEMJuVk+XPzMQBwMd/XFAHo/i7Uv7Z+Cl5qfl+X9s01Jimc7SwU4z7Zqr8NJHi+CNvJGxR1gumVlOCCJJORUWof8m6L/ANgaL/0Faf8ADj/khkP/AF73X/oclAEfwX1m+1PwTfXes39xdvFfOPNuZS5VBGhxk9uSa5y11bxh8V9duzoGpS6DodowUSxsUc+mSpBZj1IyABj2zofBa0N/8Ldas1ba1xdTRBvTdCgz+tVfgp4i0/RrPUfDesTJYX6XjSKtwdm87VRlyeNwKdOvPHQ0AYXxH07xd4Z8NLpeuaqdb0m6nUw3cufMilXJ2kkk8jPBJ6cYxg+ueHRfN8LNJGkPCl9/ZMHkNOpKB/KXGcc4/wA89K4X44+K9Km8Ow6HZ3UN1eSXCyyCJw3kqoPUjoSSOPTNW/FOualoPwF0KfR5XgmmtbSF5o+GjQxZJB7HgDPvQArfDzx5qMLXeo+P7m2vWGfItS6xA+mVZQPwWrvwn8V6xrDavo3iOQT3ulShPPwMsMspBx1wV6981g6N8OvBGoeFrfWtY16aeSaFZrq4e9QBXIywPGRg5GDzmofgULUeJfEw08s1oNnkF+pTe+3PvjFAHNx+FdXb40y6EPE10NRVMnVsN5h/cBsffz0O373QfhXtEMkvgLwDNca9qc2rvYo8j3MuQ8pLfKvJPcheteezzx6d+1A09+620MyKI5JTtVs2wUcn1YEfXiu3+Ica+Jfhvrlros0d5NEF3rA4chkZZGXjvtHTrzQBxujaX48+I9r/AG7ceJpdAsZi32WCzLDKg4zhWXjI6sSfwxVnQ/EfibwT49tPCvi++/tWzvwotLw8upYkKcnk5YYIOSMgg464HgHw9p/iPw7B5fjrUrC7iBWWwS62eVg8bQSMqRg5HHOK3NO8DeHrjxvZR/8ACb3eq6pp7pdJBLKJeFcHbu59OQDnHOKAPXqKx9R8WaHpOtWmk6jqMcF9eY8mFgx3ZOBkgYGTwMkZrYoAyPE8euS6DMnhae3g1FiAj3C5UDPOPQ9+QRx05yPPL/4feOrbT5tTj8fXs19EpmNsrSLExAztHzY7dNuKn+N2vanpdjpNjp95LY299LILm4iJDALtwMjnHzEkd8Vn6p8N/h7pXhyXU59ZnmVYi6S/bUbzmxkBQB8xPoKAOu+Ffiu88XeDvtWqbWu7adreSRQB5uFVg2B0OG/SvOPBWq+OPEmp61pGlaxMqtKpkvruVpPssYZxtQHOC2R6fc/Gup+AP/Ij33/YRb/0XHWf8Cf+Qt4s/wCu0P8A6FNQBm6zP41+FOsWF7e6/Prmm3L7ZFnkdwcdVwxO04OQQe3PTB9L8f8AjNfB3hI6nDGs1xOwitUb7pdgTlvYAE+/TjOa5T4/D/ijdO/7CA/9FvTfjZp0918PdNu4VZ0s5kaUDoqshG4/jgfjQBU0jwh8Q/EWnx63qHjG602e4USw2qO23b1XcqkKufTB9+cisTRLvWrj4/aTD4nSManaI1vM8f3ZcQyFXH1BB/oOg9a8O+NdB1vw/Bfw6jawgRAzRSSqjQHHIYHGMevQ9RXl9t4gs/En7SFhd6YwktYg0CSjpJthfLfTJIHsBQB7nWD4vtvEl3o6w+Eby2s7t5AJJZ1ztTuVOCAfwPHTBreryH4v6zff8JVofh99Rl0zR73abueN9m4M+1tzeirzg8c89qAI9d8F+N/Dmi3Gu23ju+vJrNDPJbuXCFRy2AXKnAzwVxXaeEvGY1X4ap4k1YBGt4ZGuvLHUx5yQPcAHHqcVwHi/wCH3gPw74Tu76PU53uvJP2VWu1cyyY+X5QORnBOO1aHgbTZtX/Z9v7G0UtPMtwI1HVmByF/EjH40AZ+jv45+Kt1c6lb65L4f0iKUxxLbOynOB8o2kF8AjJJxk8eg534nW3inRbGx0XxLfLqtoJDNZ35zvOBhkbPOeQec9ep7d38GfF2lHwhFoV3cxWl9ZSSDy5nCGVWYtkZxkjJBHUY965/46eJ9M1JdP0nTrmK6mt5GlmeJgwj4wFyOM9cjtgUAdx8W9RvdK+HLXOmXc9pOJ4lEsEhRgCeRkVDreqX8PwDj1KG9uEvjpts5uVlIk3Epk7uuTk8+9M+NX/JL3/6+If503V7aW7/AGdY4oF3ONHt5MD0UIx/QGgDa+F97daj8N9Lur+5lubiQS75ZnLs2JXAyTyeABXN6xrGpRftBaTpkeoXSWEluGe1WZhGx2SHJXODyB+VWfhD4l0f/hXVpZzahbQXFkZFmjmlCFcuzBuT0ww56dfSuX/t2y8QftH6bc6ZKs9tEpgWZeVkKxPkqe4ySM98UAbvxU8W6rZ+I9K8MaTqC6Ol8ivPqDHG1WcoAG/hxtJJHPI5HObOj+CPGWk6tY3dr47m1OxaRTcpdbn3R9SEDM4yRxnjrWl42XwPr+oxeHvFV3DDfrH5sDmTy2i3cYDn5QTgfKevBx0rzLWrK5+FPibT5PCXiJr2C9ly1iXDFgCAA4Xhs7iA2AeuKAN7496VeLZ2urHVJTZNKluNP52B9sjeZ1xnHHT8a6zwB4S1nRXg1DUfFN3qlrNZqqWcwbZETtIIy5HAGOnesv49oz+ArRlUkJqCFiOw8uQfzNdl4c1zS7rQtHS31C2eS4tU8qMSjc5CAsAOuRg5HbFAG7XHeMtH8Y61qFvbeHdag0nTGjP2iVVPnBs9iOenTBXvk9K7GvD9Zc+M/jHf+HfFOr3GnaVaj/R7VJhGsjALt68ZYMWyRnHAoAd4mtvGXwuW01pPFtxrVpJOIZYbwuQTgsBtZm4IU8ggiu98ceL7jRfhu2u6SmJ7iOLyS67hH5mPmI9gfpnFeTfE/wAI+EPCul2yaFeyTanJMN0LXAk2xbTkkAcc7cZ6846HHrVzqOgWHw10tPFjRjT7q0t4GWRSwYlARwOeMZyOmM0AcVonhTxd4i0SDXNP+I073c6CX7MsrmKNiM7Gw2AR0I2celes6PDfW+i2kWr3C3N8sSi4mVQA745IAA4z7CvFPFXgPQdB0aTxP4J8Um2aD540W6Db88bY3UhgcZ4O7PqK9Q+HOs3uv+ANM1HVGD3UquruFxv2uyhsepCj8aANXxJLJB4V1aaB2jljspnR0OCpCEgg9jXjXgObx3410C4srPXprO1iuGabUp5GkmYlVxEh6gDBJwR978/YvFP/ACJ+s/8AXhP/AOi2rhPgH/yId7/2En/9Fx0AYdnqvi34dfETTtH1/V5dZ03U3VFkmdn+823cC2SpU4yMkYPvx2nxK8a3fhezs7DRIVm1jVJDFbBhkR8gbsdzlgADxnk9MHmvi9/yPfgv/r5/9qx1W+ONhJHrXh/WJJJ4bNH8mWeD70JDBgV/2sbiP92gC6Ph58QHtvt0njy4XUT8/wBmEknk7vTIOMf8AxW38MvG9/4ht9Q0zxGix6tpL7J3wF3jJBJA4BBUg446Vh23gnTbvTRqEHxL1NrQru843wCge+W4+h6Vo+AvB2iQ2+q6p4f8QTat/aEUlrLNJ1V88k985556g570Ac//AG/4w+KWvXlt4Tvjo2h2rBTcqxRm54JYfNuOM7RgAdffa0Twt8RfD3iezH/CRrq+lSv/AKU13IzlFxzwxLA+m09evFYfwb8TWXhv+0/C/iF0028W7MitcMFDNgIyEngEbRj1zxXpl3448N2eqWenS6vbNdXj7I0jcPtPbcRwuTgDPUn60Acz8QvGOsW+u2PhLweqjWL9Q7XDgEQoc9M5GcKSSRwBwCTxkXXgP4g6RYPqen+OLq9voUMhtJGcxtxkhdzEH2BUD6VjfE7T1svi/YX+p313pmn30KqL+2yGiIUoQD7ZXPs1bc/gnTbbTTfz/EzUltNu7zvt4Kkex3c/hQB0Xgvx+/iH4fXmtXVuPtenJILiKLgSMibgVHbI/XNcL4Yh8UfExLrU38dy6VOspVbC0Zl2L1B2q64HOATknHWu38CaP4f8G+DrzVNP1g3ul3C/aWuZFGFVVwRgc57Y654xmuV1D4e+AvFFrJq/hbXodMcjzCFlHlRnqd0bYZPzAHpQB6H4TsNf0XQp4/FOprqtxHIzRSRrz5YAwCcAluvXPXqa8u8NzeJfijdXt4fG0mhtFIVhsLRyGC9c7VZSRzjccnINdB8HPFeo6hoOsr4hvzc22lsrLeTMSdhDFsseSBtzk84b6VRvfA3w/wDHEUuqeHNZj024kBd1R1Co2eS0TYK9+hA780Ad54L0jxFo1jc2/ifWRqpEgFs+35lQDqxIyST6k4x15rntX8I+O/EOuXZn8WjR9NSQ/ZE09WDFe27BU59csec4AGKyfhL4k1qW08RafdXbaymkrm1l3l/MPzgKGPJVtoxnpXP+BdD0z4kLfal401+6n1COYolv9pCbI8A7gCOmSQAMAYPrQBt6Pq3ibwN8TbHwvr2svrNhqCgxSzZZxuJCnJJIO5cEZIwfytfGXxFqPh7VvDk1he3UEO+R54oJmQTBWjODjrxkc+tca+l+H9G+NWg2Pha7a6t454fOcy+YBLvOQGAwcDb075rqvjTEk/ifwfFKoaOS4dWU9wXiBFAGz4c0XxvrEt9qvifVmsotQsXitrK2kdGs2Ygo+BgBlweclucE9RVX4O+JtSvTq3h7xFczT6lp8xYNcSF3252suT12sP8Ax6vUMV4r41J8AfGTTvE0W5LDUhi6Cjg9Fk4HXgq/u1AGl8Sde1XUfHmi+EPDeo3NnNIwa6ltZSrKG7HBB+VAWx7ivVkQRxqgLEKAAWYk/iTya8g+EFrN4k8V65421GP5pZTDbgkHYTywH+6uxQfQmvSJvF2hW/iaPw/NqMaapIAVtyrdxkDdjaCR2Jz09aANmiiigAooooAKKKKACiiigAooooAKKKKACiiigApNi7t20Z9cUtFABRRRQAUUUUAc+3grR28aL4pKTf2mowG8w7fubPu/7proKKKAMPQ/CGleHtV1HUNNSVbjUn8y4LybgTuLcDtyxq5rehab4i0t9P1m1W5tnIO1sgqR0II5B9xWhRQBwOmfBjwhpt+Lo21xeFW3JFdS7o1P+6AMj2bNdH4Z8I6V4SguYtHSVEuZPMk8yQtzjHFbdFAGHoPhHSvDd/qN5piSrNqLiS4LyFgSCx4HbljRZ+ENKsPFl34jt0lGoXaGOVjISpHy9F7fdFblFAGdr2h2XiTRZ9K1NXa1n27wjbSdrBhz9QKy9W8M28Pw5u/D+mWTXca2jRW9u8oBZuq5YkdGwc57V0tFAHMfD3woPB/hC309+bqQ+fdEHI81gMgewAC++M966eiigDF8T+E9K8X6fFZ61E7xRS+ahjfawbBHX0welWdB0Kx8N6NDpelRtHbQ7ioZtxJJJJJ78mtGigDnPFXgPQfGIjbWLZvtEa7EuYW2SKvXGehGexBxk+prHtPg54QtNMns/sk05uFCvcTS5kADBuCAAvIHQDjiu7ooAyZfDWnTeFB4ddZP7PFutvt3/NsGAOfwpdJ8OafovhtdDsVkFkqOgVny2HJJ5/4Ea1aKAMbwx4V0zwjpsljoySLBJKZmEj7juIA6/RRWZ4o+GnhvxbdG71G2khvGADXNs+x2A6Z4IPHGSM4xXWUUAcPD8IPCMOkSWC2UpErKZJzKfNbb0G7sPYAZwPSum/sDTW8NpoM9us+nJbrb+VKd2UUADn1GBz1zzWlRQB59b/BLwfBfm4aC7mTORbyXB8sfkAx/Emuj0Hwbo/hrUr++0iBoZL9t0q7vkHJICr2HJ4Fb1FAHN+K/AeheMkjOsW7ieJSsdxA+yRR6Z6EexBxz61P4W8H6R4OsZLXRYpFEzBpXkkLNIRwCew/ACt2igDh9e+EPhTXr2S7ktprKeVt0jWcmwOe52kED8AK1vDPgPw/4SZpNHsttw67WuJWLyEemT0HsMZroqKAOB8SeBT4i+KGkarNabLGxgEk9x5g/fur5SLbnIx1JxyDjNd9RRQBm67oGmeJdMaw1m1W5t2IYAkgqw6MpHIP09SO9crpPwa8I6VfC6+z3F46tuRLqXciH/dAGfxzXeUUAYvhjwppnhHTpbLRllSGWUzMJH3HcQB1+gFR+GvBmkeFJ76XSElVr5labzJN2SpYjHp941vUUAYvifwppni7T4rPWUkeGKXzVEblTuwR1+hNarWsMlmbWWNZYGj8to5BuDLjBBB6jFS0UAee3HwS8HT6h9pWC7hTOTbxXBEZ/MFh+BFbdp8PPDthr1jq9jaNb3FjF5UCxuQirhhyO5+Y5J5JOa6eigArG8SeFNH8W2K2ut2gmWMlopFJV4yeu1hz+HQ4HpWzRQBwWm/BnwjpyzA21xdvLG0Ye5l3FAwIJUAAZ54OMjrXU+HfD1h4X0ddN0lXW2R2cCR9xyTk81qUUAcX4i+FHhbxJfve3NtLa3UjbpZLSTZ5h9SCCM+pxk1FN8JfBqaILN7N4YInM8k3nEOxC4yzHsBnjgDmu5ooA8S+J/wARfDviXwQNM0O5kuLqS5T92YXUqqk85Iwc4GADnmvVfCtlLaeCtIsr2LZLFYQxSxuOhCAFSP0pIPB/hy21P+0bfQ7CO7zuEq26gqf7w4wD7jmtmgDgLr4LeD7nUvtYtrmBS25reGfbGT9MZA9gRWzb/D7w9Z69Y6vZ2jW9xYReVbpG5CKuGH3e5+Y89yc101FAHOeJPAXh3xXIJdX09WuAMC4iYpJj3I6/jnFZnh74S+FvDmox31vBNdXMTbonu5A4jPYgAAZHYkHHWu2ooAq6nplnrGmzafqdulxazrtkjfoR/Qg8gjkGuU0D4T+GPDutLqllFcyXEbFofOmysRxjgADPB75rtaKACuW8VfDnw94vnFxqlvJHdKuz7Tbvscj0PUH8RXU0UAcND8HvCEOlSWIs5W8wqXuGlJlbHQbuw9QAM8egro77wxo+p6FDo+pWUd1ZwIqRpLyV2jAIbqDjuMGtaigDztPgf4OS+E5ivXj/AOfZrk+X/Ld/49Xf21tDZ2sVtaRJDBCoSONBhVUdABUtFAEN7aRX9hcWdwCYbiJopADg7WGDz9DWZ4Y8Lab4R02Sw0ZJEgkmMzCR9x3EAdfoorZooAwte8H6V4j1LT77U0lafTn3wFJCoByDyO/KitTUNOtNVsJbLUbeO5tpl2vFIuQw/wA857VZooA86b4HeD2vfPCXqx5/49xcfJ+eN3/j1dvpGi6doGnJY6PaR2tshyEQdT6knkn3PNXqKAOX8T/Drw54tm+0apaMl1jb9pt32OR79m/EGq/hv4XeF/DF0l3ZWb3F3H9ye6feyn1AwFB9wM12FFAGfrWhab4i01rDWbSO6t2Odr9VPqCOQfcetcXB8D/B8V4ZnjvZkJyIJLj5B+QDfrXolFAFKPR9Ni0gaVHY2408Js+y+WPL2+m3p71xV78EvB93ciWOG7tBnJjguPlP/fQJH4EV6FRQBlaR4Z0fQ9EbSdOsIo7JwwkiYbxLuGDuzndkcc9uOlcpqHwU8H31z50dvc2WW3MltPhT7YYHA+mK9AooAyfD3hnSfC2nmz0S1FvEzbnOSzOfUk8mua1b4OeEtX1Jr1re4tXkcvIltLtRyevBBx+GK7uigDkbb4Y+F7K/067srFreXTm3w7JD8zZzufPLHPr246Vo6/4P0rxLfafd6okrS6e5eApJtAJKnn15UVu0UAQ3d3BYWU13dyCKCCNpJHPRVAyT+VeH/E7x7oPjfwzp+n6FHcXOovdK6xmEq0Xykbf9oksBhcj34GfdWVXQq4DKwwQRkEVj2HhDw7peoG+0/RbG2uT0ljgUFeMfL/d49MZoAb4O0BfDHhHT9KGPMhiBmI/ikPLn8yce2Kq3PgDQrvxpH4omhlOoR7TjzP3ZZQArlfUADvjjpXS0UAFFFFABRRRQAUUUUAFFFFABRRRQAUUUUAFFFFABWXrmvW2h2ytMGlnkOIYE+9Ia1K5Pw/CNZ8S6lrNyA4t5jbWoP8AXqfyI/M1E21ZLdnRRhF3nPZfj2Qo/4TLUR50bWWmRtysTjc4HbPB5/L6Uf2d40/6DNn/36H/xFdXRS9n3bK+stbQj9y/U5X+zvGn/AEGbP/v0P/iKP7O8af8AQZs/+/Q/+IrqqKPZru/vD61L+WP/AICjlf7O8af9Bmz/AO/Q/wDiKP7O8af9Bmz/AO/Q/wDiK6qij2a7v7w+tS/lj/4Cjlf7O8af9Bmz/wC/Q/8AiKP7O8af9Bmz/wC/Q/8AiK6qij2a7v7w+tS/lj/4Cjlf7O8af9Bmz/79D/4ij+zvGn/QZs/+/Q/+IrqqKPZru/vD61L+WP8A4Cjlf7O8af8AQZs/+/Q/+Io/s7xp/wBBmz/79D/4iuqoo9mu7+8PrUv5Y/8AgKOV/s7xp/0GbP8A79D/AOIo/s7xp/0GbP8A79D/AOIrqqKPZru/vD61L+WP/gKOV/s7xp/0GbP/AL9D/wCIo/s7xp/0GbP/AL9D/wCIrqqKPZru/vD61L+WP/gKOV/s7xp/0GbP/v0P/iKP7O8af9Bmz/79D/4iuqoo9mu7+8PrUv5Y/wDgKOV/s7xp/wBBmz/79D/4ij+zvGn/AEGbP/v0P/iK6qij2a7v7w+tS/lj/wCAo5X+zvGn/QZs/wDv0P8A4ij+zvGn/QZs/wDv0P8A4iuqoo9mu7+8PrUv5Y/+Ao5X+zvGn/QZs/8Av0P/AIij+zvGn/QZs/8Av0P/AIiuqoo9mu7+8PrUv5Y/+Ao5X+zvGn/QZs/+/Q/+Io/s7xp/0GbP/v0P/iK6qij2a7v7w+tS/lj/AOAo5X+zvGn/AEGbP/v0P/iKP7O8af8AQZs/+/Q/+IrqqKPZru/vD61L+WP/AICjlf7O8af9Bmz/AO/Q/wDiKP7O8af9Bmz/AO/Q/wDiK6qij2a7v7w+tS/lj/4Cjlf7O8af9Bmz/wC/Q/8AiKP7O8af9Bmz/wC/Q/8AiK6qij2a7v7w+tS/lj/4Cjlf7O8af9Bmz/79D/4ij+zvGn/QZs/+/Q/+IrqqKPZru/vD61L+WP8A4Cjlf7O8af8AQZs/+/Q/+Io/s7xp/wBBmz/79D/4iuqoo9mu7+8PrUv5Y/8AgKOV/s7xp/0GbP8A79D/AOIo/s7xp/0GbP8A79D/AOIrqqKPZru/vD61L+WP/gKOV/s7xp/0GbP/AL9D/wCIo/s7xp/0GbP/AL9D/wCIrqqKPZru/vD61L+WP/gKOV/s7xp/0GbP/v0P/iKP7O8af9Bmz/79D/4iuqoo9mu7+8PrUv5Y/wDgKOV/s7xp/wBBmz/79D/4ij+zvGn/AEGbP/v0P/iK6qij2a7v7w+tS/lj/wCAo5X+zvGn/QZs/wDv0P8A4ij+zvGn/QZs/wDv0P8A4iuqoo9mu7+8PrUv5Y/+Ao5X+zvGn/QZs/8Av0P/AIij+zvGn/QZs/8Av0P/AIiuqoo9mu7+8PrUv5Y/+Ao5X+zvGn/QZs/+/Q/+Io/s7xp/0GbP/v0P/iK6qij2a7v7w+tS/lj/AOAo5X+zvGn/AEGbP/v0P/iKP7O8af8AQZs/+/Q/+IrqqKPZru/vD61L+WP/AICjlf7O8af9Bmz/AO/Q/wDiKP7O8af9Bmz/AO/Q/wDiK6qij2a7v7w+tS/lj/4Cjlf7O8af9Bmz/wC/Q/8AiKP7O8af9Bmz/wC/Q/8AiK6qij2a7v7w+tS/lj/4Cjlf7O8af9Bmz/79D/4ij+zvGn/QZs/+/Q/+IrqqKPZru/vD61L+WP8A4Cjlf7O8af8AQZs/+/Q/+Io/s7xp/wBBmz/79D/4iuqoo9mu7+8PrUv5Y/8AgKOV/s7xp/0GbP8A79D/AOIo/s7xp/0GbP8A79D/AOIrqqKPZru/vD61L+WP/gKOV/s7xp/0GbP/AL9D/wCIo/s7xp/0GbP/AL9D/wCIrqqKPZru/vD61L+WP/gKOV/s7xp/0GbP/v0P/iKP7P8AGg/5jFkfYxj/AOIrqqKPZru/vD61L+WP/gKOTOv6xoUqL4mtI5LViF+2WuSFP+0P/wBX411UUsc8KSwuskbgMrKchge4NNngiubd4Z0EkcilWU9CK5vwe0tldanokrl0sZQYSeuxskD+R/E0leLs9mOSjVg5xVmt7bWOoooorU5AooooAKKKKACiiigAooooAKKKKACiiigAooooAKKKKACiiigAooooAKKKKACiiigAooooAKKKKACvJ9L8LaRra3NzqdvJLKtw6ArcSJxweisB3NesV594W/48bv8A6+3/AJLRFJ1Y38zdO2Gqesf1K3/CvvDX/PjN/wCBk3/xdH/CvvDX/PjN/wCBk3/xddJRXbyR7Hm8z7nN/wDCvvDX/PjN/wCBk3/xdH/CvvDX/PjN/wCBk3/xddJRRyR7BzPuc3/wr7w1/wA+M3/gZN/8XR/wr7w1/wA+M3/gZN/8XXSUUckewcz7nnfizwfounLo32O2lj+06rBby/6VKd0bE7hy3H161vf8K88M/wDPjL/4GTf/ABdM8c/d8Pf9hy1/ma6mkoq+w3J2OZ/4V34Z/wCfGX/wMm/+Lo/4V34Z/wCfGX/wMm/+LrpqKfLHsLmfc5n/AIV34Z/58Zf/AAMm/wDi6P8AhXfhn/nxl/8AAyb/AOLrpqKOWPYOZ9zmf+Fd+Gf+fGX/AMDJv/i6P+Fd+Gf+fGX/AMDJv/i66alHWjlj2Dmfc898PeC9Dvr7W0uraZ1tdQaGEfapRtQIpxw3PJPWtv8A4V54Z/58pv8AwMm/+Lp/hP8A5CXiX/sKv/6LSujpRirbDcnc5n/hXnhn/nym/wDAyb/4uj/hXnhn/nym/wDAyb/4uumop8sewuZ9zmf+FeeGf+fKb/wMm/8Ai6P+FeeGf+fKb/wMm/8Ai66aijlj2Dmfc5n/AIV54Z/58pv/AAMm/wDi6wvGXgzQ9L8NS3VjbTRTLNCob7VK3DSKp4LEdCa9DrmfiD/yJ03/AF8W/wD6OSlKKtsOLdxf+FeeGh/y4zf+Bk3/AMXR/wAK88M/8+M3/gZN/wDF10xpKfLHsLmfc5r/AIV54Z/58Zv/AAMm/wDi6P8AhXnhn/nxm/8AAyb/AOLrpaKOWPYOZ9zmv+FeeGf+fGb/AMDJv/i6P+FeeGf+fGb/AMDJv/i66Wijlj2Dmfc5r/hXnhr/AJ8Zv/Ayb/4usDSPB2iXXjLxDYz20r21mbbyE+1SjZvj3Nzuycn1r0SuW0D/AJKF4t+tn/6JNJxWmg02Sf8ACvPDP/PjL/4GTf8AxdH/AArzwz/z4y/+Bk3/AMXXS0U+WPYXM+5zX/CvPDP/AD4y/wDgZN/8XR/wrzwz/wA+Mv8A4GTf/F10tFHLHsHM+5zX/CvPDP8Az4y/+Bk3/wAXR/wrzwz/AM+Mv/gZN/8AF10tFHLHsHM+5wfivwToOm+E9SvLK0ljuIIGeN/tUp2n1wWxWpF8PfDLQoWsZSSoJ/0yb/4urXjj/kRNY/69Wrbh/wBRH/uj+VLlV9h3djnf+FeeGP8Anwm/8DJv/i6P+FeeGP8Anwm/8DJv/i66Winyx7C5n3Oa/wCFeeGP+fCb/wADJv8A4uj/AIV54Y/58Jv/AAMm/wDi66Wijlj2Dmfc5r/hXnhj/nwm/wDAyb/4ugfDvwwf+XCX/wADJv8A4uulpQcUcsewcz7nml34R0aPx1JYJbyi1XT0mEf2qXhzIwJzuz0Aq9/whOg/8+s3/gXN/wDFVcvv+SmTf9gmP/0a9adeRiJNVGkXdmD/AMIVoP8Az6zf+Bc3/wAVR/whWg/8+s3/AIFzf/FVvUVhzy7i5mYP/CFaD/z6zf8AgXN/8VR/whWg/wDPrN/4Fzf/ABVb1FHPLuHMzB/4QrQf+fWb/wAC5v8A4qqmq+ENFt9HvJ4beZZI4HdG+1SnBCkg/erqao63/wAi/qH/AF6yf+gmmpyvuHMzB0Twjo134f065uLeZpZrWKR2+1SjLFAScbvU1e/4QrQv+fWb/wAC5f8A4qrnhv8A5FTSf+vGH/0WK0qHOV9xtswf+EK0L/n1m/8AAuX/AOKo/wCEK0L/AJ9Zv/AuX/4qt6ilzy7i5mYP/CFaF/z6zf8AgXL/APFUf8IVoX/PrN/4Fy//ABVb1FHPLuHMzB/4QrQv+fWb/wAC5f8A4qsefwvpS+MLSyWGUW8lnJIyfaZOWDKAc7s9zXbVgXP/ACUCw/68Jv8A0NaqM5dxpsP+EJ0H/n1m/wDAuX/4ql/4QrQf+fWb/wAC5f8A4qt6ip55dxczMH/hCtB/59Zv/AuX/wCKo/4QrQf+fWb/AMC5f/iq3qKOeXcOZmD/AMIVoP8Az6zf+Bcv/wAVR/whWg/8+s3/AIFy/wDxVb1FHPLuHMzAPgnQcH/RZv8AwLl/+Kq/8G3Z4CXYsTZxkknr0rQ7H6Vm/Bn/AI9/+3OP+laU5NtX7/ozvwjbhV/w/qj1Wiiiu0xCiiigAooooAKKKKACiiigAooooAKKKKACiiigDhPiLYW+qaz4Ysb1We2mupxIiyMm7ELEcqQeoFUv+FdeGP8Anwm/8DZ//i61vGn/ACNXhL/r6uP/AEnetGvFzCrOFRKLa0OyhGLjqjmP+FdeGP8Anwm/8DZ//i6P+FdeGP8Anwm/8DZ//i66eivP+sVv5n950ezj2OY/4V14Y/58Jv8AwNn/APi6P+FdeGP+fCb/AMDZ/wD4uunoo+sVv5n94ezj2OY/4V14Y/58Jv8AwNn/APi6P+FdeGP+fCb/AMDZ/wD4uunoo+sVv5n94ezj2Mr4VxLB4av4I93lw6rcxoGYthQ2AMnnpXbVxnwx/wCQHqv/AGGbv/0Ouzr6iPwo8x7hRRRVCCiiigArz7wt/wAeN3/19v8AyWvQa8+8Lf8AHjd/9fb/AMloh/Fj8zb/AJhqnrH9TbooorvPMCiiigAooooA5bxz93w9/wBhy1/ma6muW8c/d8Pf9hy1/ma6ml1ZT2QUUUUyQooooAKUdaSlHWgDm/Cf/IS8S/8AYVf/ANFpXR1znhP/AJCXiX/sKv8A+i0ro6mOxT3CiiiqJCiiigArmfiD/wAidN/18W//AKOSumrmfiD/AMidN/18W/8A6OSplsVHc6c0lKaSqJCiiigAooooAK5bQP8AkoXi362f/ok11NctoH/JQvFv1s//AESal7opdTqaKKKokKKKKACiiigDB8cf8iJrH/Xq1bcP+oj/AN0fyrE8cf8AIiax/wBerVtw/wCoj/3R/Kl1K6D6KKKZIUUUUAFFFLQBx19/yUyb/sEx/wDo1606zL7/AJKZN/2CY/8A0a9adeLif4rNGFFFFc4gooooAKo63/yL+of9esn/AKCavVR1v/kX9Q/69ZP/AEE0LcCPw3/yKmk/9eMP/osVpVm+G/8AkVNJ/wCvGH/0WK0qb3G9wooopCCiiigArAuf+SgWH/XhN/6Gtb9YFz/yUCw/68Jv/Q1pxGjfooopCCiiigAooooAOx+lZvwZ/wCPf/tzj/pWl2P0rN+DP/Hv/wBucf8AStaW69f0Z34T4Kv+H9Ueq0UUV3GQUUUUAFFFFABRRRQAUUUUAFFFFABRRRQAUUUUAcb40/5Grwl/19XH/pO9aNZ3jT/kavCX/X1cf+k71o14OZfxV6Hdh/hYUUUV5h0hRRRQAUUUUAZvwx/5Aeq/9hm7/wDQ67OuM+GP/ID1X/sM3f8A6HXZ19fD4UeTLdhRRRVCCiiigArzDRLTxRPBdN4fj0l7YXLhjeyyK+/jOAqkYxj9a9PrlvAP/IHvf+v6T/0FahtqomvM6YJPD1L91+pl/wBneP8A/nh4c/8AAif/AOIo/s7x/wD88PDn/gRP/wDEV3tFbe0l3OPkicF/Z3j/AP54eHP/AAIn/wDiKP7O8f8A/PDw5/4ET/8AxFd7RR7SXcOSJwX9neP/APnh4c/8CJ//AIij+zvH/wDzw8Of+BE//wARXe0Ue0l3DkieYax4V8dawLHzk0CP7HeR3abLib5mQ8A5TpzWl/Z3xA/54eHP/Aif/wCIrvaKOeXcfJE4L+zviB/zw8Of+BE//wARR/Z3xA/54eHP/Aif/wCIrvaKPaS7i5InBf2d8QP+eHhz/wACJ/8A4ij+zviB/wA8PDn/AIET/wDxFd7RR7SXcOSJwX9nfED/AJ4eHP8AwIn/APiKP7O+IH/PDw5/4ET/APxFd7RR7SXcOSJ5lpnhjx3plxqEsaeH3N9cm4YNPN8pKgYHydPlrQ/s7x//AM8PDv8A4ET/APxFd7RRzy7j5InBf2d4/wD+eHh3/wACJ/8A4ij+zvH/APzw8O/+BE//AMRXe1zWuX/iazubiTTrW1exiTeHkPzYC5P8Q9+1TKrKKuaU6CqS5VZepj/2d4//AOeHh3/wIn/+Io/s7x//AM8PDv8A4ET/APxFP0vxD4s1i2a4sLOykiV9hJ+XBwD3b3FT6h4k1weKp9I0qC2lKAFRICCRtDHncB3rP6y7X1Ol5fJScLq6312Kv9neP/8Anh4d/wDAif8A+IrP1zwv471zSmsZ08Pxozo5ZJ5s/KwYdU9RW5F4p1jTdWt7PxJYxRR3BASWE9O2epB5xnpit/X9WXRdFnvOC6jbGp/ic9P8foDVKvdN32MpYSUZxja99rdTlP7O8f8A/PDw5/4ET/8AxFH9neP/APnh4c/8CJ//AIitXwn4nudZuLi01OOOK5RVkjCKRuQ+x+o/On+JvEF5o+p6db2qxFLpsP5ikkfMBxgj1o+se7zXH9Sn7X2Vtf6Zj/2d4/8A+eHhz/wIn/8AiKP7O8f/APPDw5/4ET//ABFX/FHiy70HXLeCKKKS3aJZJAwO4/MQcHPHArS1fXvJ8JyavpbRyjCFC4yOWAII9eTR9Y312F9SnaDtpLY57+zvH/8Azw8Of+BE/wD8RR/Z3j//AJ4eHP8AwIn/APiK63Qr6XUtDtby4CiSZNzBBgda0KtVJNXuYSpKMnFrY4L+zvH/APzw8Of+BE//AMRWbZ+FfHVlrmpanGnh9pNRMXmIbibanlrtGPk716fRT55dxckTgv7O8f8A/PDw7/4ET/8AxFH9neP/APnh4d/8CJ//AIiu9oo9pLuLkicF/Z3j/wD54eHf/Aif/wCIo/s7x/8A88PDv/gRP/8AEV3tFHtJdw5InBf2d4//AOeHh3/wIn/+Io/s7x//AM8PDv8A4ET/APxFd7RR7SXcOSJ5rrHhzx5rGjXWnTR+H447mMxsyXE2QD6fJVxNM8fIiqIfDvAx/wAfE/8A8RXfUUc8u4+SJwX9m+P/APnh4c/8CJ//AIij+zfH/wDzw8Of+BE//wARXe0Ue0l3FyROC/s3x/8A88PDn/gRP/8AEUf2b4//AOeHhz/wIn/+IrvaKPaS7hyROC/s3x//AM8PDn/gRP8A/EUv9neP/wDnh4c/8CJ//iK7yij2ku4ckTy6bwj45m8QPqxXQBI1stsUFxNtwGLZ+515qx/wjnjv/nn4e/7/AM3/AMRXpNFZSjGTux8qPNv+Ec8d/wDPPw9/3/m/+Io/4Rzx3/zz8Pf9/wCb/wCIru9V1i00a3Se/ZkjdtgZULc4z2+hq1BPHc28c8Dbo5FDq3qCMio5Kd7WK9laPNbQ86/4Rzx3/wA8/D3/AH/m/wDiKP8AhHPHf/PPw9/3/m/+IrubbXLG71abTreRnuIATIApwMYB5+pqK+8S6XpuopZXdxsmfbxtJAycDJ7UuWla5Sw8m+VRd9zi/wDhHPHf/PPw9/3/AJv/AIiobzwp46vLGe2dfD6rNG0ZInmyARj+5716bJIsUTyPwqAsfoKp6VrFnrVs1xYOzxq+wllK84B7/UU+Sne1iVTuuZLRHnmn+EfHNhpttZougMtvCkSs1xNkhQBn7ntVj/hHPHf/ADz8P/8AgRN/8RXearq1po1qtxfuyRs4QFVJ5wT2+lQXviLTrDT7a9uZGWC5AaMhCSQRkcduKTjT6lRoSlZqN7nFf8I547/ueHv/AAIm/wDiKP8AhHPHf9zw9/4ETf8AxFdOnjrQGYA3Trnu0TY/lW9b3EN3bpPbSrLE4yrocg0RjSlsE8POn8cWjzr/AIRzx3/c8Pf+BE3/AMRR/wAI547/ALnh7/wIm/8AiK7TVfEmmaNcJDfzFJHXcFVC3GcZ4q1qGqWumWBvLtyIBj5lG7r06UclMPYS093fbzOB/wCEc8d/3PD3/gRN/wDEVSk8E+OJNch1I/2D5kUDQhPPmwQxBz9z2rsv+E90H/n4k/78tVhfF+jtpzXwnfyFlERPlnO4jPT6CkvZdLGjwlVbwf3HJf8ACOeO/wDnn4f/APAib/4ik/4Rzx5/zz8P/wDgRN/8RXoI1G1/s1b95VS2aMSCR+PlIyKwW+IGhrceUHnZf+eoiO3/AB/SiUaUdyYYWdS/JFuxzn/COePP+efh/wD8CJv/AIij/hHPHn/PPw//AOBE3/xFehWt9bXtmLq0mWWFhkMtVtJ17T9bWQ6fNvMZG5SpUjPfBquSmR7F2b5dtzhv+Ec8ef8APPw//wCBE3/xFH/COePP+efh/wD8CJv/AIiu6k1uxi1qPSnkYXcgyq7DgjBPXp2rQoVOm9kKVLltdbnmv/COePP7nh//AMCJv/iKl+G+jXPh7VLrSr5o3uLW1jV2iJKk4B4JA9fSvRa5fS/+Sja3/wBcYv8A0FaTjGLjbv8Aozpw6ShUt/L+qOoooorY5gooooAKKKKACiiigAooooAKKKKACiiigAooooA5XxloesapeaPeaD9jM+nzSSMt47KrBoyn8IJ71nfYPiB/zw8Of+BE/wD8RXb3NxHaWstxMcRxIXcgZwAMmsD/AITzQf8An4k/78t/hXNVp0Zu9RanRSjWkv3ab9EY/wBg+IH/ADw8Of8AgRP/APEUfYPiB/zw8Of+BE//AMRXQWvi/SLxZ2gmdhbxGWTMZGFHX+dV/wDhPNB/5+JP+/TVn9XwvZGvs8U3blf3GP8AYPiB/wA8PDn/AIET/wDxFH2D4gf88PDn/gRP/wDEV1Fv4h0240l9SW422sbFWd1I59Md+tZa/EDQzceWXnVf+epi+X9Of0oeHwq3SFGGJleyenkZf2D4gf8APDw5/wCBE/8A8RR9g+IH/PDw5/4ET/8AxFb134x0ayn8qed9xVXG2NiCGAIP5Gof+E80H/n4k/78tS+r4XsgVPFNXUX9w3wNoWoaBolzBq7W5ubi9muW+zMzIN5zgEgGuloByKK7VorI4wooopgFFFFABXLeAf8AkEXo7i+kz/3ytdTXI6XOPDviq80y8Pl22oSme0kbhSx6rn17fgPUVnLSSZ1UfepTgt9H9x11FFFaHKFFFFABRRRQAUUUUAFFFFABRRRQAUUUUAFFFFABVLWf+QFf/wDXtJ/6Cau1HcwJdWstvJkJKhRsdcEYpPVFRdpJnK/Df/kXJ/8Ar6b/ANAWse+mvoPiZdPpVutzc4AWNzgEeWue4rttG0W20Oze2sjIY2kMh8xgTkgD09qjTw/Zx+IH1kNL9pcYILDb90L0x6D1rD2cuSMex6KxVNVqlS11JOxxavqHinxfb2es+VZNZEsYACC2CCQOTknjnOMDIqfxtfS6hr1vpdtby3cdriWaGIElycccA9F7/wC1XV6h4cstR1ODUHaaG6hxtkhYDOOmcg5pdO8PWemajc30LSyXFzne8rA4ycnGAO/8qXspWa7vctYukpRmlstF0v6nC32r3dv4mtdcbR7nT1XbHKJFbEg6Hkgc7ePwFanjeRJtY0KSJgyO25WB4ILLzXXarpVtrFg1peBvLYhsqcMCDng1Ql8JWE0dgkstywsOISXGcZBAPHbAH0pSpTs0uoQxdLmhNqzV130toc54wgjufHWlwTrujkSJHX1BkINZGtW974ZivNHYtLY3mHhc/wCywOfrxg/ga9BvvD1nqGsW2pTtKJ7fbsCsAvytkZGPU1Y1XSbXWbE2t6pKEhgVOGU+oNEqLlzPqOljow9nFq8UtfW+6KnhL/kU9P8A+uf9TWxVbT7GLTdPhs7csY4V2qXOTVmuiKtFI8yrJTqSkurCiiiqMwooooAKKKKACiiigAooooAKKKKACiiigAooooAKKKKAM/XdNGr6Lc2Z4aRPkJ7MOR+ork/DPiT7B4SvorrifTshFYddx+UH6NkfTFd5XB654Gur7xE9xZNGtpcMGly2ChJ+bA7+v41hVUk1KG56OEnSlF0qzst/8/vRd8FWo03w/caxfsd9zmV3brsXPP48n8RXLiO11yz1jVb+7givHfdbRSTAMAOcY78YUfSu48TaZe3fh9NN0ZI1Q7VYM20Kg6AfkKitvAuiR2sSXNp5sqoA8nmuNzY5OA3FZypydorZG9PFU481aT96T6dEhdA1b+1vBrSSNumihaKUnqSF6/iMGqXw2/5AFz/19H/0BadpXhu+0fVdSjtVjOnXUbLGC/KnB29fTJFU9G0fxXodq9vZJZFHfefMbJzgD+lNcycW1sJqlKFSMJJKTTV/66F34jf8i7D/ANfK/wDoLVkeLP8AkSdA/wCuUf8A6LFaur6Rr2t+HRb3y2wu1ug6hGwuwKR+eTS694bv9Q8NaVZW4jM1qiLJufAyEAOD9aU1KXM0uheHqU6fs4yktJP8jcbRtNu7BYp7GBldAD+7APTqD1B965jwFM1rd6rY+bvtYH3K5PyjBIz+IAP4VZltfGt1B9n86ytUIwXQ4OMYxnBI/CpP+EWuNL8LXFhpLLLeXZCzTOdvy9wPbGR+JNU7uSklsZR5Y05U5zT5mreWu5zZ+yeJtQ1e+v72C3+TZZrLKEyR93qemBz/ALxrqPBWoR6x4dW1ulWWS0IjZXAOV/hOPpx+FGneBNIj06BdQtfOuQg81xK4BbuBggYHT8KZpnhu60PxY9xpyoNMmTayGQll49+uCPyNTCE4yTa33NK1ahVpypxe219tNNPUztStbdfidYQrBGIjEMoEG08N2q58QLeG38MIIIkiBuVJCKBn5W9Kt3uhXk/jm01WMJ9miQKxLfN0bt+IqfxfpF1rWipbWQQyCYOd7YGACP60+V8s9CI1o+1oty0SV/xOV8TzSN4b8OWfmeXBNArOe2QqAH8Mmu2j0DSo7IWosIDEF2ncgJPuT1z71nXvhhdU8MWVhcsIrm1iRVkAyFYKAR7g4/lWUtp44ht/sKSwsg+VbncpKjHqefxxmnZxk21e4nKNWmowmotN3vpe73IPCJNl4j1rTIGJtUWQqCc4KttH6H9K5zRRqGm2/wDbun/MlvL5cyf7JAPPsf04NeheHfDQ0Oxn8yQTXlwP3snb6DP1696h8I6Bc6Rpd1a6mkbedJnaDuDLtxg1n7KT5V6/I6HjKcfaSWt+VevcwodTg1f4jaZeWp+R4hlT1U7WyDXodcVY+C59L8YQ3lmUNgjFgC3zJlSMe/Jrta2oqST5u5w46dOTh7J3SQVy+lc/EXWyOnlRDP8AwFa6C+vrfTrOS6u5BHFGMkn+Q9TWD4Ognn+3a1dqY21KQNGh/hjGdv8AP9Ae9XLWSRlRXLSnJ7NW+d0/0OmooorQ5QooooAKKKKACiiigAooooAKKKKACiiigAooooARlV1KuAysMEEZBFcD8QrWCCbSvIhjjDNJuCIBn7nXFd/XL+MdBvdbksDYhCIGcvvbHXb/AIGsq0W4NI7cDNQrpydlr+TL2vWdtb+GtRaC3iiY2zglEAOMe1cd4e1Se10aOKPww+oqGY/aAhO7np9w9PrXfazayXuiXdrBjzJoWRcnAyRXLaXp3i7R7BbO0Sx8pSSN7Enk5rOonzpo6MNODoSjJq9+ra6eRY1vTbvxB4Oh+x2H2KcS+abQ/KTjK45A55zzWbD4kGnWUOn+IvDnlwqNufKwrY7hWGD9c1vSQeKLrRSPtFra36z7gUHysmOnfnOayr+x8X65anT76CyggYgvKCPmwc9iT156Cpkne6vf0LpSi1yVHHlv3d16dze1BLC/8N3V7BDDIr2jtHJ5YzjYce4xWJ8PbS3n8PztPbxSMLlgC6AnG1fWugj0j7J4WfSrU7iLZ4lLcbmIPPtkmqng/R7rRNIlt74IJGnLjY2RjaB/StOV86duhzKpFYecVLqrehv0UUVucAUUUUAFFFFABVHVtHs9aszb30e4dVccMh9QavUUmk1ZlRk4vmi9TlRo3imwIj03WobiAfdW7T5h7ZwSfzp32fxr/wA/ml/k3/xNdRRUezXd/edH1qT3in8kcv8AZ/Gn/P5pf5N/8TR9n8af8/ml/k3/AMTXUUUezXd/eH1l/wAsfuOX+z+NP+fzS/yb/wCJo+z+NP8An80v8m/+JrqKKPZru/vD6y/5Y/ccv9n8af8AP5pf5N/8TR9n8af8/ml/k3/xNdRRR7Nd394fWX/LH7jl/s/jT/n80v8AJv8A4mj7P40/5/NL/Jv/AImuooo9mu7+8PrL/lj9xy/2fxp/z+aX+Tf/ABNH2fxp/wA/ml/k3/xNdRRR7Nd394fWX/LH7jl/s/jT/n80v8m/+Jo+z+NP+fzS/wAm/wDia6iij2a7v7w+sv8Alj9xy/2fxp/z+aX+Tf8AxNH2fxp/z+aX+Tf/ABNdRRR7Nd394fWX/LH7jl/s/jT/AJ/NL/Jv/iaPs/jT/n80v8m/+JrqKKPZru/vD6y/5Y/ccv8AZ/Gn/P5pf5N/8TR9n8af8/ml/k3/AMTXUUUezXd/eH1l/wAsfuOX+z+NP+fzS/yb/wCJo+z+NP8An80v8m/+JrqKKPZru/vD6y/5Y/ccv9n8af8AP5pf5N/8TR9n8af8/ml/k3/xNdRRR7Nd394fWX/LH7jl/s/jT/n80v8AJv8A4mj7P40/5/NL/Jv/AImuooo9mu7+8PrL/lj9xy/2fxp/z+aX+Tf/ABNH2fxp/wA/ml/k3/xNdRRR7Nd394fWX/LH7jl/s/jT/n80v8m/+Jo+z+NP+fzS/wAm/wDia6iij2a7v7w+sv8Alj9xy/2fxp/z+aX+Tf8AxNH2fxp/z+aX+Tf/ABNdRRR7Nd394fWX/LH7jl/s/jT/AJ/NL/Jv/iaPs/jT/n80v8m/+JrqKKPZru/vD6y/5Y/ccv8AZ/Gn/P5pf5N/8TR9n8af8/ml/k3/AMTXUUUezXd/eH1l/wAsfuOX+z+NP+fzS/yb/wCJo+z+NP8An80v8m/+JrqKKPZru/vD6y/5Y/ccv9n8af8AP5pf5N/8TR9n8af8/ml/k3/xNdRRR7Nd394fWX/LH7jl/s/jT/n80v8AJv8A4mj7P40/5/NL/Jv/AImuooo9mu7+8PrL/lj9xy/2fxp/z+aX+Tf/ABNH2fxp/wA/ml/k3/xNdRRR7Nd394fWX/LH7jl/s/jT/n80v8m/+Jo+z+NP+fzS/wAm/wDia6iij2a7v7w+sv8Alj9xy/2fxp/z+aX+Tf8AxNH2fxp/z+aX+Tf/ABNdRRR7Nd394fWX/LH7jl/s/jT/AJ/NL/Jv/iaPs/jT/n80v8m/+JrqKKPZru/vD6y/5Y/ccv8AZ/Gn/P5pf5N/8TR9n8af8/ml/k3/AMTXUUUezXd/eH1l/wAsfuOX+z+NP+fzS/yb/wCJo+z+NP8An80v8m/+JrqKKPZru/vD6y/5Y/ccv9n8af8AP5pf5N/8TR9n8af8/ml/k3/xNdRRR7Nd394fWX/LH7jl/s/jT/n80v8AJv8A4mj7P40/5/NL/Jv/AImuooo9mu7+8PrL/lj9xy/2fxp/z+aX+Tf/ABNH2fxp/wA/ml/k3/xNdRRR7Nd394fWX/LH7jl/s/jT/n80v8m/+Jo+z+NP+fzS/wAm/wDia6iij2a7v7w+sv8Alj9xy/2fxp/z+aX+Tf8AxNH2fxp/z+aX+Tf/ABNdRRR7Nd394fWX/LH7jl/s/jT/AJ/NL/Jv/iaDbeNSCBe6WvuA3/xNdRRR7Nd394fWX/LH7kcvB4Uub24juPE+otqDRnK26jbED7jv+Qrp1AUAAYA6CloqoxUdjKpVnU+L/gBRRRVGQUUUUAFFFFABRRRQAUUUUAFFFFABRRRQAUUUUAFFFFABRRRQAUUUUAFFFFABRRRQAUUUUAFFFFABRRRQAUUUUAFFFFABRRRQAUUUUAFFFFABRRRQAUUUUAFFFFABRRRQAUUUUAFFFFABRRRQAUUUUAFFFFABRRRQAUUUUAFFFFABRRRQAUUUUAFFFFABRRRQAUUUUAFFFFABRRRQAUUUUAFFFFABRRRQAUUUUAFFFFABRRRQAUUUUAFFFFABRRRQAUUUUAFFFFABRRRQAUUUUAFFFFABRRRQAUUUUAFFFFABRRRQAUUUUAFFFFABRRRQAUUUUAFFFFABRRRQB//Z)"
      ]
    },
    {
      "cell_type": "markdown",
      "metadata": {
        "id": "9SKt6s1VRfjY"
      },
      "source": [
        "![Cross Validation 7.JPG](data:image/jpeg;base64,/9j/4AAQSkZJRgABAQEAYABgAAD/4RD4RXhpZgAATU0AKgAAAAgABAE7AAIAAAAPAAAISodpAAQAAAABAAAIWpydAAEAAAAeAAAQ0uocAAcAAAgMAAAAPgAAAAAc6gAAAAgAAAAAAAAAAAAAAAAAAAAAAAAAAAAAAAAAAAAAAAAAAAAAAAAAAAAAAAAAAAAAAAAAAAAAAAAAAAAAAAAAAAAAAAAAAAAAAAAAAAAAAAAAAAAAAAAAAAAAAAAAAAAAAAAAAAAAAAAAAAAAAAAAAAAAAAAAAAAAAAAAAAAAAAAAAAAAAAAAAAAAAAAAAAAAAAAAAAAAAAAAAAAAAAAAAAAAAAAAAAAAAAAAAAAAAAAAAAAAAAAAAAAAAAAAAAAAAAAAAAAAAAAAAAAAAAAAAAAAAAAAAAAAAAAAAAAAAAAAAAAAAAAAAAAAAAAAAAAAAAAAAAAAAAAAAAAAAAAAAAAAAAAAAAAAAAAAAAAAAAAAAAAAAAAAAAAAAAAAAAAAAAAAAAAAAAAAAAAAAAAAAAAAAAAAAAAAAAAAAAAAAAAAAAAAAAAAAAAAAAAAAAAAAAAAAAAAAAAAAAAAAAAAAAAAAAAAAAAAAAAAAAAAAAAAAAAAAAAAAAAAAAAAAAAAAAAAAAAAAAAAAAAAAAAAAAAAAAAAAAAAAAAAAAAAAAAAAAAAAAAAAAAAAAAAAAAAAAAAAAAAAAAAAAAAAAAAAAAAAAAAAAAAAAAAAAAAAAAAAAAAAAAAAAAAAAAAAAAAAAAAAAAAAAAAAAAAAAAAAAAAAAAAAAAAAAAAAAAAAAAAAAAAAAAAAAAAAAAAAAAAAAAAAAAAAAAAAAAAAAAAAAAAAAAAAAAAAAAAAAAAAAAAAAAAAAAAAAAAAAAAAAAAAAAAAAAAAAAAAAAAAAAAAAAAAAAAAAAAAAAAAAAAAAAAAAAAAAAAAAAAAAAAAAAAAAAAAAAAAAAAAAAAAAAAAAAAAAAAAAAAAAAAAAAAAAAAAAAAAAAAAAAAAAAAAAAAAAAAAAAAAAAAAAAAAAAAAAAAAAAAAAAAAAAAAAAAAAAAAAAAAAAAAAAAAAAAAAAAAAAAAAAAAAAAAAAAAAAAAAAAAAAAAAAAAAAAAAAAAAAAAAAAAAAAAAAAAAAAAAAAAAAAAAAAAAAAAAAAAAAAAAAAAAAAAAAAAAAAAAAAAAAAAAAAAAAAAAAAAAAAAAAAAAAAAAAAAAAAAAAAAAAAAAAAAAAAAAAAAAAAAAAAAAAAAAAAAAAAAAAAAAAAAAAAAAAAAAAAAAAAAAAAAAAAAAAAAAAAAAAAAAAAAAAAAAAAAAAAAAAAAAAAAAAAAAAAAAAAAAAAAAAAAAAAAAAAAAAAAAAAAAAAAAAAAAAAAAAAAAAAAAAAAAAAAAAAAAAAAAAAAAAAAAAAAAAAAAAAAAAAAAAAAAAAAAAAAAAAAAAAAAAAAAAAAAAAAAAAAAAAAAAAAAAAAAAAAAAAAAAAAAAAAAAAAAAAAAAAAAAAAAAAAAAAAAAAAAAAAAAAAAAAAAAAAAAAAAAAAAAAAAAAAAAAAAAAAAAAAAAAAAAAAAAAAAAAAAAAAAAAAAAAAAAAAAAAAAAAAAAAAAAAAAAAAAAAAAAAAAAAAAAAAAAAAAAAAAAAAAAAAAAAAAAAAAAAAAAAAAAAAAAAAAAAAAAAAAAAAAAAAAAAAAAAAAAAAAAAAAAAAAAAAAAAAAAAAAAAAAAAAAAAAAAAAAAAAAAAAAAAAAAAAAAAAAAAAAAAAAAAAAAAAAAAAAAAAAAAAAAAAAAAAAAAAAAAAAAAAAAAAAAAAAAAAAAAAAAAAAAAAAAAAAAAAAAAAAAAAAAAAAAAAAAAAAAAAAAAAAAAAAAAAAAAAAAAAAAAAAAAAAAAAAAAAAAAAAAAAAAAAAAAAAAAAAAAAAAAAAAAAAAAAAAAAAAAAAAAAAAAAAAAAAAAAAAAAAAAAAAAAAAAAAAAAAAAAAAAAAAAAAAAAAAAAAAAAAAAAAAAAAAAAAAAAAAAAAAAAAAAAAAAAAAAAAAAAAAAAAAAAAAAAAAAAAAAAAAAAAAAAAAAAAAAAAAAAAAAAAAAAAAAAAAAAAAAAAAAAAAAAAAAAAAAAAAAAAAAAAAAAAAAAAAAAAAAAAAAAAAAAAAAAAAAAAAAAAAAAAAAAAAAAAAAAAAAAAAAAAAAAAAAAAAAAAAAAAAAAAAAAAAAAAAAAAAAAAAAAAAAAAAAAAAAAAAAAAAAAAAAAAAAAAAAAAAAAAAAAAAAAAAAAAAAAAAAAAAAAAAAAAAAAAAAAAAAAAAAAAAAAAAAAAAAAAAAAAAAAAAAAAAAAAAAAAAAAAAAAAAAAAAAAAAAAAAAAAAAAAAAAAAAAAAAAAAAAAAAAAAAAAAAAAAAAAAAAAAAAAAAAAAAAAAAAAAAAAAAAAAAAAAAAAAAAAAAAAAAAAAAAAAAAAAAAAAAAAAAAAAAAAAAAAAAAAAAAAAAAAAAAAAAAAAAAAAAAAAAAAAAAAAAAAAAAAAAAAAAAAAAAAAAAAAAAAAAAAAAAAAAAAAAAAAAAAAAAAAAAAAAAAAAAAAAAAAAAAAAAAAAAAAAAAAAAAAAAAAAAAAAAAAAAAAAAAAAAAAAAAAAAAAAAAAAAAAAAAAAAAAAAAAAAAAAAAAAAAAAAAAAAAAAAAAAAAAAAAAAAAAAAAAAAAAAAAAAAAAAAAAAAAAAAAAAAAAAAAAAAAAAAAAAAAAAAAAAAAAAAAAAAAAAAAAAAAAAAAAAAAAAAAAAAAAAAAAAAAAAAAAAAAAAAAAAAAAAAAAAAAAAAAAAAAAAAAAAAAAAAAAAAAAAAAAAAAAAAAAAAAAAAAAAAAAAAAAAAAAAAE11Y2hhbWFkIEZhdXp5AAAABZADAAIAAAAUAAAQqJAEAAIAAAAUAAAQvJKRAAIAAAADNTIAAJKSAAIAAAADNTIAAOocAAcAAAgMAAAInAAAAAAc6gAAAAgAAAAAAAAAAAAAAAAAAAAAAAAAAAAAAAAAAAAAAAAAAAAAAAAAAAAAAAAAAAAAAAAAAAAAAAAAAAAAAAAAAAAAAAAAAAAAAAAAAAAAAAAAAAAAAAAAAAAAAAAAAAAAAAAAAAAAAAAAAAAAAAAAAAAAAAAAAAAAAAAAAAAAAAAAAAAAAAAAAAAAAAAAAAAAAAAAAAAAAAAAAAAAAAAAAAAAAAAAAAAAAAAAAAAAAAAAAAAAAAAAAAAAAAAAAAAAAAAAAAAAAAAAAAAAAAAAAAAAAAAAAAAAAAAAAAAAAAAAAAAAAAAAAAAAAAAAAAAAAAAAAAAAAAAAAAAAAAAAAAAAAAAAAAAAAAAAAAAAAAAAAAAAAAAAAAAAAAAAAAAAAAAAAAAAAAAAAAAAAAAAAAAAAAAAAAAAAAAAAAAAAAAAAAAAAAAAAAAAAAAAAAAAAAAAAAAAAAAAAAAAAAAAAAAAAAAAAAAAAAAAAAAAAAAAAAAAAAAAAAAAAAAAAAAAAAAAAAAAAAAAAAAAAAAAAAAAAAAAAAAAAAAAAAAAAAAAAAAAAAAAAAAAAAAAAAAAAAAAAAAAAAAAAAAAAAAAAAAAAAAAAAAAAAAAAAAAAAAAAAAAAAAAAAAAAAAAAAAAAAAAAAAAAAAAAAAAAAAAAAAAAAAAAAAAAAAAAAAAAAAAAAAAAAAAAAAAAAAAAAAAAAAAAAAAAAAAAAAAAAAAAAAAAAAAAAAAAAAAAAAAAAAAAAAAAAAAAAAAAAAAAAAAAAAAAAAAAAAAAAAAAAAAAAAAAAAAAAAAAAAAAAAAAAAAAAAAAAAAAAAAAAAAAAAAAAAAAAAAAAAAAAAAAAAAAAAAAAAAAAAAAAAAAAAAAAAAAAAAAAAAAAAAAAAAAAAAAAAAAAAAAAAAAAAAAAAAAAAAAAAAAAAAAAAAAAAAAAAAAAAAAAAAAAAAAAAAAAAAAAAAAAAAAAAAAAAAAAAAAAAAAAAAAAAAAAAAAAAAAAAAAAAAAAAAAAAAAAAAAAAAAAAAAAAAAAAAAAAAAAAAAAAAAAAAAAAAAAAAAAAAAAAAAAAAAAAAAAAAAAAAAAAAAAAAAAAAAAAAAAAAAAAAAAAAAAAAAAAAAAAAAAAAAAAAAAAAAAAAAAAAAAAAAAAAAAAAAAAAAAAAAAAAAAAAAAAAAAAAAAAAAAAAAAAAAAAAAAAAAAAAAAAAAAAAAAAAAAAAAAAAAAAAAAAAAAAAAAAAAAAAAAAAAAAAAAAAAAAAAAAAAAAAAAAAAAAAAAAAAAAAAAAAAAAAAAAAAAAAAAAAAAAAAAAAAAAAAAAAAAAAAAAAAAAAAAAAAAAAAAAAAAAAAAAAAAAAAAAAAAAAAAAAAAAAAAAAAAAAAAAAAAAAAAAAAAAAAAAAAAAAAAAAAAAAAAAAAAAAAAAAAAAAAAAAAAAAAAAAAAAAAAAAAAAAAAAAAAAAAAAAAAAAAAAAAAAAAAAAAAAAAAAAAAAAAAAAAAAAAAAAAAAAAAAAAAAAAAAAAAAAAAAAAAAAAAAAAAAAAAAAAAAAAAAAAAAAAAAAAAAAAAAAAAAAAAAAAAAAAAAAAAAAAAAAAAAAAAAAAAAAAAAAAAAAAAAAAAAAAAAAAAAAAAAAAAAAAAAAAAAAAAAAAAAAAAAAAAAAAAAAAAAAAAAAAAAAAAAAAAAAAAAAAAAAAAAAAAAAAAAAAAAAAAAAAAAAAAAAAAAAAAAAAAAAAAAAAAAAAAAAAAAAAAAAAAAAAAAAAAAAAAAAAAAAAAAAAAAAAAAAAAAAAAAAAAAAAAAAAAAAAAAAAAAAAAAAAAAAAAAAAAAAAAAAAAAAAAAAAAAAAAAAAAAAAAAAAAAAAAAAAAAAAAAAAAAAAAAAAAAAAAAAAAAAAAAAAAAAAAAAAAAAAAAAAAAAAAAAAAAAAAAAAAAAAAAAAAAAAAAAAAAAAAAAAAAAAAAAAAAAAAAAAAAAAAAAAAAAAAAAAAAAAAAAAAAAAAAAAAAAAAAAAAAAAAAAAAAAAAAAAAAAAAAAAAAAAAAAAAAAAAAAAAAAAAAAAAAAAAAAAAAAAAAAAAAAAAAAAAAAAAAAAAAAAAAAAAAAAAAAAAAAAAAAAAAAAAAAAAAAAAAAAAAAAAAAAAAAAAAAAAAAAAAAAAAAAAAAAAAAAAAAAAAAAAAAAAAAAAAAAAAAAAAAAAAAAAAAAAAAAAAAAAAAAAAAAAAAAAAAAAAAAAAAAAAAAAAAAAAAAAAAAAAAAAAAAAAAAAAAAAAAAAAAAAAAAAAAAAAAAAAAAAAAAAAAAAAAAAAAAAAAAAAAAAAAAAAAAAAAAAAAAAAAAAAAAAAAAAAAAAAAAAAAAAAAAAAAAAAAAAAAAAAAAAAAAAAAAAAAAAAAAAAAAAAAAAAAAAAAAAAAAAAAAAAAAAAAAAAAAAAAAAAAAAAAAAAAAAAAAAAAAAAAAAAAAAAAAAAAAAAAAAAAAAAAAAAAAAAAAAAAAAAAAAAAAAAAAAAAAAAAAAAAAAAAAAAAAAAAAAAAAAAAAAAAAAAAAAAAAAAAAAAAAAAAAAAAAAAAAAAAAAAAAAAAAAAAAAAAAAAAAAAAAAAAAAAAAAAAAAAAAAAAAAAAAAAAAAAAAAAAAAAAAAAAAAAAAAAAAAAAAAAAAAAAAAAAAAAAAAAAAAAAAAAAAAAAAAAAAAAAAAAAAAAAAAAAAAAAAAAAAAAAAAAAAAAAAAAAAAAAAAAAAAAAAAAAADIwMjE6MDM6MjcgMDM6NDI6MDEAMjAyMTowMzoyNyAwMzo0MjowMQAAAE0AdQBjAGgAYQBtAGEAZAAgAEYAYQB1AHoAeQAAAP/hCyFodHRwOi8vbnMuYWRvYmUuY29tL3hhcC8xLjAvADw/eHBhY2tldCBiZWdpbj0n77u/JyBpZD0nVzVNME1wQ2VoaUh6cmVTek5UY3prYzlkJz8+DQo8eDp4bXBtZXRhIHhtbG5zOng9ImFkb2JlOm5zOm1ldGEvIj48cmRmOlJERiB4bWxuczpyZGY9Imh0dHA6Ly93d3cudzMub3JnLzE5OTkvMDIvMjItcmRmLXN5bnRheC1ucyMiPjxyZGY6RGVzY3JpcHRpb24gcmRmOmFib3V0PSJ1dWlkOmZhZjViZGQ1LWJhM2QtMTFkYS1hZDMxLWQzM2Q3NTE4MmYxYiIgeG1sbnM6ZGM9Imh0dHA6Ly9wdXJsLm9yZy9kYy9lbGVtZW50cy8xLjEvIi8+PHJkZjpEZXNjcmlwdGlvbiByZGY6YWJvdXQ9InV1aWQ6ZmFmNWJkZDUtYmEzZC0xMWRhLWFkMzEtZDMzZDc1MTgyZjFiIiB4bWxuczp4bXA9Imh0dHA6Ly9ucy5hZG9iZS5jb20veGFwLzEuMC8iPjx4bXA6Q3JlYXRlRGF0ZT4yMDIxLTAzLTI3VDAzOjQyOjAxLjUxNTwveG1wOkNyZWF0ZURhdGU+PC9yZGY6RGVzY3JpcHRpb24+PHJkZjpEZXNjcmlwdGlvbiByZGY6YWJvdXQ9InV1aWQ6ZmFmNWJkZDUtYmEzZC0xMWRhLWFkMzEtZDMzZDc1MTgyZjFiIiB4bWxuczpkYz0iaHR0cDovL3B1cmwub3JnL2RjL2VsZW1lbnRzLzEuMS8iPjxkYzpjcmVhdG9yPjxyZGY6U2VxIHhtbG5zOnJkZj0iaHR0cDovL3d3dy53My5vcmcvMTk5OS8wMi8yMi1yZGYtc3ludGF4LW5zIyI+PHJkZjpsaT5NdWNoYW1hZCBGYXV6eTwvcmRmOmxpPjwvcmRmOlNlcT4NCgkJCTwvZGM6Y3JlYXRvcj48L3JkZjpEZXNjcmlwdGlvbj48L3JkZjpSREY+PC94OnhtcG1ldGE+DQogICAgICAgICAgICAgICAgICAgICAgICAgICAgICAgICAgICAgICAgICAgICAgICAgICAgICAgICAgICAgICAgICAgICAgICAgICAgICAgICAgICAgICAgICAgICAgICAgICAgCiAgICAgICAgICAgICAgICAgICAgICAgICAgICAgICAgICAgICAgICAgICAgICAgICAgICAgICAgICAgICAgICAgICAgICAgICAgICAgICAgICAgICAgICAgICAgICAgICAgICAKICAgICAgICAgICAgICAgICAgICAgICAgICAgICAgICAgICAgICAgICAgICAgICAgICAgICAgICAgICAgICAgICAgICAgICAgICAgICAgICAgICAgICAgICAgICAgICAgICAgIAogICAgICAgICAgICAgICAgICAgICAgICAgICAgICAgICAgICAgICAgICAgICAgICAgICAgICAgICAgICAgICAgICAgICAgICAgICAgICAgICAgICAgICAgICAgICAgICAgICAgCiAgICAgICAgICAgICAgICAgICAgICAgICAgICAgICAgICAgICAgICAgICAgICAgICAgICAgICAgICAgICAgICAgICAgICAgICAgICAgICAgICAgICAgICAgICAgICAgICAgICAKICAgICAgICAgICAgICAgICAgICAgICAgICAgICAgICAgICAgICAgICAgICAgICAgICAgICAgICAgICAgICAgICAgICAgICAgICAgICAgICAgICAgICAgICAgICAgICAgICAgIAogICAgICAgICAgICAgICAgICAgICAgICAgICAgICAgICAgICAgICAgICAgICAgICAgICAgICAgICAgICAgICAgICAgICAgICAgICAgICAgICAgICAgICAgICAgICAgICAgICAgCiAgICAgICAgICAgICAgICAgICAgICAgICAgICAgICAgICAgICAgICAgICAgICAgICAgICAgICAgICAgICAgICAgICAgICAgICAgICAgICAgICAgICAgICAgICAgICAgICAgICAKICAgICAgICAgICAgICAgICAgICAgICAgICAgICAgICAgICAgICAgICAgICAgICAgICAgICAgICAgICAgICAgICAgICAgICAgICAgICAgICAgICAgICAgICAgICAgICAgICAgIAogICAgICAgICAgICAgICAgICAgICAgICAgICAgICAgICAgICAgICAgICAgICAgICAgICAgICAgICAgICAgICAgICAgICAgICAgICAgICAgICAgICAgICAgICAgICAgICAgICAgCiAgICAgICAgICAgICAgICAgICAgICAgICAgICAgICAgICAgICAgICAgICAgICAgICAgICAgICAgICAgICAgICAgICAgICAgICAgICAgICAgICAgICAgICAgICAgICAgICAgICAKICAgICAgICAgICAgICAgICAgICAgICAgICAgICAgICAgICAgICAgICAgICAgICAgICAgICAgICAgICAgICAgICAgICAgICAgICAgICAgICAgICAgICAgICAgICAgICAgICAgIAogICAgICAgICAgICAgICAgICAgICAgICAgICAgICAgICAgICAgICAgICAgICAgICAgICAgICAgICAgICAgICAgICAgICAgICAgICAgICAgICAgICAgICAgICAgICAgICAgICAgCiAgICAgICAgICAgICAgICAgICAgICAgICAgICAgICAgICAgICAgICAgICAgICAgICAgICAgICAgICAgICAgICAgICAgICAgICAgICAgICAgICAgICAgICAgICAgICAgICAgICAKICAgICAgICAgICAgICAgICAgICAgICAgICAgICAgICAgICAgICAgICAgICAgICAgICAgICAgICAgICAgICAgICAgICAgICAgICAgICAgICAgICAgICAgICAgICAgICAgICAgIAogICAgICAgICAgICAgICAgICAgICAgICAgICAgICAgICAgICAgICAgICAgICAgICAgICAgICAgICAgICAgICAgICAgICAgICAgICAgICAgICAgICAgICAgICAgICAgICAgICAgCiAgICAgICAgICAgICAgICAgICAgICAgICAgICAgICAgICAgICAgICAgICAgICAgICAgICAgICAgICAgICAgICAgICAgICAgICAgICAgICAgICAgICAgICAgICAgICAgICAgICAKICAgICAgICAgICAgICAgICAgICAgICAgICAgICAgICAgICAgICAgICAgICAgICAgICAgICAgICAgICAgICAgICAgICAgICAgICAgICAgICAgICAgICAgICAgICAgICAgICAgIAogICAgICAgICAgICAgICAgICAgICAgICAgICAgICAgICAgICAgICAgICAgICAgICAgICAgICAgICAgICAgICAgICAgICAgICAgICAgICAgICAgICAgICAgICAgICAgICAgICAgCiAgICAgICAgICAgICAgICAgICAgICAgICAgICAgICAgICAgICAgICAgICAgICAgICAgICAgICAgICAgICAgICAgICAgICAgICAgICAgICAgICAgICAgICAgICAgICAgICAgICAKICAgICAgICAgICAgICAgICAgICAgICAgICAgIDw/eHBhY2tldCBlbmQ9J3cnPz7/2wBDAAcFBQYFBAcGBQYIBwcIChELCgkJChUPEAwRGBUaGRgVGBcbHichGx0lHRcYIi4iJSgpKywrGiAvMy8qMicqKyr/2wBDAQcICAoJChQLCxQqHBgcKioqKioqKioqKioqKioqKioqKioqKioqKioqKioqKioqKioqKioqKioqKioqKioqKir/wAARCADTAwkDASIAAhEBAxEB/8QAHwAAAQUBAQEBAQEAAAAAAAAAAAECAwQFBgcICQoL/8QAtRAAAgEDAwIEAwUFBAQAAAF9AQIDAAQRBRIhMUEGE1FhByJxFDKBkaEII0KxwRVS0fAkM2JyggkKFhcYGRolJicoKSo0NTY3ODk6Q0RFRkdISUpTVFVWV1hZWmNkZWZnaGlqc3R1dnd4eXqDhIWGh4iJipKTlJWWl5iZmqKjpKWmp6ipqrKztLW2t7i5usLDxMXGx8jJytLT1NXW19jZ2uHi4+Tl5ufo6erx8vP09fb3+Pn6/8QAHwEAAwEBAQEBAQEBAQAAAAAAAAECAwQFBgcICQoL/8QAtREAAgECBAQDBAcFBAQAAQJ3AAECAxEEBSExBhJBUQdhcRMiMoEIFEKRobHBCSMzUvAVYnLRChYkNOEl8RcYGRomJygpKjU2Nzg5OkNERUZHSElKU1RVVldYWVpjZGVmZ2hpanN0dXZ3eHl6goOEhYaHiImKkpOUlZaXmJmaoqOkpaanqKmqsrO0tba3uLm6wsPExcbHyMnK0tPU1dbX2Nna4uPk5ebn6Onq8vP09fb3+Pn6/9oADAMBAAIRAxEAPwD6RoorD1jxn4c0C5Ftq+r21tOf+WRbc6/UDJA9zQBuUVBZ3trqNol1p9zFdW8nKSwuHVuccEcdanoAKCcDJ6UVn6//AMi1qf8A16S/+gGgC758X/PVP++hTgwYZUgj1FfO/wANPhjpnjbQbq+1C8u4JIbkwhYCuCNqnPIPPzVu6z8Kda8F2suteCNeui9qPNktiNrsq8np8r/7pHIz16UAe2UVyXw38ZHxp4XF3cIsd9bv5NyidC2MhgPQg/mCO1Hir4l+HfCNz9l1CeS4vAAWtrVA7qD65IA9cE5xQB1tFcT4c+LXhfxJfpYwzT2VzK2yKO8QJ5h7AEEjJ6AEgmu2oAKKq6pqMOkaRd6jcq7Q2kLzSCMAsVUEnGcc8Vxk/wAZPC1voNvqcjXebgsI7QRqZiFbaWI3bQM5xkjODjoaAO9ork/CXxJ8P+MbhrXTZJoLtQWFvdIEdlHUjBIP0zmt7WNa0/QNNkv9XuktbaPgu/c9gAOSfYUAXqK80X47+E2uxCYdSWPdjzzAuzHrjfux+Ga7yy1qw1LRRqunXC3Vm0ZkWSI5yB1GOx7YPINAF4OpcqGG4dRnmlr53034i6RafGDUfFMsF4bG6g8tEWNfMB2oORux/Ce/pXuvh3XrXxNoFtq9gkqW9zu2LMoDDaxU5AJHVT3oA06KR3WNGeRgqqMszHAA9a8+1X42eEtNvGt4WvNR2khpLOJSgI92Zc/UZFAHoVFc94U8b6L4yt5JNHnfzYgDLbzLtkjz0yOhHuCRU3ibxdo/hGxS51u68rzCRFEg3SSkddqj+fQZHPNAGzJIsUbSSHaiAsx9AKz9E8Q6X4js3utEvFu4I5DGzqpGGABxyB2IrirL4yeF9fWewX7XYzTRMsRvI1VXYg4GVY4P1xVP4A/8iTf/APYRf/0XHQB3Oh+MNC8SXl1a6LqEd1NaH96qqwwM4yCQNwyOoyOnqK2q8/8Ah0/g+TW9dXwlpdxZ3MEgjumn6H5m4T5mwMqTjjt6cbekeOtL1rxdf+HbSK6W8sA5leRFEZ2sFOCGJ6sOwoA6WisnxN4js/CuhS6rqKTSW8TKrLAoLZY4HBIHf1qew1qzv/D8OtBzBZzW4uN0+F2JjOW5wMDrzQBforza5+O3hKC7aGOPUbhAcefFAuw+/wAzBv0rpLrx3o0HglvFETT3Om5ABiiw5JfZ0bHQ/wAqAOkV1f7jBvoc1Wv9TsNLhWbU723s4mbYr3EqxqWxnGSRzwfyr5/+FvxD0nwVY6jDqsF5K1zKjobeNWAABHOWHrXcfHv5/AVhIvT+0UP5xSUAenQTw3Vuk9tKk0MihkkjYMrA9CCOCKkrB8DIY/h/oKnr/Z8J/NAa3W+6fpQA3z4v+eqf99CnK6uMowYexzXzf8L/AIe6d45g1J9SurqA2jRhPIKjO4NnOQfStzxj8LP+EG0GbxF4a1y9ilsyu9Wba5DMF+Vlx0J6YoA91ornfAOuz+JfAumapeY+0TRlZSBjcysULYHTO3P41ja/8YfC2gai9k0lzfzRkrJ9ijVlQjsWZgD+GaAO7ormfCnxA0DxjuTSbh1uUXc9rOuyQD1xyCPoTik17x9pPh3xLYaJqCXP2i+CGORFXy1DOVBYlhjkc8dKAOnorzm7+OPhK11BrVBfXKK203EMKmP68sCR+H0rt9G1vTvEOmR6ho90l1bPwHXjB7gg8g+xoAv0Vzfivx7oPg5UXV7ljcSLuS1gXfIw9cdAPckZ59Kw9G+NHhPWL5bVpLrT3chUa9jVUYn/AGlZgPxwKAPQKKo61q1voWi3WqXiyNBaxmRxEAWIHoCRXJ3Hxe8MW2g2WpyNdZvdxhtBGpmKq5QsRuwBkHqeccdDQB3DOiY3sq56ZOKdXg/x48Q2l7qlnosSTC509y8zMo2EOqkbTnJ/ECvSvB/xI0fxpfzWelQXsckEXmsbiNVBGQOMMeeaAOuppdAwUsoY9ATzTq+ffGvjbTZfjLp+qrFdfZ9HYW9wpRdzNHK+7aN3I54yRQB9BEgAk9BWXofiTSPEkEs2h3qXccLbHZFYbTjOOQKpeFvGOn+NNGub7SormOKGQwsLhFVt20HjBPHzCvKPhN4w0fwf4N1S61q4KeZeARQxruklIQZCj+pwORzzQB7xWV4g8TaR4Ws47rXbwWsUj+Wh2M5ZsZ4Cgmud8M/Frw14o1JNPtmubO6kOIku41XzD6AqxGfY4z2p3xRl8MW/h22m8Y2FxeWv2oJELY4dXKsc53LxhT39KAOxtrmG8tYrm1kWWGZBJHIpyGUjII/CpKy4tQ0vR/CsN6zrY6Xb2qMu/gRx7RtHfnGBjkk+tcSfjv4TF15Xk6ls3Y8/yF2Y9fvbsfhn2oA9Koqtp2oW2rabBf2Enm21wgeJ9pXcp74ODU7yJFG0krKiKCzMxwAB1JNADqK881P43eEtPvGghN7qG0kNJaQgoD9WZc/UZFdH4V8baL4xtpJdGnYyRAebBKu2SPPTI6H6gkUAdBRXMeLfiDoPgwpHqs0klzIu9LW3QPIVzjPJAA+pGcHHSqPhf4reHPFeqJptl9rt7uTPlRXMIHmYBJwVLAcA9SOlAHa1FdXUFjayXN5NHBBEu6SSRgqqPUk1LXjvx38UwJpsXhmL7Qly8kdzKwAEbRYcbc5yTuAOMY4oA7zSPiL4U13UlsNM1iKW5bhI3jePefQFgAT7Dmrmi+L9C8Q313Z6PqEdzcWZxKiqwxzjIJHzDPcZHT1FcH8NdS8D6zqFjZ6LoTwarptmZTdSQIpY4VHJYMSxJfuPyrX+Hr+D5vEGu/8ACK6XcWl5BIEunm6HLNwnzHC5UnHHb0GADv6K5GT4l6Bb6/qmlXjT2z6XEZbieVB5eAVGFwSSSXAAxzWRZ/HDwld6itq/262Rm2i5nhUR/XhiQPqPrigD0WioZru3t7N7ueeOO2RPMaZmAVVxnOemPevPb346eErS5aKFNQvFH/LWCBQp/wC+2U/pQB6RWXF4l0ifxDLocV6janCu57cK2VGAc5xjoR371F4a8V6R4t09rvRLnzVQhZI2Xa8Z9GB/n0NedaN/yczq/wD17H/0XHQB69RRXO+JPGum+FtS0yy1GO5eXUpDHCYUUqpBUfMSwx94dM0AdFRXnepfG7wnp+otaJ9tvVQ7WuLWJWjznBwSwJ+oBHpmtfU/id4W0zQrbVX1Dz4rpS0EUC7pZMcH5TjbgjHzY5oA62iuK8MfFfw34q1NdPtGubS6k/1Ud3GF8zjOAVYjPsSK62/1C00uwlvdRuI7e2hXdJLIcBR/njHegCxRXmsvx38JR3hhWLUpYw2PPSBdhHrywbH4Zrt9J8RaXruinVNIulurUA5ZAQVIGSpBwQfY+ooA0t6ltoYbvTPNLXztY/EXSLb4x33iqSC8NhcQ7EQRr5oPlovI3Y6qe9e0W3jTTbrwK3iuOK5FgsbyFGRfNwjFTxnHVT3oA6GsXWPF+haBqVpYavqCW1zeEeSjKxzk4BJAwozxk4HX0rn7n4veGLXQLLVJXuc3u4w2gjUzFVcoWI3YAyp6nnHHQ1F45fwePGWgw+JdLuLvUbh1S0kj+4P3gAD/ADDI3HOMHv8ASgDv6KrajqNnpOnzX2pXEdtawruklkOAo/x7AdzXn03x38JxXRiSHUpkDYE6QLsPvywbH4UAelUVm6F4g0zxLpi3+i3aXNuSVJXIKsOqsDyD7H1FaVABRRRQAUUUUAFFFFABRRRQBR1y8m07w/qN7ax+bPbWss0aYzuZUJAx7kV8eXFzNeXMlxdSNLNKxeSRzksxOSSa+0SMjB6V5FrfwDsb7VJbnR9WbT7eRt32d7fzAhPZTuHHt+tAGF8ANTu18RajpYdjZvam4KHorq6qCPTIY59cD0r3quV8C+AdP8DafLHayNc3dwQZ7l1wWx0AHYDnjnr16Y6qgArP1/8A5FrU/wDr0l/9ANaFUtahkuNBv4YVLySW0iIo6klSAKAPOPgB/wAiZqP/AGED/wCi0r0+6nhtrOae6ZUhijZ5GboqgZJP4V4P4Q/4WX4K02ax0rwussU03nMbiIsd2AOMOOOBWnf6b8VfHiDT9Whg0bTZMeaFIRWA9QCzn6dPWgCL4GSTWOgeKdRWIskaRtHkcMyLIxH6r+dXfgnoVlq9rqXifVo1vtSkvGiEk4DbPlViwz/ES/X24759H8K+FrHwn4ci0iyHmIuWlkYDMzn7zH+WPQAV5t/wjfjD4Za7eXPg2zXV9Fu23G1PzNHjoMZ3ZGSMjOR1HSgDW+NPhnTJfBc2tx28cF/YvGVmjUKzqzhSpx1HzZHpjjqa7DwPqdxrHgbSL+83Gea2XzGbq7Dgt+OM/jXmuo2Pj74pS21lq2mDw/oscgkl8xSrMenRvmY4zgYA9e1ewafYwaZpttY2a7ILaJYo1znCqMD9BQBleN/+RA1//sHT/wDotq4n4IeHtOXwadWktYpby5ndTK6hmVFOAoz0Gcnjrn2Fd54ttZ77wZrNraRtLPPYzRxxr1ZihAH51h/CnSb/AETwDb2Wq2r2tys0jGOTqAWyKAOH8VWNvoP7QHh6XSYktvtnlPKsa7VJZ3jY4HqvX35qz8SIP+Ej+MPh3w3fSMunGNZWjzgMSzlvxIQLntWl428O6vqHxh8NapZWEs1jaiHzp1HypiZic/gQa0viV4Du/EklnrXh6YQa3pvMJLY80A7gM9AQckZ45OfUAHWP4d0aTSv7NfS7Q2W3Z5HkrtA9hjj615b8JXfRviN4n8MWzs+nwtJJGGOdpjkCD8SG59doqdvGfxRlgOmp4Q8u/K7ftnlHyx23Ak7M9+uPbtXSfDTwLP4Ts7q+1mYXGsai2+4YHdsGSdu7uSTknufXGSAc3oaL/wANLa2Nox9l6Y/2Iq9dAAGAMD2ryTxXofibwx8Tn8ZeG9ObVoLqMJPbxjLL8oUrgcnO0MCB14Pv3fg7UvEGq6RJc+KNLTTLgzHyYVbJMeBgkZODnI5x06CgDX1LULXSdNuL+/lEVtboZJHPYD+f0ry/SPiARFK3gf4cXU2nO5PnxAQiQ987UYHn3NegeLtDbxL4S1DSI5BFJdRYR26BgQy59sgZrzHwvq/xB8H6TF4bHg1r3yCwgnBIQAsW+ZxlTyT3HFAFLwDdTSfHi+kfSW0Rri3cy2BOfLyqMew6kBunerR06Hxj+0PfW2uDzrTTYd0dvIMqwQLhSPTc5bHfp0q14O8NeLLf4wTa34ls/wDXwM0lxFjylZkXCD/d+736dT1q9498E67B4ug8ZeCMSaggAuLYkAvhduRnggrwR17jnoAdh4u8MaVrnhS8s7u0gUJAxgkCAGBgMhlI6YI/EcdK474Af8iPf/8AYRb/ANFx1VudY+JPjTTJdJXw8uiQzIY7q7mVlJXHIQNzz04z16jrW18GdC1Pw/4SvLbWbOSzme+aRUk6lfLQZ/MH8qAMT4Lf8jT4y/6+U/8AQ5ah8Af8l+8V/wC5cf8Ao5Km+C3/ACNPjL/r5T/0OWo/FHhvxT4T+I0/i7whY/2jBdgmaBFLkEgblKg7iCRuBHQ/qAdL8aDj4Y3uf+esP/oYpbXQ5vEnwMs9JtJhDPc6ZCI3bpuAVgD7HGD7GuP8V2vxC8e+GXe90YadawMjxWEY/fXLk4y2TkBQSecc9j1HcJp/ia2+E2n2Ph8x2etQ2kKkT4ypUDcoyCNxxjnjn8aAPPtD8Z6t8ONHh0DxZ4Qf7CshQ3KrgOCSTzgpIeexHAFet+F9U0XWvDUFz4cWJLDBVYUjCeUw6qVHAIJ/XPfNeb6h4m+JF5o9xoWo+C1nuLmJoTcrGTHgjGTyUz36gZ7dq7H4YeErrwf4NFlqLKbu4ma4lRDkRkgALnvgKM++cZ60Acf+z+qtpWt7lB/0iPqP9k10vxi0e61n4fvFp9rNdXENzHKkUEZdj1U4A56Ma43R7Dxr8MNY1Ox0fQDrVlfSA28yAkDGdpbH3eDgg45HB7ntPF2peNoPh/Y3WiWXl627R/bIoEWYxDad21TkH5seuAfxoA6rQLZrLw3plrIpR4LSKNlIwQQgGP0q+fun6VR0KTUJdAsZNajWLUGgQ3KL0V8c/rV8/dNAHzR8NvE/iPw9DqK+G/D8mrrM0ZmKQyP5ZG7H3emcnr6Vp6t4z8X/ABIvP+EOWys9NeaTE0L5jf5DuIYuc8EZwBu+X612XwU8Oav4etdYXWrCazMzxGMSgfNgNnH5ij4qeAr6/vrbxP4TjYavbunmpFgNJg/K4/2l4HuPpyAauv2j+AvgndWemys0tpaiITD5TukcB3Hpy5I9K4T4d+MNH8LeG4VTwrql1fSFmmvYbYMJOTgKxOcAYGPXPrXq1hHceLfAz2nibT5bC4uoGguoSMFWxjcvXjoR1x07V57pbfEH4aRPpEGi/wDCQ6RG7G2lgUlgCc9FyRyckEHknBxQBhanqi6r8TNC1vw34f1LSpFuI1uy9tsVwXAJ+X1UsDnqK0Pi/p8eq/Fjw5p87lIruKGF2XqA07A4/Ou28Jaj4+1jxCbzX9OttJ0YRFRasMyM3UMOcgjvnAx2zyOH+MdnLqPxT8P2VtP9nmuIIoo5uf3bNMwDcehOaAPYE8N6LHow0pdLtfsATZ5HlDbj/H36968t+FKHQ/il4m8O2crNp8QkZVJzgpIFXn1w5B+ntVu68VfFOxg/spvDEdxfY2LqEKF427b+DtB784H+z2rc+GPgS78MQ3eqa9L52s6id0x3bvLGdxBbuxJyT04GPUgHIfC2wtvGXjrxHr+vwLdXNvKhhjmG5Yy7Pjg/3QgA9K7T4oeF9K1XwNqNzNbQxXVlA08FwqAMpUZ259DjGPf1ArnNY8I+KPBfjK68R+A4UvrS+Ja5sG7EnJG3IyM8gqcjOMY61NVm+IvxHtV0iTQhoWnSOPtEs4ZCwHPO7kjIBwB6c4oAu6ZqVzqn7Nt3JeO0kkNrLAHbqyq2F/IYH4UfBfwbpcnhNdb1KzhvLq5lcQmdA4iRWK4UHgEkMc+9dRrHhX+zPhJd+HdDhed0s2jjUfelcnJP1JJP41J8L9MvdG+Hen2OqW7211G0u+J+q5lYj9CKAOJ/aEAFjoZAwTLNn8kr2JFVVG1QOOwrhfiz4Nu/F3huH+ylEl9ZSmSOMsB5ikYZQTxnoefT3qPwd4n8b6vrEFtrnhgWFlFGyXNzJlCXA4ZQeoJGMDPXOeKAPQK8e8cKv/DQHhYbRgxQ546/vZK9hrzH4neFtcm8S6T4t8MQC8utOCrJbHqQrFlIHG4ckEA56Y74APS5FCwvtAHynoK8T+A2gadeRalqt5bR3FzDKsUJkUMIhjJIB6E8DPt7mu/8Ha74p143sniLQBpNrsUWwYkOzc7sg8+nYfjWL8FvD+q+HtE1KHWrGWzkluFZFkx8w24zQBznxwsLbSda0DV9NhS2vXkfdJEu0sUKFCcdxk8/4Ctv4/f8iLY/9hJP/RUlL8afDmr+IE0QaLYS3nkSSmXywPkB2Yz+Rq/8ZtC1PX/CFna6NZyXk6X6yMkY5C+W4z+ZH50AWPFfhu98VfCe207S5At19nglRGbasu1R8pP6j3AritM+Ilz4R0qz8OeOPBzQ2cUfkeYsQAlVRjOxhtcnuQ2DnNd/4gtvFieB9Oj8INFDqMCRGaOXG5lVeUG4bc5xnOOAea4jXNc+IfibQ5/Dt54JCTXICPcbD5YGRyCx2g++44oA9Y0O+07UtCs7rRGjNg8Q8jy12qqjjaB2xjGO2Kk1TUrTR9LuNQ1GVYbW3QvI57D+pPQDuayvA3h6Xwt4MsNIuZFlmhVmkZPu7mYsQPYZx+FS+MvD7eKPB+oaPHKIZLmMeW7dAysGXPtlRn2oA4HRvH7i3kPgn4b3UumMxxNHiESHvkKjA8+5rG+Hc8j/ABy1N20ltFaa1dnsC2fKJ8snsOp+bp3q34Y1j4g+EtKi8NjwY94YNwgnDEIAWJ+ZxlTyT3HFWfBPhrxXafFy71nxNa5NxbMZLmLHlBmCEIP90Db/AMB6nrQAnjfQfEmh/ExfGeiaUutwMiqYAhkaIhAnCjntkMM4JOffW8IfE3QPFHiKK31DSF0vXPmjheVVfPqgkwCCcdCB06k8Ua/qfxK0LxPd3Wn6bb6xo0pBhgiGWiUDHs244yfvDnisPTdB8T+OfiRp3iXXtEGh2dgUfDDbJIUbcoIPzEknqQBgevUA9lry34/Af8INYnHP9opz/wBs5K9Srz34zaFqfiDwfaWujWcl3Ol8sjJGOQvluM/mR+dAHZaGir4f04qoB+yx9B/sCvMfgz/yN/jP/r5X/wBGS16npMTwaLYxSqUkjt41ZT2IUAivPvhZ4e1bRvE3im41SxltYrudWgdwMSDfIcj8CPzoA5vStCste/aH1qPU4VngtQ9x5LjKuw2KAw7j5s49q6r4yaJp0vw6ur37HCtzZPE0EiIFZcyKpGR2w3Tp09Kh8M+H9Ws/jhr2r3NjLHp9xA6xXDD5XJaMgD/vk/lXQfE7TLzWPh3qVjplu9zdS+VsiTq2JUJ/QE0AUfDev2Ok/BfTdT8QNvtY7JY5FK7zIM7AgHfPA/nWFpPj28/swR+F/hndvpLZETIfLWVfXAjIOe/J781cn8E6hrXwPsdBeP7NqdvGsiRSnHzqx+U/UEj6kVl6D4k+I2l6Tb+H4/BhkuLSJYIrmQlIgqjC5Odp49GFAFH4Myv/AMLE8Sxi0Ono6u7WWeICJeE6D7uSOgq/o3/JzWsf9ex/9Fx1N8MfC3iHRPH2uXniGBibmJibsABJpDIGYr0469h9KuaX4e1aH4+anrUtjKunSwFUuSBtY+XGMfmD+VAHpleOfHC0W/8AEXhOzkYqtxLJEzL1AZ4hn9a9jrzX4n+H9V1jxV4VudMsZbmGzuC07pjEY3xnJ/AH8qAOsvfCmiHwrcaRHpltHZ+QyBFiHy8feB/vZ5z1zzXmfwG8PafdWOoaxeW8dxdRzCCEyqG8oBdxK56E7uvt7mvZblS9pMqjLMjAD14rz74MaDqmgeGb+DWbKWzlku96JIOSuxRn8xQBzPxn0610nxX4Z1TToEtruaVvMeJdu4xtGVJx3G48/T0q58eb2Qf8I9pz+cbO4mkknjiHzSbdgAHqcM3HqRWh8YfDmr69f+HH0ewlu1tpJTMYwPkBMWM/98n8q3/iR4IbxnokIspVg1Kxcy2sjEgc4ypI6ZwDn1AoA5q1+Iug2elDTbbwNqyWQXYYPsKlWHuM8/j1rM+Dv2m38e65DbWF3Y6PdRPPDBcREbcSAIMnuFcjrWjb+NfiXYwrp994Ma7vVG0XSg+W3uxXK5+hH4V23gv/AISg6NJJ4zNuLySZnjihAzEh6KxHHHbGeMZJNAHB6Uq/8NNasNox9m6Y/wCmMddv8RgB8N9cAGB9kbpXF+LdD8TeG/ic3jPw3px1aC4jCzW8YJZfkCEYHPO0EEZ56++5cS+KfE3wv1xNa0QWV/cI62trGcs6EDGRng5z1x9BQBifBjwbpcnhNNc1GzhvLq6kcQmdA4hRWK4UHoSQxz71H8VP+Sp+Cv8Ar5j/APRyV2Hwv0y90f4eadY6nbPbXMTS74nHK5lYj9CKwfiJ4e1bVfiH4UvtOsZbi2s50aeVAMRgSqST+AJoAy/jI8mq+LfC/hqWV4bK7nUylT1LSBM+mVGcf71elWvhbQbLSxp1vpFmLQLtMTQqwYf7Wc7j7nJrnfib4Ek8ZaVby6dKsOp2LF7cscBwcZUnseAQfUe+Ry9r4v8AipaW66ZP4UFzeKu1bt4jtPuzBthP0IoA9S0jRtP0DTlsNItUtbZWLCNMnknJJJ5P41erk9Ch8YWXgO6OtTwXuveXLJbqAMBiCVRiMKfm9MADjtmofhre+Lb7Q7iTxtC0c4mxA0sSxSMuOcqoAAz0OOefagDsqKKKACiiigAooooAKKKKACiiigAooooAKKKKACiiigAooooAKKKKACiiigAooooAKKKKACiiigAooooAKKKKACuF8baX4+udViuvBur29vaiHymtnVQdxOS3zKwPbngjsOTXdUUAcV8NfAT+CdNumvrlbnUb5w1w8ZJQBc4AJwT94kkgZz7V2tFFABRRRQAUUUUAFFFFABRRRQAUUUUAFFFFABXn/i7wHqev/EbQtfs57RLXTjEZUldg7bJS52gKR0PcivQKKACiiigAooooAKKKKACiiigAooooAKKKKACiiigAooooAKKKKACiiigAooooAKKKKACiiigAooooAKKKKACiiigAooooAKKKKACiiigAooooAKKKKACiiigAoooyPWgAopMj1oyPWgBaKTI9aMj1oAWikyPWjI9aAFoozRQAUUUUAFFFclr/AIyv9L8SHR9L8PyapItqty7rdpFtDMygYYf7NAHW0Vw//CbeJf8AoR5v/BnDR/wm3iX/AKEeb/wZw1XK+wuZHcUVw/8Awm3iX/oR5v8AwZw0f8Jt4l/6Eeb/AMGcNHK+wcyO4orh/wDhNvEv/Qjzf+DOGj/hNvEv/Qjzf+DOGjlfYOZHcUVwV14/8QWdpNc3HgmZIoUMjt/acJwoGSePaktPiB4gvrKG7tfBMrwzxrJG39pQjcrDIOCM9DRyy7BzI76iuH/4TbxN/wBCNN/4M4aP+E28Tf8AQjTf+DOGjll2FzI7iiuH/wCE28Tf9CNN/wCDOGj/AITbxN/0I03/AIM4aOWXYOZHcUVw/wDwm3ib/oRpv/BnDR/wm3ib/oRpv/BnDRyy7BzI7iivPW+I+uJqiac3guX7VJEZlj/tKLlAQCc4x1Iqz/wm/ib/AKEab/waQ0csuw+ZHc0Vw3/Cb+Jv+hGm/wDBpDR/wm/ib/oRpv8AwaQ0csuwuZdzuaK4b/hN/E3/AEI03/g0ho/4TfxN/wBCNN/4NIaOWXYOZdzuaK4b/hN/E3/QjTf+DSGkPjjxKqknwNNgDJ/4mkNHLLsHMu53VFee6d8R9c1XT4b2x8FzS28y7kf+0ohkdOhwatf8Jt4m/wChGm/8GkFHLLsPmR3FFcP/AMJt4m/6Eab/AMGkFH/CbeJv+hGm/wDBpBRyy7C5l3O4orh/+E28Tf8AQjTf+DSCj/hNvE3/AEI03/g0go5Zdg5l3O4orh/+E28Tf9CNN/4NIKqXHxJ1u11C0sZ/Bcq3N5v8hP7SiO/YMtyBgYB70csuw+ZHodFcN/wm/ib/AKEaX/waQ0f8Jv4m/wChGl/8GkNHLLsLmXc7miuG/wCE38Tf9CNL/wCDSGj/AITfxN/0I0v/AINIaOWXYOZdzuaK4b/hN/E3/QjS/wDg0ho/4TfxN/0I0v8A4NIaOWXYOZdzuaK4b/hNvE3/AEI0v/g0hqvYfEXXdStftFl4Klki3sm7+0oh8ysVI5HqDRyy7D5keg0Vw/8Awm3ib/oR5f8AwaQ0f8Jt4m/6EeX/AMGkNHLLsHMjuKK4f/hNvE3/AEI8v/g0ho/4TbxN/wBCPL/4NIaOWXYOZHcUVw//AAm3ib/oR5f/AAaQ0f8ACbeJv+hHl/8ABpDRyy7BzI7iivPL74k63pv2f7Z4Llj+0zCCL/iZRHc5BIHA44B61J/wsPXv+hKl/wDBlDUSai7MOZHf0VwH/Cw9e/6EqX/wZQ0f8LD17/oSpf8AwZQ0uePcOZHf0VwH/Cw9e/6EqX/wZQ0f8LD17/oSpf8AwZQ0c8e4cyO/orgP+Fh69/0JUv8A4MoaP+Fh69/0JUv/AIMoaOePcOZHf0V5vafFLVb43AtvB0rm3mMEv/ExjG1wASOR7irH/Cw9e/6EuX/wZRf4Uc0e4cyPQKK8/wD+Fh69/wBCXL/4Mov8KP8AhYevf9CXL/4Mov8ACjnj3DmR6BRXn/8AwsPXv+hLl/8ABlF/hR/wsPXv+hLl/wDBlF/hRzx7hzI9Aorz/wD4WHr3/Qly/wDgyi/wqve/FLVtPhSS68HSoryLGp/tGM5ZjgDgetHNHuHMj0iivP8A/hYevf8AQlS/+DKL/Cj/AIWHr3/QlTf+DKL/AAo549w5kegUV5//AMLD17/oSpv/AAZRf4Uf8LD17/oSpv8AwZRf4Uc8e4cyPQKK8/8A+Fh69/0JU3/gyi/wo/4WHr3/AEJU3/gyi/wo549w5kegUV5//wALD17/AKEqb/wZRf4Vt+EfFs3iabUYLrS202eweNHjadZc713DkDHTH501JPZhdM6WiiimMKKKKACiiigAooooAKKKKACiiigAooooAK5vXNcvDqS6L4fRXv3XdJK33bdfU/n/AC65rpDXJ+AyLy21HVJF/fXV22Sf7oAIH/jxrObd1FdTpoxioyqSV7fmxR4EgucS6xqN5eXB+8xfC/QA5I/Onf8ACvNF/wCnn/v7/wDWrW8Sayvh3w3e6s8BnW0j8wxBtu7npnnFc0PGviYjI8Czf+DSColGlD4rfMpYrEP4ZP5F/wD4V5ov/Tz/AN/f/rUf8K80X/p5/wC/v/1qof8ACaeJ/wDoRZv/AAaQUf8ACaeJ/wDoRZv/AAaQVHNh+6/Ar6xiv5mX/wDhXmi/9PP/AH9/+tR/wrzRf+nn/v7/APWqh/wmnif/AKEWb/waQUf8Jp4n/wChFm/8GkFHNh+6/APrGK/mZf8A+FeaL/08/wDf3/61H/CvNF/6ef8Av7/9aqH/AAmnif8A6EWb/wAGkFH/AAmnif8A6EWb/wAGkFHNh+6/APrGK/mZdbwT9hBl0DU7qznHIDvuRsdiMf4/Srnh7XZ7y4m0zV4hBqdsMuB92Rf7w/T8/wAqfhvxheaz4guNI1LQ30q4gthc/NdJNuUttH3Rjse9L4mQ2vibQtQhwsjXH2eQ/wB5WIGP1b86v3YpThsOE5V26dTV62fXQ6qiiitzhCuFvv8Akq93/wBgeH/0dJXdVwt9/wAlXu/+wND/AOjpKuHxImfws1KKKK7DkCiiigAooooAzPEv/Ip6v/15Tf8AoBpvhX/kTdF/68IP/Ra07xL/AMinq/8A15Tf+gGm+Ff+RN0X/rwg/wDRa1PUroa2aM0lFUSLmjNJRQAuaM0lFAHOXH/JULL/ALBUv/o1K6SubuP+SoWX/YKl/wDRqV0h61K6lMSiiiqJCiiigAps3+pf/dP8qdTZv9S/+6f5UDOe+H3/ACIGk/8AXE/+hGukrm/h9/yIGk/9cT/6Ea6OlHZDe4tFJRTJFopKKAFrlte/5KF4T+l5/wCilrqK5fXv+SheE/pef+ilqZbFR3OpopKKokWikooAWikooAUda53wP/yLP/b5c/8Ao966IdRXO+B/+Ra/7fLn/wBHvU9Suh0VFJRVEi0UlFAC0UlFAHL+OPvaB/2Fo/8A0XJVvNVPHHXQP+wtH/6Lkq3Xk4z+IX0DNGaKK4gDNGaKKADNFFFMDn/Cf+s17/sLzf8AoKV0Fc/4T/1mvf8AYXm/9BSugpy3GwoooqRBRRRQAVgeMP8AkFWn/X/b/wDowVv1geMP+QVaf9f9v/6MFVHccdzoP4aTNHaipEGaM0UUAGaM0UUAGal+Hn/I0eLP+u9t/wCiaiqX4ef8jR4s/wCu9t/6JroofEzSnud9RRRXYbBRRRQAUUUUAFFFFABRRRQAUUUUAFFFFAAelcp8Ov8AkWG/6+G/ktdWelcp8Ov+RYb/AK+G/ktZS/iL5nVT/wB3n6x/Ud8S/wDkmmuf9ex/mKmT/Vr9Kh+Jf/JNNc/69j/MVOv3F+leZme0fn+g8N1FooorxjsCiiigAooooAxND/5K5f8A/YHi/wDRrVreL/8Aj80L/sIx/wA6ydD/AOSu6h/2B4v/AEa1a3i//j80L/sIx/zr6Wl/u0fkc1H/AHn7/wAjpqKKK7DhCuFvv+Sr3f8A2Bof/R0ld1Xn+r3lrZ/FW5a8uYbcNo8IUyyBc/vZPWrh8SJn8LNqiqX9t6T/ANBSy/8AAhP8aP7b0n/oKWX/AIEJ/jXYctmXaKpf23pP/QUsv/AhP8aP7b0n/oKWX/gQn+NAWZdoql/bek/9BSy/8CE/xo/tvSf+gpZf+BCf40BZkPiX/kU9X/68pv8A0A03wr/yJui/9eEH/otaq+I9Z0yTwtqqR6laO7WcoVVnUknYeBzTfDGsaZH4R0eOTUbRHWxhDK06gg+WOCM1PUdnY6GiqX9t6V/0FLP/AMCE/wAaP7b0r/oKWf8A4EJ/jVCsy7RVL+29K/6Cln/4EJ/jR/belf8AQUs//AhP8aAsy7RVL+29K/6Cln/4EJ/jR/belf8AQUs//AhP8aAszJuP+SoWX/YKl/8ARqV0h61x8+racfiVZzC/tTEumSqX85doPmJxnPWui/tvSf8AoKWf/gQn+NSuo2mXaKpf23pP/QUs/wDwIT/Gj+29J/6Cln/4EJ/jVCsy7RVL+29J/wCgpZ/+BCf40f23pP8A0FLP/wACE/xoCzLtNm/1L/7p/lVT+29J/wCgpZ/+BCf40yXW9KML41Oz+6f+XhP8aQWZmfD7/kQNJ/64n/0I10dcj4D1bToPAulxT39rHIsWGV5lBHzHsTXQ/wBt6V/0FLP/AMCE/wAaUWrIbTuXaKpf23pX/QUs/wDwIT/Gj+29K/6Cln/4EJ/jT0FZl2iqX9t6V/0FLP8A8CE/xo/tvSv+gpZ/+BCf40aBZl2uX17/AJKF4T+l5/6KWtv+29K/6Cln/wCBCf41zOuarp7+PfC8qX9q0cYu97iZSFzGuMnPGaUthpO52dFUf7b0n/oKWX/gQn+NL/bek/8AQUsv/AhP8aYrMu0VS/tvSf8AoKWX/gQn+NH9t6T/ANBSy/8AAhP8aYWZdoql/bek/wDQUsv/AAIT/Gj+29J/6Cll/wCBCf40BZl4dRXO+B/+Ra/7fLn/ANHvWoNc0nP/ACFLL/wIT/GsDwXq2nQ+Hdk2oWsbfa7k7WmUHBmcjv6VN9R2djrKKpf23pX/AEFLP/wIT/Gj+29K/wCgpZ/+BCf409BWZdoql/belf8AQUs//AhP8aP7b0r/AKCln/4EJ/jRoFmXaKpf23pX/QUs/wDwIT/Gj+29K/6Cdn/4EJ/jRdBZmJ4466B/2Fo//RclW6yfGmq6fMdC8m+tpNmqRs2yZTtGx+TzwKtf2vpv/QQtf+/y/wCNeVi9Zl9C5RVP+19N/wCgha/9/l/xo/tfTf8AoIWv/f5f8a47MVmXKKp/2vpv/QQtf+/y/wCNH9r6b/0ELX/v8v8AjRZhZlyiqf8Aa+m/9BC1/wC/y/40f2vpv/QQtf8Av8v+NFmFmZfhP/Wa9/2F5v8A0FK6CuV8L6lYxSa35l7bpv1WVl3SqMjanI56Vvf2vpv/AEELX/v+v+NVJO5T3LlFU/7X03/oIWv/AH/X/Gj+19N/6CFr/wB/1/xqbMmzLlFU/wC19N/6CFr/AN/1/wAaP7X03/oIWv8A3/X/ABoswsy5WB4w/wCQVaf9f9v/AOjBWn/a+m/9BC1/7/r/AI1h+LNSsZdMtVivbdyL6BiFlU4AcZPWqinca3Oo7UVU/tbTcf8AIQtf+/y/40n9r6b/ANBC1/7/AC/41NmLUuUVT/tfTf8AoIWv/f5f8aP7X03/AKCFr/3+X/GizCzLlFU/7X03/oIWv/f5f8aP7X03/oIWv/f5f8aLMLMuVL8PP+Ro8Wf9d7b/ANE1nf2vpv8A0ELX/v8AL/jV74bTRz+I/FckEiyxtPbYdGBB/c+oregveZpT3PQaKKK7DYKKKKACiiigAooooAKKKKACiiigAooooAD0rlPh1/yLDf8AXw38lrqz0rlPh1/yLDf9fDfyWspfxF8zqp/7vP1j+o74l/8AJNNc/wCvY/zFTr9xfpUHxL/5Jprn/Xsf5iq665pOxf8AiaWXT/n4T/GvNzJNqNvP9B4bqaFFUP7c0n/oKWX/AIEJ/jR/bmk/9BSy/wDAhP8AGvH5Zdjrui/RVD+3NJ/6Cll/4EJ/jR/bmk/9BSy/8CE/xo5Zdgui/RVD+3NJ/wCgpZf+BCf40f25pP8A0FLL/wACE/xo5Zdguinof/JXdQ/7A8X/AKNatbxf/wAfmhf9hGP+dYnhu6t7v4sahJaTxTp/ZEQLROGGfNbjIrb8X/8AH3oX/YRj/nX0dL/d4/I56P8AvP3/AJHTUUUV2HCFZuoeHNE1a5FxqmkWN7MqhBJcW6SMFznGSOnJ/OtKigDD/wCEJ8Lf9C3pP/gFH/hR/wAIT4W/6FvSf/AKP/CtyigDD/4Qnwt/0Lek/wDgFH/hR/whPhb/AKFvSf8AwCj/AMK3KKAMP/hCfC3/AELek/8AgFH/AIUf8IT4W/6FvSf/AACj/wAK3KKAMP8A4Qnwt/0Lek/+AUf+FH/CEeFf+hb0n/wCj/wrcooAw/8AhCfCv/Qt6T/4BR/4Uf8ACE+Ff+hb0n/wCj/wrcooAw/+EJ8K/wDQt6T/AOAUf+FH/CE+Ff8AoW9J/wDAKP8AwrcooAw/+EJ8K/8AQt6T/wCAUf8AhR/whPhX/oW9J/8AAKP/AArcooAw/wDhCPCuc/8ACN6T/wCAUf8AhR/whPhb/oW9J/8AAGP/AArcooAw/wDhCfC3/Qt6T/4Ax/4VXu/DXgmw2fbdF0O3352+baRLux6ZFdJVHUtHsNXEY1G3WcR52ZYjGevQ+1J3toVDl5vf28jn/wCy/h5/0D/Dv/fiH/CpX0PwHHDHNJpWgLHLny3NtDh8cHBxziue0LRdPu/G+p2NxbB7aESeXHuI24dQO+ehqx45sbWwbRbS3jEdurSDZk4ALKTyfqa5/az5XI9P6pRdaNJN669O1zYh0TwDcTLFBpnh+SRvuotvCSfoMVe/4Qnwr/0Lek/+AUf+Fcx4r03wza6K0mmvCt2HURrDNvLc85GTxjPNdDFrEuneAodQvCTOLcbd5yXY8Ln1zwT+NXGo7tS6GFTDJwjKnfV2sxkXhvwRNdtaw6NoclwhO6JbWIsMdcjFSXPhPwfZwma60HRoYxwXeziAH44rjIrK70G10rxIWd3lmLTAnJKt0/76G7n3Fdd42mS48FyTQsHjkMbIw7gsCDSVVuLbWxc8HFVYRjK6btfzvqLJ4c8EQ2iXUujaGlvIcJK1rEFb6HHtU6eDfCckayR+HdHZGG5WWyiII9elc1rv/JM9I/30/wDQWp/hHXZtLlj0fVsrHMge2kY8AMMgZ9Dnj0PH0Sre9ZjeBbpOcHdpvTyRuWnhnwXfqzWWiaJcBDhjHaRNj8hVj/hCvC3/AELek/8AgDH/APE1ifDT/jxv/wDrqv8AKu3rWnNzipHLiaSo1XTXQw/+EJ8Lf9C3pP8A4Ax/4UHwT4VP/Mt6T/4BR/4VuUVZzmH/AMIR4V/6FrSf/AGP/Cj/AIQjwr/0LWk/+AMf+FblFAGH/wAIR4V/6FrSf/AGP/Cj/hCPCv8A0LWk/wDgDH/hW5RQBh/8IR4V/wCha0n/AMAY/wDCj/hCPCv/AELWk/8AgDH/AIVuUUAYf/CEeFf+ha0n/wAAY/8ACj/hCfC3/Qt6T/4BR/4VuUUAYf8AwhPhb/oW9J/8Ao/8KP8AhCfC3/Qt6T/4BR/4VuUUAYf/AAhPhb/oW9J/8Ao/8KP+EJ8Lf9C3pP8A4BR/4VuUUAYf/CE+Fv8AoW9J/wDAKP8Awo/4Qnwt/wBC3pP/AIBR/wCFblFAGH/whPhX/oW9J/8AAKP/AAo/4Qnwt/0Lek/+AUf+FblFAGH/AMIT4W/6FvSf/AKP/Cj/AIQnwt/0Lek/+AUf+Fa15HLNZTR28phlZCEkAztbsa5rwVrl1qH2ux1SQteW75+fAJXoRgehH6iockpJdzaNFypyqLoX/wDhCfC3/Qt6T/4BR/4Uf8IT4W/6FvSf/AKP/Cs671a+v/HUOl6bcNHbW43XJUAhsckZ/JfqTR4v1nUIr+00rQ3YXcoMjbAM4wcDnjsT+AqXUSTfY1jhJuUY3Wqv6LzNH/hCfC3/AELek/8AgFH/AIUf8IT4W/6FvSf/AACj/wAKTwjrLazoaPO+65hPlzHpk9j+I/XNUNJ1W+n8f6jYTXDPaxRsUjIGFIK/4mn7RWT7k/Vp804v7O5of8IR4V/6FvSf/AKP/Cj/AIQnwr/0Lek/+AUf+FaOrTSW+i3s0LbZI4HZWHYhSQa5TR9a1G48CanezXTPcwyMEkIGVAVT/U05TSdhU8PKpDnXdL7za/4Qnwr/ANC3pP8A4BR/4Uf8IT4V/wChb0n/AMAo/wDCsDR4fFOsaWl9Braxq5YBXQdjj0q9oPiHUU119D8QBTc4PlzIAN3GecccjkdKlVU7XVrms8HKPNaSbjul/wAMaP8AwhPhX/oW9J/8Ao/8KP8AhCfCv/Qt6T/4BR/4VU8Y6zdWYtNP0mTbe3UgxjGQucd+mT/I07wjrNzq2kz295Ift9sxRywwec4JH1yPwp+0XPymf1afsfbdP61LP/CE+Ff+hb0n/wAAo/8ACj/hCfCv/Qt6T/4BR/4VzGvyeJvD9pFPPrXmiR9gCIOOM9x7VsW9p4hsbK6vb7V1uI1tJHVAmCG25B6dqlVbu1jSWEtBT51rtv8A5F//AIQjwr/0Lek/+AUf+FH/AAhHhX/oW9J/8Ao/8Ky/DfiKZfCN7qerTNOYJmUEgAn5VwvHqT+tUbJPFPii3N8moixt2Y+UiErnBx25I+po9qrKy3D6nJOXPJJJ2v5nRf8ACEeFf+hb0n/wCj/wo/4Qjwr/ANC3pP8A4BR/4Vk6Pr2qad4gXRPETLK0uPJnGOc9PTIPT1zVHU/Ft9pHjWeOSRpbGN1VoMDgFRkg+vej20UrsawNWU3GNnpdea8jpP8AhCPCv/Qt6T/4BR/4Uf8ACEeFf+hb0n/wCj/wrN8Y67PbaLZXmj3ZRZ5OHQA7hj3rrIiWiQnqVBNWpptpHPOjKEIzfW/4GL/whHhX/oW9J/8AAKP/AAq/pujaZo6yLpOn2tispBcW0KxhiOmcDmrtFWYhRRRQAUUUUAFFFFABRRRQAUUUUAFFFFABRRRQAHpXKfDr/kWG/wCvhv5LXVnpXKfDr/kWG/6+G/ktZS/iL5nVT/3efrH9Tpbq0t761ktr2CO4gkGHilUMrD0IPWsn/hCfCv8A0Lek/wDgFH/hW5XF+IovEemW95qUesAWyPlIVQZCs2AOnbNVOXKr2M6NL2suXmS9TY/4Qnwr/wBC3pP/AIBR/wCFH/CE+Ff+hb0n/wAAo/8ACsjw9D4j1GGz1GXWFNs7hnhKjJUNgjp7VSsbnxDrWs6jb2er+QltKwAdQeNxAHT2qPa6LR6nR9T1kude7vv6djpP+EJ8K/8AQt6T/wCAUf8AhR/whPhX/oW9J/8AAKP/AAqC0i1rRrW9vdW1Bb6OK3Z1jUY5HPp7VhaR/bvimKS7XXxaurELbxcY+oBGB9c03VtZW1JjheZOXOuVddf8jpP+EJ8K/wDQt6T/AOAUf+FH/CE+Ff8AoW9J/wDAKP8Awqs2l+J5NMgjOsRJdI7+Y6pwy8bR09j271z2n3HiXUNeu9LTWdkltu3OVGDtYL6e9J1bNKzHDCc6bU1pvv8A5Hbad4f0fSJnl0nSrOykddrtbwLGWHocCsnxf/x+aF/2EY/51taVBd22mxRajcC5uFzvlAxu5OP0xWL4v/4/NC/7CMf86dT4CcMrV0vX8mdNRRRWpyBRRRQAUUUUAFFFFABRRRQAUUUUAFFFFABRRRQAUUUUAFFFFABRRRQBxvh/Try38eardT2sscEgl2SMhCtl1IwaPHemXeo3WmC2tZZ0UuJDGpO0Er1x0712VFZeyXK4nYsXJVlVtqlb8LHB+IfByae1tf6BZGbynHm2rZkD88HB5I7Ef/XqfxFHf+JLvTLKKyuoLRiJLh3jI2E8EEkdQM/XNdrRSdFapbMqONmuVy1cb2fqcbP8ONP+zSfZ7q7Mu07A7rt3Y4z8vSqEdvqtx8Pp9NnsLkXEEqCJTGcuhbPHrjn8MV6DRQ6MemgRx1XTn1s01fyOG1jTL6b4f6XaxWkz3EboXiVCWX5W6j8a0dQ8MjWfCdjC6+TfW9snlswwQdoyp9v5V1FFP2UepP1uppy6Wbf3nI+ANPu9Ptb1L62lgZpF2iRcZ47etddRRVwjyR5UY1qrrVHUfUKKKKoxCiiigAooooAKKKKACiiigAooooAKKKKACiiigAooooAK8+8SGTwv4xi1i1TMVyp3pnAZsYYfyP1r0Gq97p9pqMIivoEnRW3BXGcH1/Ws6kOZabnThqyozvJXTVmcv4Itfs2lXet6gwEl0zSNI3ZASSfxOT+ArC0ubXtQ1y71/SdPiuS7tGDMwAQcYA+YchcDP1r0ZrG2ax+xmFfs2wJ5WONvpRaWdvYW6wWcKwxKSQiDA5qPZaJX2Oj64rzny3ctNdrdjgdAnvtB8YmDVrdbUalyY1YFVYk7SME98jGe9Tafe21h8StUlvZ44IyjqGdsDOV4/Su0vNLstQeN722SZovuMw5X6flUFx4e0m6uHnuLCGSVzlmZeSaXspJWT2dy/rlOTbmt42dv+CVtR1fTr/RdRisryGeQWkrFY3BIG08/rXLaD/yTPV/+ur/+gJXZ2+gaVa+Z9nsYY/NjMb7R95T1FSxaTYQWMlnDaxpbykl4wOGJAH9BTcJSd2ZxxFKnHlgna6evkcz4R13S9P8AC0Md5fQxSIXLIW+YDcT061Ss5/8AhJfiAuoWiMLKzXmUjGQAcfmT+VdT/wAItomc/wBmW/8A3zV9LK1itGtYreOOBgQY0UKpB68CkqcmkpdCpYmipTnTTvK+/S+553FdavrXiu41nRbJLtbdvLi80gKq4IHVhzjJ9s060uNS0HxlHe6zaJZpqDFZFjYFTnGW6nGDgn6mvQbKwtdOhMNjAkEZbcVQYyfX9KbfabZ6kipf28c6ocqHGcGl7F7313K+vQb5XD3bW87ffbc5b4k/8ge0/wCvj/2U10Wo/wDIr3X/AF5v/wCgGp7zTbO/hSK9t0njQ5VXGcHpU7wxyQNC6Bo2UoVPQjGMVpyPmb7nK6y9nCH8rbPO9CsZtR+HOp29sN0v2neqj+LaEOPrxWp4U8U6bDokNlfTrbT26lSJBgMM9j689OtdVZ6fa6dC0VjAkEbNuKoMAn1/Sqt74c0jUZjNd2MbyHq4ypb6kYzUKnKNnHfY6J4qlV5o1E7N3Vt0cg9yvirx9ZzaaGNtZ7GaUqRkKxbPtk8U5LKDUfiRqdrdpvilhIYf8BTke9dxZ2Frp8PlWVvHAmckIuMn1PrTV0yzjv3vo7eNbpxhpQPmI/yBR7JvfvcPrkVdRVly2Xf1PKdfsr/RCdJuGL2gkM0DkdcjGR6e49f19dh/1Ef+6P5VBe6bZ6lGqX9tHOqHKhxnBqyAAABwBVU6fI2Z4nFe3hFNaq9/MWiiitjhCiiigAooooAKKKKACiiigAooooAKKKKACiiigArlPh38vh2aJgQ8d06sD67Vrq64+eR/B/iKe5kRn0jUH3O6gnyJO5+hz/nHOU9JKR10PfpzpLd2a+X/AA52FYPjb/kTr7/tn/6MWti2u7e8gWa0mSaNujI2RRdWsF7bNb3UayxPjcjdDg5q5Lmi0jGlL2dWMmtmjJ8G/wDIoWP+63/oRrhrLT9Iv/EGqjWrw2qpOxjIkVdx3HPUGvULa2hs7ZILWNYok+6i9BVCTw1o0sjSSadAzuSzMV6k96ylTbUV2Oyji4wnUlqubtutTL0KLw9o9vejT9QF0jR+ZMryK+FXOeAB61hXOk+Eby2a707VvsLgZVGf7p/3D835H6V21roemWMjPaWUMTOpRiq9VPb9Kqy+EtClm8x9NiDeikqv5A4pOm2rWQ4YqEZuXNLX0/EzPAF/fX2lT/bneWOKTbFK5yTxyM98cfn7VQ8M/wDJSNY+kv8A6MWu3gghtoVit4kijX7qIoAH4VBBpllbXsl3BbRx3Eud8gHLZOT+tV7N2jrsZvExcqjUbcxbrl/F7j+0NAjz8zagjAewIz/MVv3uoWmnW5nvZ0hjUZy56/Qdz7Cua0kT+JfES63NE0VhaBks0fq5PBfH+e3pTqO/uojDRcW6r2V/vtsddRRRWpyBRRRQAUUUUAFFFFABRRRQAUUUUAFFFFABRRRQAUUUUAFFFFABRRRQAUUUUAFFFFABRRRQAUUUUAFFFFABRRRQAUUUUAFFFFABRRRQAUUUUAFFFFABRRRQAUUUUAFFFFABRRRQAUUUUAFFFFABRRRQAUUUUAFFFFABRRRQAUUUUAFFFFABRRRQAUUUUAFFFFABRRRQAUUUUAFFFFABRRRQAUUUUAFFFFABTJYo54mjmRZI2GGVxkEe4p9FAHM3PgHRppGeEXFqWOT5EuB+oNQ/8K803/n/ANR/7+r/APE11lFZ+zh2On61X/mZyf8AwrzTf+f/AFH/AL+r/wDE0f8ACvNN/wCf/Uf+/q//ABNdZRR7OHYPrdf+ZnJ/8K803/n/ANR/7+r/APE0f8K803/n/wBR/wC/q/8AxNdZRR7OHYPrdf8AmZyf/CvNN/5/9R/7+r/8TR/wrzTf+f8A1H/v6v8A8TXWUUezh2D63X/mZzlp4F0W2kEkkct0ynINxJuH5DAP410SqEUKoAUDAAHQUtFUoqOyMqlWdR3m7hRRRVGYUUUUAFFFFABRRRQAUUUUAFFFFABRRRQAUUUUAFFFFABRRRQAUUUUAFFFFABRRRQAUUUUAFFFFABRRRQAUUUUAFFFFABRRRQAUUUUAFFFFABRRRQAUUUUAFFFFABRRRQAUUUUAFFFFABRRRQAUUUUAFFFFABRRRQAUUUUAFFFFABRRRQAUUUUAFFFFABRRRQAUUUUAFFFFABRRRQAUUUUAFFFFABRRRQAUUUUAFFef/E7xHrGhT6RFol59lN00iuTGjZwUx94H1PSnLovxJ3Dd4msSM8/uF/+N1uqPuqTklcZ31Fefy+JdXX4zw6Et3/xLWXJg8tP+eBb72N33hnrWPrHxF1Pw/8AEm6tbqX7RpMUgRrcRqCqlQcg4ySCc8nnp7io4acnZdrgesUVwPxF8V3ul+HNN1Hw3fqiXUvEqorh02kj7wNdlqmpQ6TpFzqF0cRW8RkbnGcDoPcnj8aydOSin3EXKK8n8I+OtffxJp6eJZs2GrK4tT5SqFbcQMEDPUbcE/xA11HxM1zUdA8Lw3ekXH2edrpYy+xWypVjjDAjsK0lh5xqKHcZ2FFUNCuZbzw7pt1cvvmmtIpJGwBuYoCTgcdTV+sGrOwgooopAFFFFABRRRQAUUUUAFFFFABRRRQAUUUUAFFFFABRRRQAUUUUAFFFFABRRRQAUUUUAFFFFABRRRQAUUUUAFFFFABRRRQAUUUUAFFFFABRRRQAUUUUAFFFFABRRRQAUUUUAFFFFABRRRQAUUUUAFFFFABRRRQAUUUUAFFFFABRRRQAUUUUAFFFFABRRRQAUUUUAFFFFABRRRQAUUUUAFFFFABRRRQAUUUUAFFFFAHlnxmQyXegIrFGZ5QGH8JzHzWzp3gPXbLU7W6n8a6hdRQyrI8Dh9soByVOZDwenQ11Wp6FpmsyQPqdnHctbkmIvn5CcZx+QrQrpddqnGEelxnlU3/JxMH+7/7bGmQaXa6z8ZPEFhfxiSCa1ZWHccR4I9CDyK9HOgaW2tjVzZx/2gOlxzuHy7f5cU6HQ9Ng1iXVYbRFvpl2yTjOWHH+A/Kr+sJbfy2C54L4ssNW8ND/AIRy/kM1hHObm0kI4YEEEj0917H65Pf/ABW1G5vf7P8AC2lI0t1esJJI1OCVB+UemCQT7ba7vVdD0zXIY4tWs4rpY23JvH3T7Gm/2Bpf9tjVzZxnUAMC4OdwGNv06cVTxUW4ya1V/vA8l8Tad4xufDlol74et7K20dN8c8Eyl40VcH+MnsCeO1afjjXF8RfCbTNQBHmPdIswH8MgRw3H15HsRXq0sSTQvFMgeORSrKwyGB6isceD9AGmHThpkX2Qy+cYcnbvxjd1644pRxMbxcls+gXM7w94s8PW/hjS4Z9asY5Y7OJHRrhQVIQAgjPWupikSaJJYnDxuoZWU5DA9CK57/hX/hb/AKAtv+v+NdBDDHbwRwwqEjjUKijsAMAVz1HTbvC/zEPooorIAooooAKKKKACiiigAooooAKKKKACiiigAooooAKKKKACiiigAooooAKKKKACiiigAooooAKKKKACiiigAooooAKKKKACiiigAooooAKKKKACiiigAooooAKKKKACiiigAooooAKKKKACiiigAooooAKKKKACiiigAooooAKKKKACiiigAooooAKKKKACiiigAooooAKKKKACiiigAooooAKKKKACiiigArK8SeILfwzo7ajeRSyxK6oViALZP1IrVrifi1/yIUv/AF3j/nWtGKnUUX1AgX4sWDoHTRNYZWGQRApBH/fVaur+O7HRdBsNVu7S7Md99yJVXenGfmBPFcvoWp/EaPw/p6adommy2i20YgkdxuZNo2k/vRzjHYUvxmLt4c0oygCQzncB2Ozmuv2VN1Ywt+Nxml/wtvSIpEF5pmqWqOceZLAoA9/vZ/LNbuu+MtN0Pw/baywku7S5dUja3AJO5SQeSP7tcL4m+JmleIfDdxo+m6dey3V0FjjWWNcZ3DkYYkn0GOtV/Fml3WjfBfR7G/XbcJeBnTOdu4Stj8AafsINxurXdrAdGfi9pCIkk+larFE5GJGhXbz77q6+LXtMm0Mawl5H/Z/l+Z55OAB+POc8Y654ry6T4laTJ8P00GOwu5rv+z1tPnRPL37Auc7ieDyOOw6VS1vTNT0H4O2NreiSFrnUPNkiPBRSpKqR9V3Y7H3oeGi2lblu7eoWOpufjDYC4b+ztJvLu1jP72fhNo9QOePriur8N+K9L8VWbT6XI26M4lhkGHjz0yOevqMipvDVrZWnhnT4tMVRbG3RlKjG/Kg7j7nrXnukRx2Hx4urbRlVLV0YTpH91f3YYj2+fH0PFZctKakoqzQG7N8VdMi1C5tI9L1OeS2kaNzFErDIJGfvdOK0/DXj3R/E909paedb3SAnyLlArMB1IwSD9OvtXnPhzxhYeEfF/iKTUobmUXFywT7OqtjEj5zlh61p+Hp5fGPxYTxHpthJb6dbIVklkABY+WVGccbvmHGTwBW1TDwSelklvcD1miiivNEFFFFABRRRQAUUUUAFFFFABRRRQAUUUUAFFFFABRRRQAUUUUAFFFFABRRRQAUUUUAFFFFABRRRQAUUUUAFFFFABRRRQAUUUUAFFFFABRRRQAUUUUAFFFFABRRRQAUUUUAFFFFABRRRQAUUUUAFFFFABRRRQAUUUUAFFFFABRRRQAUUUUAFFFFABRRRQAUUUUAFFFFABRRRQAUUUUAFFFFABRRRQAUUUUAFYXjHw6/ijw8+mxXC27NIr72XcOD6Vu0VUZOElJAefW3grxhZ2sVtbeMPLhhQRxoLfhVAwB+VW/EfgfUPEfhnTtPvNWRru1cvLcvFnzc57A8dq7aitfrE7qWl/RDuc34y8HweLNKihMv2a7t23wThc7fUH2P8wKqeI/CGoeJPB9npN7qMX2u3lV5LnyziTarLnGeCdwJ98119FTGtOKVugjl9W8FW+seCLTQ7mRRPZwRpDchfuuihc49Djke/qBViDw2954P/ALC8S3A1D5PLM6AqxA+63OfmHHPfHPeugope1na1+twPM4/h/wCLNJX7HoHijy9PYn5ZCytGCf4QAR37Fea6Twf4HtPCizTmdr2/uP8AW3Mi4JGc4Aycc8nk5NdRRVyr1JqzGcp4X8Hy+Htc1e/lu0nXUZN6oqEbPmY4Pr96o9E8FTeHfFl3qGlXqJpt5/rbExng9Rg57EnHHQke9dfRSdabbu9xBRRRWIBRRRQAUUUUAFFFFABRRRQAUUUUAFFFFABRRRQAUUUUAFFFFABRRRQAUUUUAFFFFABRRRQAUUUUAFFFFABRRRQAUUUUAFFFFABRRRQAUUUUAFFFFABRRRQAUUUUAFFFFABRRRQAUUUUAFFFFABRRRQAUUUUAFFFFABRRRQAUUUUAFFFFABRRRQAUUUUAFFFFABRRRQAUUUUAFFFFABRRRQAUUUUAFFFFABRRRQAUUUUAFFFFABRRRQAUUUUAFFFFABRRRQB/9k=)"
      ]
    },
    {
      "cell_type": "markdown",
      "metadata": {
        "id": "6XLez4K8tTHt"
      },
      "source": [
        "Recall the entire reason to not adjust after the final test data set is to get the fairest evaluation of the model.\n",
        "\n",
        "The model was not fitted to the final test data and the model hyperparameters were not adjusted based off final test data. This is truly never before seen data"
      ]
    },
    {
      "cell_type": "code",
      "metadata": {
        "id": "AfQCwCUa-Qp-"
      },
      "source": [
        "## CREATE X and y\n",
        "X = df.drop('sales',axis=1)\n",
        "y = df['sales']"
      ],
      "execution_count": null,
      "outputs": []
    },
    {
      "cell_type": "code",
      "metadata": {
        "id": "13En_4KB-Qp_"
      },
      "source": [
        "######################################################################\n",
        "#### SPLIT TWICE! Here we create TRAIN | VALIDATION | TEST  #########\n",
        "####################################################################\n",
        "from sklearn.model_selection import train_test_split\n",
        "\n",
        "# 70% of data is training data, set aside other 30%\n",
        "X_train, X_OTHER, y_train, y_OTHER = train_test_split(X, y, test_size=0.3, random_state=101)\n",
        "\n",
        "# Remaining 30% is split into evaluation and test sets\n",
        "# Each is 15% of the original data size (eval is for validation and test is for final metrics)\n",
        "X_eval, X_test, y_eval, y_test = train_test_split(X_OTHER, y_OTHER, test_size=0.5, random_state=101)"
      ],
      "execution_count": null,
      "outputs": []
    },
    {
      "cell_type": "code",
      "metadata": {
        "id": "WGXev_pG-QqA"
      },
      "source": [
        "# SCALE DATA\n",
        "from sklearn.preprocessing import StandardScaler\n",
        "scaler = StandardScaler()\n",
        "scaler.fit(X_train)\n",
        "scaled_X_train = scaler.transform(X_train)\n",
        "\n",
        "scaled_X_eval = scaler.transform(X_eval)\n",
        "scaled_X_test = scaler.transform(X_test)"
      ],
      "execution_count": null,
      "outputs": []
    },
    {
      "cell_type": "markdown",
      "metadata": {
        "id": "zqHoSJ5K3ren"
      },
      "source": [
        "---"
      ]
    },
    {
      "cell_type": "markdown",
      "metadata": {
        "id": "3ipQTuST-QqA"
      },
      "source": [
        "### **a. Create and Fit Model**"
      ]
    },
    {
      "cell_type": "code",
      "metadata": {
        "id": "1FhW_nil-QqB"
      },
      "source": [
        "from sklearn.linear_model import Ridge"
      ],
      "execution_count": null,
      "outputs": []
    },
    {
      "cell_type": "code",
      "metadata": {
        "id": "oL9sqhRs-QqB"
      },
      "source": [
        "# Poor Alpha Choice on purpose!\n",
        "model = Ridge(alpha=100)"
      ],
      "execution_count": null,
      "outputs": []
    },
    {
      "cell_type": "code",
      "metadata": {
        "id": "oo0FgRr7-QqC",
        "colab": {
          "base_uri": "https://localhost:8080/"
        },
        "outputId": "81d842f1-7d4e-4f5d-ec20-e84ae6d5382b"
      },
      "source": [
        "model.fit(scaled_X_train,y_train)"
      ],
      "execution_count": null,
      "outputs": [
        {
          "output_type": "execute_result",
          "data": {
            "text/plain": [
              "Ridge(alpha=100, copy_X=True, fit_intercept=True, max_iter=None,\n",
              "      normalize=False, random_state=None, solver='auto', tol=0.001)"
            ]
          },
          "metadata": {
            "tags": []
          },
          "execution_count": 23
        }
      ]
    },
    {
      "cell_type": "code",
      "metadata": {
        "id": "mVLtpwqw-QqD"
      },
      "source": [
        "y_eval_pred = model.predict(scaled_X_eval)"
      ],
      "execution_count": null,
      "outputs": []
    },
    {
      "cell_type": "markdown",
      "metadata": {
        "id": "ysCMM_3CUF2Z"
      },
      "source": [
        "---"
      ]
    },
    {
      "cell_type": "markdown",
      "metadata": {
        "id": "Za7ilphl-QqE"
      },
      "source": [
        "### **b. Evaluation**"
      ]
    },
    {
      "cell_type": "code",
      "metadata": {
        "id": "xVjMTxpz-QqF"
      },
      "source": [
        "from sklearn.metrics import mean_squared_error"
      ],
      "execution_count": null,
      "outputs": []
    },
    {
      "cell_type": "code",
      "metadata": {
        "id": "NJcjV2Jo-QqF",
        "colab": {
          "base_uri": "https://localhost:8080/"
        },
        "outputId": "34b1be4c-7bae-4339-9cf6-eeb16754f342"
      },
      "source": [
        "mean_squared_error(y_eval, y_eval_pred)"
      ],
      "execution_count": null,
      "outputs": [
        {
          "output_type": "execute_result",
          "data": {
            "text/plain": [
              "7.320101458823871"
            ]
          },
          "metadata": {
            "tags": []
          },
          "execution_count": 26
        }
      ]
    },
    {
      "cell_type": "markdown",
      "metadata": {
        "id": "EFc-wNTAUGxO"
      },
      "source": [
        "---"
      ]
    },
    {
      "cell_type": "markdown",
      "metadata": {
        "id": "UqRa9faZ-QqG"
      },
      "source": [
        "### **c. Adjust Parameters and Re-fit the Model**"
      ]
    },
    {
      "cell_type": "code",
      "metadata": {
        "id": "2c2nPWsY-QqH"
      },
      "source": [
        "model = Ridge(alpha=1)"
      ],
      "execution_count": null,
      "outputs": []
    },
    {
      "cell_type": "code",
      "metadata": {
        "id": "pRAqSJth-QqI",
        "colab": {
          "base_uri": "https://localhost:8080/"
        },
        "outputId": "395e6201-c977-4a28-bbc2-793b004dc7ad"
      },
      "source": [
        "model.fit(scaled_X_train, y_train)"
      ],
      "execution_count": null,
      "outputs": [
        {
          "output_type": "execute_result",
          "data": {
            "text/plain": [
              "Ridge(alpha=1, copy_X=True, fit_intercept=True, max_iter=None, normalize=False,\n",
              "      random_state=None, solver='auto', tol=0.001)"
            ]
          },
          "metadata": {
            "tags": []
          },
          "execution_count": 28
        }
      ]
    },
    {
      "cell_type": "code",
      "metadata": {
        "id": "LXkPXzvl-QqJ"
      },
      "source": [
        "y_eval_pred = model.predict(scaled_X_eval)"
      ],
      "execution_count": null,
      "outputs": []
    },
    {
      "cell_type": "markdown",
      "metadata": {
        "id": "O_q822vdUMe2"
      },
      "source": [
        "---"
      ]
    },
    {
      "cell_type": "markdown",
      "metadata": {
        "id": "_aFnxrp1-QqJ"
      },
      "source": [
        "### **d. Another Evaluation**"
      ]
    },
    {
      "cell_type": "code",
      "metadata": {
        "scrolled": true,
        "id": "Yztzg-BL-QqL",
        "colab": {
          "base_uri": "https://localhost:8080/"
        },
        "outputId": "fb3389f0-d289-4992-c7ba-e3b93a1ff943"
      },
      "source": [
        "mean_squared_error(y_eval, y_eval_pred)"
      ],
      "execution_count": null,
      "outputs": [
        {
          "output_type": "execute_result",
          "data": {
            "text/plain": [
              "2.383783075056986"
            ]
          },
          "metadata": {
            "tags": []
          },
          "execution_count": 30
        }
      ]
    },
    {
      "cell_type": "markdown",
      "metadata": {
        "id": "IY8rkJ4SUQK5"
      },
      "source": [
        "---"
      ]
    },
    {
      "cell_type": "markdown",
      "metadata": {
        "id": "tF9QXjCB-QqM"
      },
      "source": [
        "### **e. Final Evaluation (Can no longer edit parameters after this!)**"
      ]
    },
    {
      "cell_type": "code",
      "metadata": {
        "id": "BN54fjnq-QqN"
      },
      "source": [
        "y_final_test_pred = model.predict(scaled_X_test)"
      ],
      "execution_count": null,
      "outputs": []
    },
    {
      "cell_type": "code",
      "metadata": {
        "id": "1Q6MhjQv-QqO",
        "colab": {
          "base_uri": "https://localhost:8080/"
        },
        "outputId": "3526aad5-1293-411f-de16-3f20d8f65b93"
      },
      "source": [
        "mean_squared_error(y_test, y_final_test_pred)"
      ],
      "execution_count": null,
      "outputs": [
        {
          "output_type": "execute_result",
          "data": {
            "text/plain": [
              "2.2542600838005176"
            ]
          },
          "metadata": {
            "tags": []
          },
          "execution_count": 32
        }
      ]
    },
    {
      "cell_type": "markdown",
      "metadata": {
        "id": "zZB3-FZaaSd0"
      },
      "source": [
        "---\n",
        "---"
      ]
    },
    {
      "cell_type": "markdown",
      "metadata": {
        "id": "I0sP6rQDncRS"
      },
      "source": [
        "# **2 - Cross Validation**\n",
        "\n",
        "\n",
        "\n",
        "Cross validation is a more advanced set of methods for splitting data into training and testing sets.\n",
        "\n",
        "Is there a way we can achieve the following?\n",
        "* Train on all the data\n",
        "* Evaluate on all data\n",
        "\n",
        "While it sounds impossible, we can achieve this with cross validation.\n",
        "\n",
        "A nice official documentation guide can be found here: https://scikit-learn.org/stable/modules/cross_validation.html"
      ]
    },
    {
      "cell_type": "markdown",
      "metadata": {
        "id": "o-Kd7xGcqiSu"
      },
      "source": [
        "![Cross Validation 1.JPG](data:image/jpeg;base64,/9j/4AAQSkZJRgABAQEAYABgAAD/4RD4RXhpZgAATU0AKgAAAAgABAE7AAIAAAAPAAAISodpAAQAAAABAAAIWpydAAEAAAAeAAAQ0uocAAcAAAgMAAAAPgAAAAAc6gAAAAgAAAAAAAAAAAAAAAAAAAAAAAAAAAAAAAAAAAAAAAAAAAAAAAAAAAAAAAAAAAAAAAAAAAAAAAAAAAAAAAAAAAAAAAAAAAAAAAAAAAAAAAAAAAAAAAAAAAAAAAAAAAAAAAAAAAAAAAAAAAAAAAAAAAAAAAAAAAAAAAAAAAAAAAAAAAAAAAAAAAAAAAAAAAAAAAAAAAAAAAAAAAAAAAAAAAAAAAAAAAAAAAAAAAAAAAAAAAAAAAAAAAAAAAAAAAAAAAAAAAAAAAAAAAAAAAAAAAAAAAAAAAAAAAAAAAAAAAAAAAAAAAAAAAAAAAAAAAAAAAAAAAAAAAAAAAAAAAAAAAAAAAAAAAAAAAAAAAAAAAAAAAAAAAAAAAAAAAAAAAAAAAAAAAAAAAAAAAAAAAAAAAAAAAAAAAAAAAAAAAAAAAAAAAAAAAAAAAAAAAAAAAAAAAAAAAAAAAAAAAAAAAAAAAAAAAAAAAAAAAAAAAAAAAAAAAAAAAAAAAAAAAAAAAAAAAAAAAAAAAAAAAAAAAAAAAAAAAAAAAAAAAAAAAAAAAAAAAAAAAAAAAAAAAAAAAAAAAAAAAAAAAAAAAAAAAAAAAAAAAAAAAAAAAAAAAAAAAAAAAAAAAAAAAAAAAAAAAAAAAAAAAAAAAAAAAAAAAAAAAAAAAAAAAAAAAAAAAAAAAAAAAAAAAAAAAAAAAAAAAAAAAAAAAAAAAAAAAAAAAAAAAAAAAAAAAAAAAAAAAAAAAAAAAAAAAAAAAAAAAAAAAAAAAAAAAAAAAAAAAAAAAAAAAAAAAAAAAAAAAAAAAAAAAAAAAAAAAAAAAAAAAAAAAAAAAAAAAAAAAAAAAAAAAAAAAAAAAAAAAAAAAAAAAAAAAAAAAAAAAAAAAAAAAAAAAAAAAAAAAAAAAAAAAAAAAAAAAAAAAAAAAAAAAAAAAAAAAAAAAAAAAAAAAAAAAAAAAAAAAAAAAAAAAAAAAAAAAAAAAAAAAAAAAAAAAAAAAAAAAAAAAAAAAAAAAAAAAAAAAAAAAAAAAAAAAAAAAAAAAAAAAAAAAAAAAAAAAAAAAAAAAAAAAAAAAAAAAAAAAAAAAAAAAAAAAAAAAAAAAAAAAAAAAAAAAAAAAAAAAAAAAAAAAAAAAAAAAAAAAAAAAAAAAAAAAAAAAAAAAAAAAAAAAAAAAAAAAAAAAAAAAAAAAAAAAAAAAAAAAAAAAAAAAAAAAAAAAAAAAAAAAAAAAAAAAAAAAAAAAAAAAAAAAAAAAAAAAAAAAAAAAAAAAAAAAAAAAAAAAAAAAAAAAAAAAAAAAAAAAAAAAAAAAAAAAAAAAAAAAAAAAAAAAAAAAAAAAAAAAAAAAAAAAAAAAAAAAAAAAAAAAAAAAAAAAAAAAAAAAAAAAAAAAAAAAAAAAAAAAAAAAAAAAAAAAAAAAAAAAAAAAAAAAAAAAAAAAAAAAAAAAAAAAAAAAAAAAAAAAAAAAAAAAAAAAAAAAAAAAAAAAAAAAAAAAAAAAAAAAAAAAAAAAAAAAAAAAAAAAAAAAAAAAAAAAAAAAAAAAAAAAAAAAAAAAAAAAAAAAAAAAAAAAAAAAAAAAAAAAAAAAAAAAAAAAAAAAAAAAAAAAAAAAAAAAAAAAAAAAAAAAAAAAAAAAAAAAAAAAAAAAAAAAAAAAAAAAAAAAAAAAAAAAAAAAAAAAAAAAAAAAAAAAAAAAAAAAAAAAAAAAAAAAAAAAAAAAAAAAAAAAAAAAAAAAAAAAAAAAAAAAAAAAAAAAAAAAAAAAAAAAAAAAAAAAAAAAAAAAAAAAAAAAAAAAAAAAAAAAAAAAAAAAAAAAAAAAAAAAAAAAAAAAAAAAAAAAAAAAAAAAAAAAAAAAAAAAAAAAAAAAAAAAAAAAAAAAAAAAAAAAAAAAAAAAAAAAAAAAAAAAAAAAAAAAAAAAAAAAAAAAAAAAAAAAAAAAAAAAAAAAAAAAAAAAAAAAAAAAAAAAAAAAAAAAAAAAAAAAAAAAAAAAAAAAAAAAAAAAAAAAAAAAAAAAAAAAAAAAAAAAAAAAAAAAAAAAAAAAAAAAAAAAAAAAAAAAAAAAAAAAAAAAAAAAAAAAAAAAAAAAAAAAAAAAAAAAAAAAAAAAAAAAAAAAAAAAAAAAAAAAAAAAAAAAAAAAAAAAAAAAAAAAAAAAAAAAAAAAAAAAAAAAAAAAAAAAAAAAAAAAAAAAAAAAAAAAAAAAAAAAAAAAAAAAAAAAAAAAAAAAAAAAAAAAAAAAAAAAAAAAAAAAAAAAAAAAAAAAAAAAAAAAAAAAAAAAAAAAAAAAAAAAAAAAAAAAAAAAAAAAAAAAAAAAAAAAAAAAAAAAAAAAAAAAAAAAAAAAAAAAAAAAAAAAAAAAAAAAAAAAAAAAAAAAAAAAAAAAAAAAAAAAAAAAAAAAAAAAAAAAAAAAAAAAAAAAAAAAAAAAAAAAAAAAAAAAAAAAAAAAAAAAAAAAAAAAAAAAAAAAAAAAAAAAAAAAAAAAAAAAAAAAAAAAAAAAAAAAAAAAAAAAAAAAAAAAAAAAAAAAAAAAAAAAAAAAAAAAAAAAAAAAAAAAAAAAAAAAAAAAAAAAAAAAAAAAAAAAAAAAAAAAAAAAAAAAAAAAAAAAAAAAAAAAAAAAAAAAAAAAAAAAAAAAAAAAAAAAAAAAAAAAAAAAAAAAAAAAAAAAAAAAAAAAAAAAAAAAAAAAAAAAAAAAAAAAAAAAAAAAAAAAAAAAAAAAAAAAAAAAAAAAAAAAAAAAAAAE11Y2hhbWFkIEZhdXp5AAAABZADAAIAAAAUAAAQqJAEAAIAAAAUAAAQvJKRAAIAAAADNzIAAJKSAAIAAAADNzIAAOocAAcAAAgMAAAInAAAAAAc6gAAAAgAAAAAAAAAAAAAAAAAAAAAAAAAAAAAAAAAAAAAAAAAAAAAAAAAAAAAAAAAAAAAAAAAAAAAAAAAAAAAAAAAAAAAAAAAAAAAAAAAAAAAAAAAAAAAAAAAAAAAAAAAAAAAAAAAAAAAAAAAAAAAAAAAAAAAAAAAAAAAAAAAAAAAAAAAAAAAAAAAAAAAAAAAAAAAAAAAAAAAAAAAAAAAAAAAAAAAAAAAAAAAAAAAAAAAAAAAAAAAAAAAAAAAAAAAAAAAAAAAAAAAAAAAAAAAAAAAAAAAAAAAAAAAAAAAAAAAAAAAAAAAAAAAAAAAAAAAAAAAAAAAAAAAAAAAAAAAAAAAAAAAAAAAAAAAAAAAAAAAAAAAAAAAAAAAAAAAAAAAAAAAAAAAAAAAAAAAAAAAAAAAAAAAAAAAAAAAAAAAAAAAAAAAAAAAAAAAAAAAAAAAAAAAAAAAAAAAAAAAAAAAAAAAAAAAAAAAAAAAAAAAAAAAAAAAAAAAAAAAAAAAAAAAAAAAAAAAAAAAAAAAAAAAAAAAAAAAAAAAAAAAAAAAAAAAAAAAAAAAAAAAAAAAAAAAAAAAAAAAAAAAAAAAAAAAAAAAAAAAAAAAAAAAAAAAAAAAAAAAAAAAAAAAAAAAAAAAAAAAAAAAAAAAAAAAAAAAAAAAAAAAAAAAAAAAAAAAAAAAAAAAAAAAAAAAAAAAAAAAAAAAAAAAAAAAAAAAAAAAAAAAAAAAAAAAAAAAAAAAAAAAAAAAAAAAAAAAAAAAAAAAAAAAAAAAAAAAAAAAAAAAAAAAAAAAAAAAAAAAAAAAAAAAAAAAAAAAAAAAAAAAAAAAAAAAAAAAAAAAAAAAAAAAAAAAAAAAAAAAAAAAAAAAAAAAAAAAAAAAAAAAAAAAAAAAAAAAAAAAAAAAAAAAAAAAAAAAAAAAAAAAAAAAAAAAAAAAAAAAAAAAAAAAAAAAAAAAAAAAAAAAAAAAAAAAAAAAAAAAAAAAAAAAAAAAAAAAAAAAAAAAAAAAAAAAAAAAAAAAAAAAAAAAAAAAAAAAAAAAAAAAAAAAAAAAAAAAAAAAAAAAAAAAAAAAAAAAAAAAAAAAAAAAAAAAAAAAAAAAAAAAAAAAAAAAAAAAAAAAAAAAAAAAAAAAAAAAAAAAAAAAAAAAAAAAAAAAAAAAAAAAAAAAAAAAAAAAAAAAAAAAAAAAAAAAAAAAAAAAAAAAAAAAAAAAAAAAAAAAAAAAAAAAAAAAAAAAAAAAAAAAAAAAAAAAAAAAAAAAAAAAAAAAAAAAAAAAAAAAAAAAAAAAAAAAAAAAAAAAAAAAAAAAAAAAAAAAAAAAAAAAAAAAAAAAAAAAAAAAAAAAAAAAAAAAAAAAAAAAAAAAAAAAAAAAAAAAAAAAAAAAAAAAAAAAAAAAAAAAAAAAAAAAAAAAAAAAAAAAAAAAAAAAAAAAAAAAAAAAAAAAAAAAAAAAAAAAAAAAAAAAAAAAAAAAAAAAAAAAAAAAAAAAAAAAAAAAAAAAAAAAAAAAAAAAAAAAAAAAAAAAAAAAAAAAAAAAAAAAAAAAAAAAAAAAAAAAAAAAAAAAAAAAAAAAAAAAAAAAAAAAAAAAAAAAAAAAAAAAAAAAAAAAAAAAAAAAAAAAAAAAAAAAAAAAAAAAAAAAAAAAAAAAAAAAAAAAAAAAAAAAAAAAAAAAAAAAAAAAAAAAAAAAAAAAAAAAAAAAAAAAAAAAAAAAAAAAAAAAAAAAAAAAAAAAAAAAAAAAAAAAAAAAAAAAAAAAAAAAAAAAAAAAAAAAAAAAAAAAAAAAAAAAAAAAAAAAAAAAAAAAAAAAAAAAAAAAAAAAAAAAAAAAAAAAAAAAAAAAAAAAAAAAAAAAAAAAAAAAAAAAAAAAAAAAAAAAAAAAAAAAAAAAAAAAAAAAAAAAAAAAAAAAAAAAAAAAAAAAAAAAAAAAAAAAAAAAAAAAAAAAAAAAAAAAAAAAAAAAAAAAAAAAAAAAAAAAAAAAAAAAAAAAAAAAAAAAAAAAAAAAAAAAAAAAAAAAAAAAAAAAAAAAAAAAAAAAAAAAAAAAAAAAAAAAAAAAAAAAAAAAAAAAAAAAAAAAAAAAAAAAAAAAAAAAAAAAAAAAAAAAAAAAAAAAAAAAAAAAAAAAAAAAAAAAAAAAAAAAAAAAAAAAAAAAAAAAAAAAAAAAAAAAAAAAAAAAAAAAAAAAAAAAAAAAAAAAAAAAAAAAAAAAAAAAAAAAAAAAAAAAAAAAAAAAAAAAAAAAAAAAAAAAAAAAAAAAAAAAAAAAAAAAAAAAAAAAAAAAAAAAAAAAAAAAAAAAAAAAAAAAAAAAAAAAAAAAAAAAAAAAAAAAAAAAAAAAAAAAAAAAAAAAAAAAAAAAAAAAAAAAAAAAAAAAAAAAAAAAAAAAAAAAAAAAAAAAAAAAAAAAAAAAAAAAAAAAAAAAAAAAAAAAAAAAAAAAAAAAAAAAAAAAAAAAAAAAAAAAAAAAAAAAAAAAAAAAAAAAAAAAAAAAAAAAAAAAAAAAAAAAAAAAAAAAAAAAAAAAAAAAAAAAAAAAAAAAAAAAAAAAAAAAAAAAAAAAAAAAAAAAAAAAAAAAAAAAAAAAAAAAAAAAAAAAAAAAAAAAAAAAAAAAAAAAAAAAAAAAAAAAAAAAAAAAAAAAAAAAAAAAAAAAAAAAAAAAAAAAAAAAAAAAAAAAAAAAAAAAAAAAAAAAAAAAAAAAAAAAAAAAAAAAAAAAAAAAAAAAAAAAAAAAAAAAAAAAAAAAADIwMjE6MDM6MjAgMTk6NDE6NDgAMjAyMTowMzoyMCAxOTo0MTo0OAAAAE0AdQBjAGgAYQBtAGEAZAAgAEYAYQB1AHoAeQAAAP/hCyFodHRwOi8vbnMuYWRvYmUuY29tL3hhcC8xLjAvADw/eHBhY2tldCBiZWdpbj0n77u/JyBpZD0nVzVNME1wQ2VoaUh6cmVTek5UY3prYzlkJz8+DQo8eDp4bXBtZXRhIHhtbG5zOng9ImFkb2JlOm5zOm1ldGEvIj48cmRmOlJERiB4bWxuczpyZGY9Imh0dHA6Ly93d3cudzMub3JnLzE5OTkvMDIvMjItcmRmLXN5bnRheC1ucyMiPjxyZGY6RGVzY3JpcHRpb24gcmRmOmFib3V0PSJ1dWlkOmZhZjViZGQ1LWJhM2QtMTFkYS1hZDMxLWQzM2Q3NTE4MmYxYiIgeG1sbnM6ZGM9Imh0dHA6Ly9wdXJsLm9yZy9kYy9lbGVtZW50cy8xLjEvIi8+PHJkZjpEZXNjcmlwdGlvbiByZGY6YWJvdXQ9InV1aWQ6ZmFmNWJkZDUtYmEzZC0xMWRhLWFkMzEtZDMzZDc1MTgyZjFiIiB4bWxuczp4bXA9Imh0dHA6Ly9ucy5hZG9iZS5jb20veGFwLzEuMC8iPjx4bXA6Q3JlYXRlRGF0ZT4yMDIxLTAzLTIwVDE5OjQxOjQ4LjcyMDwveG1wOkNyZWF0ZURhdGU+PC9yZGY6RGVzY3JpcHRpb24+PHJkZjpEZXNjcmlwdGlvbiByZGY6YWJvdXQ9InV1aWQ6ZmFmNWJkZDUtYmEzZC0xMWRhLWFkMzEtZDMzZDc1MTgyZjFiIiB4bWxuczpkYz0iaHR0cDovL3B1cmwub3JnL2RjL2VsZW1lbnRzLzEuMS8iPjxkYzpjcmVhdG9yPjxyZGY6U2VxIHhtbG5zOnJkZj0iaHR0cDovL3d3dy53My5vcmcvMTk5OS8wMi8yMi1yZGYtc3ludGF4LW5zIyI+PHJkZjpsaT5NdWNoYW1hZCBGYXV6eTwvcmRmOmxpPjwvcmRmOlNlcT4NCgkJCTwvZGM6Y3JlYXRvcj48L3JkZjpEZXNjcmlwdGlvbj48L3JkZjpSREY+PC94OnhtcG1ldGE+DQogICAgICAgICAgICAgICAgICAgICAgICAgICAgICAgICAgICAgICAgICAgICAgICAgICAgICAgICAgICAgICAgICAgICAgICAgICAgICAgICAgICAgICAgICAgICAgICAgICAgCiAgICAgICAgICAgICAgICAgICAgICAgICAgICAgICAgICAgICAgICAgICAgICAgICAgICAgICAgICAgICAgICAgICAgICAgICAgICAgICAgICAgICAgICAgICAgICAgICAgICAKICAgICAgICAgICAgICAgICAgICAgICAgICAgICAgICAgICAgICAgICAgICAgICAgICAgICAgICAgICAgICAgICAgICAgICAgICAgICAgICAgICAgICAgICAgICAgICAgICAgIAogICAgICAgICAgICAgICAgICAgICAgICAgICAgICAgICAgICAgICAgICAgICAgICAgICAgICAgICAgICAgICAgICAgICAgICAgICAgICAgICAgICAgICAgICAgICAgICAgICAgCiAgICAgICAgICAgICAgICAgICAgICAgICAgICAgICAgICAgICAgICAgICAgICAgICAgICAgICAgICAgICAgICAgICAgICAgICAgICAgICAgICAgICAgICAgICAgICAgICAgICAKICAgICAgICAgICAgICAgICAgICAgICAgICAgICAgICAgICAgICAgICAgICAgICAgICAgICAgICAgICAgICAgICAgICAgICAgICAgICAgICAgICAgICAgICAgICAgICAgICAgIAogICAgICAgICAgICAgICAgICAgICAgICAgICAgICAgICAgICAgICAgICAgICAgICAgICAgICAgICAgICAgICAgICAgICAgICAgICAgICAgICAgICAgICAgICAgICAgICAgICAgCiAgICAgICAgICAgICAgICAgICAgICAgICAgICAgICAgICAgICAgICAgICAgICAgICAgICAgICAgICAgICAgICAgICAgICAgICAgICAgICAgICAgICAgICAgICAgICAgICAgICAKICAgICAgICAgICAgICAgICAgICAgICAgICAgICAgICAgICAgICAgICAgICAgICAgICAgICAgICAgICAgICAgICAgICAgICAgICAgICAgICAgICAgICAgICAgICAgICAgICAgIAogICAgICAgICAgICAgICAgICAgICAgICAgICAgICAgICAgICAgICAgICAgICAgICAgICAgICAgICAgICAgICAgICAgICAgICAgICAgICAgICAgICAgICAgICAgICAgICAgICAgCiAgICAgICAgICAgICAgICAgICAgICAgICAgICAgICAgICAgICAgICAgICAgICAgICAgICAgICAgICAgICAgICAgICAgICAgICAgICAgICAgICAgICAgICAgICAgICAgICAgICAKICAgICAgICAgICAgICAgICAgICAgICAgICAgICAgICAgICAgICAgICAgICAgICAgICAgICAgICAgICAgICAgICAgICAgICAgICAgICAgICAgICAgICAgICAgICAgICAgICAgIAogICAgICAgICAgICAgICAgICAgICAgICAgICAgICAgICAgICAgICAgICAgICAgICAgICAgICAgICAgICAgICAgICAgICAgICAgICAgICAgICAgICAgICAgICAgICAgICAgICAgCiAgICAgICAgICAgICAgICAgICAgICAgICAgICAgICAgICAgICAgICAgICAgICAgICAgICAgICAgICAgICAgICAgICAgICAgICAgICAgICAgICAgICAgICAgICAgICAgICAgICAKICAgICAgICAgICAgICAgICAgICAgICAgICAgICAgICAgICAgICAgICAgICAgICAgICAgICAgICAgICAgICAgICAgICAgICAgICAgICAgICAgICAgICAgICAgICAgICAgICAgIAogICAgICAgICAgICAgICAgICAgICAgICAgICAgICAgICAgICAgICAgICAgICAgICAgICAgICAgICAgICAgICAgICAgICAgICAgICAgICAgICAgICAgICAgICAgICAgICAgICAgCiAgICAgICAgICAgICAgICAgICAgICAgICAgICAgICAgICAgICAgICAgICAgICAgICAgICAgICAgICAgICAgICAgICAgICAgICAgICAgICAgICAgICAgICAgICAgICAgICAgICAKICAgICAgICAgICAgICAgICAgICAgICAgICAgICAgICAgICAgICAgICAgICAgICAgICAgICAgICAgICAgICAgICAgICAgICAgICAgICAgICAgICAgICAgICAgICAgICAgICAgIAogICAgICAgICAgICAgICAgICAgICAgICAgICAgICAgICAgICAgICAgICAgICAgICAgICAgICAgICAgICAgICAgICAgICAgICAgICAgICAgICAgICAgICAgICAgICAgICAgICAgCiAgICAgICAgICAgICAgICAgICAgICAgICAgICAgICAgICAgICAgICAgICAgICAgICAgICAgICAgICAgICAgICAgICAgICAgICAgICAgICAgICAgICAgICAgICAgICAgICAgICAKICAgICAgICAgICAgICAgICAgICAgICAgICAgIDw/eHBhY2tldCBlbmQ9J3cnPz7/2wBDAAcFBQYFBAcGBQYIBwcIChELCgkJChUPEAwRGBUaGRgVGBcbHichGx0lHRcYIi4iJSgpKywrGiAvMy8qMicqKyr/2wBDAQcICAoJChQLCxQqHBgcKioqKioqKioqKioqKioqKioqKioqKioqKioqKioqKioqKioqKioqKioqKioqKioqKir/wAARCADEA/UDASIAAhEBAxEB/8QAHwAAAQUBAQEBAQEAAAAAAAAAAAECAwQFBgcICQoL/8QAtRAAAgEDAwIEAwUFBAQAAAF9AQIDAAQRBRIhMUEGE1FhByJxFDKBkaEII0KxwRVS0fAkM2JyggkKFhcYGRolJicoKSo0NTY3ODk6Q0RFRkdISUpTVFVWV1hZWmNkZWZnaGlqc3R1dnd4eXqDhIWGh4iJipKTlJWWl5iZmqKjpKWmp6ipqrKztLW2t7i5usLDxMXGx8jJytLT1NXW19jZ2uHi4+Tl5ufo6erx8vP09fb3+Pn6/8QAHwEAAwEBAQEBAQEBAQAAAAAAAAECAwQFBgcICQoL/8QAtREAAgECBAQDBAcFBAQAAQJ3AAECAxEEBSExBhJBUQdhcRMiMoEIFEKRobHBCSMzUvAVYnLRChYkNOEl8RcYGRomJygpKjU2Nzg5OkNERUZHSElKU1RVVldYWVpjZGVmZ2hpanN0dXZ3eHl6goOEhYaHiImKkpOUlZaXmJmaoqOkpaanqKmqsrO0tba3uLm6wsPExcbHyMnK0tPU1dbX2Nna4uPk5ebn6Onq8vP09fb3+Pn6/9oADAMBAAIRAxEAPwD6PooooAKKKKACiiigAooooAKKKKACiiigAooooAKKKKACiiigAooooAKKKKACiiigAooooAKKKKACiiigAooooAKKKKACiiigAooooAKKKKACiiigAooooAKKKKACiiigAooooAKKKKACiiigAooooAKKKKACiiigAooooAKKKKACiiigAooooAKKKKACiiigAooooAKKKKACiiigAooooAKKKKACiiigAooooAKKKKACiiigAooooAKKKKACiiigAooooAKKKKACiiigAooooAKKKKACiiigAooooAKKKKACiiigAooooAKKKKACiiigAooooAKKKKACiiigAooooAKKKKACiikDqWwGGfTNAC0UUUAFFFFAFe6v7Ox2/bbuC33fd86QJn6ZNV/7f0b/AKC1j/4Ep/jXM/Eb4dnx7HYKNQ+xfZC5/wBVv3bse49K8d8ffCY+CPD6amdWF3umEXl+Tt6g85yfSgD6I/t/Rv8AoLWP/gSn+NWba8tb2MvZ3MNwgOC0UgcA/hXzv4M+DTeLvC9vrA1kW3nMw8owbsYOOua9h+H/AIJPgTRbize++1iWXzd/l7McYxjJ9KAOuorI0zxVoes3UttpmpwXM0KlpERuVA7mpNO8R6Rq1/cWemX8N1PbAGVY2ztBOOtAGnRWdqviDSdDjD6tqFvaA9BI4BP4dayrL4i+E9Ruhb2ut2xkY4AZtuT+NAHTVxl58UvD1j4wHh2Z5ftPmCJpAvyK57E12QIZQVOQehFec6h4b8AzfEhLu8u1XWzMrfZPNwHk7Er696APR6Kp6lq1jo1k13qlzHa26kAySHABPSqqeKdDfR/7VXU7f7Dkjzy+FJHUUAa1Fc3p3xA8Latdi2sdZtpJicKhbbu+metdJQAUUVQ1bW9N0K1W51e8jtIWbYryHAJ9P0oAv0VkzeKdDttIj1SfU7eOylGY5mfAf6etVtI8c+Gtcufs+mavbzTdo92CfoD1oA36KzdX8Q6ToMIk1i/gtFPTzHwT9BVPSPG/hzXbjyNL1a3nmPSPdhj9AetAG9RRVTUdVsNItvtGqXcNrF/elcLmgC3RXLW/xK8IXVyIIddtd5OBuJUH8TXTRypNGskLq6MMqynII+tAD6KQkAEngDqTXN33xE8J6ddG3u9btVlBwVVt2PyoAveJfE2m+FNLGoaxI6QGQRgom45Oe34VY0PWrPxDo0Gp6azPbTglCy4JwcdPwrzb416nZat8MYbnTbqK5ha9jw8TZHRq6T4R/wDJLdH/ANx//Q2oA7SiquoalZaVam41K6itYR1eVworAg+JXhC5uRBHrtrvJwMkgH8TQB1Ncz4l8faF4T1CCy1iaWOa4TfGEjLZGcfzro4pY5olkhdZEYZVlOQR9a8D+Pn/ACO+jf8AXuP/AEYaAPflYMoYdCMilqOD/j3i/wBwfyqSgAoqve39pp1uZ7+5itol6vK4UfrXOD4neDjceSNdtt2cZycfnigDq6KitrqC9t0ntJkmhcZV42BB/GqGseJtG8PtEus6hDaNMCYxIcbsdf50AalFY+qeK9D0W2jn1PU7e3SVQybm5YHoQOtGi+LdC8Qkro+pwXLryUVvm/I80AbFFGKy9Y8SaPoCBtY1GC0z0Ej4J/DrQBqVzGg/EDQfEmuT6Tpc0r3cCszq0ZUAKcHn6mrOkeNPDuvymHSdVt7iXH+rDYY/ga8a+DX/ACV7Vv8ArjP/AOjFoA+g6KKKACisrWfE+jeH1B1jUYLUt0V2+Y/h1qHR/GXh/XmZNJ1S3uHUZKBsNj6GgDborI0rxTomt3cttpWowXU0Q3OkbZKjOK1mYIpZiAo5JJ6UALRXM3vxF8JafcGC51u1EgOCFbdj8q2NL1rTdbt/P0m9hu4+5icHH19KALjyJFG0krqiKMszHAA+tQ2t/Z3277FdwXG373kyB8fXFc/8QNa07SvCN/DqF3HbyXVtIkCucGRtvQfnXk/wO8TaPoFvqw1rUYbQyshj8043YBzQB9AUVWsNQtNVsY7zTp0uLeUZSRDw1WaACikZlRSzkKoGSSeBXM3fxI8I2VyYLjXLYSA4IVtwH4igDp6KpabrGnazb+fpV7Ddx/3onBx9fSn6lqdlpFi95qdwltbpjdI5wBmgC1RWXB4m0W50htUh1G3axUlWn34UEdsmn2mvaZfaM2rWt3HJYKGYzj7oC9T+GKANGisnTvFOiataz3On6nbzwW2POkV8Kn1JqfSdc03XYJJ9Iu47qKNzGzxnIDelAF+is/Vde0rQ4fN1e/gtEPTzXAJ+g71k2PxF8J6jcCC11y1MhOAGbbn86AOmopAQygqQQeQR3rK1XxTomh3Mdvq2ow2s0gyiSNgsOlAGtRWXqPiXR9Jlgi1DUIIJLggRRs3zOT0wK1KACikYhVLMcADJNZGm+LdB1eaaLTdUt53gXfKFb7g6ZNAGxRXLyfEnwjHefZm1218zOOGyM/XpXQC/tDY/bPtMX2bbu87eNuPXNAFiiuX/AOFk+EPtf2b+3bXzM4+9xn69K6WGaK4hWa3kWWNxlXQ5BH1oAfRTXdY42eRgiqMlmOABXM3XxJ8IWdwYJtdtfMBwdrbgPxFAHUUyaaK3haWeRIo1GWd2CgD3JqtpurWGsWwuNLvIbqL+9E4bFcr8V9Y0+w8B6lZXl1HDc3duwgiY8yEEdKAOvtb21vUL2VzDcKpwWikDgH8Knrwz4JeK9D0Hw3fwaxqUFpLJdblWRsEjaOa9pg1KzudMXUYLhHtGj8wTA/KV9aALVNd1jjZ3O1VGST2FZWl+KdD1lJ30zU7e4W3G6VlbhB6mpdN1zStfjuV0y7ivEhby5jGcgEjpQBz/AId+KHh/xP4il0fTmmE67ijOmFk29cV2VedeDPDvgKx8W3N14ZvFuNRUPmLzd3lAnDYH6V6J2oAWiuc1Lx/4W0icw32s2ySqcFFbcR+VX9H8TaLr6k6PqNvdEDJVH+Yfh1oA1KKKhvLy30+zluryVYYIl3PIx4UetAGF4s8daJ4NijOr3B82TlIIxudh649KzvC/xU8OeK9QWxspZYbph8kc6Y3/AENeM6xqmk+KPja0+tXqSaL5+0Slvk8tV4H0JH617N4W07wJda22oeFFs3u7eLYxtuiqe+PXjrQB2lFU9R1aw0i2+0aneQ2sX96Vwuawrf4leD7q4EMWu2u8nA3MVB/E0AdTRTY5UmiWSF1dGGVZTkEVnax4j0jw+sR1m/hsxMSI/NON2OtAGnRWVf8AifRdL0+G+v8AUYIbedQ0Ts33wehA71pxyLNEkkZyjgMp9QaAHUUVlax4n0Xw+oOsalBaluiu/wAx/DrQBq0Vz+l+PPDGszCHT9ZtpJTwEL7SfzrYvr6202xlvL6ZYbeJdzyN0UetAFiisi08V6FfaZLqFrqls9pC22SbfhVPoSaz7X4j+Ery6FvBrlqZCcAM2AfxNAHT1zPiTx/oXhXU4LDV5pUnuEDoEjLAgnH866VWDqGQhlYZBB4NeAfHj/koGjf9eyf+jDQB7pquq2ujaPPqd++y2gTe7Y7VieDvHukeNo7g6V5qPbkb45VwcHoa1datdPvPDdzBrW0WLw/vyxwAuOua5v4c6L4R0q2vG8HXYvN7ATymTcR6CgDrbrUbGxZVvby3ty3KiaVUz9MmrCsGUMpBBGQQetfPXx41rTtV1rTItOu47h7VJI5wh+424cGvXdA8b+G763sLC11e3lumiRFiVvmLbelAHU0UUUAFFFFABRRRQAUUUUAFFFFABRRRQB438Z/iLf6NdJ4f0OY28rRh7idDhgD0UHt9a8Qg1rU7a8F3BqF1HcZz5qzNuz9c16L8dtCurPxkurFGa1vI1AkxwrKMFf615bQB9N/CHx5ceMNGnttUIa/sSA8g/wCWqno314r0WvFv2fdBu7a31DWbiNo4LgLFDuGN+Dkke3avaaACiiigBa8v+Pv/ACT+H/r8T+Rr0+vL/j5/yIEX/X2n8jQBqfBj/kl+n/78n/oRruJ/+PeT/cP8q4f4Mf8AJL7D/fk/9CNdzN/x7yf7h/lQB8neFrbWNU8U3ejaDMYJNRZoppQSNsYbLHI7cV9AeA/hvZeBmnlt7ua6nuY1SUuAF4OeBXmPwOjVviNqrMASsL4Pp89e66xfHTNDvb5V3tbwPKF9SATQB59rfwk0fVPFl1rGv6xM0E7bkgeXbt9RuPb0Fcz4++GfhTTfClzqXh69Ed1arv8ALNyH8wZ5H1rF8D+Hrv4s61qF74j1m5CW5BMcbcktngA8ADHpW545+Efh3wv4OvtUi1C+M0SDyUllUq7k4AxjmgDrPgjrVzq/gLZeSNK9nO0CuxySuAQP1rg9c/5OYtv+vuH/ANAFdV+z5/yJd/8A9fp/9AWuV13/AJOYtv8Ar7h/9AFAHoHxtGPhldf9dov/AEKvPfhr8PpfHGgRT67fTJpFpIyW9tEcbmPLN+uK9D+N3/JMrr/rtF/6FSfBH/kmNr/12k/9CoA89+J/wqsvCOix61oM03lxyKkqSNkrnowP1r1P4V65ca/8PLC6vXMk8e6F3PVtpwD+WKp/Gn/klmof9dIv/Rgqr8DP+SZwf9fMv86APR68q/aB/wCRHsv+v5f/AEBq9Vryr9oH/kRrP/r+X/0BqAOc+H/w1bxr4ds9S8UXk/2KJDDZW0TbcICct+JzWL8UPh9F4AnsNU0G5mEEsm352+aOQcjB/wA9K9j+FX/JMNF/64n/ANCNcp+0J/yKGnf9fn/shoAy/CPw8l+IlkPE/ja/uJjdcQRRtt2qOM+w46Cuc+J3w8j8Ay2Oq6BdTrA8m0bm+aJxyCCK9l+F/wDyTHRP+uH/ALMa5X9oH/kS7P8A6+x/6CaAOz8N+Ivtnw7s9dvj832TzZj6lRz/ACrxLSdP1X40eNLq51G7eDTrY52ryI0zwqj1Pc16b4Xs5L/4DxWsAzJLp8iqB3PNcZ+z/q1taXmqaPcssd1MweNWOC23IIHuKAOgv/gJ4clsGTT7i6gudvySO+4Z9xXPfCzxLqnhbxtL4K12QvEZGji3HPluORj/AGSK90ZljQvIQqqMlicACvni0mTxT+0Mt3pP72Bbnf5i9CqDBb6cUAdV8cvGF7p6Wvh7SpWie8TfO0ZwxUnAX8ab4W+BOlNosU/iSWeW7mQO0cT7RHnt7msD44wvp/xD0nVJVLQGJD9dj5I/WvdtL1G21bSre+sZFlgnQMjKc0AfOnxO8CXHgW3RNNu5ptFvZATG5zskUHGfwJ5r2D4TyLD8J9Kkc4VIpGJ9AHauY/aA1m0j8NWmkb1a7muBNsB5RVB5P510Pwzha4+DNjCn3pLaZR9SzCgDzG1hv/jN8QLoXl69vpVnkqgPCpnAAHTcfWu5vvgX4Ul09o7Ka4guQvyzGbdz7ivI/AvhOTxD4kvNIOsNpF1GDgYOZCDgjqORXo3/AAovVf8Aobp/++W/+KoAo/B7X9R0bxld+DdRnaaFGkWMM2fLdeu32NVfj5/yO+jf9e4/9GGuo8EfCX+wPFkOuLr8eoeQzq6qnJYgggnJ5Ga5f4+/8jvo3/XuP/RhoA97g/494v8AcH8qkqOD/j3i/wBwfyqSgDhPHnw5tvGWp2d3f6rNaWsClZYd3yt6EZ4B96wr34ReA302SO1vTDcBDslN2Dz7iuQ1+61T4g/F6Tw7PqUtnYxzNEiIcBQo5OO5NdlN8CPDdvbPLNqWpARoWZmlUAYHX7tAHO/AjVbq18SaloDzGS1CM6rnIVlOCR9ad+0T/wAf2h/7kv8ANazPgakcfxIvkgYvGtvIEY9xuGDWn+0R/wAf+hf7kv8ANaANPw38I4fEukW+s+Mb25nu7qFGSKN9oiTHyj8sVw3jvwtP8LPF1he6HdymGT97A7H5lKnlT6j/ABr6N0L/AJF3Tv8Ar1i/9AFePftF9ND/AO2v/stAHqGseJl0vwFL4gK5K2gmVfVmAwPzNeHeB/Bl78U9YvNa8R3sxtUkw7A/M7ddq56AV6b4us5b74EmKAEuthDJgdwoUmsX4AaxaS+GLrSQ6rdwzmUpnllIHP6UAHiD4J2NjpzX/g+5urbUrUebEGkzvI5wD2Nch8CHkk+JV48+TK1nKXyO+9c19A6rqVtpGl3F/fSLFBBGXdicdBXgXwQuBdfFLULhF2rLbTOB6AyKaAPoiszxFrCaB4cvtUkXcLWFnC+p7D860657x5pk2seBNWsrUFppICUUfxEc4/SgDxbwD4Qm+KWt3+u+KLqWS3STBVWwXY87R6KBXZ+Jfg1ptjpcmo+D5Liw1K0UyRYlLB8Dp7GsP4EeK9P06C70HUpktp5JfMhMh2hzjBXPrxXqHjHxhpXhjw/cXN3dRGVo2EMKuC0jY4AFAHj/AOz+Wbxnqhk++bTLZ9d4rd+M/izUH1a08IaNK0LXW0zspwW3HAXPp61hfABzJ401R26ta5P/AH2KqfGjT3T4pQSzytbQXUce2fH3AOCfwoA7jSPgV4bh05BrFxPdXbLl3SXYoPsK4bxNo938HvGVjf6FeySWVxkhWb7wB+ZG9eCK6OH4I6lcQpLD4xleORQysqsQQe/3qhuPgTPPPHBeeLRJKQWSORCWI7kAtQB3Pj/QNK8X+Bjql4sjG2tGubYq+MEpnn17V5T8IPAmi+MYdSbWo5XNuyCPy5CuM5zXtWsaedN+GN3p4fzTbaaYtwGN21MZx+Fecfs7MPJ1tcjdvjOPwNAHrmiaLaeH9Hg0zTlZbaAEIHbJ6561oUUUAeK/GPxNqN/4ks/BeiymM3GwTlWxvZzwpPpjmtbS/gV4Yg09U1S4nuror88iy7QD7CuB+LWlvF8YQ13ctaQXwhZbkA/u1wFJ/Aiupj+B+oyxrJF4xmZGGVZVYgj/AL6oA5nXNPu/g948s7jRr15bG4+bYzfeTOGRvX616f8AFy4W7+El3cR/dlETj6Eg1x83wIluLpIbrxYJZwu9Y5IyW255IBbpXW/Fa1+w/B24tS2/yUhj3YxnBAzQB5T8PfCGq/EDTxp0169poenyFm2j78jdgO5x3PSvZ73w7beFfhLqek2MkkkMNlOQ0h5OQT/Wsb4ERqnw73AYL3UhJ9eldf40/wCRF1r/AK8pf/QTQB85fD7QNW8YST+H7K6NrpzMs95IO+OAPf6V7rp2jaf8KvAuoSWsstxFCGnYyYyzYwBxXFfs6xL9h1uXHz+bGufbBrvvibYzah8ONXgtgWk8neAO4BBP8qAPHvCHhXUfi7r15rXiK+kWzjkwdvUnsijoABXY658A9GfTJP7BubiC8VSY/NfcrH0PpUX7P2sWjeH73SS6rdxzmbYTyykAZ/DFet3d3BY2ct1dyrFDEpZ3Y4CgUAeOfBfxjfrqlx4P1x3aW3DfZzIclCpwyZ/l9KxP2gHMfjDTGXqttkf990z4aBvEHxwvdXsUP2VXmnLY6KxIX881N8exu8baSDyDAM/990AbPhL4WXPiGS18VeLdRmN3MyzxwJ/CAQVBJ/kK9nqvYqEsYEUYVYlAHpxVigCK5/49Zf8Acb+VfLXgPQb/AMUeKr3R7O7a0tpwTdyJ18sNnH4nFfUtz/x6y/7jfyrwb4C/8jvrP/XA/wDodAG74j+BeiW3hu6n0me5S8giMimRwyvgZwRiuC+H+ma145UeFm1KWDR7ZjcTKD+GB+NfSOs/8gS9/wCvd/8A0E14l+z5/wAjDrP/AFxX/wBCoA2fEnwK0WDw9czaLPcreQxl18x9yvgZx0qH9n7Xbm5t9S0a4kZ47YLLEGOdgJwQPxr1/UP+QZdf9cW/lXhn7PX/ACMetf8AXuv/AKHQBe+LniTUda8XWvgjRZjEsjIs5DY3s3QE+gBzW1p3wJ8LQ2CpqM89zckfPKsu0Z9hXnfxO0tk+NEiXl01jDeyRMl1zhFIC7vwINdcnwO1KRA6eL5mVhkEKxBH/fVAHM6laXvwd+Ido2lXrzafc4Yox++mcFWHqPWvTPiz4e03XfA8+tXKObixtTJbFXwBuweR3rkpPgRNPeJHc+KxLOi7xHJGSwXPXBbpXoXxAtzb/CfVoAd5istpIHXGOaAPKfhH8PNB8YaDe3WsxTPLDceWpjkKjG0GvaLvTLfRvAd1p1kGFvbWMkcYY5IAU968/wD2emB8L6ooI3fawSM9PlFel+IP+RZ1P/r1k/8AQTQB8weAdH1fxPf3Ph/S7n7Na3WHvJR2Rc8e/XpX0P4I8DWfgbTLm1sbiW4+0MHkaTHUDHGK8z/Z3Rft2tvj5gkYB9smvdG+6fpQB8/fBf8A5Ktq/wD1ym/9GCul+NnjW80qO28O6PI8VxeJvmdDhghOAoPvzXNfBb/kq2r/APXKb/0YKT43RS6b8StM1aRC0BijZTjglGOR/KgDd8M/Aaxk0uO48TXU7XcqhmihYAR57E9zV7Sfgkuh+NLTVNN1iZLKBt7R5IkJH8OR1B716ZpOq2mt6XBf6dKssEyhlZT+n1p8uo2cF9DZTXMSXM4JihZwGcDrgUAWaqapptvrGlXGn3oZre4QpIFODg+9W6KAPl6z8I6XN8bH8NOkh05bl4wu/wCbaFJHNe66J4O8P/D211DUdNSWJDDumMkm75Vya8n07/k5yT/r9l/9ANe2+LLGXU/CGq2dtzLNbOqD1OOlAHg+k6dqvxp8aXNzqFy9vptsckDkRqTwijpk+td1f/APw5LYMmn3N1Bc4+WR3DDPuKwP2ftYtrW41TRrlhFdTMskascF8cED3Fe4uyxqXkIVVGSSeAKAPC/hZ4k1Twv42m8Fa3KZIDI0cYY58txzx7H0q1+0V/x7aJ/vy/yFYVlMnir9odbvS/ngS53l16FUXBP44re/aK/49tE/35f5CgCh4P8AhpfePtMtta8UahNFaiNYrSGPr5ajAPPQcV7vbwrb20UKElY0CAn0AxWR4LRY/A+jKgwos4+P+AitsdKAGyErGxUZIBIFfMWiJpHir4kagfH+ovArO+3e+wFg2Auf4QBX0/nHJ6V514j+GHhXx48mpafci3uWYh7i0YMrsODuX1/KgCivwW8I3lxb3mjXcqpHIrkJMJFcA5xntXU/EtQvwx1tV4AtcD8xXh+vaL4l+EGtWk9nqm+CckxlGIV8YyGX8a9k8aX39p/Bi/viuw3OnrKV9N204oA8a+GPg688cQy2NzdywaJay+bMsf8Ay0kIxj8hXf8AiH4DaM+kyN4fmngvI1JQSvuVyOx9Kpfs9axajTdS0h3VbozCdFPV12gHH0x+texXt7b6dYzXd5KsUEKlndjgACgDxz4G+Lr57668LarI8nkIzwbzkptOGX6Vk/Hj/koGjf8AXsn/AKMNRfCFW1b4v6jqsCFbcCeU8cAO3A/Wpfjv/wAlA0b/AK9k/wDRhoA9g8af8k+1b/ryf/0GvOv2d/8AkE6x/wBdk/ka9E8Z/wDJPtV/68n/APQa87/Z3/5BGsf9d0/kaAOU+NvhfTfD2vWc+mpIr6h5ks+985bcOnp1r1Hwv8KvDOlS6drFpDOLuNFlUmYkbivp+NcP+0SD/amhnHHlSc/8CFe1aOwfQ7F0IKtbxkEHr8ooAyPGfjjTPBGnxXOprLK0zbY4ogCzY69a0fDuv2XifQ4NV0xmMEwOAwwykcEGsrx14R0TxZpMUevXBtVgfdHOsgQqT1GTxWn4a0Ow8O+H7fTtIO61jGVctuLk8kk+9AGrRRRQAUUUUAFFFFABRRRQAUUUUAVNT0uy1mwey1O2jubeT7yOMiuPh+DXgyG7+0DTnc5z5bysV/Ku7ooAjt7eG0t0gto1iijXaiIMBRUlFFABRRRQAVxPxT8Kaj4v8Kx6fpHk+etwsh819owAe+D6121FAHL/AA68P3vhjwTa6Xqfl/aYmct5Tbl5bI5rppFLxOo6lSBTqKAPKfhl8O9c8J+Lb/UdV+zeRcRsqeVKWOS2eRgV6nNDHcQSQzKGjkUqynuDT6KAPCtQ+EXivw3rst74D1ACGTO1fO8t1H9054Iqy/ws8Z+JLGeXxjrXnSxxN9ltRLkGTHBY4wB9M17ZRQBwnwn8Ian4N8O3VlrPk+bLcmVfJfcNu0D0HpWHqfw51y7+MsPieL7N/Z6XEchzKd+FUA8Y/rXq9FAHJ/Erw5feKvBc+l6V5X2h5EYea21cA5PNHw28OX3hXwXBpeqeV9oSR2PlNuXBORzXWUUAct8RvD174o8D3elaZ5f2mZkK+a21eGBPP4VD8MvDN/4T8Gx6ZqvlfaFmdz5T7lwTxzgV19FABXDfFbwjqXjLwzb2Oj+T50dyJW859oxtI9D613NFAGB4H0a68PeCtO0u/wBn2i2jKv5bZXOSeDWF8WPB2p+M/D9nZ6P5Pmw3HmN5z7RjaR6H1rvKKAMLwTpF1oHgvTdLv9n2i2i2SeW2Vzkng/jWF8VvCOpeMfDlvZaP5Pmx3Akbzn2jGCPQ13VFAGD4J0e50DwZp2mX+z7Rbx7X2Nlc5PQ1wvjj4NnVNVbWvCV0lhfM+94iSqs395SOhr1iigDwSXwB8VdYhOn6nq220PDGS7yrD8Bk16V4A+Hen+BrJjG/2m/mGJrgrjj0A7CuxooA5/xl4N07xpopsdQyjqd0My/ejb1+ntXkVv8ADT4leGpntvDuqL9lZuGjudq/Uqeh+le+0UAeEah8EdfvtEku73UY77XppVLGWU7ETnPzEcnp2r1TwDod54c8EafpWpeX9pt1YP5bbl5Yng/jXR0UAeW+O/hB/bWptrfhi6FhqRO51JKq7f3gRyprnf8AhD/i9dobK41jy4CNpkN0OR9QM17pRQBx3w78CHwRpk0c2oSXlxcsHlJ4RT/sj+tc38U/h3rfjDxLp19pH2bybeEI/mylTndngYNeq0UANiUpCinqqgGnUUUAeRePvhHqGo+Ij4h8I3iW947b5Incp8395WH8qoW3gH4k+IAtn4p142+nE/vVE25nHpgf1Ne2UUAeTfDf4Zav4P8AGl3f3ZtzYtG8cWyXc+CeMjHoKt/FvwBrPjS60yTRvs+21VxJ50m3qRjHB9K9OooAraZA9ppNnbS43wwJG2DxkKAa8++LvgPWPGo03+xfs/8Ao2/zPOk29cYxwfSvSqKAKGk2BtvDtnYXiqxjtkhlUcqcKAfwryHxL8FdUsdbOq+A70QZYsIWkKNGfRW7j617bRQB4jafDHxx4muIU8cayy2EZy0In3s3tgcfjWn8NPhnrPhDxtd6lffZhZPDJFEI5SzDLAjIx6CvW6KACiig5IOODQB5j4t+CukeI9Qlv9LvDptzI2ZFRA6FvXGRg1n6P8E9K8PNJq3iTVDqCWqGXy2TZGMDOTknNZuseEPiX4c8QXmqeHNRe/S6kMjiNxk/WNuPyrPudC+LHjdRY6z5trZkjf5xWJD9QvLUAT/AaI3HjHXL2JcQeVgHHHzPkD8hXqfjbwPp3jfSRa32Yp4smC4UZaM/1HtS+BvBlp4J0AWNs3mzSNvnmIwXb/AV0tAHg8HgD4o+HAbPQtXWS0Bwmy4wAPow4/Ct7wj8LNfj8TQ+IfF+tvNdQnKRxSFifYse3sK9aooAZPClxbyQzLujkUqw9QRivDb74TeL/DWvz3fgS/UW8xOP3vluoPYg8HFe60UAcj8O9A1/QNFnj8T6kL25nm80AEt5eeo3HrmuuoooA5bxz4E0/wAcaWsF2xguYsmC4UZKH0PqK8wg8B/FTw+v2LRtWWS0BwhS5wAPowyPwr3iigDynwZ8LtctPEsXiHxbrck97EcpHDKWz7Mx7ewrr/iJ4fvPE/gq70vTPL+0TFSvmttXg56109FAHHfDHwxqHhLwgum6t5XniZ3/AHT7hg9OcVv+I7CbVPDGpWFrt865tniTccDJGBmtKigDzv4R+CNW8FWOoxaz5G65kRk8l93ABHPAr0NlDqVYAqRgg96WigDxzxT8F7yPWG1fwLfLZTMxcwM5Taf9lh29jWPJ8OPiZ4jC2fiDVgloCN3mXO4Eeu1ev4173RQBzfgrwTp3gjSDaWGZZpCDPcMMNIf6D2rj/ij8O9b8XeJdPvtI+zeTbxBX86Qqc7s8DBr1SigCOCMx28aN1VQD+VSUUUAMmUvBIi9WUgflXl3wu+Hmt+EPEmo32rfZvJuIiieVKWOd2eRgV6pRQBW1GB7rTbmCLG+SJkXJ4yRivN/hR8Pta8G6rqNxrH2fZcRhU8mTcc5zzwK9RooAhu42mspok+88bKM+pFeZ/Cb4e614M1fUbnWfs2y5iCJ5MhY53Z54FepUUAcl488AWHjnTljuG+z3kIPkXCjO32PqK81g8DfFbQ1FjpOrK9opwjLc8AfRhkV7vRQB5b4H+GGs6d4kXxF4r1qS4vlztjikLA57Mx6j2Fel3tnDqFjPZ3aB4LiMxyKe6kYNT0UAeDyfCnxv4X1i4bwVqS/ZJzjcJvLYL2DA8ceor0Xwr4Y13S/Ad5pmt6it9fXKS7TuJCFgeNx5PJrs6KAPMvhJ4B1jwXNqT6z9nxchBH5Mm7pnOeB616YRlSPalooA8p+HPw51zwv45v8AVtT+zfZrhJFTypSzfM4IyMeldv4w8H6f4z0Y2GogoVO6KZPvRt6it+igDwCP4W/ETw1cSReGtUDWzNwYbny8j1Knoa3vCnwg1Y+IItc8aau89zC4kSOKUsSR0yx6D2Few0UAFFFFAHk9p8ONcg+ND+KH+zf2ebl5RiU78FSOmPevWKKKAPJ/HHwbbVNVbWvCd0thfs+94mJVWb+8pH3TXOS+APirq8X2DU9WxaHhjJd5Uj6AZNe90UAcd4A+HWn+B7JjG32nUJhia4Ix/wABUdhWR8XPAur+NYdNXRvs+bZnL+dJt64xjg+lekUUAZ3h+xl0zw3p9jc7fOt7dI32nIyBg4rRoooAgvbUXtjPatI8YmjKF4zhlyMZFeJXPwh8Y+G7+W48Ga2Hjc5wZTE59iOhr3SigDwyz+E3i/xPrMF1481MG3i6r5vmOR6ADgZ9a9G+IsEdr8K9XggUJHFZhEUdgCABXW1heNdKudc8F6nptgFa4uYdkYZsAnI70AeEfDz4fTeKvCdxqej37WGr2d2Vhk3EKw2g4JHI6nmte7+GvxM8QOtlrmqq1orctJdblPvgDn8a7/4R+EdV8HeHbuz1pIkmlufMURybhjaB/Su+oA5nwR4IsPBGjm0syZZ5MNPOwwZD/QVyHxQ+HWt+LvFWn6hpP2bybeFUfzZSpyHJ4GD2r1WigDJ8R6bPqnhO+0612+fPbNGm44GSMda5H4SeCdW8F6fqEOs+RvuJFZPJk3cAd+BXolFAHH/EbwJH450NIFlEF5bkvbyMOMnqD7GvOtJ+H3xNje106bWFtdOtpFZWFxuUAHPAAyfoa91ooA87+K/grWfF+g2MOkTo8ts+ZInbYJOMZ+v+NdB8P9AvfDPguz0vU5hNcRbi205C5OdoPtXSUUAFFFFABRRRQAUUUUAFFFFABRRRQAUUUUAFFFFABRRRQAUUUUAFFFFABRRRQAUUUUAFFFFABRRRQAUUUUAFFFFABRRRQAUUUUAFFFFABRRRQAUUUUAFFFFABRRRQAUUUUAFFFFABRRRQAUUUUAFFFFABRRRQAUUUUAFFFFABRRRQAUUUUAFFFFABRRRQAUUUUAFFFFABRRRQAUUUUAFFFFABRRRQAUUUUAFFFFABRRRQAUUUUAFFFFABRRRQAUUUUAFFFFABRRRQAUUUUAFFFFABRRRQAUUUUAFFFFABRRRQAUUUUAFFFFABRRRQAUUUUAFFFFABRRRQAUUUUAFFFFABRRRQAUUUUAFFFFABRRRQAUUUUAFFUda1NdG0O81F4zKtrE0pQHBbA6ZrhrT4o6rfWkV1a+DL6SGVQyOs64YHvRuB6PRXn3/AAsfW/8AoSNQ/wC/yUf8LH1v/oSNQ/7/ACU+Viuj0GivPv8AhY+t/wDQkah/3+Sj/hY+t/8AQkah/wB/ko5WF0eg0V59/wALH1v/AKEjUP8Av8lH/Cx9b/6EjUP+/wAlHKwuj0GivPv+Fj63/wBCRqH/AH+Sj/hY+t/9CRqH/f5KOVhdHoNFeaaj8WNR0uya6vvB19DChAZ2nXAycCrCfEnWnRWXwTfkMMg+ctFmF0eh0V57/wALH1v/AKEi/wD+/wAtH/Cx9b/6Ei//AO/y0crC6PQqK89/4WPrf/QkX/8A3+Wj/hY+t/8AQkX/AP3+WjlYXR6FRXnv/Cx9b/6Ei/8A+/y0f8LH1v8A6Ei//wC/y0crC6PQqK89/wCFj63/ANCRf/8Af5aP+Fj63/0JF/8A9/lo5WF0ehUV5nffFnUNNWE3vg+9i86URR7p1+Zj0FWv+Fka3/0JF/8A9/0o5WF0ehUV57/wsfW/+hIv/wDv+lH/AAsfW/8AoSL/AP7/AKU+VhdHoVFee/8ACx9b/wChIv8A/v8ApR/wsfW/+hIv/wDv+lHKwuj0KivPf+Fj63/0JF//AN/0o/4WPrf/AEJF/wD9/wBKOVhdHoVFee/8LH1v/oSL/wD7/pR/wsfW/wDoSL//AL/pRysLo9CorzOb4s6hb39vZTeDr1bm5yYozOuXwMnFWv8AhY+t/wDQkX//AH/SlysLo9Corz3/AIWPrn/QkX//AH/Sj/hY+uf9CRf/APf9KfKwuj0KivPf+Fj65/0JF/8A9/0o/wCFj65/0JF//wB/0o5WF0ehUV57/wALH1z/AKEi/wD+/wClH/Cx9c/6Ei//AO/6UcrC6PQqK89/4WPrn/QkX/8A3/Sj/hY+uf8AQkX/AP3/AEpcrC6PQqK8z/4W1qB1U6b/AMIfe/axH5vleeudvTNWv+Fj65/0JF//AN/0o5WF0ehUV57/AMLH1z/oSL//AL/pR/wsfXP+hIv/APv+lPlYXR6FRXnv/Cx9c/6Ei/8A+/6Uf8LH1z/oSL//AL/pRysLo9Corz3/AIWPrn/QkX//AH/Sj/hY+uf9CRf/APf9KOVhdHoVFee/8LH1z/oSL/8A7/pR/wALH1z/AKEi/wD+/wClHKwuj0KivMrf4tahdX1zZ2/g+9e4tSBMgnXKZ6Zq3/wsfXP+hIv/APv+lLlYXR6FRXnv/Cx9c/6Ei/8A+/6Uf8LH1z/oSL//AL/pT5WF0ehUV57/AMLH1z/oSL//AL/pR/wsfXP+hIv/APv+lHKwuj0KivPf+Fj65/0JF/8A9/0o/wCFj65/0JF//wB/0o5WF0ehUV57/wALH1z/AKEi/wD+/wClH/Cx9c/6Ei//AO/6UuVhdHoVFeZ2PxY1HUkkay8HXsqxSGNys68MOoq3/wALH1v/AKEi/wD+/wClFmF0eg0V59/wsfW/+hIv/wDv+lH/AAsfW/8AoSL/AP7/AKUcr7BdHoNFeff8LH1v/oSL/wD7/pR/wsfW/wDoSL//AL/pRyvsF0eg0V59/wALH1v/AKEi/wD+/wClH/Cx9b/6Ei//AO/6Ucr7BdHoNFeff8LH1v8A6Ei//wC/6U2T4lazFG0j+Cr4KoJJ89OBRysLo9DorzTT/ivqOqWSXdj4OvpoHztdZlwcHFWf+Fj63/0JGof9/ko5WF0ehUV57/wsfW/+hI1D/v8AJR/wsfW/+hI1D/v8lHKwuj0KivPf+Fj63/0JGof9/ko/4WPrf/Qkah/3+SjlYXR6FRXnv/Cx9b/6EjUP+/yUf8LH1v8A6EjUP+/yUcrC6PQqK89/4WPrf/Qkah/3+SoL34p6pp9lLd3fgy+ihiXc7tOuFFHKwuj0mivObf4n6vdW0c8Hgu+eKRQyMJ15B71J/wALH1v/AKEi/wD+/wClFmF0ehUV57/wsfW/+hIv/wDv+lH/AAsfW/8AoSL/AP7/AKUWYXR6FRXnv/Cx9b/6Ei//AO/6Uf8ACx9b/wChIv8A/v8ApRZhdHoVFee/8LH1v/oSL/8A7/pR/wALH1v/AKEi/wD+/wClFmF0ehUV57/wsfW/+hIv/wDv+lVr/wCK+o6Zb+ffeDr2GLcE3NOvUnAHSizSuF0el0V56PiPrZGR4Iv/APv+lL/wsbXP+hH1D/v+lY+2p90Xyy7HoNFeff8ACxtc/wChH1D/AL/pR/wsbXP+hH1D/v8ApR7an/Mg5Zdj0GivPv8AhY2uf9CPqH/f9KP+Fja5/wBCPqH/AH/Sj21P+ZByy7HoNFeff8LG1z/oR9Q/7/pR/wALG1z/AKEfUP8Av+lHtqf8yDll2PQaK8+/4WNrn/Qj6h/3/SmxfE+9XWNOsdR8LXdiL+4WBJJJlIBP0pqpCTsmLla6HodFFFaCCiiigAooooAKKKKACiiigAooooAKKKKACiiigAooooAKKKKACiiigAooooAKKKKACiiigDB8cf8AIh6z/wBekn8q5rwV/wAiPpH/AF6p/Kum8cf8iHrP/XpJ/KuY8Ff8iPpH/Xqn8q2pbmVXY3KKKK6DnCiiigAooooAKKKKAOS+J3/IhXf/AF0i/wDQxXUWf/HjB/1zX+Vcv8Tv+RBu/wDrpH/6GK6i0/48YP8Armv8qnqU9kS5ozRRVEhmjNFFABmjNFFABmjNFFAHHfETmHQv+wrF/I12WeK434h/6nQv+wrF/I12XapW7KeyEzRmiiqJDNGaKKADNGaKKADNGaKKAON8Qf8AJTvDH+7P/wCgGuyrjfEH/JTfDH+7P/6Aa7KkupUugUUUUyQooooAKKKKACgUUUAcYv8AyWh/+wUP/Q67OuMX/ktD/wDYKH/oddnUxKkFFFFUSFFFFABRRRQAUUUUAcZ4Y/5KL4r/AOukX/oNdnXGeGP+Si+K/wDrpF/6DXZ1MdipbhRRRVCCiiigAooooAKDRQelIDj/AIdf8g/Vv+wpN/MV2Fcf8Ov+Qfq3/YUm/mK7ClHYb3CiiiqEFFFFABRRRQAVW1H/AJBd1/1xf+RqzVbUf+QXdf8AXF/5GkC3Od+GZx8P9Px6yf8AoZrq8561ynwz/wCSf6f9ZP8A0M11dC2G9wooopiCiiigAooooAK57x7/AMiDq/8A17n+Yroa57x7/wAiDq//AF7n+YpS2HHcu+GP+RU0v/r1T/0EVqVleGP+RU0z/r1T/wBBFatAgooopgFFFFABRRRQAVyXxK/5FJf+vyD/ANDrra5L4lf8ikv/AF+Qf+h1lW/hsun8aOvT/Vr9BTqav+rX6Clr4U+gFopKKAFopKKAFopKKAFrkfGX/Iz+EP8AsKLXW1yXjL/kZ/CH/YUWuvBfx4mNb4GepUUUV9MecFFFFABRRRQAVx+rfE/w/o2qz6feG68+3ba+yLIz9c12FeAa3c6dZ/Ga7n1qNZbFLkmZGTeCNvp35rqw1KNRvm6DR6H/AMLi8L+t5/34/wDr1v3/AIu0zTvDUOu3HnfY5tuzamW+bpxmuLTxT8MXdVXS4cscD/QRWj8V4Ybf4ciK1jWKFZ4wiKMBRzxir9lB1Ixs1fuA/wD4XH4W9bz/AL8f/Xro9C8W6L4kU/2TeLK4GTGw2sPwNcj8NfDmiaj4FtbjUNMtJ5maQNJJECx+Y96427gt/D/xktoPDrbYRcRgojZA3Y3L9Oar2NKblGF00B6p4i8faN4X1BbPVDceayBx5ce4Y/OsuL4v+FpJFVpbqMH+J4OB+RNcX8XFD/EDT1YZVoowQe43V6JqngzwvLok3n6XZwKIixlRAhU465FL2dGMIuSeoWOg07UrPVrNbrTbhLiFujoc1Q1/xZo/hqLdqt2I3IysSjc7fQV5b8HtQltNT1iNXZ7OO3MpHbKng/lVLwfpP/CxfGl7f627SW8X714wSM5OFX2H+FH1aMZSc3ogO5t/jJ4ZmuBHIt3CpOPMeIYH5HNdvY39rqVol1YTpPC/3XQ5BrA1L4d+GtQ01rZdLgtjtwksK7WU9jnv+Nee/DG+utC8dXfh6SUvA7OpUngMvcfhUunTqQcqelgO51b4neH9F1WfT703XnwNtfZFkZ+uais/iz4Vu5xEbqaAtwGmiIX8xmvP7m1gvPjs9vdwpNDJdYeN1yrDZ3Fdl8QvCnhu28HXd3HY21lcQrmF4lCEtnpx1zWjo0YyjB3ux2O/gniuYEmt5FlicZV1OQRWf4g8QWXhrS/t+p+Z5G8J+7Xccn2rjvgvdXE/hG4inLNHDclYiewIBIH413t9p9nqVv5GoW0VzDkNslUMM+uDXJKKp1HGWyEcvo/xN8P65q0GnWJuvPnJCb4sDpnrn2rsK8N061gsvj0tvaRJDDHdEJGi4Cjyz0Fe5VpiKcacko7NAFFFFcwgooooAwvHH/Ih6z/16SfyrmPBX/Ij6R/16p/Kun8cf8iHrP8A16SfyrmPBX/Ij6R/16p/KtqW5lV2Nyiiiug5wooooAKKKKACiiigDkvid/yIN3/10j/9DFdRaf8AHjB/1zX+Vcv8Tv8AkQbv/rpH/wChiuotP+PGD/rmv8qnqU9iWiiiqJCiiigAooooAKKKKAOO+If+p0L/ALCsX8jXZdq434h/6nQv+wrF/I12XapW7KeyEoooqiQooooAKKKKACiiigDjfEH/ACU3wx/uz/8AoBrsq43xB/yU3wx/uz/+gGuyqV1KfQKKKKokKKKKACiiigAooooA4tf+S0Sf9gof+h12lcWv/JaJP+wUP/Q67SpiVIKKKKokKKKKACiiigAooooA4zwx/wAlF8V/9dIv/Qa7OuM8Mf8AJRfFf/XSL/0GuzqY7FS3CiiiqJCiiigAooooAKD0ooPSkM4/4df8g/Vv+wpN/MV2Fcf8Ov8AkH6t/wBhSb+YrsKUdhvcKKKKokKKKKACiiigAqtqP/ILuv8Ari/8jVmq2o/8gu6/64v/ACNLoM534Z/8k/0/6yf+hmurrlPhn/yT/T/rJ/6Ga6uhbDe4UUUUyQooooAKKKKACue8e/8AIg6v/wBe5/mK6Gue8e/8iDq//Xuf5iplsVHcueGP+RU0z/r1T/0EVq1leGP+RU0z/r1T/wBBFatMQUUUUxBRRRQAUUUUAFcl8Sv+RSX/AK/IP/Q662uS+JX/ACKS/wDX5B/6HWVb+GzSn8aOvX/Vr9BS0i/6tfoKWvhT6AKKKKACiiigAooooAK5Lxl/yM/hD/sKLXW1yXjL/kZ/CH/YUWuvBfx4mNb4GepUUUV9MecFFFFABRRRQAV4HrDacvxpujrfl/YRcnzvMGVxt7/jivfK5bU/hz4c1fUpr6+tXeedtzsJSMmunD1Y02+bqhowVuvhapBH9ngg5B2NUnxSvbbUPhot1YyLLbyTxlHXoRzV/wD4VR4T/wCfKT/v8a2bnwlpN34di0SaFjYxEFEDkEY6c/jV+1pqcZJt27geReGfAet6z4RXU9M1toEYPstRuGSCeMg45+lW/hLa6b/wlFymrI/9rwk+T5jcf7XH96vXtH0ez0HTUsNOQpBGSVUtnGTk81mz+CNEn18az9neO9Dh/MjkK/MO+BVyxXMpRl12C55h8YI2l8dWUaNtZ4UUN6Eseah8XeBPEGhaCb2TV5dRthjzUBYbB64JORXrGs+DNG17Uor/AFKB5LiIAKwkIwAcjitma3iuLV7eZA8ToUZT0IxjFNYvljBLpuBwvwvs9Dn8Fv8A2Wp8+ZTHeFzlg2On054rhvDWpS/DPxvd2erxP9lmGxmUdQDlXHqK9b0HwfpHhu4lm0iKSFphhwZCVP4VZ1rw5pXiGAR6tZxz7fuuRhl+h6ioVePNJS1jL7wMHUPil4ZtNPae3vRdS7cpDGpyT6H0ri/hdpd5rXjG68S3MZSAFyrEcM7dh9BXYW/wm8LQTiQ2ssoBzsklJWuxtbWCytkt7SJIYYxhUQYAH0qZVacIONK+vcDwPX9On1f4xXNja3JtZZrnaswz8h2jnimeNvCWr+GmtX1XUJdRspG5kBI2nuMEnnHevZv+EL0X/hI/7c+zt9v37/M3nGcY6Vo6tpFlremyWOpQiWCTGV6dO4Nb/XLSjbawXKPg+HSofC9p/YK4s2TcvOST3z71t1l6F4fsPDlm9rpayJCzb9jyFgD7Z6VqV582nJtAeJW//JwZ/wCvtv8A0Wa9trBXwZoy+Jf7eED/AG/fv37zjOMdPpW9WteoqjTXRAFFFFYCCiiigDC8cf8AIh6z/wBekn8q5nwV/wAiPpH/AF6p/Kuy8Qaa+seHb/TonWN7qFo1dhwCR1rzyw8AeO9N0+GztfFFgkMCBEX7MTgD3xWlOSi9SJx5kdZijFc3/wAId8Qv+hqsP/AX/wCtR/wh3xC/6Gqw/wDAX/61a+1iZezZ0mKMVzn/AAh3xC/6Gqw/8Bf/AK1IfB3xC/6Gqw/8Bf8A61HtYh7NnSYoxXN/8Id8Qv8AoarD/wABf/rUf8Id8Qv+hqsP/AX/AOtR7WIezZ0mKMVzZ8HfEL/oarD/AMBf/rUf8Id8Qv8AoarD/wABf/rUe1iHs2Vvid/yIN3/ANdI/wD0MV1Fp/x4wf8AXNf5VyerfDjxvrWmvY6h4msZIJCCyi3I6HI5Aq2ngv4gxxqi+KdP2qAAPsv/ANal7SNyvZux01Fc3/wh3xD/AOhp0/8A8Bf/AK1H/CHfEP8A6GnT/wDwF/8ArU/axF7JnSUVzf8Awh3xD/6GnT//AAF/+tR/wh3xD/6GnT//AAF/+tR7WIeyZ0lFc3/wh3xD/wChp0//AMBf/rUf8Id8Q/8AoadP/wDAX/61HtYh7JnSUVzf/CHfEP8A6GnT/wDwF/8ArUf8Id8Q/wDoadP/APAX/wCtR7WIeyZS+In+p0L/ALCsX8jXY1xup/Dfxvq624vvEtg4t5hNHi3Iw46Hp71e/wCEN+IX/Q06f/4C/wD1qSqRuP2bsdJRXN/8Ib8Qf+hp0/8A8Bf/AK1H/CG/EH/oadP/APAX/wCtT9rEXsmdJRXN/wDCG/EH/oadP/8AAX/61H/CG/EH/oadP/8AAX/61HtYh7JnSUVzf/CG/EH/AKGnT/8AwF/+tR/whvxB/wChp0//AMBf/rUe1iHsmdJRXN/8Ib8Qf+hp0/8A8Bf/AK1H/CG/EH/oadP/APAX/wCtR7WIeyZR8Qf8lN8Mf7s//oBrsq425+G3ja61a01GbxLYNc2gYQv9nI27hg8Yq9/whvxC/wChp0//AMBf/rUlUiN02zpKK5v/AIQ74hf9DTp//gL/APWo/wCEO+IX/Q06f/4C/wD1qftYi9kzpKK5v/hDviF/0NOn/wDgL/8AWo/4Q74hf9DTp/8A4C//AFqPaxD2TOkorm/+EO+IX/Q06f8A+Av/ANaj/hDviF/0NOn/APgL/wDWo9rEPZM6Siub/wCEO+IX/Q06f/4C/wD1qP8AhDviF/0NOn/+Av8A9aj2sQ9kygv/ACWiT/sFD/0OuzrjP+FbeNhrp1ceJbD7YYfJL/ZzjZnOMYq//wAId8Qv+hp0/wD8Bf8A61JVIobptnSUVzf/AAh3xC/6GnT/APwF/wDrUf8ACHfEL/oadP8A/AX/AOtT9rEn2bOkorm/+EO+IX/Q06f/AOAv/wBaj/hDviF/0NOn/wDgL/8AWo9rEPZs6Siub/4Q74hf9DTp/wD4C/8A1qP+EO+IX/Q06f8A+Av/ANaj2sQ9mzpKK5v/AIQ74hf9DTp//gL/APWo/wCEO+IX/Q06f/4C/wD1qPaxD2bKHhj/AJKL4r/66Rf+g12dcbafDbxtZaneX9v4ksFuLwgzN9nJ3YGBxjir3/CHfEL/AKGjT/8AwF/+tSVSKRTptnSUVzf/AAh3xC/6GjT/APwF/wDrUf8ACHfEL/oaNP8A/AX/AOtT9rEXsmdJRXN/8Id8Qv8AoaNP/wDAX/61H/CHfEL/AKGjT/8AwF/+tR7WIeyZ0lFc3/wh3xC/6GjT/wDwF/8ArUf8Id8Qv+ho0/8A8Bf/AK1HtYh7JnSUHpXN/wDCHfEL/oaNP/8AAX/61H/CHfEL/oaNP/8AAX/61HtYh7NlP4df8g/Vv+wpN/MV2Fcbpnw38b6RHMlj4lsI1nlaZwbcnLHqelXv+EO+If8A0NOn/wDgKf8ACkqiSB03c6Siub/4Q74h/wDQ06f/AOAp/wAKP+EO+If/AENOn/8AgKf8KftYi9mzpKK5v/hDviH/ANDTp/8A4Cn/AAo/4Q74h/8AQ06f/wCAp/wo9rEPZs6Siub/AOEO+If/AENOn/8AgKf8KP8AhDviH/0NOn/+Ap/wo9rEPZs6Sq2o/wDILuv+uL/yNYn/AAh3xD/6GnT/APwFP+FMl8FfEGaF45PFGnlXUqw+ynofwo9pEfs2R/DP/kn+n/WT/wBDNdXXH6V8OfHGjabHY2HiWwjgiztU25OMnJ5x71c/4Q34hf8AQ06f/wCAv/1qSqRsDpu50lFc3/whvxC/6GjT/wDwF/8ArUf8Ib8Qv+ho0/8A8Bf/AK1P2qF7NnSUVzf/AAhvxC/6GjT/APwF/wDrUf8ACG/EL/oaNP8A/AX/AOtR7VB7NnSUVzf/AAhvxC/6GjT/APwF/wDrUf8ACG/EL/oaNP8A/AX/AOtR7VB7NnSVz3j3/kQdX/69z/MUz/hDfiF/0NOn/wDgL/8AWqtqXw+8d6pps9jeeJrB4J12uotiMj64pOomhqm0zY8Mf8ippn/Xqn/oIrVrlLTwJ4+srOK2t/E9gsUKBEBticAfhU3/AAh3xD/6GnT/APwF/wDrUe1QezZ0tFc1/wAId8Q/+hp0/wD8Bf8A61H/AAh3xD/6GnT/APwF/wDrU/aoXs2dLRXNf8Id8Q/+hp0//wABf/rUf8Id8Q/+hp0//wABf/rUe1QezZ0tFc1/wh3xD/6GnT//AAF/+tR/wh3xD/6GnT//AAF/+tR7VB7NnS1yXxK/5FJf+vyD/wBDqx/wh3xC/wChp0//AMBf/rVT1T4c+ONZsxa3/iWweLesmBbkcqcjtUVJqUWkVGDjJM7Rf9Wv0FLXLDwf8RAAP+Ep0/j/AKdf/rU4eD/iJ/0NOn/+Av8A9avmv7Oq90ep9YidNRXM/wDCH/ET/oadP/8AAX/61H/CH/ET/oadP/8AAX/61H9nVe6D6xE6aiuZ/wCEP+In/Q06f/4C/wD1qP8AhD/iJ/0NOn/+Av8A9aj+zqvdB9YidNRXM/8ACH/ET/oadP8A/AX/AOtR/wAIf8RP+hp0/wD8Bf8A61H9nVe6D6xE6auS8Zf8jP4Q/wCwotT/APCH/ET/AKGnT/8AwF/+tUafD3xdd67pV7rev2V1Dp90s4RICpODzW+HwVSlVU5bEVK0ZRsj0+iiivYOQKKKKACiiigAooooAKKKKACiiigAooooAKKKKACiiigAooooAKKKKACiiigAooooAKKKKACiiigAooooAKKKKACiiigAooooAKKKKACiiigAooooAKKKKACiiigAooooAKKKKACiiigAooooAKKKKACiiigDmfEnim60O+jgt9PNyrpuLDPHPtWH/wALKuvN8v8Aspd+cbd5z+WK9BIB6gGvMZgP+FsKO32gf+g1y1eeLVpbnq4RUKkJc0NYq+71Oj0Pxhd6reSwz6abdUiaQMSecduRWTH8SrqViItLDkdQrE/0ru7tQLKbAA+Q9vavM/h9e2llql297PHCrRYUyMACd3vUzc4yUeYqjGjUhOp7Pa2l2bll8R4jdLDqtjJahjjeOQv1BrtY3WWNXjYMjDKsOhFecfEHU9LvoreOxkinnViWeM5wPTNdbosrab4Mtpr3K+Tb7mB646irpzd2m72MsTQh7OFSEeVy6Gf4l8bDQtRW0ht1nfbufLY21v6RqUeraVBexYAkXJUH7p7ivPfD+l/8JVqGp6jfcqysqZ7Men5Cr3w+v3stRu9EujghiyA+o4IqadSTlrszXEYWnGk1D4o2ubnivxU/hx7dY7ZZ/ODE5bGMY/xq1q+vtpnhuLVFgDtIEPllsAbh61yvxQ/11h/uP/StHxX/AMk6tv8Adh/lTlOSc/IUMPTcaLa+Lc1/DPieHxDbvhRDcRn54s9uxFV/Ffip/DktuiWyzecGJy2MYx/jXndkuoaJDZ65aH92zlTjpwcbT9a1PG2rwa3a6Zd25xlHDr3VuOKj20uTzN/qMFiFbWDueoWs32izhmI2mRFfHpkZqWqumf8AIJtP+uKf+girVdi2PDluwooopiCiiigAooooAKKKKACiiigAooooAKKKKACiiigAooooAKKKKACiiigAooooAKKKKACiiigAooooAKKKKACiiigAooooAKKKKACiiigAooooAKKKKAGSTRwrulkVB6scVF9vtP8An6h/77FUvEGhR+ILBbWaZ4Qrh9yDOf8AOa8z8W+HIvDk1ukNxJMJVJO8YxisKlSUNbaHfhcPSrvlcrS9D1pb21Zgq3MRJ6AOOaV7y2jYq9xErDqC4BFcbpXw/topLS+F7MWXbJt2jGeuK5zVLJdT+Ic9nJIY0lnClx2+WpdWcUrrcunhaNSUlGeiV9j1P7faf8/UP/fwVMrqyB1YFSMgg8Vwv/CtrH/oKy/ktL40nuNC8OWGmWczhCNjSdGYKOlU6kopuSIWGp1JxhSldvysdg+q6fHJse9gVvQyCpzcQiLzDKgT+9uGPzrzzRPBek6tpUU51N3uHUFhGy/IfQjrW1beCEh0O506a9kcTShw4/hA6DBpRqTfQKlHDxdlN39Dpft9p/z9Q/8AfwUovrUnAuYSf98V5V4s8MxeHUtjDcyTecWzuAGMYrd0r4f21xaWl6b6YM6pKVCjGeuKUas3K1jSeFoRpqpz6PbQ7+igcCiuk8wKKKKACiiigAooooAKKKKACiiigAooooAKKKKACiiigAooooAKKKKACiiigAooooAKKKKACiiigAooooAKKKKACiiigAooooAKKKKACiiigAooooAKKKKACiiigAooooAKKKKACiiigAooooAKKKKACiiigArzCb/krK/9fC/+g16fUH2O2M/nfZ4vNznzNg3Z+tZVIc9vI6sPXVFSVt1YW8/48Zv9w/yryjwboNpr2oXMN7v2xx7l2NjnNeuEAgg8g1FDZ21sxa3t4oiRglEAz+VKdPnkmy6GKdGnKEd31PLdS0pPCPiiCWaAXNiWym8Z47/iK3vHmvRPo9tZ2Dh/tYDnb/c7frXbTW8NwoFxDHKB0DqDj86iOnWR25tIPl6fuxxUexaTSe5t9djKcKk43cfxOFsfh3dNZRSHVHt2kUM0aoflJHTrWRrGjXXg3V7O9juDcfNu8wjGSOoP4V61UU1vDcqBcQxygcgOoOPzoeHjb3dwjmNXmftNU+h5z8RLqO+h0u5gOUliZh+la/iv/knNt/uQ/wAq6x7C0kRUe1hZU4VTGCF+lSSW8MsIiliR4x0RlBH5U3Sb5tdyVjElTSXwnK+DbGDUfAiWt0geORnBB+tcD4h0KfQtSa3ky0TZMT9mH+Ne0xQxwRhII1jQdFRQBTZraC4wLiGOXb03qDj86U6ClFLqiqOPlSqSlbR9CLTP+QTaf9cU/wDQRVqkACqFUAADAA7UtdC2PNeruFFFFMQUUUUAFFFFABRRRQAUUUUAFFFFABRRRQAUUUUAFFFFABRRRQAUUUUAFFFFABRRRQAUUUUAFFFFABRRRQAUUUUAFFFFABRRRQAUUUUAFFFFABRRRQAV5x8UP+Puw/3H/mK9HrmfFfhR/EU1u6XKw+UpByuc5rGtFyhZHbgqkKVZSm9NTesP+Qbbf9cl/lXlmqWA1P4iT2TSGITT7S4GcfLXq9vF5FrFETkogXPrgVxmreAri/1qe/g1AQGRtwAU5XjHUVFaDklZG2CrQpTm5StdaEa/DSIMD/asnBz/AKsf411Os6fp2oWKWuqFAjEBGLYO72PrXKf8IBqv/Qek/Nv8a1L7wa2o6FaWVxfyGa1BxJ1DE9zSimk0ojqTUpxlKre3W2xi3/w6ltVe40rUSCg3BX+U/wDfQqf4f67fXl1Pp99KZljTcrsckc4xnvTP+EE1wx+SdcbyOm3c/T6ZrpPDnhm28PQP5bGWeTG+Qj9BShBqaaVka168HQcZy55dNDmvih9zT/q/9K7HQv8AkX7D/r3T+QrM8V+GH8RrbhLhYfJLZyuc5x/hW1YWxstOt7YtuMMaoWx1wK1hFqpJnJVqwlhqcE9VcsUUUVscIUUUUAFFFFABRRRQAUUUUAFFFFABRRRQAUUUUAFFFFABRRRQAUUUUAFFFFABRRRQAUUUUAFFFFABRRRQAUUUUAFFFFABRRRQAUUUUAFFFFABRRRQAUUUUAFFFFABRRRQAUUUUAFFFFABRRRQAUUUUAFFFFABRRRQAUUUUAFFFFABRRRQAUUUUAFFFFABRRRQAUUUUAFFFFABRRRQAUUUUAFFFFABRRRQAUUUUAFFFFABRRRQAUUUUAFFFFABRRRQAUUUUAFFFFABRRRQAUUUUAFFFFABRRRQAUUUUAFFFFABRRRQAUUUUAFFFFABRRRQAUUUUAFFFFABRRRQAUUUUAFFFFABRRRQAUUUUAFFFFABRRRQAUUUUAFFFFABRRRQAUUUUAFFFFABRRRQAUUUUAFFFFABRRRQAUUUUAFFFFABRRRQAUUUUAFFFFABRRRQAUUUUAFFFFABRRRQAUUUUAFFFFABRRRQAUUUUAFFFFABRRRQAUUUUAFFFFABRRRQAUUUUAFFFFABRRRQAUUUUAFFFFABRRRQAUUUUAFFFFABRRRQAUUUUAFFFFABRRRQAUUUUAFFFFABRRRQAUUUUAFFFFABRRRQAUUUUAFFFFABRRRQAUUUUAFFFFABRRRQAUUUUAFFFFABRRRQAUUUUAFFFFABRRRQAUUUUAFFFFABRRRQAUUUUAFFFFABRRRQAUUUUAFFFFABRRRQAUUUUAFFFFABRRRQAUUUUAFFFFAH/9k=)"
      ]
    },
    {
      "cell_type": "markdown",
      "metadata": {
        "id": "MNpESo1qqwP8"
      },
      "source": [
        "![Cross Validation 2.JPG](data:image/jpeg;base64,/9j/4AAQSkZJRgABAQEAYABgAAD/4RD4RXhpZgAATU0AKgAAAAgABAE7AAIAAAAPAAAISodpAAQAAAABAAAIWpydAAEAAAAeAAAQ0uocAAcAAAgMAAAAPgAAAAAc6gAAAAgAAAAAAAAAAAAAAAAAAAAAAAAAAAAAAAAAAAAAAAAAAAAAAAAAAAAAAAAAAAAAAAAAAAAAAAAAAAAAAAAAAAAAAAAAAAAAAAAAAAAAAAAAAAAAAAAAAAAAAAAAAAAAAAAAAAAAAAAAAAAAAAAAAAAAAAAAAAAAAAAAAAAAAAAAAAAAAAAAAAAAAAAAAAAAAAAAAAAAAAAAAAAAAAAAAAAAAAAAAAAAAAAAAAAAAAAAAAAAAAAAAAAAAAAAAAAAAAAAAAAAAAAAAAAAAAAAAAAAAAAAAAAAAAAAAAAAAAAAAAAAAAAAAAAAAAAAAAAAAAAAAAAAAAAAAAAAAAAAAAAAAAAAAAAAAAAAAAAAAAAAAAAAAAAAAAAAAAAAAAAAAAAAAAAAAAAAAAAAAAAAAAAAAAAAAAAAAAAAAAAAAAAAAAAAAAAAAAAAAAAAAAAAAAAAAAAAAAAAAAAAAAAAAAAAAAAAAAAAAAAAAAAAAAAAAAAAAAAAAAAAAAAAAAAAAAAAAAAAAAAAAAAAAAAAAAAAAAAAAAAAAAAAAAAAAAAAAAAAAAAAAAAAAAAAAAAAAAAAAAAAAAAAAAAAAAAAAAAAAAAAAAAAAAAAAAAAAAAAAAAAAAAAAAAAAAAAAAAAAAAAAAAAAAAAAAAAAAAAAAAAAAAAAAAAAAAAAAAAAAAAAAAAAAAAAAAAAAAAAAAAAAAAAAAAAAAAAAAAAAAAAAAAAAAAAAAAAAAAAAAAAAAAAAAAAAAAAAAAAAAAAAAAAAAAAAAAAAAAAAAAAAAAAAAAAAAAAAAAAAAAAAAAAAAAAAAAAAAAAAAAAAAAAAAAAAAAAAAAAAAAAAAAAAAAAAAAAAAAAAAAAAAAAAAAAAAAAAAAAAAAAAAAAAAAAAAAAAAAAAAAAAAAAAAAAAAAAAAAAAAAAAAAAAAAAAAAAAAAAAAAAAAAAAAAAAAAAAAAAAAAAAAAAAAAAAAAAAAAAAAAAAAAAAAAAAAAAAAAAAAAAAAAAAAAAAAAAAAAAAAAAAAAAAAAAAAAAAAAAAAAAAAAAAAAAAAAAAAAAAAAAAAAAAAAAAAAAAAAAAAAAAAAAAAAAAAAAAAAAAAAAAAAAAAAAAAAAAAAAAAAAAAAAAAAAAAAAAAAAAAAAAAAAAAAAAAAAAAAAAAAAAAAAAAAAAAAAAAAAAAAAAAAAAAAAAAAAAAAAAAAAAAAAAAAAAAAAAAAAAAAAAAAAAAAAAAAAAAAAAAAAAAAAAAAAAAAAAAAAAAAAAAAAAAAAAAAAAAAAAAAAAAAAAAAAAAAAAAAAAAAAAAAAAAAAAAAAAAAAAAAAAAAAAAAAAAAAAAAAAAAAAAAAAAAAAAAAAAAAAAAAAAAAAAAAAAAAAAAAAAAAAAAAAAAAAAAAAAAAAAAAAAAAAAAAAAAAAAAAAAAAAAAAAAAAAAAAAAAAAAAAAAAAAAAAAAAAAAAAAAAAAAAAAAAAAAAAAAAAAAAAAAAAAAAAAAAAAAAAAAAAAAAAAAAAAAAAAAAAAAAAAAAAAAAAAAAAAAAAAAAAAAAAAAAAAAAAAAAAAAAAAAAAAAAAAAAAAAAAAAAAAAAAAAAAAAAAAAAAAAAAAAAAAAAAAAAAAAAAAAAAAAAAAAAAAAAAAAAAAAAAAAAAAAAAAAAAAAAAAAAAAAAAAAAAAAAAAAAAAAAAAAAAAAAAAAAAAAAAAAAAAAAAAAAAAAAAAAAAAAAAAAAAAAAAAAAAAAAAAAAAAAAAAAAAAAAAAAAAAAAAAAAAAAAAAAAAAAAAAAAAAAAAAAAAAAAAAAAAAAAAAAAAAAAAAAAAAAAAAAAAAAAAAAAAAAAAAAAAAAAAAAAAAAAAAAAAAAAAAAAAAAAAAAAAAAAAAAAAAAAAAAAAAAAAAAAAAAAAAAAAAAAAAAAAAAAAAAAAAAAAAAAAAAAAAAAAAAAAAAAAAAAAAAAAAAAAAAAAAAAAAAAAAAAAAAAAAAAAAAAAAAAAAAAAAAAAAAAAAAAAAAAAAAAAAAAAAAAAAAAAAAAAAAAAAAAAAAAAAAAAAAAAAAAAAAAAAAAAAAAAAAAAAAAAAAAAAAAAAAAAAAAAAAAAAAAAAAAAAAAAAAAAAAAAAAAAAAAAAAAAAAAAAAAAAAAAAAAAAAAAAAAAAAAAAAAAAAAAAAAAAAAAAAAAAAAAAAAAAAAAAAAAAAAAAAAAAAAAAAAAAAAAAAAAAAAAAAAAAAAAAAAAAAAAAAAAAAAAAAAAAAAAAAAAAAAAAAAAAAAAAAAAAAAAAAAAAAAAAAAAAAAAAAAAAAAAAAAAAAAAAAAAAAAAAAAAAAAAAAAAAAAAAAAAAAAAAAAAAAAAAAAAAAAAAAAAAAAAAAAAAAAAAAAAAAAAAAAAAAAAAAAAAAAAAAAAAAAAAAAAAAAAAAAAAAAAAAAAAAAAAAAAAAAAAAAAAAAAAAAAAAAAAAAAAAAAAAAAAAAAAAAAAAAAAAAAAAAAAAAAAAAAAAAAAAAAAAAAAAAAAAAAAAAAAAAAAAAAAAAAAAAAAAAAAAAAAAAAAAAAAAAAAAAAAAAAAAAAAAAAAAAAAAAAAAAAAAAAAAAAAAAAAAAAAAAAAAAAAAAAAAAAAAAAAAAAAAAAAAAAAAAAAAAAAAAAAAAAAAAAAAAAAAAAAAAAAAAAAAAAAAAAAAAAAAAAAAAAAAAAAAAAAAAAAAAAAAAAAAAAAAAAAAAAAAAAAAAAAAAAAAAAAAAAAAAAAAAAE11Y2hhbWFkIEZhdXp5AAAABZADAAIAAAAUAAAQqJAEAAIAAAAUAAAQvJKRAAIAAAADNTgAAJKSAAIAAAADNTgAAOocAAcAAAgMAAAInAAAAAAc6gAAAAgAAAAAAAAAAAAAAAAAAAAAAAAAAAAAAAAAAAAAAAAAAAAAAAAAAAAAAAAAAAAAAAAAAAAAAAAAAAAAAAAAAAAAAAAAAAAAAAAAAAAAAAAAAAAAAAAAAAAAAAAAAAAAAAAAAAAAAAAAAAAAAAAAAAAAAAAAAAAAAAAAAAAAAAAAAAAAAAAAAAAAAAAAAAAAAAAAAAAAAAAAAAAAAAAAAAAAAAAAAAAAAAAAAAAAAAAAAAAAAAAAAAAAAAAAAAAAAAAAAAAAAAAAAAAAAAAAAAAAAAAAAAAAAAAAAAAAAAAAAAAAAAAAAAAAAAAAAAAAAAAAAAAAAAAAAAAAAAAAAAAAAAAAAAAAAAAAAAAAAAAAAAAAAAAAAAAAAAAAAAAAAAAAAAAAAAAAAAAAAAAAAAAAAAAAAAAAAAAAAAAAAAAAAAAAAAAAAAAAAAAAAAAAAAAAAAAAAAAAAAAAAAAAAAAAAAAAAAAAAAAAAAAAAAAAAAAAAAAAAAAAAAAAAAAAAAAAAAAAAAAAAAAAAAAAAAAAAAAAAAAAAAAAAAAAAAAAAAAAAAAAAAAAAAAAAAAAAAAAAAAAAAAAAAAAAAAAAAAAAAAAAAAAAAAAAAAAAAAAAAAAAAAAAAAAAAAAAAAAAAAAAAAAAAAAAAAAAAAAAAAAAAAAAAAAAAAAAAAAAAAAAAAAAAAAAAAAAAAAAAAAAAAAAAAAAAAAAAAAAAAAAAAAAAAAAAAAAAAAAAAAAAAAAAAAAAAAAAAAAAAAAAAAAAAAAAAAAAAAAAAAAAAAAAAAAAAAAAAAAAAAAAAAAAAAAAAAAAAAAAAAAAAAAAAAAAAAAAAAAAAAAAAAAAAAAAAAAAAAAAAAAAAAAAAAAAAAAAAAAAAAAAAAAAAAAAAAAAAAAAAAAAAAAAAAAAAAAAAAAAAAAAAAAAAAAAAAAAAAAAAAAAAAAAAAAAAAAAAAAAAAAAAAAAAAAAAAAAAAAAAAAAAAAAAAAAAAAAAAAAAAAAAAAAAAAAAAAAAAAAAAAAAAAAAAAAAAAAAAAAAAAAAAAAAAAAAAAAAAAAAAAAAAAAAAAAAAAAAAAAAAAAAAAAAAAAAAAAAAAAAAAAAAAAAAAAAAAAAAAAAAAAAAAAAAAAAAAAAAAAAAAAAAAAAAAAAAAAAAAAAAAAAAAAAAAAAAAAAAAAAAAAAAAAAAAAAAAAAAAAAAAAAAAAAAAAAAAAAAAAAAAAAAAAAAAAAAAAAAAAAAAAAAAAAAAAAAAAAAAAAAAAAAAAAAAAAAAAAAAAAAAAAAAAAAAAAAAAAAAAAAAAAAAAAAAAAAAAAAAAAAAAAAAAAAAAAAAAAAAAAAAAAAAAAAAAAAAAAAAAAAAAAAAAAAAAAAAAAAAAAAAAAAAAAAAAAAAAAAAAAAAAAAAAAAAAAAAAAAAAAAAAAAAAAAAAAAAAAAAAAAAAAAAAAAAAAAAAAAAAAAAAAAAAAAAAAAAAAAAAAAAAAAAAAAAAAAAAAAAAAAAAAAAAAAAAAAAAAAAAAAAAAAAAAAAAAAAAAAAAAAAAAAAAAAAAAAAAAAAAAAAAAAAAAAAAAAAAAAAAAAAAAAAAAAAAAAAAAAAAAAAAAAAAAAAAAAAAAAAAAAAAAAAAAAAAAAAAAAAAAAAAAAAAAAAAAAAAAAAAAAAAAAAAAAAAAAAAAAAAAAAAAAAAAAAAAAAAAAAAAAAAAAAAAAAAAAAAAAAAAAAAAAAAAAAAAAAAAAAAAAAAAAAAAAAAAAAAAAAAAAAAAAAAAAAAAAAAAAAAAAAAAAAAAAAAAAAAAAAAAAAAAAAAAAAAAAAAAAAAAAAAAAAAAAAAAAAAAAAAAAAAAAAAAAAAAAAAAAAAAAAAAAAAAAAAAAAAAAAAAAAAAAAAAAAAAAAAAAAAAAAAAAAAAAAAAAAAAAAAAAAAAAAAAAAAAAAAAAAAAAAAAAAAAAAAAAAAAAAAAAAAAAAAAAAAAAAAAAAAAAAAAAAAAAAAAAAAAAAAAAAAAAAAAAAAAAAAAAAAAAAAAAAAAAAAAAAAAAAAAAAAAAAAAAAAAAAAAAAAAAAAAAAAAAAAAAAAAAAAAAAAAAAAAAAAAAAAAAAAAAAAAAAAAAAAAAAAAAAAAAAAAAAAAAAAAAAAAAAAAAAAAAAAAAAAAAAAAAAAAAAAAAAAAAAAAAAAAAAAAAAAAAAAAAAAAAAAAAAAAAAAAAAAAAAAAAAAAAAAAAAAAAAAAAAAAAAAAAAAAAAAAAAAAAAAAAAAAAAAAAAAAAAAAAAAAAAAAAAAAAAAAAAAAAAAAAAAAAAAAAAAAAAAAAAAAAAAAAAAAAAAAAAAAAAAAAAAAAAAAAAAAAAAAAAAAAAAAAAAAAAAAAAAAAAAAAAAAAAAAAAAAAAAAAAAAAAAAAAAAAAAAAAAAAAAAAAAAAAAAAAAAAAAAAAAAAAAAAAAAAAAAAAAAAAAAAAAAAAAAAAAAAAAAAAAAAAAAAAAAAAAAAAAAAAAAAAAAAAAAAAAAAAAAAAAAAAAAAAAAAAAAAAAAAAAAAAAAAAAAAAAAAAAAAAAAAAAAAAAAAAAAAAAAAAAAAAAAAAAAAAAAAAAAAAAAAAAAAAAAAAAAAAAAAAAAAAAAAAAAAAAAAAAAAAAAAAAAAAAAAAAAAAAAAAAAAAAAAAAAAAAAAAAAAAAAAAAAAAAAAAAAAAAAAAAAAAAAAAAAAAAAAAAAAAAAAAAAAAAAAAAAAAAAAAAAAAAAAADIwMjE6MDM6MjAgMTk6NDI6MjgAMjAyMTowMzoyMCAxOTo0MjoyOAAAAE0AdQBjAGgAYQBtAGEAZAAgAEYAYQB1AHoAeQAAAP/hCyFodHRwOi8vbnMuYWRvYmUuY29tL3hhcC8xLjAvADw/eHBhY2tldCBiZWdpbj0n77u/JyBpZD0nVzVNME1wQ2VoaUh6cmVTek5UY3prYzlkJz8+DQo8eDp4bXBtZXRhIHhtbG5zOng9ImFkb2JlOm5zOm1ldGEvIj48cmRmOlJERiB4bWxuczpyZGY9Imh0dHA6Ly93d3cudzMub3JnLzE5OTkvMDIvMjItcmRmLXN5bnRheC1ucyMiPjxyZGY6RGVzY3JpcHRpb24gcmRmOmFib3V0PSJ1dWlkOmZhZjViZGQ1LWJhM2QtMTFkYS1hZDMxLWQzM2Q3NTE4MmYxYiIgeG1sbnM6ZGM9Imh0dHA6Ly9wdXJsLm9yZy9kYy9lbGVtZW50cy8xLjEvIi8+PHJkZjpEZXNjcmlwdGlvbiByZGY6YWJvdXQ9InV1aWQ6ZmFmNWJkZDUtYmEzZC0xMWRhLWFkMzEtZDMzZDc1MTgyZjFiIiB4bWxuczp4bXA9Imh0dHA6Ly9ucy5hZG9iZS5jb20veGFwLzEuMC8iPjx4bXA6Q3JlYXRlRGF0ZT4yMDIxLTAzLTIwVDE5OjQyOjI4LjU4MTwveG1wOkNyZWF0ZURhdGU+PC9yZGY6RGVzY3JpcHRpb24+PHJkZjpEZXNjcmlwdGlvbiByZGY6YWJvdXQ9InV1aWQ6ZmFmNWJkZDUtYmEzZC0xMWRhLWFkMzEtZDMzZDc1MTgyZjFiIiB4bWxuczpkYz0iaHR0cDovL3B1cmwub3JnL2RjL2VsZW1lbnRzLzEuMS8iPjxkYzpjcmVhdG9yPjxyZGY6U2VxIHhtbG5zOnJkZj0iaHR0cDovL3d3dy53My5vcmcvMTk5OS8wMi8yMi1yZGYtc3ludGF4LW5zIyI+PHJkZjpsaT5NdWNoYW1hZCBGYXV6eTwvcmRmOmxpPjwvcmRmOlNlcT4NCgkJCTwvZGM6Y3JlYXRvcj48L3JkZjpEZXNjcmlwdGlvbj48L3JkZjpSREY+PC94OnhtcG1ldGE+DQogICAgICAgICAgICAgICAgICAgICAgICAgICAgICAgICAgICAgICAgICAgICAgICAgICAgICAgICAgICAgICAgICAgICAgICAgICAgICAgICAgICAgICAgICAgICAgICAgICAgCiAgICAgICAgICAgICAgICAgICAgICAgICAgICAgICAgICAgICAgICAgICAgICAgICAgICAgICAgICAgICAgICAgICAgICAgICAgICAgICAgICAgICAgICAgICAgICAgICAgICAKICAgICAgICAgICAgICAgICAgICAgICAgICAgICAgICAgICAgICAgICAgICAgICAgICAgICAgICAgICAgICAgICAgICAgICAgICAgICAgICAgICAgICAgICAgICAgICAgICAgIAogICAgICAgICAgICAgICAgICAgICAgICAgICAgICAgICAgICAgICAgICAgICAgICAgICAgICAgICAgICAgICAgICAgICAgICAgICAgICAgICAgICAgICAgICAgICAgICAgICAgCiAgICAgICAgICAgICAgICAgICAgICAgICAgICAgICAgICAgICAgICAgICAgICAgICAgICAgICAgICAgICAgICAgICAgICAgICAgICAgICAgICAgICAgICAgICAgICAgICAgICAKICAgICAgICAgICAgICAgICAgICAgICAgICAgICAgICAgICAgICAgICAgICAgICAgICAgICAgICAgICAgICAgICAgICAgICAgICAgICAgICAgICAgICAgICAgICAgICAgICAgIAogICAgICAgICAgICAgICAgICAgICAgICAgICAgICAgICAgICAgICAgICAgICAgICAgICAgICAgICAgICAgICAgICAgICAgICAgICAgICAgICAgICAgICAgICAgICAgICAgICAgCiAgICAgICAgICAgICAgICAgICAgICAgICAgICAgICAgICAgICAgICAgICAgICAgICAgICAgICAgICAgICAgICAgICAgICAgICAgICAgICAgICAgICAgICAgICAgICAgICAgICAKICAgICAgICAgICAgICAgICAgICAgICAgICAgICAgICAgICAgICAgICAgICAgICAgICAgICAgICAgICAgICAgICAgICAgICAgICAgICAgICAgICAgICAgICAgICAgICAgICAgIAogICAgICAgICAgICAgICAgICAgICAgICAgICAgICAgICAgICAgICAgICAgICAgICAgICAgICAgICAgICAgICAgICAgICAgICAgICAgICAgICAgICAgICAgICAgICAgICAgICAgCiAgICAgICAgICAgICAgICAgICAgICAgICAgICAgICAgICAgICAgICAgICAgICAgICAgICAgICAgICAgICAgICAgICAgICAgICAgICAgICAgICAgICAgICAgICAgICAgICAgICAKICAgICAgICAgICAgICAgICAgICAgICAgICAgICAgICAgICAgICAgICAgICAgICAgICAgICAgICAgICAgICAgICAgICAgICAgICAgICAgICAgICAgICAgICAgICAgICAgICAgIAogICAgICAgICAgICAgICAgICAgICAgICAgICAgICAgICAgICAgICAgICAgICAgICAgICAgICAgICAgICAgICAgICAgICAgICAgICAgICAgICAgICAgICAgICAgICAgICAgICAgCiAgICAgICAgICAgICAgICAgICAgICAgICAgICAgICAgICAgICAgICAgICAgICAgICAgICAgICAgICAgICAgICAgICAgICAgICAgICAgICAgICAgICAgICAgICAgICAgICAgICAKICAgICAgICAgICAgICAgICAgICAgICAgICAgICAgICAgICAgICAgICAgICAgICAgICAgICAgICAgICAgICAgICAgICAgICAgICAgICAgICAgICAgICAgICAgICAgICAgICAgIAogICAgICAgICAgICAgICAgICAgICAgICAgICAgICAgICAgICAgICAgICAgICAgICAgICAgICAgICAgICAgICAgICAgICAgICAgICAgICAgICAgICAgICAgICAgICAgICAgICAgCiAgICAgICAgICAgICAgICAgICAgICAgICAgICAgICAgICAgICAgICAgICAgICAgICAgICAgICAgICAgICAgICAgICAgICAgICAgICAgICAgICAgICAgICAgICAgICAgICAgICAKICAgICAgICAgICAgICAgICAgICAgICAgICAgICAgICAgICAgICAgICAgICAgICAgICAgICAgICAgICAgICAgICAgICAgICAgICAgICAgICAgICAgICAgICAgICAgICAgICAgIAogICAgICAgICAgICAgICAgICAgICAgICAgICAgICAgICAgICAgICAgICAgICAgICAgICAgICAgICAgICAgICAgICAgICAgICAgICAgICAgICAgICAgICAgICAgICAgICAgICAgCiAgICAgICAgICAgICAgICAgICAgICAgICAgICAgICAgICAgICAgICAgICAgICAgICAgICAgICAgICAgICAgICAgICAgICAgICAgICAgICAgICAgICAgICAgICAgICAgICAgICAKICAgICAgICAgICAgICAgICAgICAgICAgICAgIDw/eHBhY2tldCBlbmQ9J3cnPz7/2wBDAAcFBQYFBAcGBQYIBwcIChELCgkJChUPEAwRGBUaGRgVGBcbHichGx0lHRcYIi4iJSgpKywrGiAvMy8qMicqKyr/2wBDAQcICAoJChQLCxQqHBgcKioqKioqKioqKioqKioqKioqKioqKioqKioqKioqKioqKioqKioqKioqKioqKioqKir/wAARCADsA/kDASIAAhEBAxEB/8QAHwAAAQUBAQEBAQEAAAAAAAAAAAECAwQFBgcICQoL/8QAtRAAAgEDAwIEAwUFBAQAAAF9AQIDAAQRBRIhMUEGE1FhByJxFDKBkaEII0KxwRVS0fAkM2JyggkKFhcYGRolJicoKSo0NTY3ODk6Q0RFRkdISUpTVFVWV1hZWmNkZWZnaGlqc3R1dnd4eXqDhIWGh4iJipKTlJWWl5iZmqKjpKWmp6ipqrKztLW2t7i5usLDxMXGx8jJytLT1NXW19jZ2uHi4+Tl5ufo6erx8vP09fb3+Pn6/8QAHwEAAwEBAQEBAQEBAQAAAAAAAAECAwQFBgcICQoL/8QAtREAAgECBAQDBAcFBAQAAQJ3AAECAxEEBSExBhJBUQdhcRMiMoEIFEKRobHBCSMzUvAVYnLRChYkNOEl8RcYGRomJygpKjU2Nzg5OkNERUZHSElKU1RVVldYWVpjZGVmZ2hpanN0dXZ3eHl6goOEhYaHiImKkpOUlZaXmJmaoqOkpaanqKmqsrO0tba3uLm6wsPExcbHyMnK0tPU1dbX2Nna4uPk5ebn6Onq8vP09fb3+Pn6/9oADAMBAAIRAxEAPwD6PooooAKKKKACiiigAooooAKKKKACiiigAooooAKKKKACiiigAooooAKKKKACiiigAooooAKKKKACiio554baFpbmVIo15Z3YAD8aAJKKoWWuaXqUhjsNQtrlx1WKUMfyFX6ACiiigAooooAKKKKACiiigAooooAKKKKACiiigAooooAKKKKACiobi8trXb9quIod3TzHC5/OpVYMoZSCDyCO9AC0UUUAFFFFABRRRQAUUUUAFFFFABRRRQAUVleJPEFp4X0G41XUNxihH3V6uewFQeEfE8fi7Ql1SCzmtIXYqizEEsB34oA3KKKKACiiigAooooAKKKKACiiigAooqG4vLa12/ariKHd08xwufzoAmopodWjDqwKEZDA8YqrY6tp+ptIun3sFy0RxIIpA20++KALlFFFABRRRQAUUUUAFFFFABRRRQAUUUUAFFFFABRRRQAUUUUAFFFFABRRRQAUUUUAFFFFABRRRQAUUUUAFFFFABRRRQAUUUUAFFFFABRRRQAUUUUAFFFFABRRRQAUUUUAFFFQ3d3DY2c11dOI4YULu57ADJoAmor538UfHfW7u/ePw2I7G0VsI7xh5HHqc8CtXwJ8cLy41SHTvFgiaOZgiXca7SrHpuHTH0oA9zooByMjpRQAUUUUAeG/GTxX4h0bxlbWeiarc2kUlup8uJ8AsSRWemlfGh0Drd3xBGR/paf40z44c/EjTsf88I//AEKvf7X/AI84fXYP5UAfP0nj34leBrqEeJ4pJoGPAuY1If2Dr3r3Hwx4gtvFHh211azBWOdclD1RhwQfxrhvjxfWUXgNbSd0N1NcIYUz83HU4+n86n+BcMsXw3RpQQklzIyZ9On86APSM0m9c43Ln0zXifjTx1r/AIp8XN4T8DFo1jYpLPGcM5H3jnsoqs3wc8Z29uby38S77xRuCCVxk+m6gD3ajp1ryD4WfELVZ9el8J+LGZr2MssUsg+bcvVG9enBql8f9SvbC70YWV3Nbho5NwikK55HpQB7WSAMkgD3oBDDIIP0rwm00Txx8T7OO+/tE6VpSoqW6F2HmADG7A659ayNRTxx8I9St7mW/a7sZHxkuXik9VIPQ0AfR1FZHhvxFa+JPDVtrFv8kUybmBP3COo/CvHda8XeKfiV4qm0TwZK9rp8BIaVG27hnG9m9PQUAe8B1JwGBPsaWvB7n4R+NdItWv8AS/ELT3MY3mKOV1Y47AnrXU/CX4i3fiQzaJr3/IStVJWXGDIoODkeooA9PpN67sbhn0zXBfEax8b6nc2dl4SuEt7KYETyq210PufT6VxF18GfF0Vs13D4n866UFgnmOCT6A5oA91rzX42a9qegeF7GfRr6azme72M8TYJG0nFZPwa8darqmoXfh3xBK089upeKV/v8HDKT3rB+Ovhy+tL0a5LqBls7qZY47TJ/dkKefTtQB634Av7jUvAWk3l/O09xNAGkkc5Zjnqa6OvA/Bnww8Q6nomlatbeJWt7aQLKtvuf5VB6cHFe9gYUD0oAWvBvjPq99rPjqx8KWs7RW58sEBsBnc9T64Br3O7ha4sp4Y22PJGyq3oSMZr5W8SeFdR0v4jQaHdambi8lkiC3RLfLvxjrzxQB65ofwSstC13TtRttXuGa2bfMn3d59iOgzXqdec+Bfh5rnhfX2vtU8QNqEJiZPKJc8nHPJrlPHXxC13xF4s/wCEV8EM6bZDE8sXDSMOvPZRQB7fvXdjcufTNOrwVvg743jg+1xeIFN2Bu2CdwSfTdWl8OPiPq9p4iPhPxnua43+XFNJ99X/ALreoPY0Ae0Z9aO2e1eafHS9ubLwPby2VxJA5vFBaNypxtPHFee6Hqfjbx34fs9B8Oyyw29khF3dtKQZGLE8t16dqAPo0HPTmiszw1p9xpXhmwsb6QS3FvCqSODnJHXmtOgApodScBgT6ZrzXx5ovj/X/Ei2Oh3yWWjNGG82NthB7hj1J+lcdrHwo8W+H9Mm1ax8RvczW6GRkR3ViBycHPNAHvtGa83+Dnje98VaHcW2rv5t3YsF87GDIp6Z964n4z65faV8SrE291cRwpbRSNFHIVDYds8D6UAe+khRliAPc0oIIyDkV4hceD/H/wAQI/7WvdUXTLeb57ezLsNqduB7etYXh3xN4l+HHjyLRPENxLNaPIscsbuXG1uA6k0AfRlBIAyTge9ZfiHXrXw34fudVvT+6gTcAOrnsB9a8Ls38dfFzULie1vGsNNjbAAcpGn+yMcsaAPocMrfdYH6Glr561XwV4+8AWx1fT9Ykuoofml8mRjtHqVPUV6n8N/HcfjjQHkkVYr+2wlxGOmSOGHsaAOI+LfivXNF8c6ZaaVqdxa28kaF44nwGJbFezQNvt4yTklQT+VfLXxE8L6hoPjCG1v9SN5JdHzI3Jb92Gfgc+ler+Cvhrr+geIrTVL/AMRNeW0aHdAWc5yuB1OO9AHO/tFMVutC2sR8k3T6rXsmhnHh3TySB/o0fJ/3RXjX7Rf/AB9aD/uTfzWm22g+OfiRpcF1Ff8A9k6SkSx2sJcrvVRjcQOucd6APdQQwypBHtS181HUvF3wk8W28GpXUlzauQ5QyFo5kzg4z0NfQ82sWsGgtq8r7bVYPPLf7OM0AXjx1NIGVvusD9DXgH9qeNPi7rVwmjXDabpMLYGHKqo7biOWY07Vfhz458GWMmr6Tr8l19nG+RInYMAOpweDQB79RXDfC7x4fGuhSfbQqahZkLOF4Dg9GA/CvK/G3iq/0D41XVylxcSQWsyMLYSkK3yDjHpmgD6MyM4yM0teR+BtD8cap4utvFHia4MdowZltmkIwGHGEHAr1ygDhfibZ+MLu1sR4JlmjkV28/ypQmRjjrXlFn4k8e6P8QNN0bxDq94jvcwiSFpgwZWYenqK+ka+ffH/APycJp//AF1tf5igD6CooqhrmrwaDoV3qd2wWK2iLnPc9h+J4oA8k+Lmpz+KPF+meCdLYnMivcEdAx6Z+gya9e0rTYNG0e20+zXbDbRCNB9B1ryX4M6Pca3rmp+NNUUl55GS3LepPzEfTgV7K33TQB4f8OvF2vap8W7nTtQ1W5uLNTcbYXfKjaTjj2r2HXNbsfDukT6lqcwighXJ9WPoPU188/D/AFS00b4ualf6jMsFvD9qZ3Y+5/Wma94i1L4t+ObbSrWYWti0m23idsAAdWPqcUAbmleKPGnxK8auuh31zpelocuYmwsSe57sa93tIDbWkULSyTGNQpkkbLN7k+tZnhbwvp/hLRItO01MBRmSQ/ekbuxrZoAKDwMmivBfFXiDxD45+JkvhTRNQbT7WGR4hhyu4r95iRyenAoA94V1b7rA/Q06vDJPhJ440QrdaH4kM8ynJQSMhP58GvVtWF1a+ArwXVwZbuOwffMvykuEOSMdOaAN3r3pNy7toYZ9M18weCPEXi6/W60Hw/PPNeXzKTcSSFvIjHUgnp1HNdJqPwl8c6dbNqNlrzXd2g3tHHM4cn2J60Ae+V4j+0QxX+xMEj/WdD9K1PhJ8Sb3Wrt/D3iMlr+JSYpmGGfHVW9xWT+0T10T/tp/SgD1LSrP+0fh7a2ZlaL7Rp6x+Yp5XKYzXIfDT4XXngnXLu/vdRjuBJGYkSIHBGc5Oe/Fdho7FfAFoQcEaeuCO3yV5Z8BNSvb/WtZW9u57gJChUSyFsfMfWgDoPjd4h1Xw/oumyaLqE1nJJOyu0TYJG2u08GXk9/4K0m6vJmmnltkaSRjksSOprxX44eG7+w1X+2J9Q860vZ8RW2T+6IUevFangn4ZeIJrXRtYTxIyWh8uf7Nuf7uc7euKAPcqKKKACiiigAooooAKKKKACiiigAooooAKKKKACiiigAooooAKKKKACiiigAooooAKKKKACiiigAooooAKKKKACiiigAooooAKKKKACiiigAooooAKKKKACiiigArlfiZBcXHw41iOzBMnkEkDqQDk/pXVUjosiFHUMrDBBHBFAHxBUlvG8tzEkILSM4CgdSc8V754l+AllqOoyXWhX4sFlbcYHTcqk+noPatPwR8GNO8MalHqWpXP9o3cXMQ2YRD647mgD0TTUlj0q0S4/1qwoH+uBmrNFFABRRRQB87fHhWf4gWSxnDm2QKc99xqSX4c/E6Cwa4TWJJFWPeI479yzDGcAetWvjPpWo3vxDsJbOwuriNYYwzxQsyj5vUCvdrYFbSIEYOwcH6UAfKngnQ7bxh4yTTvEmqTwM2cbyWaVgfuZJ4NfUVrp1vpGipYadEIoYItkaL24rxX4ufD6807XI/E3hmCZvNkBljt0JaOTruAHY/zr0/4feJbvxL4bSTVrOe0v4MRzrNCybz/eGR3oA8A8HTeKYfGOonwlEkmoEuJA4XO3dz1rv/ALd8aM/8eUf/AHxH/jUfjXwDr/hnxW/i3wKHk3uZJLeJcshPUbf4lPpUK/Gjxg8f2ZPC5a8xjIhk6/7uKAK3h3wX43l+KVj4i17TfLzcCS4lVlAA24zgGp/2iv8Aj80P/rnL/Na7j4Z/8JrNHeXnjNtsdyweCGQAOh+g6DHauH/aL/4/ND/65y/zWgD2Dwubf/hEtL+w7fI+yx7NvT7orl/jL9lPww1D7Vt3bo/Jz137h0/DNcDp+r+O/hnpsNsth/a+kSRiWCQIzCMEZxkcj6Gs28/4Tn4u6pBBPZPZ6fG2eYykUfq2T940AdZ8Lhcn4Havt3Z/0nyfps7fjmvPPhvceM4Ptw8EwJKx2/aNwUkdcdfxr6P8O6Ba+HPDlrpFqN0MCbSSPvk9SfrXjeueDvFHw38VS674LikubCViWijXftUnOxl6kehFAGh/aHxo/wCfGP8A74j/AMar/DjwV4s0z4kDWdd0828UyyGVwy43N7A+tNPxk8Z30ZtdP8Llbtht3CGRtp9cY/nXonw5h8VxaDI3jSVXnkk3wqf9Yins2OPw7UAcT4z+JHiK88cHwp4MRI51fyjKQCzNjJ68ACpv+EU+LZTc3ii1U45G88f+OVhePPC/iLwl8RD4u8P2r3cLy+cDGhfYxGGVgOcHnmr0XxN8d+Kof7N0Pw4baeYbGuijYj7E5YYFAGH8GUmj+LF2l24knWKYSOP4mzyfzrsP2hf+RO07/r9/9kaub+EWg6rpHxRul1K0uFEcUqNO8TBHbPUMRzmvTfij4Rm8YeDntLLH2y3kE8AJwGIBBX8QTQBP8Mv+SZ6H/wBew/ma6qvnbw94+8b+F9FXw1DoEstxASkDSW7lkBPTAGDXveiz3l1olpPqlv8AZrt4gZos52tjmgC9Xz38QeP2hLD/AK7Wv9K+hK8G8d6VqFx8eLG6gsLqW3WW1zMkLFBjGeQMUAe5Xhk+wT+T/rPLbbj1xxXgvwG8keONVF3j7WYDs3fe+/8ANX0DXiHjr4da5oHilvFfgdXcmQzPDFy8bHrhf4lPpQB7hXzz8UTGfjXYf2d/x8Zg37P7+7+eMVbb4x+OJIPscXh7be427xbSEg+u2tT4b/DbVp/EP/CV+M94uSxkigk++WP8TemPSgDT+Pmf+EBts/8AP4n/AKC1bPwasYbT4Y6e8SgNcF5ZCB947iP5AVn/AB0srq+8D28VjbTXMgvFJSGMuQNrc4Fbnwst5rX4Z6TDdQyQyqjbkkUqw+c9QaAOupCwVSzcADJpaRl3oynoRg0AeH3vxC8X+NPGE+i+CTHaQQsw8xsZKg4LMT0H0q1qXhj4qQ6TdS3fia2eBYWMiBj8y45H3fSucvdI8U/Crxzc6rpNg97YzlsOsZdGQnO1scgitmfxn48+IOny6VpWhnTreZCJ7pkbATuASP5c0AN/Z4/4+taz/dj/AJms740osnxa0tHAKtBACD3HmNW38BNKv9NutZF/Z3FuCECmaJk3YJ6ZFUPi7pWoXnxW0ue0sLmeFYoA0kcLMoxIc8gUAe7ooWNVAwAAABXz98cVC/EjSiOpgjJ/7+GvoIfdH0rwj406VqF78QtLls7G5uI1hjDPFCzAfOe4FAHTfHPzj8OLfy87PtEfmY9MHH61sfBv7P8A8Ky077Pt3ZfzNv8Ae3HrXR65oVt4k8MzaVfjEU8QXcByh7EfQ14baw+PPhFqE8NlZtqGmSNuysZkjb345U0AfQGpGEaXdG72iDym8zd0245rwn4A7/8AhMtYNvn7N5HPp9/5f0zUGq+M/H3xEt/7H03RpLS3mIWUxRsAw9Gc9BXqvw28CR+B9BaGRllvrkh7iRemR0Uew5oA8w+N/wDyUbSf+uSf+h175B/x7Rf7g/lXlPxq8EalrYtNd0OJp57NdssSDLFc5BA749KytA+J/jjUr3T9Ng8OM7RuqXL+UylkHBznhaAIf2ix/pWg/wC7N/Na9i8OxrD4Y0yONQqraRgAdvlFeTfH7TL/AFG50M2NlcXGxJd/kxM+3JXrgV67oisnh/T1dSrLbRgqRgg7RQB47+0Uo3aG2Of3gz+VdR4v80/AU+Rkn7BDux6fLmsH4/abfah/Y32CzuLnYZN3kxM+3p1wK9J0nTI77wHaadfxNsmsUilRhgjKgH6GgDwj4eXXxBh0KVfBlvFJZ+cS5Kpndj3Oa6qW7+M0sLxyWMTK6lSNkfQ/jWQdI8afCLXJ5dDt5NS0mZs/LGXVh23Acqferk3xY8c6/CbPQvDslvPJ8vmpE7lfpkYH40Aanwa8GeIfDGu6jPrlk1tDPbhVJcHc27PY1yniK0ivv2jltrhQ0T3sO5T3G1TXt3gu31228L20XimVJdQUYZlOTjtk9zXkeqaTqD/tGxXi2F0bb7ZGfOELbANg53YxQB7yOAMcYpaKKACvnzx//wAnC6f/ANdbX+Yr6Drwfx1pWoz/AB6sLqCwuZbdZbYmZIWKDBGecYoA94rxz42azPqN7pvg7TCWnu5VeZV9zhQf5161qN/Dpem3F9dNtht4zI5PoBXjnwpsp/F/jzVPGmprvWOQrbhhwGPAx9F4/GgD1nw5osPh7w7Z6XbABbeIKSO7dz+daR+6fpS0h+6fpQB8iw+Hr3xR8QLvStNUGWa7lyWOAqhjlj9K63x/8MrnwHFY61oNxNJFDtE0n8Ucg/i+hq/8MtI1K1+Ml1c3NhdQwFrjEskLKpyTjkjFe73tjb6lYzWd7EJoJlKOjDgg0Acv8OPG8XjPw4ksjKuoW4CXMY9f7w9jXXjmvnWXQvEHwq+Iy3GjWl3e6e5z+5iZxJETyrYHUV9B2F4moadBdxK6pMgcK6lWGexB6GgCxXkvj34PXOra5Jr3ha8W1vpG8ySJ2KZb+8rDoa9ZbdsbZjdjjPrXhuoa58T/AAVr95cXVo+pWdxKZAqRmWIAn+EjleO1AGT/AMJr8RPh7eRR+I0luLYnAW5+ZXHs4r2K61mDxD8M7rVbQFY7nT5HCnqvynIrxrxD4j8X/FRLbSLfw+8ESy7iyxtjd0yWPAFeux6GfDfwnn0p3Dvb6fIrsOhbaSaAPOf2d/s32zWc7ftWxNvrsyc/rivda+Vvh5pXiV2u9d8HyZu9OID2/eZDnIx36dK6zUviv481C3bTLTQZLO8cbGeO3cuPoCOPrQBV0/yz+0if7Mx5f2xt2zp935v1zWx+0T10T6yf0rZ+Evw1u9AuH1/xCCNRmUiOJjkxg9S3+0az/j7pt9qH9jGws7i52mTd5MTPt6dcCgD0jSf+Sf2v/YOX/wBF15J+zz/yHdb/AOuCf+hGvXtLikTwJaxOjLILAKUI5B2dMV5V8BNL1DT9c1lr+yubZXhQKZomQN8x6ZFAF/8AaHP/ABT+kf8AXy3/AKDXf+AD/wAW/wBF/wCvRP5Vj/FnwddeL/CYi00Bry0k86JCcb+MFfrXmmg/EPxxomiw+G7bQJZLu3HlxO9u+5RnoRjB+tAH0LRVXTZrm40u2lv4Ps9y8amWLOdjY5FWqACiiigAooooAKKKKACiiigAooooAKKKKACiiigAooooAKKKKACiiigAooooAKKKKACiiigAooooAKKKKACiiigAooooAKKKKACiiigAooooAKKKKACiiigAooooAKKKKACiiigAooooAKKKKACiiigApMDOcDP0paKACvEv2grG7vLvRTaWs04WOXd5UZbHK+le20UAUtGUroNgrrgi2jBBHT5RV0cdOKKKACiiigBAAOgA/CloooAKQADoAKWigAooooATAznAzS0UUAFFFFABRRRQAm0ZzgZ+lLRRQAUUUUAFFFFAARnrSAAdBilooAKKKKACiiigAo69aKKAEAA6DFLRRQAUgAHQAUtFABRRRQAUUUUAFIAB0AH0paKACiiigAooooAKKKKAOb8d+G73xZ4afSbC/SxEzgyuyFtyj+HgjvirXhHw3B4T8M2uk2zb/JXMkmMeY55JraooAKKKKACiiigAooooAKKKKAEAA6DFZfidWfwrqiIpZmtJAABkk7TWrRQB4x+z/ZXdnHrP2u2mg3NHjzYyuevTNezYGc4GaMenFLQAUUUUAFFFFABSYGc45paKACiiigAooooAKKKKACiiigAooooAKKKKACiiigAooooAKKKKACiiigAooooAKKKKACiiigAooooAKKKKACiiigAooooAKKKKACiiigAooooAKKKKACiiigAooooAKKKKACiiigAooooAKKKKACiiigAooooAKKKKACiiigAooooAKKKKACiiigAooooAKKKKACiiigAooooAKKKKACiiigAooooAKKKKACiiigAooooAKKKKACiiigAooooAKKKKACiiigAooooAKKKKACiiigAooooAKKKKACiiigAooooAKKKKACiiigAooooAKKKKACiiigAooooAKKKKACiiigAooooAKKKKACiiigAooooAKKKKACiiigAooooAKKKKACiiigAooooAKKKKACiiigAooooAKKKKACiiigAooooAKKKKACiiigAooooAKKKKACiiigAooooAKKKKACiiigDC1nxr4e8PXotNY1OO1uGQOEYEkj14FZ//AAtHwb/0HIP++W/wrmtet4bj44RJcRJKv9lE7XUEferoDpWn/wDPjb/9+l/wrSMHJXM5TUXYl/4Wj4N/6DsH/fLf4Uf8LR8G/wDQdg/75b/Cof7L0/8A58bf/v0v+FH9l6f/AM+Nv/36X/Cq9kyfak3/AAtHwb/0HYP++W/wo/4Wj4N/6DsH/fLf4VD/AGXp/wDz42//AH6X/Cj+y9P/AOfG3/79L/hR7Jh7Um/4Wj4N/wCg7B/3y3+FH/C0fBv/AEHYP++W/wAKh/svT/8Anxt/+/S/4Uf2Xp//AD42/wD36X/Cj2TD2pN/wtHwb/0HYP8Avlv8KP8AhaPg3/oOwf8AfLf4VD/Zen/8+Nv/AN+l/wAKP7K0/wD58bf/AL9L/hR7Jh7VEv8AwtPwYSQNdgyP9lv8KX/haPg3/oOQf98t/hXE+HbCzf4j+Jo3tYWRBDtUxjC/L2Fdj/Zen/8APhbf9+hQqV+o3USZL/wtHwb/ANByD/vlv8KP+Fo+Df8AoOQf98t/hUX9l6f/AM+Ft/36FH9l6f8A8+Ft/wB+hT9l5i9qiX/haPg3/oOQf98t/hR/wtHwb/0HIP8Avlv8Ki/svT/+fC2/79Cj+y9P/wCfC2/79Cj2XmHtUS/8LR8G/wDQcg/75b/Cj/haPg3/AKDkH/fLf4VF/Zen/wDPhbf9+hR/Zen/APPhbf8AfoUey8w9qiX/AIWj4N/6DkH/AHy3+FH/AAtHwb/0HIP++W/wqL+y9P8A+fC2/wC/QoGl6fn/AI8Lb/v0KXsvMPaokHxS8GHONdg4/wBlv8KX/haPg3/oOQf98t/hXF+A9Ps5Zdf8y1hfbqkqrujBwM9K67+yrD/nyt/+/S/4UKldbjdRJk3/AAtHwb/0HIP++W/wo/4Wj4N/6DkH/fLf4VD/AGXp/wDz5W//AH6X/Cj+y9P/AOfK3/79L/hT9l5i9qib/haPg3/oOQf98t/hR/wtHwb/ANByD/vlv8Kh/svT/wDnyt/+/S/4Uf2Xp/8Az5W//fpf8KPZeYe1RN/wtHwb/wBByD/vlv8ACj/haPg3/oOQf98t/hUP9l6f/wA+Vv8A9+l/wo/svT/+fK3/AO/S/wCFHsvMPaom/wCFo+Df+g5B/wB8t/hR/wALR8G/9ByD/vlv8Kh/svT/APnyt/8Av0v+FQ3ul2AsLgiytwfKb/lkvpS9l5j9oi2Pin4MPTXYD/wFv8KX/haXg3/oOQf98t/hXI/DjT7ObwLZPLawu5aXLNGCT+8aup/suw/58rf/AL9L/hTVK63B1EmS/wDC0vBv/Qcg/wC+W/wo/wCFpeDf+g5B/wB8t/hUX9l2H/Plb/8Afpf8KP7LsP8Anyt/+/S/4Uex8xe1RL/wtLwb/wBByD/vlv8ACj/haXg3/oOQf98t/hUX9l2H/Plb/wDfpf8ACj+y7D/nyt/+/S/4Uex8w9qiX/haXg3/AKDkH/fLf4Uf8LS8G/8AQcg/75b/AAqL+y7D/nyt/wDv0v8AhR/Zdh/z5W//AH6X/Cj2PmHtUS/8LS8G/wDQcg/75b/Ck/4Wl4MHXXYP++W/wqL+y7D/AJ8rf/v0v+FY3jDTrKPwZqzx2cCstq5DCMAjik6XmP2iN7/haXgz/oOwf98t/hS/8LS8Gf8AQdg/75b/AArD8KadZP4Q0pns4GZrVCSYwSeK1/7LsP8Anyt/+/S/4Uey8w9oiX/haXgz/oOwf98t/hR/wtLwZ/0HYP8Avlv8Ki/suw/58rf/AL9L/hR/Zdh/z5W//fpf8KfsvMXtUS/8LS8Gf9B2D/vlv8KP+FpeDP8AoOwf98t/hUX9l2H/AD5W/wD36X/Cj+y7D/nyt/8Av0v+FHsvMPaol/4Wl4M/6DsH/fLf4Uf8LS8Gf9B2D/vlv8Ki/suw/wCfK3/79L/hR/Zdh/z5W/8A36X/AAo9l5h7VEv/AAtLwZ/0HYP++W/wpD8U/Bg5Ouwf98t/hUf9l2H/AD5W/wD36X/CuT+JVhZw+CZnitYY28+IbljAP3xSdKy3Gqibsdh/wtPwZ/0HIP8Avlv8KP8Ahafgz/oOQf8AfLf4VWttLsPskObK3zsX/lkPSpf7MsP+fG3/AO/S/wCFP2XmL2qJP+Fp+DP+g5B/3y3+FH/C0/Bn/Qcg/wC+W/wqP+zLD/nxt/8Av0v+FH9mWH/Pjb/9+l/wo9j5h7VEn/C0/Bn/AEHIP++W/wAKP+Fp+DP+g5B/3y3+FR/2ZYf8+Nv/AN+l/wAKP7MsP+fG3/79L/hR7HzD2qJP+Fp+DP8AoOQf98t/hR/wtPwZ/wBByD/vlv8ACo/7MsP+fG3/AO/S/wCFH9mWH/Pjb/8Afpf8KPY+Ye1RL/wtLwZ/0HYP++W/wpD8U/Bg667B/wB8t/hUf9l6f/z42/8A36X/AArkfG9haRah4dEdrCofUkVgsYGRjoaTp2H7RHZf8LS8Gf8AQdg/75b/AApf+FpeDP8AoOwf98t/hUP9laf/AM+Nv/36X/Cj+y9P/wCfK3/79L/hR7LzF7Um/wCFpeDP+g7B/wB8t/hR/wALS8Gf9B2D/vlv8Kh/svT/APnyt/8Av0v+FH9l6f8A8+Vv/wB+l/wo9l5h7Um/4Wl4M/6DsH/fLf4Uf8LS8Gf9B2D/AL5b/Cof7L0//nyt/wDv0v8AhR/Zen/8+Vv/AN+l/wAKPZeYe1Jv+FpeDP8AoOwf98t/hR/wtLwZ/wBB2D/vlv8ACof7L0//AJ8rf/v0v+FH9l6f/wA+Vv8A9+l/wo9l5h7Um/4Wl4M/6DsH/fLf4Un/AAtPwZnH9uwZ/wB1v8Ki/svT/wDnyt/+/S/4Vx2u2FovxP8ADka2sIjeKbcojGG+U9RR7LzGqlzt/wDhaPg3/oOwf98t/hR/wtLwZ/0HYP8Avlv8Ki/svT/+fC2/79Ck/svT/wDnxtv+/S/4U/ZeYe1RN/wtLwZ/0HYP++W/wo/4Wl4M/wCg7B/3y3+FQ/2Xp/8Az423/fpf8KP7L0//AJ8bb/v0v+FHsvMPaom/4Wl4M/6DsH/fLf4Uf8LS8Gf9B2D/AL5b/Cof7L0//nxtv+/S/wCFH9l6f/z423/fpf8ACj2XmHtUTf8AC0vBn/Qdg/75b/Cj/haXgz/oOwf98t/hUP8AZen/APPjbf8Afpf8KP7L0/8A58bb/v0v+FHsvMPaom/4Wj4M/wCg7B/3y3+FJ/wtPwXnH9uwZ/3W/wAKi/srT/8Anxt/+/S/4VxtrYWh+MV7EbWHyxpyEJ5YwDnrik6XmHtDuP8AhaXgz/oOQ/8AfLf4Uf8AC0fBn/Qch/75b/Cof7LsP+fK3/79L/hR/Zdh/wA+Vv8A9+l/wo9j5i9qTf8AC0fBn/Qch/75b/Cj/haPgz/oOQ/98t/hUP8AZdh/z5W//fpf8KP7LsP+fK3/AO/S/wCFHsvMPak3/C0fBn/Qch/75b/Cj/haPgz/AKDkP/fLf4VD/Zdh/wA+Vv8A9+l/wo/suw/58rf/AL9L/hR7LzD2pN/wtHwZ/wBByH/vlv8ACj/haPgz/oOQ/wDfLf4VD/Zdh/z5W/8A36X/AAo/suw/58rf/v0v+FHsvMPak3/C0fBn/Qch/wC+W/wo/wCFpeDD/wAx2D/vlv8ACov7L0//AJ8rf/v0v+Fcp4U0+zk8XeKUe1hZUukCgxg7fl7VzYqX1enzvU2o/vZcp2H/AAtHwZ/0HYP++W/wo/4Wj4M/6DsH/fLf4U3+ytO/58bf/v0tH9laf/z42/8A36X/AAryv7SX8p1/Vn3Hf8LR8Gf9B2D/AL5b/Cj/AIWj4M/6DsH/AHy3+FN/srT/APnxt/8Av0v+FH9laf8A8+Nv/wB+l/wp/wBpr+UPqz7jv+Fo+DP+g7B/3y3+FH/C0fBn/Qdg/wC+W/wpv9laf/z42/8A36X/AAo/srT/APnxt/8Av0v+FH9pr+UPqz7jv+Fo+DP+g7B/3y3+FH/C0fBn/Qdg/wC+W/wpv9laf/z42/8A36X/AAo/srT/APnxt/8Av0v+FH9pr+UPqz7jv+Fo+DP+g7B/3y3+Fbmi69pniKya70a7W6gVyhdQQAw7c/WsH+ytPwf9Bt+n/PJf8Kzfg4oXwvqQUAAapOAB+FdeGxSr3srWMqlPkPQaKKK7DEKKKKACiiigAoqKe4gtYjLczRwxg4LyMFH5mqv9uaT/ANBSz/8AAhP8admwL9FVrfUrG7k8u1vbeZ8Z2xyqxx9AaZLq+mwytHNqFrHIpwyvOoI+ozRZgXKKrQalY3T7ba9t5m9I5VY/oand0ijZ5WVEUZZmOAB9aVmA6iqH9uaT/wBBOz/8CE/xq1BdW90m+2njmX1jcMP0p2a3Alooqjea1penybL7ULW3f+7JKqn8iaEm9gL1FQWt7a30Xm2VxFcJ/eicMP0p89xDaxGS5mjhjHV5GCj8zSs9gJKKo/23pX/QTs//AAIT/Grccsc0YeGRZFPRlbINOzW4D6KKpy6vpsEjRzahaxupwyvOoIPuM0JN7AXKKjguIbqIS20sc0Z6PGwYH8RUlIAooooAKKKKAPMdZ/5LpF/2CT/6FXTGuZ1n/kukX/YJP/oVdMa6afwnPU+IKKKK1MgooooAKKKKACiigdaBnGeG/wDkpfin6Q/+g12ZrjPDf/JS/FP0h/8AQa7M1Mdhy3CiiiqJCiiigAooooAKB1ooHWkM474f/wCt8Q/9hWX+ddia474f/wCt8Q/9hWX+ddiaUdhy3CiiiqJCiiigAooooAKgvf8AkH3H/XJv5VPUF7/yD7j/AK5N/KkNbnN/DT/kQbH/AHpf/RjV1dcp8NP+RBsf96X/ANGNXV0LZA9wooopiCiiigAooooAKxPGf/Ik6v8A9er/AMq26w/Gf/Ik6v8A9er/AMqT2GtyTwj/AMibpP8A16R/yrYrH8I/8ibpP/XpH/KtihbA9wooopiCiiigAooooAK5D4n/APIjTf8AXeH/ANDFdfXI/E//AJEab/rvD/6GKmWxUdzqbX/jzh/65r/Kpaitf+POH/rmv8qlqhBRRRQIKKKKACiiigArj/HX/IR8Nf8AYTT+VdhXH+Ov+Qj4a/7CafyqZbFROwoooqhBRRRQIKKKKACiiigAri9e/wCSqeGv+uU//oJrtK4vXv8Akqnhr/rlP/6CallI7SiiiqJCiiigAooooAKKKKACuKtf+S0X3/YNT+ddrXFWv/JaL7/sGp/Ope6KWzO1oooqiQooooAKKKKACiiigArkvCP/ACOXiz/r6T/0CutrkvCP/I5eLP8Ar6T/ANBry80/3c7cH/EOwopaSvlD1wooooAKKKKACiiigBex+lYfwe/5FnU/+wrP/StzsfpWH8Hv+RZ1P/sKz/0r18s3kcmJ6HoFFFFe0cYUUUUAFFFFAHD/ABd/5J/P/wBd4/51w/g3wDoGveGob/UtVkt7h3YNGsqKBg4HBGa7j4u/8k/n/wCu8f8AOuI8GfDOx8TeG4dSuNRmgeR2UogGBg4r0qMuXDp81tSuh3fhHwFovh7VHv8ASdRlu5NhRg0iMAD9B7V5pqGjw+IPjNd6ZdSSRxT3ThmjI3DAzxn6V6v4N8FWvg8XQtbyS5+07Sd4AxjPp9a8k1abU7f4w3kuhRCa/W6fykIBycc9fbNVQk5Tm0+m4jf8WfC638NaFLq+jalciS1wzLIRkjOOCMYrZ8OeILrxB8I9Ve/YyT20UkJkPVhtyCffmuM8XeJPGNysWj+JVWwjuCCRsChhnqSM8CvRbbw5D4Z+FeoWkMqztJbPLJKvR2K9vbFOpdQiqju7/gM87+HXgew8Xw3r39xcQm3dQvkkDOfqDUvinQ7v4Y61Z3eianM0UxJCv146hgOCKpeA7/xZZw3n/CJ2S3KMwMxKg4PbqRUtsuq/ETxpDYeI71bZ4MgxFduADyqj1reXP7STk/dXQDu/H/jqbTPCVgdPPlXmpxBww/5ZrgZI9+cVh+G/hKdb05NT8SahcLNcqHWOMjcAehYnPNJ8ZtIe1i0e5toz9lt4zb8fw4wRXpHhXXrLXPD9rcWkyEiJVkj3cowGCCK5HJ06MXT67iPI9e0HV/hbqsGoaPfvLaStgbuMn+6w6H611/xA1WPW/hKmowDatw0TbfQ55H51R+M+uWcmm22kwSpLc+b5jqpzsAGOai1+xm0/4E2kFypWTMbFT1GWz/WtI+97Oct7gZ3gf4aaX4n8LxajeXd3FNI7rtjK7Rg47iq1o9/8OfiPBpUN69xZyyIGQ9GRzjp2IqPwrrHjfTvCoOg6es2mxl283YGPXnvmpvAOmy+NvGUmta3eq81q6yGE/ecjpx2UYrSXMud1HeIz3KvIfij4HsLHT73xFFcXDXM06lo2I2Dcee2a9erhvi9/yT+b/rtH/OvPwspRqpLqIl+E/wDyTuz/AOukn/oRrtK4v4Tf8k7s/wDrpJ/6Ea7Ss638SXqAUUUVkIKKKKAPMdZ/5LpF/wBgk/8AoVdMa5nWf+S6Rf8AYJP/AKFXTGumn8Jz1PiCiiitTMKKKKACiiigAoHWigdaAOM8N/8AJS/FP0h/9BrszXGeGv8Akpfin6Q/+g12ZqY7DluFFFFUIKKKKACiiigAoHWigdaQHHfD/wD1viH/ALCsv867E1x3w/8A9b4h/wCwrL/OuxNKOw5bhRRRVCCiiigAooooAKgvf+Qfcf8AXJv5VPUF7/yD7j/rk38qQLc5v4af8iDY/wC9L/6MaurrlPhp/wAiDY/70v8A6MauroWyG9wooopiCiiigAooooAKw/Gf/Ik6v/16v/KtysTxn/yJOr/9er/ypPYa3H+Ef+RN0n/r0j/lWxWP4R/5E3Sf+vSP+VbFC2E9wooopgFFFFABRRRQAVyPxP8A+RGm/wCu8P8A6GK66uR+J/8AyI03/XeH/wBDFTLYcdzqbX/jzh/65r/Kpaitf+POH/rmv8qlqhBRRRQAUUUUAFFFFABXH+Ov+Qj4a/7CafyrsK4/x1/yEfDX/YTT+VTLYcTsKKKKoQUUUUCCiiigAooooAK4vXv+SqeGv+uU/wD6Ca7SuL17/kqnhr/rlP8A+gmpZSO0oooqiQooooAKKKKACiiigArirX/ktF9/2DU/nXa1xVr/AMlpvv8AsGp/Ope6KWzO1oooqhBRRRQAUUUUAFFFFAgrk/CP/I4+LP8Ar7T/ANBrrK5Pwj/yOPiz/r7T/wBBry80/wB3O3B/xDr6KKK+UPXCiiigAooooAKKKKAF7H6Vh/B7/kWdT/7Cs/8AStzsfpWH8Hv+RZ1P/sKz/wBK9fLN5HJieh6BRRRXtHGFFFFABRRRQBg+MfDreKfDsmmJOLcu6vvZc4wa4KL4NajDGEh8RGNR0VVYD+det0VvCvUhHli9B3OB8J/Dy/8ADuupf3OtNdxqjKYiG5z9TT4Ph3LD8RG8S/b0KGZpfJ2HPIxjNd3RSdeo23fcDnPGfhC38X6SLeRxDcRtuimxnb6j6VFpfhi+tPBNxoF7qCXJaNoopthGxSOh9cV1FFT7WfKo9EByPgPwU/g2C7jkvFuvtDK2VTbjAqn4o+HH9seIoda0m9GnXaEM7Bc7mHRvrXdUU/bVOZzvqwM+80mDVtGNhrKJcK6BZMDAJ9R6V5rd/Bm5guWbQ9aaGJj92QEMB6ZHWvWqKdOtOnpFhc868N/COy0y/W+1m6OozodyoRhM+pzya6jxh4cPifw7Jpkc4tyzqwcrkDB9K3aKUq1SU1NvVAYPg/w4fDHhyPS5J1uNrsxcLgHJz0rAi+HM2m+NDrmh6glrEz7mtmQkEH7y/Q13tFJVZpt333AKwfGXhxvFPh2TTUnFuWdX3suRwc1vUVMZOMlJCMPwh4fbwx4bh0t5xO0bM3mBcZyc9K3KKKTbk7sAooopAFFFFAHlvjK312x+J8Ws6ToVzqkAsPIPlcAEnPWoz4l8Wf8AQiX/AP38H+Fd1rPjTw94fvhZ6zqkNpOyhwkmeR69Kz/+Fn+DP+hgtfzP+FWpyS0JcU3qcr/wkviv/oRL/wD7+D/Cj/hJfFf/AEIl/wD9/B/hXVf8LP8ABn/QftfzP+FH/Cz/AAZ/0H7X8z/hT9pIXJE5X/hJfFf/AEIl/wD9/B/hR/wkviv/AKES/wD+/g/wrqv+Fn+DP+g/a/mf8KP+Fn+DP+g/a/mf8KPaSDkicr/wkviv/oRL/wD7+D/Cj/hJfFf/AEIl/wD9/B/hXVf8LP8ABn/QftfzP+FH/Cz/AAZ/0H7X8z/hR7SQckTlf+El8V/9CJf/APfwf4Uf8JN4r/6ES/8A+/g/wrqv+FoeDP8AoYLX8z/hR/wtDwX/ANDBa/mf8KPaSD2cTznTJ/Fun+KNV1Y+DL9xqGzEe4DZtGOvetz/AISbxX/0Imof9/BXU/8AC0vBeSP7ftePr/hS/wDC0PBn/QwWv5n/AApe0kgcYs5X/hJvFf8A0Imof9/BR/wk3iv/AKETUP8Av4K6r/haHgv/AKGC1/M/4Uf8LQ8F/wDQwWv5n/Cj2kg5InK/8JN4r/6ETUP+/go/4SbxX/0Imof9/BXVf8LQ8F/9DBa/mf8ACj/haHgv/oYbT8z/AIUe0kHJE5X/AISbxX/0Imof9/BR/wAJN4r/AOhE1D/v4K6r/haHgv8A6GC0/M/4Uf8AC0PBf/Qw2n5n/Cn7SQckTlf+Em8V/wDQiah/38FH/CTeK/8AoRNQ/wC/grqv+FoeC/8AoYbX8z/hR/wtDwX/ANDDafmf8KPaSDkied+HZ/FuhtqRbwXfzfbbt7kYYDbu7Vtf8JN4r/6ETUP+/grqR8UvBZzjX7Xj1yP6Uv8AwtDwZ21+1/M/4UlUkh8kWcr/AMJL4r/6ETUP+/go/wCEl8V/9CJqH/fwV1X/AAtDwb/0H7X8z/hR/wALQ8G/9B+1/M/4U/aSFyROV/4SXxX/ANCJqH/fwUf8JL4r/wChE1D/AL+Cuq/4Wh4N/wCg/a/mf8KP+FoeDf8AoP2v5n/Cj2kg5InK/wDCS+K/+hE1D/v4KP8AhJfFf/Qiah/38FdV/wALQ8G/9B+1/M/4Uf8AC0PBv/QftfzP+FHtJByROV/4SXxX/wBCJqH/AH8FRz+IfFk1vJH/AMILqA3oVz5g4yK67/haHg3/AKGC0/M/4Uf8LR8Gf9DBafmf8KXtJByRPPvC934t8P8Ah+DTW8FX8xiLneGAzuYt0/Gtf/hJfFf/AEImof8Afwf4V1K/FLwWVz/wkFqPrkf0pf8AhaPgz/oYLX8z/hTVSQckTlf+El8V/wDQiah/38H+FH/CS+K/+hE1D/v4P8K6r/haHgz/AKGC1/M/4Uf8LQ8Gf9DBa/mf8KPaSDkicr/wkviv/oRNQ/7+D/Cj/hJfFf8A0Imof9/B/hXVf8LQ8Gf9DBa/mf8ACj/haHgz/oYLX8z/AIUe0kHJE5X/AISXxX/0Imof9/B/hR/wkviv/oRNQ/7+D/Cuq/4Wh4M/6GC1/M/4Uf8AC0PBn/QwWv5n/Cj2kg5InK/8JL4r/wChE1D/AL+D/CqOt6r4s1bQrzT18EahGbmFo95cHbkda7j/AIWh4M/6GC1/M/4UH4o+CwP+Rgtf1/wo9pIOSJxGj6v4s0vRbOxPgjUJDbwrHv3gbsDGcVd/4SbxX/0Imof9/B/hXVD4oeDCMjxBa/mf8KP+FoeDP+g/a/mf8KPaSDkicr/wk3iv/oRNQ/7+D/Cj/hJvFf8A0Imof9/B/hXVf8LQ8Gf9B+1/M/4Uf8LQ8Gf9B+1/M/4Ue0kHJE5X/hJvFf8A0Imof9/B/hR/wk3iv/oRNQ/7+D/Cuq/4Wh4M/wCg/a/mf8KX/hZ/gz/oP2v5n/Cj2kg5InKf8JN4r/6ETUP+/g/wo/4SbxX/ANCJqH/fwf4V1X/C0PBn/QftfzP+FH/Cz/Bn/QftfzP+FHtJByROV/4SbxX/ANCJqH/fwf4VjeKrrxb4j0GTTl8F38BaRH3lgfusD0r0P/hZ/gz/AKD9r+Z/wpG+KPgxRk6/a/hn/Cj2kmHJE5OLxH4rjhRP+EF1A7VAz5g5p/8Awk3iv/oRNQ/7+Cuq/wCFo+Cz/wAzBa/mf8KP+FoeC/8AoYLX8z/hR7SQckTlf+Em8V/9CJqH/fwUf8JN4r/6ETUP+/grqv8AhaHgv/oYLX8z/hR/wtDwX/0MFr+Z/wAKPaSDkicr/wAJN4r/AOhE1D/v4KP+Em8V/wDQiah/38FdV/wtDwX/ANDBa/mf8KP+FoeC/wDoYLX8z/hR7SQckTlf+Em8V/8AQiah/wB/BR/wk3iv/oRNQ/7+Cuq/4Wh4L/6GC1/M/wCFH/C0PBf/AEMFr+Z/wo9pIOSJyv8Awk3iv/oRNQ/7+CsXX7jxbrNxpkq+C7+L7DdLcEFgd+O1eif8LQ8F/wDQwWn5n/CkPxS8Frj/AIqC159M/wCFJ1JMOSJy3/CTeK/+hD1H/v4KP+Em8V/9CHqP/fwV1f8AwtHwZ/0MFr+Z/wAKP+Fo+DP+hgtfzP8AhT9pIOSJyn/CTeK/+hD1H/v4KP8AhJvFf/Qh6j/38FdX/wALR8Gf9DBa/mf8KP8AhaPgz/oYLX8z/hR7SQckTlP+Em8V/wDQh6j/AN/BR/wk3iv/AKEPUf8Av4K6v/haPgz/AKGC1/M/4Uf8LQ8Gf9DBa/mf8KPaSDkicp/wk3iv/oQ9R/7+Cj/hJvFf/Qh6j/38FdX/AMLR8Gf9DBa/mf8ACj/haPgz/oYLX8z/AIUe0kHJE5T/AISbxX/0Ieo/9/BWHqE3i298WaZrI8GX6LYo6mIsPn3DHXtXo/8AwtHwX/0MFr+Z/wAKQ/FPwWGA/t+15+v+FL2kg5InK/8ACTeK/wDoRNQ/7+Cj/hJvFf8A0Imof9/BXV/8LR8F/wDQwWv5n/Cj/haPgv8A6GC1/M/4U/aSD2cTlP8AhJvFf/Qiah/38FH/AAk3iv8A6ETUP+/grq/+Fo+C/wDoYLX8z/hSf8LS8F/9DBa/mf8ACj2kg9nE5X/hJvFf/Qiah/38FH/CTeK/+hE1D/v4K6r/AIWl4L/6GC1/M/4Uv/C0fBf/AEMFr+Z/wo9pIPZxOU/4SbxX/wBCJqH/AH8FH/CTeK/+hE1D/v4K6r/haXgv/oYLX8z/AIUf8LS8F/8AQwWv5n/Cj2kg9nE5X/hJfFf/AEImof8AfwVhRTeLYvG8+vf8IZflZbZYPJ3DjHfNekf8LR8F/wDQwWv5n/Cm/wDC0vBe7H9v2v6/4UnUkPkict/wk3ir/oRNQ/7+D/Cj/hJvFX/Qi6h/38H+FdV/wtHwZ/0MFr+Z/wAKX/haPgv/AKGC1/M/4Ue0kL2cTk/+Em8V/wDQiah/38H+FJ/wk3iv/oRdQ/7+D/Cut/4Wj4L/AOhgtfzP+FJ/wtDwX/0MFr+Z/wAKPaSH7OJyg8TeK/8AoRdQ/wC/g/wpf+Em8Vf9CLqH/fwf4V1f/C0PBf8A0MFr+Z/wo/4Wj4L/AOhgtfzP+FHtJB7OJyR8TeK/+hF1D/v4P8KP+Em8V/8AQi6h/wB/B/hXW/8AC0PBf/QwWv5n/Ck/4Wh4L/6GC1/M/wCFHtJB7OJyn/CTeK/+hE1D/v4P8Kx9Hu/Ful61q98fBV/INQmWQIGA2YGMe9ehj4o+C/8AoYLX8z/hQPij4MJONftePr/hWVVKtHlnsVD3HeJy3/CU+K/+hD1D/v4P8KX/AISjxX/0Ieof9/B/hXU/8LQ8Gf8AQftfzP8AhSf8LQ8Gf9DBa/mf8K5PqNDsbe2mcv8A8JR4r/6EPUP+/g/wo/4SjxX/ANCHqH/fwf4V1H/C0PBn/QwWv5n/AAo/4Wh4M/6GC1/M/wCFH1Kh2D20zl/+Eo8V/wDQh6h/38H+FH/CUeK/+hD1D/v4P8K6j/haHgz/AKGC1/M/4Uf8LQ8Gf9DBa/mf8KPqVDsHtpnL/wDCUeK/+hD1D/v4P8KP+Eo8V/8AQh6h/wB/B/hXUf8AC0PBn/QwWv5n/Cj/AIWh4M/6GC1/M/4UfUqHYPbTOX/4SjxZ/wBCHqH/AH8FbXwn07UdN8MXiavYy2M81/LMIpRztbFXh8UPBn/QwWv5n/CtzRte0zxFZNd6NdpdwK5QyIDjcO3P1ralQhRvyLciU5T3NCiiityAooooAKKKKACiiigAooooAKKKKACiiigAooooAKKKKACiiigAooooAKKKKACiiigAooooA8r8RWlve/G6GK7gjnj/ALLJ2yKGGd3Xmtz+wNH/AOgXaf8Afhf8KydZ/wCS5w/9go/+hV01dNNLlOeo3zGd/YGkf9Au0/78r/hR/YGkf9Au0/78r/hWjRWlkZ3Znf2BpH/QLtP+/K/4Uf2BpH/QLtP+/K/4Vo0UWQXZnf2BpH/QLtP+/K/4Uf2BpH/QLtP+/K/4Vo0UWQXZnf2BpH/QLtP+/K/4Uv8Awj+kf9Au0/78r/hWhQOtFkF2ef8Ah7SNOl+IniWGSwt3iiEOxGiBC5XnA7V1/wDwj+j/APQLtP8Avyv+Fc74b/5KX4p+kP8A6DXZ1MUrFSbuZ3/CP6P/ANAu0/78r/hR/wAI/o//AEC7T/vyv+FaNFVZE3Znf8I/o/8A0C7T/vyv+FH/AAj+j/8AQLtP+/K/4Vo0UWQXZnf8I/o//QLtP+/K/wCFH9gaP/0C7T/vyv8AhWjRRZBdmd/YGj/9Au0/78r/AIUv/CP6Of8AmF2n/flf8K0KB1osh3ZwPgTR9NuJde+0WFvL5epyqm+IHaM9BXW/8I/o/wD0C7T/AL8r/hXO/DwknXyep1SX+ddnUxSsOTdzO/4R/R/+gXaf9+V/wo/4R/R/+gXaf9+V/wAK0aKqyFdmd/wj+j/9Au0/78r/AIUf8I/o/wD0C7T/AL8r/hWjRRZBdmd/wj+j/wDQLtP+/K/4Uf8ACP6P/wBAu0/78r/hWjRRZBdmd/wj2j/9Auz/AO/K/wCFQ3nh/SFsZyNMtARGxBEK+n0rXqC9/wCQfcf9cm/lSaVgTZx/w70bTbnwLZS3Gn20sjNLl3iBJ/eN3rp/+Ef0f/oF2f8A34X/AArE+Gh/4oGx/wB6X/0Y1dXmhJWG27mf/wAI/pH/AEC7P/vwv+FL/wAI/pH/AEC7P/vwv+FX80Zp2QuZlD/hH9I/6Bdn/wB+F/wpP+Ef0f8A6Bdn/wB+F/wrQzRmiyDmZn/8I/o//QLs/wDvyv8AhR/wj2j/APQLs/8Avyv+FaGaM0WQXZn/APCP6P8A9Auz/wC/K/4VjeLtE0uDwbqssOnWqSJauVZYlBBx9K6msTxn/wAiTq//AF6v/Kk0rAm7lPwroelTeEtLkl021d2tULM0Kkk469K1v+Ef0f8A6Bdn/wB+V/wqv4R/5E3Sf+vSP/0GtmhJWBt3M7/hH9H/AOgXZ/8Aflf8KP8AhHtH/wCgVZ/9+V/wrRozTshXZnf8I/o//QKs/wDvyv8AhS/8I/o//QKs/wDvyv8AhWhmjNFkO7M7/hH9H/6BVn/35X/Cj/hH9G/6BVn/AN+F/wAK0c0UWQXZnf8ACP6P/wBAuz/78L/hXK/EfR9NtfBc0ttYW0MgmiG5IgD98d67uuQ+J3/Ijz/9d4f/AEMVMkrDi3c2rbQNINrETpdoSUX/AJYr6fSpP+Ef0f8A6Bdp/wB+V/wq5a/8ecP/AFzX+VS0+VCuzO/4R/R/+gXaf9+V/wAKP+Ef0f8A6Bdp/wB+V/wrRop2QXZnf8I/o/8A0C7T/vyv+FH/AAj+j/8AQLtP+/K/4Vo0UWQXZnf8I/o//QLtP+/K/wCFH/CP6P8A9Au0/wC/K/4Vo0UWQXZnf8I/o/8A0C7P/vyv+Fcn420fTYL/AMPCCwtoxJqSK4WIDcMdDXe1x/jr/kI+Gv8AsJp/KpkkNNm//wAI/o3/AECrP/vyv+FL/wAI9o3/AECrP/vyv+FaFFVZCuzO/wCEf0b/AKBVn/35X/Cj/hH9G/6BVn/35X/CtGiiyC7M8eH9G/6BVn/35X/Cj/hH9G/6BVn/AN+V/wAK0KKLIV2Z58P6N/0CrP8A78r/AIUn/CP6N/0CrP8A78r/AIVo0UWQ7szv+Ef0b/oFWf8A35X/AArkNb0jTo/ib4egSwt1ikimLoIhtbA4yK9Ari9e/wCSq+Gv+uM//oJqWkOLZ0n/AAj+jf8AQLtP+/C/4Uf2Bo//AEC7T/vyv+FaFFOyFdmf/YGj/wDQLtP+/K/4Uf2BpH/QLtP+/K/4VoUU7ILsz/7A0j/oF2n/AH5X/Cj+wNH/AOgXaf8Aflf8K0KKLILsz/7A0j/oF2n/AH5X/Cj+wNI/6Bdp/wB+V/wrQoosguzP/wCEf0fvpdp/35X/AArj7TR9NPxfvbZrG3MC6ejCPyhtBz1xXoFcXZ/8lpv/APsGp/OuDMNMPJo6cNrUVzpz4d0Yf8wqz/78L/hSf8I9o/8A0C7P/vyv+FaRpK+T559z1+VdjO/4R/R/+gXZ/wDflf8ACj/hH9H/AOgXZ/8Aflf8K0aKOefcOVdjO/4R/R/+gXZ/9+V/wo/4R/R/+gXZ/wDflf8ACtGijnn3DlXYzv8AhH9H/wCgXZ/9+V/wo/4R7Rv+gXZ/9+V/wrRoo559w5V2M8eHdGP/ADCrP/vwv+Fcj4Z0fTZfF3ieKWwtnSK5QIrRAhRt7eld+K43wr/yOniv/r6T/wBBr18qk5VXfsceMSVPQ3f+Ef0f/oF2f/flf8KP+Ef0f/oF2f8A35X/AArRor6SyPKuzO/4R/R/+gXaf9+V/wAKP+Ef0f8A6Bdp/wB+V/wrRoosguzO/wCEf0f/AKBdp/35X/Cj/hH9H/6Bdp/35X/CtGiiyC7M7/hH9H/6Bdp/35X/AAo/4R/R/wDoF2n/AH5X/CtGgUWQXZnHw/o+0/8AErtOn/PFf8KrfBpVTwtqKooVRqk4AA6dK2z9w/SsX4O/8izqX/YVn/pWNXob07noNFFFYGoUUUUAFFFFABRXLfELXb3w94TkvtMdUnWVFBddwwevFcNpPiP4ma3pyX2mRQTW7khWCIM4OD1NdEKEpx57pIdj2KiuI8IXHjqXV2Hiu3jjs/LO0oEzu4x0P1rk9U8deMJPHN5omhvDIVuHjhjMS5wPc044eUpNJrQR7HRXkF94v+InhpFu9dsIWtdwDHYuPzU8V20Pi5dW+H91r2mfu5Y4XO1hnY6joamWHnG3mOx1NFeK6H4x+IniNJX0dYJ1hIDny0GD+Jq/b/EnxJ4e1mKz8aaeqRyEZdU2kD+8MHBrR4Wa0urhY9borB8TeLbHw3oA1OU+aJQPIjU8yEjIrze38VfEXxQWudCt/JtQeCkaAH2y/Ws6dCU1zbLzA9moryLSvibruh6yuneNrTapIDS+XtZR68cEfSuy8feIbrQ/B/8AaekSx+Y0iBXK7gVNN4eamo9xHV0V47pPiP4ma3p632mwwTWzEgNsQZwcHgmtXwr8StRk8RLoXiu0W3unfy1dV24bsCPf1qpYWaTas7DPTaKPrXnXijxD41fxG2keG9LMK4ytw6hg4/vZPArGnTc3ZCPRaK8bufGnjjwbqUC+KUjuLebnkJyO+Cvf6169a3Md5Zw3MJzHMgdT7EZqqtGVO19UwJqKKKxAKKKKAPMtZ/5LnF/2Cj/6FXS1zWs/8lyi/wCwSf8A0Kulrqp/Cc1T4gooorQzCiiigAooooAKB1oooA4zw3/yUvxT9If/AEGuzrjPDX/JS/FP0g/9BrszSjsVLcKKKKZIUUUUAFFFFABQOtFA60DOM+HX/Me/7CktdnXGfDr/AJj/AP2FJa7M1Mdhy3CiiiqJCiiigAooooAKgvf+Qfcf9cm/lU9QX3/IPuP+uTfypPYZzfw0/wCRBsf96X/0Y1dXXKfDT/kQbH/el/8ARjV1dKOw3uFFFFUSFFFFABRRRQAVieM/+RJ1f/r1f+VbdYnjP/kSdX/69H/lSexS3HeEf+RN0n/r0j/9BrZrG8I/8ibpP/XpH/6DWzQthPcKKKKYgooooAKKKKACuQ+J3/Ijzf8AXeH/ANDFdfXIfE7/AJEef/rvD/6GKmWxUdzqrX/jzh/65r/Kpaitf+POH/rmv8qlqhBRRRQIKKKKACiiigArj/HX/IR8Nf8AYTT+VdhXH+Ov+Qj4a/7CafyqZbFROwoooqhBRRRQIKKKKACiiigAri9e/wCSreGv+uM3/oJrtK4vXv8Akq3hr/rjN/6CamRUTtKKKKoQUUUUCCiiigAooooAK4uz/wCS03//AGDU/nXaVxdn/wAlov8A/sGp/OvPzH/dpHVhf4qO4NJSmkr5A9oKKKKACiiigAooooAUVxvhX/kdPFf/AF9J/wCg12QrjfCv/I6eK/8Ar6T/ANBr2cp/iv0OLGfwzrqKKK+mPICiiigAooooAKBRQKBin7h+lYvwd/5FnUv+wrP/AEraP3GrF+Dv/Is6l/2FJ/6VhV6G1M9BooorA2CiiigAooooA4X4v/8AJP5f+u8f8zXEeDtU8eWvhqGLw7p8U1grNsdowSTnnnI713/xSsbrUPBMkFjBJPKZkISNcnGa4Xw54h8ZeGdEi0y08NySxRsxDSRNk5Oe1enR1oWST16ldD0PwVfeKbyO7/4S20jtypXyNibdw5z3PtXlTava6D8ZrvUb8sIIbuXdtGTyCOleheE/FfijV9dW11nRPsVsUZjL5bDBHQc1ydv4Xur34w3Emo6VLLpslzKzNJGfLYYODn60qVoOfP26CLPjn4naRrnhmfS9KimlludqlpE2hRkH8TxV/wAM6Ld6P8G9V+3I0clzFJMEYYKgqAP5VF8Qvh+tvFb6t4Us/Lnt2G+GBevPDAeua6UX19r3wzvPtVjNDqBtmjeFkILNjqB70nKCpxVPa+ozzn4Z+NNK8LWl9FqplDTyKybE3cAUzxv4iX4g63YWfh+0mfysqCy8sSfTsBW98MPBkMtpff8ACS6Nlw6+V9pjIOMc4qC58P6t4C8fpqGgWM15ps/LRxLuKofvL+HatnKkq0nH4vwAofFqGezbQLCdiYobTaSOhYEA/wAhXsej29ta6JZxWKqLdYU8vb3GOtYHjjwmnjXw/F5P7m7jHmQGQY6jlTXAab4j8deDrYaZcaS91FF8sW+Nm2j0DL1FYNe3pRUXqugje+NkFudBsZ3VROs5VW7lccis/XpJZfgLp7T5LBowM+gJxVBNA8WfEbW4Z9fjeysYz/Em0Kvoo7k+tdp8R9FkPw9TTdHtXl8mSNUijXJwKuLjB06bd2mM5jwL8RtD8PeEoNPvzP58bOSEjyOST1rIgmm8ffFWHUNMtnjt45Y3ZiPuomOT7nFdh4J8C6bd+CY01zSFS9k3q7SJiQcnBrK8G2Wt+CPGdxpc1jcT6XcPt8+OMlR/dbP6GnzU05yp/EB65UN3dQWVrJdXcixRRKWd2OABU1ePfFGXxPq2sPplnp9y+mwhSDChIlOM5J74rho0vay5W7Emfr19efFPxfBY6REUsLXIErDoCeXP5cCva7O1SysYLWL7kMaxrn0AxXi/h3XfFPhjTRZ6Z4SwM5eRoX3SH1Jr13QL271DQrW61K3+zXMiZkiwRtPpzW+KTVkvhWw2aNFFFcQgooooA8x1n/kuUX/YJP8A6FXTVynjCPV9P+KUWsWGh3mpW4sPJJt16MTnrR/wlWvf9CRq36V0U5RUdTCcW5aHV0Vyn/CVa/8A9CPq36Uf8JVr/wD0I+rfpV88e5Ps5HV0Vyn/AAlWv/8AQj6t+lH/AAlWv/8AQj6t+lHPHuHs5HV0Vyn/AAlWv/8AQj6t+lH/AAlWv/8AQj6t+lHPHuHs5HV0Vyn/AAlWvf8AQkat+lL/AMJVr3/Qkat+lHPHuHs5Fbw3/wAlL8U/SD/0GuzrzbSrzxFYeK9X1VvB+qOl/wCXtjCjKbRjk1unxVr3/Qk6t+lKM42CUJXOsork/wDhK9e/6EnVf0o/4SvXv+hJ1X9KftIi5JdjrKK5P/hKte/6EnVfzFH/AAlevf8AQk6r+lHtIhyS7HWUVyf/AAlevf8AQk6r+lH/AAlWvf8AQk6r+Yo9pEfJLsdZRXJ/8JXr3/Qk6r+lA8V69/0JOq/pRzxFyS7EPw8Xa3iBeuNUlH612Rrzjw1feItEbUzL4P1ST7ZePcDauNobtW5/wlevf9CTq36VMZxsVKDudXRXKf8ACV67/wBCTqv6Uf8ACV67/wBCTqv6VXtI9yeSR1dFcp/wleu/9CTqv6Uf8JXrv/Qk6r+lHtI9w5JHV0Vyn/CV67/0JOq/pR/wleu/9CTqv6Ue0j3DkkdXUF7/AMg+4/65N/Kub/4SvXf+hJ1X9KjuPE+vTW0sY8FaqC6FQeO4pc8R8kiT4af8iDY/70v/AKMaurrzvwpqPiHw/wCHLfTZvB2qTPEXJdVAB3MW/rWz/wAJVrv/AEJGrfkKFONgcJXOrorlP+Eq13/oSNW/IUf8JVrv/Qkat+Qp88e4ezkdXRXKf8JVrv8A0JGrfkKP+Eq13/oSNW/IUc8e4ezkdXRXKf8ACVa7/wBCRq35Cj/hKtd/6EjVvyFHPHuHs5HV1ieM/wDkSdX/AOvR/wCVZ/8Awleu/wDQkat+QqhruteINW0C9sI/BmqxtcwtGGIBAyKTnGw1CVzovCP/ACJuk/8AXpH/ACrYrhtF1zxBpmhWVi/gvVXa3hWMsAADgYzV0+K9dH/Mk6t+lCnGwnCVzrKK5P8A4SzXf+hJ1X9KP+Es13/oSdV/SnzxD2cjrKK5P/hLNd/6EnVf0o/4SzXf+hJ1X9KOeIezkdZRXJ/8JZrv/Qk6r+lH/CWa7/0JOq/pRzxD2cjrK5D4nf8AIjz/APXeH/0MVJ/wlWu/9CTq36VieLb/AMQ+IvD8mnw+D9UhZpEcOygj5WB7VLnG241CSZ6Da/8AHnD/ANc1/lUtchD4o16OFEPgnViVUAnA9Kk/4SrXv+hI1b9Krnj3FySOrorlP+Eq17/oSdW/Sj/hKte/6EjVv0o549w9nI6uiuU/4SrXv+hI1b9KP+Eq17/oSNW/Sl7SPcPZyOrorlP+Eq17/oSNW/Sj/hKte/6EjVv0o9pHuHs5HV1x/jr/AJCPhr/sJp/Kpf8AhKte/wChI1b9Kw/EN74i1m60qWPwdqkYsbtZ2BXO4DtSlOLQ1CR6PRXKHxVr3/Qkat+Qo/4SrXv+hJ1b9Krnj3FySOrorlP+Eq17/oSdW/Sj/hKte/6EnVv0o549w9nI6uiuU/4SrXv+hJ1b9KP+Eq17/oSdW/Sjnj3D2cjq6K5T/hKte/6EnVv0o/4SrXv+hJ1b9KOePcPZyOrri9e/5Kr4a/64zf8AoJqz/wAJVr3/AEJGrfpWDqN54jvfGOlawvg7VFSxSRWjK8tuGOtJziNQZ6TRXKf8JVr3/Qkat+Qo/wCEq13/AKEnVvyFPniTySOrorlP+Eq13/oSdX/IUf8ACVa9/wBCRq/5Cjnj3DkkdXRXKf8ACVa9/wBCRq/5Cj/hKte/6EjV/wAhRzx7j5JHV0Vyn/CVa9/0JGr/AJCj/hKte/6EjV/yFHPEOSR1dcXZ/wDJaL//ALBqfzqz/wAJVr//AEJGrfkKwYLzxFF48uNdPg/VDHLarAIgvII75rjxv7yg4w3N8OuWonI9NpK5M+LNd/6EjVv0o/4S3XP+hJ1b9K+Z+p1/5T1PbQ7nWUVyf/CW65/0JOrfpR/wluuf9CTq36U/qdf+UPbQ7nWUVyf/AAluuf8AQk6t+lH/AAluuf8AQk6t+lH1Ov8Ayh7aHc6yiuT/AOEt1z/oSdW/Sj/hLdc/6EnVv0o+p1/5Q9tDudaK43wr/wAjp4r/AOvpP/Qal/4SzXv+hI1b9Kw9Hv8AxFp2u6xfP4O1R11CZZFUKBtwMV6eW0Z0ajc1Y5cVJThaJ6LRiuU/4SrXv+hI1b9KP+Eq1/8A6EnVv0r3vaR7nm8kjrMUmK5T/hKtf/6EnVv0o/4SnX/+hJ1b9KOePcOSR1eKMVyn/CVa/wD9CTq36Uf8JVr/AP0JOrfpS9pHuHJI6vFLXJ/8JTr/AP0JOrfpR/wlWv8A/Qk6t+lPnj3DkkdYT8hrF+Dv/Is6l/2FJ/6VmnxVr+D/AMUTq36VsfCWwv7DwxerqllNZSzX8soimXDbWwRWNSSdrGtNNbnd0UUVkahRRRQAUUUUAFFFFABRRRQAUUUUAFFFFABRRRQAUUUUAFFFFABRRRQAUUUUAFFFFABRRRQAtFJRQAtFJRQAtFJRQAtFJRQAvFJxRRQAUUUUAFFFFABRRRQAUUUUAFFFFABRRRQAUUUUAFFFFABRRRQAUUUUAFGaKKADNGaKKADNGaKKADNGaKKACiiigAooooAKKKKACiiigAooooAKKKKACiiigAooooAKKKKACiiigAooooAKKKKACiiigAooooAKKKKACiiigAooooAKM0UUAGaM0UUAGaM0UUAFFFFABRRRQAUUUUAFFFFABRRRQAUUUUAFFFFABRRRQAUUUUAFFFFABRRRQAUUUUAFFFFABRRRQAUUUUAFFFFABRRRQAUUUUAFFFFABRRRQAUUUUAFFFFABRRRQAUUUUAFFFFABRRRQAUUUUAFFFFABRRRQAUUUUAFFFFABRRRQAUUUUAFFFFABRRRQAUUUUAFFFFABRRRQAUUUUAFFFFABRRRQAUUUUAFFFFABRRRQAUUUUAFFFFABRRRQAUUUUAFFFFABRRRQAUUUUAFFFFABRRRQAUUUUAFFFFABRRRQAUUUUAFFFFABRRRQAUUUUAFFFFABRRRQAUUUUAFFFFABRRRQAUUUUAFFFFABRRRQAUUUUAFFFFABRRRQAUUUUAFFFFABRRRQAUUUUAFFFFABRRRQAUUUUAFFFFABRRRQAUUUUAFFFFABRRRQAUUUUAFFFFABRRRQAUUUUAFFFFABRRRQAUUUUAFFFFABRRRQAUUUUAFFFFABRRRQAUUUUAFFFFABRRRQAUUUUAFFFFABRRRQAUUUUAFFFFABRRRQAUUUUAFFFFABRRRQAUUUUAFFFFABRRRQAUUUUAFFFFABRRRQAUUUUAFFFFABRRRQAUUUUAFFFFABRRRQAUUUUAFFFFABRRRQAUUUUAFFFFABRRRQAUUUUAFFFFABRRRQAUUUUAFFFFABRRRQAUUUUAFFFFABRRRQAUUUUAFFFFABRRRQAUUUUAFFFFABRRRQAUUUUAFFFFABRRRQAUUUUAFFFFABRRRQAUUUUAFFFFABRRRQAUUUUAFFFFABRRRQB//2Q==)"
      ]
    },
    {
      "cell_type": "markdown",
      "metadata": {
        "id": "s4s9NXPaqxz7"
      },
      "source": [
        "![Cross Validation 3.JPG](data:image/jpeg;base64,/9j/4AAQSkZJRgABAQEAYABgAAD/4RD4RXhpZgAATU0AKgAAAAgABAE7AAIAAAAPAAAISodpAAQAAAABAAAIWpydAAEAAAAeAAAQ0uocAAcAAAgMAAAAPgAAAAAc6gAAAAgAAAAAAAAAAAAAAAAAAAAAAAAAAAAAAAAAAAAAAAAAAAAAAAAAAAAAAAAAAAAAAAAAAAAAAAAAAAAAAAAAAAAAAAAAAAAAAAAAAAAAAAAAAAAAAAAAAAAAAAAAAAAAAAAAAAAAAAAAAAAAAAAAAAAAAAAAAAAAAAAAAAAAAAAAAAAAAAAAAAAAAAAAAAAAAAAAAAAAAAAAAAAAAAAAAAAAAAAAAAAAAAAAAAAAAAAAAAAAAAAAAAAAAAAAAAAAAAAAAAAAAAAAAAAAAAAAAAAAAAAAAAAAAAAAAAAAAAAAAAAAAAAAAAAAAAAAAAAAAAAAAAAAAAAAAAAAAAAAAAAAAAAAAAAAAAAAAAAAAAAAAAAAAAAAAAAAAAAAAAAAAAAAAAAAAAAAAAAAAAAAAAAAAAAAAAAAAAAAAAAAAAAAAAAAAAAAAAAAAAAAAAAAAAAAAAAAAAAAAAAAAAAAAAAAAAAAAAAAAAAAAAAAAAAAAAAAAAAAAAAAAAAAAAAAAAAAAAAAAAAAAAAAAAAAAAAAAAAAAAAAAAAAAAAAAAAAAAAAAAAAAAAAAAAAAAAAAAAAAAAAAAAAAAAAAAAAAAAAAAAAAAAAAAAAAAAAAAAAAAAAAAAAAAAAAAAAAAAAAAAAAAAAAAAAAAAAAAAAAAAAAAAAAAAAAAAAAAAAAAAAAAAAAAAAAAAAAAAAAAAAAAAAAAAAAAAAAAAAAAAAAAAAAAAAAAAAAAAAAAAAAAAAAAAAAAAAAAAAAAAAAAAAAAAAAAAAAAAAAAAAAAAAAAAAAAAAAAAAAAAAAAAAAAAAAAAAAAAAAAAAAAAAAAAAAAAAAAAAAAAAAAAAAAAAAAAAAAAAAAAAAAAAAAAAAAAAAAAAAAAAAAAAAAAAAAAAAAAAAAAAAAAAAAAAAAAAAAAAAAAAAAAAAAAAAAAAAAAAAAAAAAAAAAAAAAAAAAAAAAAAAAAAAAAAAAAAAAAAAAAAAAAAAAAAAAAAAAAAAAAAAAAAAAAAAAAAAAAAAAAAAAAAAAAAAAAAAAAAAAAAAAAAAAAAAAAAAAAAAAAAAAAAAAAAAAAAAAAAAAAAAAAAAAAAAAAAAAAAAAAAAAAAAAAAAAAAAAAAAAAAAAAAAAAAAAAAAAAAAAAAAAAAAAAAAAAAAAAAAAAAAAAAAAAAAAAAAAAAAAAAAAAAAAAAAAAAAAAAAAAAAAAAAAAAAAAAAAAAAAAAAAAAAAAAAAAAAAAAAAAAAAAAAAAAAAAAAAAAAAAAAAAAAAAAAAAAAAAAAAAAAAAAAAAAAAAAAAAAAAAAAAAAAAAAAAAAAAAAAAAAAAAAAAAAAAAAAAAAAAAAAAAAAAAAAAAAAAAAAAAAAAAAAAAAAAAAAAAAAAAAAAAAAAAAAAAAAAAAAAAAAAAAAAAAAAAAAAAAAAAAAAAAAAAAAAAAAAAAAAAAAAAAAAAAAAAAAAAAAAAAAAAAAAAAAAAAAAAAAAAAAAAAAAAAAAAAAAAAAAAAAAAAAAAAAAAAAAAAAAAAAAAAAAAAAAAAAAAAAAAAAAAAAAAAAAAAAAAAAAAAAAAAAAAAAAAAAAAAAAAAAAAAAAAAAAAAAAAAAAAAAAAAAAAAAAAAAAAAAAAAAAAAAAAAAAAAAAAAAAAAAAAAAAAAAAAAAAAAAAAAAAAAAAAAAAAAAAAAAAAAAAAAAAAAAAAAAAAAAAAAAAAAAAAAAAAAAAAAAAAAAAAAAAAAAAAAAAAAAAAAAAAAAAAAAAAAAAAAAAAAAAAAAAAAAAAAAAAAAAAAAAAAAAAAAAAAAAAAAAAAAAAAAAAAAAAAAAAAAAAAAAAAAAAAAAAAAAAAAAAAAAAAAAAAAAAAAAAAAAAAAAAAAAAAAAAAAAAAAAAAAAAAAAAAAAAAAAAAAAAAAAAAAAAAAAAAAAAAAAAAAAAAAAAAAAAAAAAAAAAAAAAAAAAAAAAAAAAAAAAAAAAAAAAAAAAAAAAAAAAAAAAAAAAAAAAAAAAAAAAAAAAAAAAAAAAAAAAAAAAAAAAAAAAAAAAAAAAAAAAAAAAAAAAAAAAAAAAAAAAAAAAAAAAAAAAAAAAAAAAAAAAAAAAAAAAAAAAAAAAAAAAAAAAAAAAAAAAAAAAAAAAAAAAAAAAAAAAAAAAAAAAAAAAAAAAAAAAAAAAAAAAAAAAAAAAAAAAAAAAAAAAAAAAAAAAAAAAAAAAAAAAAAAAAAAAAAAAAAAAAAAAAAAAAAAAAAAAAAAAAAAAAAAAAAAAAAAAAAAAAAAAAAAAAAAAAAAAAAAAAAAAAAAAAAAAAAAAAAAAAAAAAAAAAAAAAAAAAAAAAAAAAAAAAAAAAAAAAAAAAAAAAAAAAAAAAAAAAAAAAAAAAAAAAAAAAAAAAAAAAAAAAAAAAAAAAAAAAAAAAAAAAAAAAAAAAAAAAAAAAAAAAAAAAAAAAAAAAAAAAAAAAAAAAAAAAAAAAAAAAAAAAAAAAAAAAAAAAAAAAAAAAAAAAAAAAAAAAAAAAAAAAAAAAAAAAAAAAAAAAAAAAAAAAAAAAAAAAAAAAAAAAAAAAAAAAAAAAAAAAAAAAAAAAAAAAAAAAAAAAAAAAAAAAAAAAAAAAAAAAAAAAAAAAAAAAAAAAAAAAAAAAAAAAAAAAAAAAAAAAAAAAAAAAAAAAAAAAAAAAAAAAAAAAAAAAAAAAAAAAAAAAAAAAAAAAAAAAAAAAAAAAAAAAAAAAAAAAAAAAAAAAAAAAAAAAAAAAAE11Y2hhbWFkIEZhdXp5AAAABZADAAIAAAAUAAAQqJAEAAIAAAAUAAAQvJKRAAIAAAADMjYAAJKSAAIAAAADMjYAAOocAAcAAAgMAAAInAAAAAAc6gAAAAgAAAAAAAAAAAAAAAAAAAAAAAAAAAAAAAAAAAAAAAAAAAAAAAAAAAAAAAAAAAAAAAAAAAAAAAAAAAAAAAAAAAAAAAAAAAAAAAAAAAAAAAAAAAAAAAAAAAAAAAAAAAAAAAAAAAAAAAAAAAAAAAAAAAAAAAAAAAAAAAAAAAAAAAAAAAAAAAAAAAAAAAAAAAAAAAAAAAAAAAAAAAAAAAAAAAAAAAAAAAAAAAAAAAAAAAAAAAAAAAAAAAAAAAAAAAAAAAAAAAAAAAAAAAAAAAAAAAAAAAAAAAAAAAAAAAAAAAAAAAAAAAAAAAAAAAAAAAAAAAAAAAAAAAAAAAAAAAAAAAAAAAAAAAAAAAAAAAAAAAAAAAAAAAAAAAAAAAAAAAAAAAAAAAAAAAAAAAAAAAAAAAAAAAAAAAAAAAAAAAAAAAAAAAAAAAAAAAAAAAAAAAAAAAAAAAAAAAAAAAAAAAAAAAAAAAAAAAAAAAAAAAAAAAAAAAAAAAAAAAAAAAAAAAAAAAAAAAAAAAAAAAAAAAAAAAAAAAAAAAAAAAAAAAAAAAAAAAAAAAAAAAAAAAAAAAAAAAAAAAAAAAAAAAAAAAAAAAAAAAAAAAAAAAAAAAAAAAAAAAAAAAAAAAAAAAAAAAAAAAAAAAAAAAAAAAAAAAAAAAAAAAAAAAAAAAAAAAAAAAAAAAAAAAAAAAAAAAAAAAAAAAAAAAAAAAAAAAAAAAAAAAAAAAAAAAAAAAAAAAAAAAAAAAAAAAAAAAAAAAAAAAAAAAAAAAAAAAAAAAAAAAAAAAAAAAAAAAAAAAAAAAAAAAAAAAAAAAAAAAAAAAAAAAAAAAAAAAAAAAAAAAAAAAAAAAAAAAAAAAAAAAAAAAAAAAAAAAAAAAAAAAAAAAAAAAAAAAAAAAAAAAAAAAAAAAAAAAAAAAAAAAAAAAAAAAAAAAAAAAAAAAAAAAAAAAAAAAAAAAAAAAAAAAAAAAAAAAAAAAAAAAAAAAAAAAAAAAAAAAAAAAAAAAAAAAAAAAAAAAAAAAAAAAAAAAAAAAAAAAAAAAAAAAAAAAAAAAAAAAAAAAAAAAAAAAAAAAAAAAAAAAAAAAAAAAAAAAAAAAAAAAAAAAAAAAAAAAAAAAAAAAAAAAAAAAAAAAAAAAAAAAAAAAAAAAAAAAAAAAAAAAAAAAAAAAAAAAAAAAAAAAAAAAAAAAAAAAAAAAAAAAAAAAAAAAAAAAAAAAAAAAAAAAAAAAAAAAAAAAAAAAAAAAAAAAAAAAAAAAAAAAAAAAAAAAAAAAAAAAAAAAAAAAAAAAAAAAAAAAAAAAAAAAAAAAAAAAAAAAAAAAAAAAAAAAAAAAAAAAAAAAAAAAAAAAAAAAAAAAAAAAAAAAAAAAAAAAAAAAAAAAAAAAAAAAAAAAAAAAAAAAAAAAAAAAAAAAAAAAAAAAAAAAAAAAAAAAAAAAAAAAAAAAAAAAAAAAAAAAAAAAAAAAAAAAAAAAAAAAAAAAAAAAAAAAAAAAAAAAAAAAAAAAAAAAAAAAAAAAAAAAAAAAAAAAAAAAAAAAAAAAAAAAAAAAAAAAAAAAAAAAAAAAAAAAAAAAAAAAAAAAAAAAAAAAAAAAAAAAAAAAAAAAAAAAAAAAAAAAAAAAAAAAAAAAAAAAAAAAAAAAAAAAAAAAAAAAAAAAAAAAAAAAAAAAAAAAAAAAAAAAAAAAAAAAAAAAAAAAAAAAAAAAAAAAAAAAAAAAAAAAAAAAAAAAAAAAAAAAAAAAAAAAAAAAAAAAAAAAAAAAAAAAAAAAAAAAAAAAAAAAAAAAAAAAAAAAAAAAAAAAAAAAAAAAAAAAAAAAAAAAAAAAAAAAAAAAAAAAAAAAAAAAAAAAAAAAAAAAAAAAAAAAAAAAAAAAAAAAAAAAAAAAAAAAAAAAAAAAAAAAAAAAAAAAAAAAAAAAAAAAAAAAAAAAAAAAAAAAAAAAAAAAAAAAAAAAAAAAAAAAAAAAAAAAAAAAAAAAAAAAAAAAAAAAAAAAAAAAAAAAAAAAAAAAAAAAAAAAAAAAAAAAAAAAAAAAAAAAAAAAAAAAAAAAAAAAAAAAAAAAAAAAAAAAAAAAAAAAAAAAAAAAAAAAAAAAAAAAAAAAAAAAAAAAAAAAAAAAAAAAAAAAAAAAAAAAAAAAAAAAAAAAAAAAAAAAAAAAAAAAAAAAAAAAAAAAAAAAAAAAAAAAAAAAAAAAAAAAAAAAAAAAAAAAAAAAAAAAAAAAAAAAAAAAAAAAAAAAAAAAAAAAAAAAAAAAAAAAAAAAAAAAAAAAAAAAAAAAAAAAAAAAAAAAAAAAAAAAAAAAAAAAAAAAAAAAAAAAAAAAAAAAAAAAAAAAAAAAAAAAAAAAAAAAAAAAAAAAAAAAAAAAAAAAAAAAAAAAAAAAAAAAAAAAAAAAAAAAAAAAAAAAAAAAAAAAAAAAAAAAAAAAAAAAAAAAAAAAAAAAAAAAAAAAAAAAAAAAAAAAAAAAAAAAAAAAAAAAAAAAAAAAAAAAAAAAAAAAAAAAAAAAAAAAAAAAAAAAAAAAAAAAAAAAAAAAAAAAAAAAAAAAAAAAAAAAAAAAAAAAAAAAAAAAAAAAAAAAAAAAAAAAAAAAAAAAAAAAAAAAAAAAAAAAAAAAAAAAAAAAAAAAAAAAAAAAAAAAAAAAAAAAAAAAAAAAAAAAAAAAAAAAAAAAAAAAAAAAAAAAAAAAAAAAAAAAAAAAAAAAAAAAAAAAAAAAAAAAAAAAAAAAAAAAAAAAAAADIwMjE6MDM6MjAgMTk6NDM6NDYAMjAyMTowMzoyMCAxOTo0Mzo0NgAAAE0AdQBjAGgAYQBtAGEAZAAgAEYAYQB1AHoAeQAAAP/hCyFodHRwOi8vbnMuYWRvYmUuY29tL3hhcC8xLjAvADw/eHBhY2tldCBiZWdpbj0n77u/JyBpZD0nVzVNME1wQ2VoaUh6cmVTek5UY3prYzlkJz8+DQo8eDp4bXBtZXRhIHhtbG5zOng9ImFkb2JlOm5zOm1ldGEvIj48cmRmOlJERiB4bWxuczpyZGY9Imh0dHA6Ly93d3cudzMub3JnLzE5OTkvMDIvMjItcmRmLXN5bnRheC1ucyMiPjxyZGY6RGVzY3JpcHRpb24gcmRmOmFib3V0PSJ1dWlkOmZhZjViZGQ1LWJhM2QtMTFkYS1hZDMxLWQzM2Q3NTE4MmYxYiIgeG1sbnM6ZGM9Imh0dHA6Ly9wdXJsLm9yZy9kYy9lbGVtZW50cy8xLjEvIi8+PHJkZjpEZXNjcmlwdGlvbiByZGY6YWJvdXQ9InV1aWQ6ZmFmNWJkZDUtYmEzZC0xMWRhLWFkMzEtZDMzZDc1MTgyZjFiIiB4bWxuczp4bXA9Imh0dHA6Ly9ucy5hZG9iZS5jb20veGFwLzEuMC8iPjx4bXA6Q3JlYXRlRGF0ZT4yMDIxLTAzLTIwVDE5OjQzOjQ2LjI2MDwveG1wOkNyZWF0ZURhdGU+PC9yZGY6RGVzY3JpcHRpb24+PHJkZjpEZXNjcmlwdGlvbiByZGY6YWJvdXQ9InV1aWQ6ZmFmNWJkZDUtYmEzZC0xMWRhLWFkMzEtZDMzZDc1MTgyZjFiIiB4bWxuczpkYz0iaHR0cDovL3B1cmwub3JnL2RjL2VsZW1lbnRzLzEuMS8iPjxkYzpjcmVhdG9yPjxyZGY6U2VxIHhtbG5zOnJkZj0iaHR0cDovL3d3dy53My5vcmcvMTk5OS8wMi8yMi1yZGYtc3ludGF4LW5zIyI+PHJkZjpsaT5NdWNoYW1hZCBGYXV6eTwvcmRmOmxpPjwvcmRmOlNlcT4NCgkJCTwvZGM6Y3JlYXRvcj48L3JkZjpEZXNjcmlwdGlvbj48L3JkZjpSREY+PC94OnhtcG1ldGE+DQogICAgICAgICAgICAgICAgICAgICAgICAgICAgICAgICAgICAgICAgICAgICAgICAgICAgICAgICAgICAgICAgICAgICAgICAgICAgICAgICAgICAgICAgICAgICAgICAgICAgCiAgICAgICAgICAgICAgICAgICAgICAgICAgICAgICAgICAgICAgICAgICAgICAgICAgICAgICAgICAgICAgICAgICAgICAgICAgICAgICAgICAgICAgICAgICAgICAgICAgICAKICAgICAgICAgICAgICAgICAgICAgICAgICAgICAgICAgICAgICAgICAgICAgICAgICAgICAgICAgICAgICAgICAgICAgICAgICAgICAgICAgICAgICAgICAgICAgICAgICAgIAogICAgICAgICAgICAgICAgICAgICAgICAgICAgICAgICAgICAgICAgICAgICAgICAgICAgICAgICAgICAgICAgICAgICAgICAgICAgICAgICAgICAgICAgICAgICAgICAgICAgCiAgICAgICAgICAgICAgICAgICAgICAgICAgICAgICAgICAgICAgICAgICAgICAgICAgICAgICAgICAgICAgICAgICAgICAgICAgICAgICAgICAgICAgICAgICAgICAgICAgICAKICAgICAgICAgICAgICAgICAgICAgICAgICAgICAgICAgICAgICAgICAgICAgICAgICAgICAgICAgICAgICAgICAgICAgICAgICAgICAgICAgICAgICAgICAgICAgICAgICAgIAogICAgICAgICAgICAgICAgICAgICAgICAgICAgICAgICAgICAgICAgICAgICAgICAgICAgICAgICAgICAgICAgICAgICAgICAgICAgICAgICAgICAgICAgICAgICAgICAgICAgCiAgICAgICAgICAgICAgICAgICAgICAgICAgICAgICAgICAgICAgICAgICAgICAgICAgICAgICAgICAgICAgICAgICAgICAgICAgICAgICAgICAgICAgICAgICAgICAgICAgICAKICAgICAgICAgICAgICAgICAgICAgICAgICAgICAgICAgICAgICAgICAgICAgICAgICAgICAgICAgICAgICAgICAgICAgICAgICAgICAgICAgICAgICAgICAgICAgICAgICAgIAogICAgICAgICAgICAgICAgICAgICAgICAgICAgICAgICAgICAgICAgICAgICAgICAgICAgICAgICAgICAgICAgICAgICAgICAgICAgICAgICAgICAgICAgICAgICAgICAgICAgCiAgICAgICAgICAgICAgICAgICAgICAgICAgICAgICAgICAgICAgICAgICAgICAgICAgICAgICAgICAgICAgICAgICAgICAgICAgICAgICAgICAgICAgICAgICAgICAgICAgICAKICAgICAgICAgICAgICAgICAgICAgICAgICAgICAgICAgICAgICAgICAgICAgICAgICAgICAgICAgICAgICAgICAgICAgICAgICAgICAgICAgICAgICAgICAgICAgICAgICAgIAogICAgICAgICAgICAgICAgICAgICAgICAgICAgICAgICAgICAgICAgICAgICAgICAgICAgICAgICAgICAgICAgICAgICAgICAgICAgICAgICAgICAgICAgICAgICAgICAgICAgCiAgICAgICAgICAgICAgICAgICAgICAgICAgICAgICAgICAgICAgICAgICAgICAgICAgICAgICAgICAgICAgICAgICAgICAgICAgICAgICAgICAgICAgICAgICAgICAgICAgICAKICAgICAgICAgICAgICAgICAgICAgICAgICAgICAgICAgICAgICAgICAgICAgICAgICAgICAgICAgICAgICAgICAgICAgICAgICAgICAgICAgICAgICAgICAgICAgICAgICAgIAogICAgICAgICAgICAgICAgICAgICAgICAgICAgICAgICAgICAgICAgICAgICAgICAgICAgICAgICAgICAgICAgICAgICAgICAgICAgICAgICAgICAgICAgICAgICAgICAgICAgCiAgICAgICAgICAgICAgICAgICAgICAgICAgICAgICAgICAgICAgICAgICAgICAgICAgICAgICAgICAgICAgICAgICAgICAgICAgICAgICAgICAgICAgICAgICAgICAgICAgICAKICAgICAgICAgICAgICAgICAgICAgICAgICAgICAgICAgICAgICAgICAgICAgICAgICAgICAgICAgICAgICAgICAgICAgICAgICAgICAgICAgICAgICAgICAgICAgICAgICAgIAogICAgICAgICAgICAgICAgICAgICAgICAgICAgICAgICAgICAgICAgICAgICAgICAgICAgICAgICAgICAgICAgICAgICAgICAgICAgICAgICAgICAgICAgICAgICAgICAgICAgCiAgICAgICAgICAgICAgICAgICAgICAgICAgICAgICAgICAgICAgICAgICAgICAgICAgICAgICAgICAgICAgICAgICAgICAgICAgICAgICAgICAgICAgICAgICAgICAgICAgICAKICAgICAgICAgICAgICAgICAgICAgICAgICAgIDw/eHBhY2tldCBlbmQ9J3cnPz7/2wBDAAcFBQYFBAcGBQYIBwcIChELCgkJChUPEAwRGBUaGRgVGBcbHichGx0lHRcYIi4iJSgpKywrGiAvMy8qMicqKyr/2wBDAQcICAoJChQLCxQqHBgcKioqKioqKioqKioqKioqKioqKioqKioqKioqKioqKioqKioqKioqKioqKioqKioqKir/wAARCAFsBAkDASIAAhEBAxEB/8QAHwAAAQUBAQEBAQEAAAAAAAAAAAECAwQFBgcICQoL/8QAtRAAAgEDAwIEAwUFBAQAAAF9AQIDAAQRBRIhMUEGE1FhByJxFDKBkaEII0KxwRVS0fAkM2JyggkKFhcYGRolJicoKSo0NTY3ODk6Q0RFRkdISUpTVFVWV1hZWmNkZWZnaGlqc3R1dnd4eXqDhIWGh4iJipKTlJWWl5iZmqKjpKWmp6ipqrKztLW2t7i5usLDxMXGx8jJytLT1NXW19jZ2uHi4+Tl5ufo6erx8vP09fb3+Pn6/8QAHwEAAwEBAQEBAQEBAQAAAAAAAAECAwQFBgcICQoL/8QAtREAAgECBAQDBAcFBAQAAQJ3AAECAxEEBSExBhJBUQdhcRMiMoEIFEKRobHBCSMzUvAVYnLRChYkNOEl8RcYGRomJygpKjU2Nzg5OkNERUZHSElKU1RVVldYWVpjZGVmZ2hpanN0dXZ3eHl6goOEhYaHiImKkpOUlZaXmJmaoqOkpaanqKmqsrO0tba3uLm6wsPExcbHyMnK0tPU1dbX2Nna4uPk5ebn6Onq8vP09fb3+Pn6/9oADAMBAAIRAxEAPwD6PooooAKKKKACiiigAooooAKKKKACiorm4jtLWW4ncJHEhd2PYAZJrxiy+PlxP4iit59Nt49Pkn2Gbc28ITgN6UAe2UUisHUMhyrDII70tABRRRQAUUUUAFFFFABRRRQAUUUUAFFFFABRRRQAUUUUAFFFFABRRRQAUUUUAFFFFABRRRQAUUUUAFFFFABRRRQAUUUfSgAorx/w1F8QB8VpW1M3f9mea/mFz+5MfO3b+lewUAFFFFABRRVDXL99K8P3+oRIsj2tu8qq3Riozg0AX6K4P4Y+P7zx3BqD3tnBbG0ZAohJO7cD1z9K7W9do7C4dDhljYg+hxQBPRXj3wc8W634g8QapBrGoSXUUMW5FfHyndivYaACiiigAooooAKKKKACiiigAooooAKKKKACiiigAooooAKKKKACiiigAooooAKK4L4m/EG88Cpp5srOC5+1l93nEjbtx0x9a7HSLxtS0WyvXQI1xAkrKvQFlBx+tAFyiiigAooooAKKKRshSfagBaK8Z+GXi/XdZ+JGo6fqeoy3FrEkpSNsYGGwK9moAKKKKACiiigAooooAKKKKACiiigAorw3xp428SeI/HbeF/CM7W6RSGImM7WkYfeJbsBXVeANJ8eaRr8tv4mvxdaaItwZn3kt2APUe9AHpFFFFABRRRQAUUUUAFFFFABRRRQAUUUUAFFFFABRRRQAUUUUAFFFFABRRRQAUUUUAFFFFABRRRQAUUUUAFZ2u69p3hvSpNQ1ecQwJx6lj6AdzWjXg37QV7cHWdLsiWFusLSAdixOM/kKANeT9oTT1vtkeiXDW2ceYZgGx67cY/WvSfDPinS/Fmli+0ibegOHjYYaM+hFfH1enfAe9nh8cy2sZbyZ7ZvMXtxyD/n1oA+jKKKKACiikJCqSxwAMk0AeafG/wAS/wBkeEBpkD4n1E7CAeRGOv59K8xvvh1La/Ca28RhW+1tL5kq+kLcA/gefxqLxr4itPFfxQMmpXBi0m3mEAdQWxGp5IA9Tn869Vvfil4AvdFl0uS8cWskJh2fZ24XGPSgDR+Enic+IvBECTvuurH9xLk8kD7p/Ksv4reMvEXgy8sLjSjC1hcAq4kiyQ4PTPuK84+EniSLw74/ayE5fT79jAHPAJz8jYP5fjXtHxL8O/8ACSeBr22jTdcQr50PH8S84/EcUAb2i6pFrWiWmpW5/d3MSyDHbI5FcT8V/H934OtbKDSDEb25csfMXdtQe3uayPgR4jF1oF3oly+JbFvMjDH+A9fyP865S4LfEz44LGhLWFrLjI6CKM8n8T/OgD2bRtYuLXwPb6t4pmjilEHnTsF2hQeQMfTFeYXnxZ8VeJdSlt/AuksbdDgSGLexHqewre+O13JaeBbe2hJWOa5VHA7gDOK4/wAFfFax8J+GINNh0CaSRcmWZGA8xievSgC9H8VPGvhW8iTxlpG63c4LGPY2PYjgmvZdH1ez17SINS06TzLeddynuPUH3rxDxj8WLPxZ4YutLl8Pzo8oBilZgfLYHg9K6n4Bzzt4NvbefcFhuyUDdgVB/nQBi2Pxn1Cy8V6pBrpiawtPOESRx4d2VsKM103w48Z+I/FuuXkurWJtNO8rdb4iIBOf7x68V5j4P0O31/40z216gkgjup5nQ9G2scA/jivpNVSGMKiqiKOABgAUAeY+M/iP4isvEkmgeF9BlluUAJmkQtuB7qBxj3NczeeOvij4dj+3a3pgFoD82+AbR+IPFdFrnxmtrfXJLDw1o8mq3SExtIo+8R2GASRWP4h+IvivUfDt9aX3gqeG3mhZXlZHwgx97kdqAPSfA/jG18aeHlv7dPJmRtk8JOdjf4GsL4jfE+Lwe8enabEt3qsg3bD92IHpn1J9K5v9nsn+zdYHbzU4/A1gaOiaz+0NONUAkCXUhVX9VHyj9KANa18V/FpUGoyaP51rjcYjABlfpnNQXfxs1e88Q6fb6XCltDKY47mGaLLI5bDAH0r3U8dK+cfiTYWth8ZoBZhV86SCWRV7OSM/njP40AfQ15e2+n2Mt5eyrDBChd3boBXjN/8AFvxN4j1SW08CaUzQocCRot7MPU9hXS/HK8mtPh8sULFRcXKRvjuME4/SuC8DfFOx8I+GodPj0GaaXJaWdGA8wk/T0oA01+KHjnwrdRf8JhpBe1dsEmLYcezDjNexaFrll4i0eDUtNk3wTLkZ6qe4PvXini34uWfinwxd6VL4fuFaZMRyMwPlt2PSuj+AE058L6jbzbgkVyCgYdMrz/KgD1msTxX4q0/whor6jqRJGdscS/ekb0FbdeB/H++kbxNpdlISbaK38zYD1JYg/oKAJ4/iJ8R/E7NceGtJ8u0B+XZDuH/fR61f0H4w6vpmtx6V4908228hfPEZQpnuR3H0plh8cdP06whtLTwzcRQwoFVVcAAAfSuQ+I3jy28c2toIdGmtLi3cnzWOcqR06etAH0D4k1STTfCGoapYMjSQWrTRMRlSQMivI9H+OF+vh26k1OKO71RpVjtIIk2jGOS344rr7eeW5/Z9eS4LGT+yXBLdeAR/SuJ+Afh20vtQ1DWLuJZZLTbHCGGQpbJJx68UAejeANd1/WPCt5f+I4DBcrI5iRotmF25HBrz7QvjfqMbak+vrFP5SYtYYk2l33YwT6Yr26940+4x/wA8m/lXzr8HNBtda8fzTXsayx2SNMqMMgtuwKAPVPhl4n8Q+JxqNz4htDawqUNsvlFBg5zgnr2rF8b/ABhbTNXOjeFLdb68VtkkpBZVb+6oHU16H4mu307wpqV1b/LJDbOyYHQ4rx/4B6XbXmoapq10iy3MW1EZudu7JJ+tAET+PPilpcZvtQ0pjarywe1woH4civRfh98RrLxxZumwWuowjMsBOQR/eX1Fdmyq6lHUMrDBBGQa+efITwr+0LHb6T+7gkulBjXgBZByv05oA9C+LXjXVfBtrp8mjtEDcOwfzE3dAK5jUvjFrV/BaWPhWx+1Xnkq11OsRcByOQqj09am/aF/5B+j/wDXST+QrtfhfoFpovgWwaCFRPdRiaaTHzMW9/pQB1lqzvZwtKMSNGpYEY5xzUtFFAHk/hj4i65q3xVuNAu2g+xRySqu2PDYXOOa6v4g+OYPA+ipcGL7Rd3DFLeHOAT3J9hXlXgX/kv15/12uP613vxe8D3/AIu0i1uNIw91YliISceYpxnHvxQByEfi/wCLGowLqNlpR+yuNyKtuMFfxOTXofw78Ua14m0u5k17TPsM1vL5QOCvmHHPynpjj868y0r4v+JvCscOmeI9G3pbqEBkjMUm0cD2Net+D/GmleMtPe40olJIiBNA4wyE/wAx70AdHXAfFq88Q2vhopoFt51tLFKt623OyPb19u9d/WN4x/5EfWv+vKX/ANBNAHzx8OtU8ZafDfDwZYi6R2Qzkxhtp5x1P1r37QrnVrvwKJvEUPkai0EnnR7cY644+mK85/Z3/wCPLXP+ukP8mr2DUP8AkG3X/XF/5GgD5o+HXi9PCGoatcJbNd3c6CK2gUH533e3auk1H4h/E3Th/aN7phtrPOdrWvyge561W+BenW9341v7meNXktoi0ZI+6S2M17zqtrFeaPd29wgeKSFlZSOOlAHNfDvx5D440d5WiEF7bkLPEDkexHsan8c+OrDwTpYmuR511NkQW4OC59T6CvLPgDmLxZrESk7PI6fR6zPitqi/8LgDajC11aWXlD7OD95cBiPxzQBsx+OvilrafbtJ0kpaHlQlvkEfU8mtvwb8YLi41xdE8Z2gsbtm2LMFKjd6MD0z61BH8e7SKNUj8OXKIowqq4AA/KvPviB4vg8ZavZ39jpM1lPCu12PJfnI6DtQB9R0VR0WV59BsZZeXe3Rmz67RVuVikLsOqqSKAPOviD8Vo/DN8NI0S3W+1RsBgeViJ6AgdT7VyTeMfizbR/2hNpLm2HzFTbDAH061xvhjxbBoXjy+1vU9PfUpmeQoM8qxP3ua9GPx9gIIPh66x/vj/CgDpvh58TLbxor2lzCLTU4l3NFn5XHcr/hWJ8S/GfizwTrcM1qbebSbjBQtFypHVCa898M6qL/AONdnqmm2cllBdXeTDj7oYYb9a+gPFWgWXiXw5dadqIAjdCVkP8AyzYchs+1AFJPHGlN4H/4SYygWvlbiued/wDc+ueK4/4b+M/FvjbW5ri5Fvb6RASW2xcsT0QH+teJxSXLXC+HDqirpzXnLbv3YbO3f9MV9V+GtBsvDfh+203TQPJjQZfvIe7H60AcH8V/iBrPg7WNOt9JaERTxF5PMj3chsVkX/xN8X+Irh4/A2ku9rCAGufK3F2xzjPArO/aBXd4j0ZfW3Yf+P17N4a0q20bw3Y2VkipHHCv3R9445NAHkej/GTXtF1lNP8AHOnbEJAaQR7HT3x0Ir2u2uYLy0juraQSQyoHRweCD3rzj45aLa3fgY6k6qLmylTY+OSGOCv61neEtdvI/wBnm9uVc+dZxTQxP3Azx+W6gA8V/GC9OtPovgmx+2zoxRp9pfLDrtA6j3rGl8e/E/w8n23XNJ32gOW8y3wAPqOlcz8N/Hdl4KjvJZtHkvrudhidW5VR26etdtdfHezu7SW3n8N3DxyoVZWcEEH8KAPQfBPjaw8baP8AarPMVxFhbi3Y8xn+oPrWd8QPiTYeCYFgVPtWpSjKQA4Cj1Y9hXmfwMnlTx3epFG8VvPbs2w9BhsioLe3j8V/tATQav8AvIUun/dt0IQcL9OKALi/EH4n6ohvtP0xha9V8u0yuPx5Ndj8NviXqXinU5dJ1jTGiuoU3NNGpCj2YHoa9KSNI0CRqqqBgKBgAVHDZ20FxLNDBHHLLjzHVAC+PU96APnX4z3viC415YdZtvKsIZZBYvsxvXjPPftXVeENd+JTS6PbS6UF0g+Uhl8kf6rA5zn0qL9oj/V6F9Zv/Za9W8Lf8ihpP/XnF/6AKADxJ4jsPC2izanqcm2KMfKo+87dlHvXkA+JfxA8VTSSeFNI2WqtgFIt/wCbHjNS/tDXkom0azDEQlZJSuepyBSaL8abHRdGtdPtPDdwscESoNrgbiByenegCXS/i/4g0HWItP8AHulmJHIBlWPYyj1x0Ir2WO7t5bFbxJVNuyeYJM8bcZzmvnT4h/ES28b6RDbpoc1tcwy70mY5wMcjpXYf2hdQ/s17yzLL5Jhz3C78fyoAq+IfjNquoa02l+BbITgNtWYxl2kPqF9KZbfErxx4amjk8aaO7afIcNJ5Wxkz3BHH4GtT4CaNaReGrrVvLVrqacx7yOVUAcV6dqun22raXcWN9EssE8ZVlYeo60AeD/BeZLj4pajPEcpJFKyk+hYGvoSvnr4KW4tPiff26HKxQyoD6gMBX0LQBFdSNFZzSJ95I2YfUCvC9E+OGrL9vGrRR3UwQLZwQx4LyE459sV7jf8A/INuf+uTfyr5/wDgfpNrqHje8ubqNZGs4S8QYZwxbGaANG78dfFO0jOpXGktDZ/eKm1+UD3713fw6+Jlr41R7S5iFpqcS7miBysg9V/wru2UOpV1DKRggjOa+d57VPDH7Q0MOl/u4mvI/kU8BZANy/Tk0Ae3eLPFVh4Q0N9R1JsjO2OJT80jegryRPiN8RvFDPceGtI8u0B+Xy4d3/jx61D8fb6R/FWl2cuWtoYPM2A/eLMQf0WtOx+ONjp1jDaWfhm4ihhQIiq4AAA+lADtB+MOr6Xrcel+PdO+zbiAZwhRkz3I7j6V6h4l1STTfCN/qmnsjSQ25liYjKnjivn/AOIvj238c2lqsOizWtxbuT5rHcSp7dK9RtppZ/2fWeckv/ZrKS3XjigDktH+OOoJ4fun1KKK71RpQlrDEm0YxyxxXU6H4k8aal8OdS1F7E/2wtxi1hMG3KYXsevU1yHwF8P2l7qF9q11EsslriOIMMhSeSfrXvAPpQB8p6Df+J4PiFPd6VaiTXGeQvDsBwT97ivfPAGp+LL6zvH8a2gtHRh5I2BMrjk15d4H/wCTgrz/AK73P9a9e+IeoTaZ8PdYurY7ZVgKqR23ELn9aAOD8W/GS6/th9H8FWf2yZWKGcqX3N/sqP51jP8AEH4m6Gv2zWNKLWgPzebbYA/EdK1vgDo9o2k6hq7oHuzP5KuwyVUAHj6k16/NBFcwPDPGskbgqyMMgg0Ac14G8d2HjfSzNbKYLqHAnt2OSp9R6iuZ+LPj7WPBt9psWjtCFuI3aTzY93QjpXF+BU/4R3493Ok2TH7K000BUHjbgsPywKvftC/8hTRf+uMn8xQBoX/xb1rVtYttP8I2BnjQxi5uREXyeN2B0A610nxV8Y6r4Q0WwudJMQlnlKP5qbuMZre8C6DaeH/B+n21rEqu8CySvjl3IyST+NcJ+0D/AMi9pf8A18t/6DQBSf4s+Jta063tfCelG8vVhVru5WIsqueyjp+dUtM+MHijQtdjs/GlkBCzASBovLkQHuPWvS/hfp1vp/w70v7NGqGeLzZGA5Zj3NcD+0NbRCPRbkIBKxkQt6gAGgCzrPxV8Qa3qEtr8PdKe5t4ThroxFtx9h0ArK0n4x+JdD11LHxpZfumYB8xeXJGD3HrXqXw70220zwDpCWsSp5tssrkDlmYZJP5157+0NZwix0a8CATGWSMvjkrgHFAHscU8c9ss8B8yN0DoV/iBGRivINV+JXjTVtZudP8I+H5IxbyGNmkj3NkevYV33hG+isvhnpN7fShIodPjeR27ALXCv8AGma91CWDwn4Znv1DZLhTlvchQcfjQBjS/E34geErqFvFmlhraQ9Hi2Z+jDjNe06JrFtr+i22p2JJguUDrnqPUH3FeF/ELxr4i8QeFmtNY8KTadAJVYXMisAp9OR3r0b4MEn4Y2OT/wAtJPw+Y0AcfH8ZNS07xtqNpq/lPp1q8qpHFHh3IOFXPuaraj8QPiZLG2pWujvaWAG4D7MWAX3J5rI8J6dban8ebmO8jEkcd3PKFYZBZScfrX0UyqVKMAVIwQRwRQB598Mvib/wmfm2GpRJDqMK7/k+7IvcgeorrPE/ifT/AAnosmo6m+EXhI1+9I3oK8Q8EQJp37QdxbW3yRLc3KBR0Aw3FXvj7dzT+JtI00uVgEPmY7bmYjP5CgBrfFXx34luZG8MaVst1PAihMhH1J4zWh4c+LPii18RW+j+KdGeV55Ag8uIpIM98dDXrGg6TZ6HolrY6dEsUMcYA2j7xx1PqauPa28lxHcSQRtNHnZIyAsufQ9qAKev6/Y+GtFm1PVJNkMYzgfeY9lA9a8ePxN8eeKp5G8I6OUtVOAVi3n8WPGatftC3syw6PZq2InMkjAdyMAfzqvoHxmsNB0G00608OThIIlUlWA3HHJ6dzQBLpvxd8SeH9WisvHmllInODII9jqPX0Ir2e0uob6ziurWQSQzKHRx0INfPHxB+JNr430JLNdDmt7iKUPHOxztHcdO9eq/B+eab4Z6f9o3boy8Y3egY4oA7iiiigAooooAKKKKACuL+JPgFPG+joIJFh1C1yYHYcNnqp9jXaUUAfLD/Cbxkl35H9kO3OPMV12/nmvZvhd8N/8AhDLWW81F1k1O5Xa20/LEv90ep9TXoNFABRRRQAVxvxS8Tjwz4IunjcLdXQ8iAd8nqfwGa7Ks3V/D2ka8sY1nT4L0RZ2CZN23PXFAHi/wt+F2neJtAm1bxFHMyyybbcI5XIHVvz/lXcf8KQ8HH/l3uf8AwINd5Z2lvp9nFaWUKQW8S7Y44xhVHoBU2aAPnn4q/Du08GQ2OqeHllS38zZJucsVfqpz+Fey+BfEKeJ/B1jqAYGRk2TDOcOvBrX1HTLLV7JrTU7WK6t3ILRyruU46VFpOh6ZoVu8Gj2UNnE7b2SFdoJ9cUAfOnjCO9+HfxI1B9LPlpdxuY+MDZIOR+B/lXf/AAG8P/ZtDu9cnX97eP5cZI/gU8n8T/KvRtW8MaJr00cusaZbXjxrtRpowxUelXrKyttOs47SxhSC3iXakaDCqPYUAc18SfCr+LPB09lagfaoyJYMnqw7fiK8w8C/Ei08KWJ8P+L9LeJrViqSiEFl9mB5/Gve6x9Y8J6Dr7btY0u2unxgO6fN+Y5oA851v406BDCsfh3Szf3TsAokhCqP6k16fo9wLvSbe6+yGzaeMO0LLgoSOhqjpXgnw3okwm0zRrWGVekmzcw+hPNbtAHz/wDC/wD5LfqX1uf/AEKverqNprWaNDhnjZQfQkVn2PhfQ9N1N9RsNLtre8fdunjjAY568+9a1AHzV4F16H4b+Or9PElpKCymIuq5aP5s5A7g12fjH4vabrWgXWk+F7W5vLq7jaNmMZURrjk+/Fel6z4U0LxAQ2saZb3TqMB3X5gPqOabpfhDw/o0MkWm6TbQLKpSQqmSynqCTzigDzP9nv8A5B+s/wDXWP8AkaqfFDwXrGk+Kl8XeGUeTLCSQRLlo3HfHcGvX9I8P6ToKyLo+nwWaykFxCm3cR61zXjT4m6f4L1mysLy2lnE6l5njH+qXoD79+KAOBt/jtrVxaLaReH1l1IjaGRmwW9dmM/hmuK1nT9as/HWmXPiVs6hfyxXDp3QF8AH8ule2N8W/AsMBu470GUjOxLZt59un9a830eS7+KXxeh1b7M8en2jq/P8CJyoJ9SaAPXviF4ZbxZ4NutPgx9oGJYMn+Mdvx6V5P4F+Idt4NtX8PeMNLdPszkJL5QLJz0YHk/Wvf6ydY8K6Hr5B1jS7a6YdHdPmH49aAPONb+NPh2G12eHdM+3XbnCCSAKo/qa9M0K6F/ottefYTYvPGHeBlwVPoapaV4I8NaLOs2m6NawzLysmzcw+hNb1ABXlXxr8G3et2FrrOlQtNc2IKyRoMsydcgd8GvVaKAPHPDPxm8PnSooPElibe8hUI7xwBlcjv7GrI+L2mal4lstO8PaC17DLJtmcxANg91Ht15rudS8BeF9XuDPf6JayTMcs4TaWPvjGavaT4c0fQVI0fTba0yMFoowCfqetAFHxuqr8PNaVFCL9hkwoGMfLXn37PX/ACBtZ/67x/8AoJr126tYL21ltruJZoJVKSRuMhgeoNU9I0DStBjkj0awgsklILiFNu4j1oAtX3/IPuP+uTfyNeF/AX/kb9X/AOuH/s9e9ModCrjKsMEHuKy9K8M6LolxJPpGmW9nLKMO8KbSw96AL97ax31jNazDMcyFGHsRivnnT7zV/gx41uI760a4025JGV4EiZ4ZT6j0r6MqrqGm2Wq2pttStIbqE9UmQMP1oA83v/jz4di08yWFtdT3JX5YnTaAfc1zfww8Oar4p8byeNNcjZIVkaWMsuPMc8DHsBXp1v8ADfwhbXPnxaBab85G5dwH4HiumjRIo1jiVURRhVUYAFAHjf7Qv/Hho/8A10k/kK9M8G/8iTo//XpH/wCg1Y1fw9pOvLGus6fBeiIkoJk3bc+lXba3htLWO3to1ihiUKiKMBQOwoAlooooA+ffAv8AyX68/wCu1x/Wu/8AiJ8Rr7wVq9glvpbXFm4LXEjAgN6Krdj3rrbXwtodlqranaaXbQ3rElp0jAYk9ea0Lq0t723aC8gjnhcYaORQyn8DQB5Vq3xg8E61oUseoWE1xI0ZAt5YQSDjs3b61kfALSrwajqmreU0Vk8YiTPR23Z49cV6S3w18Htc+edAtN+c4Cnb+XSuktraCztkt7SFIYYxhY41Cqo+goAlqhr1i+p+HNQsYjh7i2kjU+5UgVfozQB85/DDxna/D3U9W07xHBND5rKCVXJRkyMEe+a9g8PeNdP8aaBqVzp0ckawB4ysg5I28H8a0NY8F+HdfuRcatpFtcTj/loVwx+pHWtCw0jT9MsfsWn2cNtbYwYo0ABoA8R+Af8AyNWsf9cR/wCh17pd/wDHlP8A9c2/lVDSvDOi6HPJNpGmW9nLKMO8SbSw961GUMpVhkEYIPegDwT4C/8AI56z/wBcP/Z61PjD4V1C01+18Y6ND53k7TcKF3bSp4Yj0xwa9T0rwzouiXEk+k6Zb2kso2u8SYLDOea1CAykMAQeoPegDyjSPjT4UudPRtWsWtLoL86LAHUn2PpU+hfFCx8S+NYNL0jw+0li4Ie4MY3If7xHQLXV3fw58I31wZ7jQrQyE5JRdufqBgVsaXoumaJAYdJsYLOM9RDGFz9aALoAAwBgDoBQQGUg9CMUtFAHzzqtnffCb4jTap9g+26RdOxG4cFGOSuezCu2Hxm8E/Y/NNtMJMZ8r7MM59M9K9JvLK11C2a3vreK4hcfNHKgZT+BrnF+Gfg5bjzhoFpuznBUlfy6UAZnw88aDxpPfSf2GLKCBswTBBhh6E/3vpWD8Z/HTWVqPDOjyE3l0B9oMZ5RD0Xjuf5V6tbWtvZW6QWkMcEKDCxxqFUD6CspvB/h59WOpvo9o16ZPM89owW3eufWgDxy6+C88Xw2S+QM2tr+/kiHdMfcx6jrXSfBjx5/alj/AMI9qsv+m2y/6OznmRB/D9R/KvWaxIfBvhy31MahBo1pHdhzIJkjAYN65oA8g/aDBPiHRwvX7O2P++q2PDHxhh0PTY9I8ZWdzb3lqgQSKmfMXHBI+lZH7QH/ACMui/8AXBv/AEOvWrjwtofiHTLT+2dMt7tlhQK7p8w4H8Q5oA8W8d+Prr4kXdtoHhqzm+ytIGwR80rdiR2Ar17w/wCDoNN+HKeGrnDCS2ZJyO7PnJ/M/pWpo3hfRPD4b+xtMt7QsMM0afMfqeta1AHzp4c1q6+EviS70nxHpv2ixnbIcICeOjqT1GOoruL740eDYLNpLKzkuZ9vyxfZwuT7k9K9G1TRtN1q38jVrKC7izkLKgbH09KxrT4c+EbG4E1voNoHByC67sfgc0AM8A6+/ifw6mpXGk/2dMWK42YVx2ZT1xXlXxM8Par4Q8dDxbo0bG3kkEpdRkRv3Dexr31VVECooVRwABgCmyxRzwtFPGskbjDIwyCPpQB5Zp/x80CTTlfUrS6gugvzRxqHUn2NXfAfxK1Pxn4ouoV0hotKVP3cw5MZH949Dn0HSuhk+Gvg6W589tAtN+c4CkL+Q4robOytdOtlt7C3it4U+7HEgUD8BQB5b8fNFur7w/p+o20bSJZSOJgoztVgOfpkfrUPh/426FYeErC2u4Lj7bbxJC0SLwcADdn6c167JEk0TRzIskbjDKwyCPQiudg+HvhO3vxeQ6FZrMDuB2ZAPqB0oA5b4ueFpfGPhWz1XR0M09qvmqgHLxsATgevFYXhD4waLa6PFp/iixaC7tVEZlWAMHxxyOoNe0gBRhQAPQVg6r4G8M63cG41PRrWaZuWk2bWP1IxmgDgbr4x6Vc6vZ2XhvQm1DzJQJSYgp25/hGOv1r0PxHocfiLwld6WFEH2mEhflxsbqOPrUmkeF9D0Ek6RpdtasRgvHGNx/HrWtQB86eDPGV/8K9YutE8RWMhtXfLBfvI395exBrr/EHxrsb3TmsfCNrc3Wo3Q8uMtHgITxnHc16TrHhzR/EEaprOnW94F+6ZUyV+h6iq+keDvD2gy+bpOk21tLjHmKmWx9TzQB4j8DVkT4jXa3GRKLaQPn13DNfRNZOn+F9D0rUJL7TdLtra6kBDyxxgM2Tk81rUAV7/AP5Btz/1yb+VfLXgXxBqXhbxBPq+n2r3VvAuLuNf+eZP6c96+pb/AP5Btz/1yb+VeF/AREl8Ta1HKodGtgGVhkEb6AOpu/j14dj05pLO2u5bor8sLIFAPua5b4aaHqnjL4gP4w1iMrbxymUMRgPJ0UL7D+lerP8ADnwhJefaW0Cz8zOeEwuf93pXRQQQ2sCQ20SRRIMKiLgKPYUAeX/Gnwbd61Y2utaTGZbmwBEkajLMmc5H0Pb3qh4Z+M2gNpccHiWw+z3kShXeOAMrkd/UH2r2Oud1PwF4W1i4M+oaJayTMcs4TaWPuRjNAHDj4vaZqPiSx07w7oD3sMsm2Z/KAYA91Ht15ruPHKqvw91kIoUfZHwAMY4q9pHhvRtBUjR9NtrTd94xRgE/U9av3VrBe2sltdxLNBKu143GQw9DQB5D+z1/yCNX/wCuyfyr2LFZ+k6BpWgxyR6NYQ2aSHLiFdu4+9aNAHz74G/5OBvP+u9z/WvdNa0uHWtEu9NuRmO5iaM+2R1qvbeF9DstWbU7XS7aK+YktcImHJPXn3rWoA+dPDXiDU/g/wCJbvTNcspJLGdsnaOuOjqeh47V2ms/HnQ4tNf+xbe4uLxlwiypsVT6k16VqejabrVv5GrWMF3F1CzIGx9Kx7P4deErC4E9toVoJAcgsm7B9s5oA86+DnhPUbjXbjxfrcboZd5g8wYLsx5f6VV/aE/5C2i/9cpP/QhXuYAUAKMAdAKzNW8NaNr0kT6xptveNECIzMm7aD1xQBY0n/kC2X/Xun/oIry39oL/AJF/S/8Ar4b/ANBr1yONYoljjUKiAKqjoAKo6toWl67CkWsWMF4kZ3IsybgpoAzPh7/yT3Rv+vVa88/aH/48NE/66S/yFewWlpBYWkdrZxLDBEu1I0GAo9BVTV9A0nXkiXWdPgvViJKCZN20nrigCr4K/wCRG0X/AK8ov/QRXnX7Q3/ID0b/AK+JP/QRXrdtbw2drHb2saxQxKERFGAoHQCqmr6DpWvRxx6zYQXqREsizJuCk+lAHGnTbnV/gFBZWIJnk0uPYo/iwAcfjivPfhV8QdJ8F2V7puu28sMjzb/NSPJ6Y2kde1e/WlrBY2kVrZxLDBCoSONBgKB0ArF1XwL4Z1q5NxqWjW00zHLSbdrN9SOtAHkXxO+JVv4x0FtN8PWk8lpEyzXNy6YCgdB+Zrv/AIL/APJMrL/rpJ/6FXTx+FNBh0l9Mi0m0SykILwiIbXx6+tXdN0yy0iyWz0y2jtbdSSscS4UE9aAPB/Af/Jfr7/rtcfzNfQB61l2vhfQ7HVm1O00u2hvXJLTomGJPXn3rWoA+ffC3/Jx91/1+XP8mrr/AI1eC7rX9Nt9W0qJpbmyUrJGgyzRnngexrvYPC2h22sNqtvpdtHfsxY3CphyT1OfetagDxLwf8b7Wy0mKw8U29x59uoQTxDdvA45HY1oL8aLjWfFVjYeF9HmurVpAJ94+d1PHGPu465Nd5qfgLwvrFwZ9Q0W1lmY5Zwu0t9SMZrQ0nw/pOhRmPR9Ot7NW+95SAE/U9TQBxnxg8H3HinwvFcadEXvLFi6xjqykcge9ct4N+Lej6fo8WmeKtPaG6tFEXmrCG3gccjqDXttYOreCPDeuTmbVNHtZ5j1k2bWP1IoA4DUPjNpEuoWtp4a0NtQaSUCQtEFJXuFHUmvWbfb9mjZIvJDKDsxjbntiszR/CuhaA27SNKtrV8Y3pGN359a16ACiiigAooooAKKKKACiiigAooooAKKKKACiiigAooooAKKKKACiiigAooooAKKKKACiiigAooooAKzdY8P6Vr9t5GsWEN2nbzF5H0PUVpUUAefr8FfBi3Pm/YrgjOfLNy236ev612Wl6Pp+iWYtdJs4rSEfwRrjP19avUUAFFFFABRRRQAUUUUAFFFFABRRRQAUUUUAFFFFABRRRQAUUUUAFFFFABRRRQAUUUUAFFFFABRRRQAUUUUAFFFFABRRRQAUUUUAFFFFABRRRQAUUUUAZGseFdD8QTxTazpsN5JCNsbSA5UZzWqiLFGqIMKoAAHYU6igAooooAKKKKACiiigAooooAKKKKACiiigAooooAKKKKACiiigBGVXRkcZVhgj1FZOj+FND8P3Es+jabDaSyrtdoxywzmteigAooooAKKKKACiiigAooooAKKKKACiiigAooooAKKKKACiiigAooooAKKKKACiiigAooooAKKKKACiiigAooooAKKKKACiiigAooooAKKKKACiiigAopu9f7w/Ol3r/eH50ALRSb1/vD86N6/3h+dAC0Um9f7w/Ojev8AeH50ALRSb1/vD86N6/3h+dAC0Um9f7w/Ojev95fzoAWim71/vL+dG9f7w/OgB1FN3r/eH50b1/vD86AHUU3ev94fnRvX+8PzoAdRTd6/3h+dG9f7w/OgB1FN3r/eH50b1/vL+dADqKbvX+8Pzo3r/eH50AOopu9f7w/Ojev94fnQA6im71/vD86N6/3h+dADqKbvX+8Pzo3r/eH50AOopu9f7w/Ojev94fnQA6im71/vD86N6/3h+dADqKbvX+8Pzo3r/eH50AOopu9f7w/Ojev94fnQA6im71/vD86N6/3h+dADqKbvX+8Pzo3r/eH50AOopu9f7w/Ojev94fnQA6im71/vD86N6/3h+dADqKbvX+8Pzo3r/eH50AOopu9f7w/Ojev94fnQA6im71/vD86N6/3l/OgB1FN3r/eH50b1/vD86AHUU3ev94fnRvX+8PzoAdRTd6/3h+dG9f7w/OgB1FN3r/eH50b1/vD86AHUU3ev94fnRvX+8v50AOopu9f7w/Ojev8AeH50AOopu9f7w/Ojev8AeH50AOopu9f7w/Ojev8AeH50AOopu9f7w/Ojev8AeH50AOopu9f7w/Ojev8AeH50AOopu9f7w/Ojev8AeH50AOopu9f7w/Ojev8AeH50AOopu9f7w/Ojev8AeH50AOopu9f7w/Ojev8AeH50AOopu9f7w/Ol3L/eH50ALRSbl/vD86Ny/wB4fnQAtFJuX+8Pzo3L/eH50ALRSbl/vD86Ny/3h+dAC0Um5f7w/Ojcv94fnQAtFJuX+8Pzo3L/AHh+dAC0Um5f7w/Ojcv94fnQAtFJuX+8Pzo3L/eH50ALRSbl/vD86Ny/3h+dAC0Um5f7w/Ojcv8AeH50ALRSb1/vD86WgAooooAKKKKACiiigAooooAKKKKACiiigAooooAKKKKACiiigAooooAKKKKACiiigAooooAKKKKACob3jT7jHXym/kamqG9/5B9x/wBcm/kaAPE/BfhGx17w2l/f3F8Z3mkUlLlgMBiBxmt//hXWj/8APfUP/At6T4Zf8iRD/wBd5v8A0M11ldMYRsc8pNM5T/hXWj/899Q/8C3o/wCFdaP/AM99Q/8AAt66uiq5Ik88jlP+FdaP/wA99Q/8C3o/4V1o/wDz31D/AMC3rq6KOSIc8jlP+FdaP/z31D/wLej/AIV1o/8Az31D/wAC3rq6KOSIc8jlP+Fd6P8A899Q/wDAx6zvEPgbTNP8N6heW1xfiWCBnQm7cjIH1rvKx/F3/Imat/16Sf8AoJpOEbDUnc5rw54G0zUfDdheXNxfmWeBXci6cDJH1rS/4V1o3/PfUP8AwLf/ABrS8H/8iXpP/Xqn8q2aajG2wnKV9zlP+FdaN/z31D/wLf8Axo/4V1o3/PfUP/At/wDGurop8sewuaXc5T/hXWjf899Q/wDAt/8AGj/hXWjf899Q/wDAt/8AGuroo5Y9g5pdzlP+FdaN/wA99Q/8C3/xo/4V1o3/AD31D/wLf/Guroo5Y9g5pdzlP+FdaN/z31D/AMC3/wAawfGng7T9F8K3N9YXN8Jo2QKWunI5YA9/Q16TXK/En/kQ7z/fi/8AQ1qZRVtioylcht/h5pElrE7T6gSyAn/S39PrUv8AwrrRv+e+of8AgY9dNZ/8eMH/AFzX+QqWq5Y9hc0jlP8AhXWjf899Q/8AAx6P+FdaN/z31D/wMeuroo5Y9g5pHKf8K60b/nvqH/gY9H/CutG/576h/wCBj11dFHLHsHNI5T/hXWjf899Q/wDAx6P+FdaN/wA99Q/8DHrq6KOWPYOaRyn/AArrRv8AnvqH/gY9c74r8I2OlTaOtncXwF3fxwSbrpj8pPPevTa4/wAe/wDH14c/7C0X86UoxtsOMnck/wCFdaP/AM99Q/8AAt/8aP8AhXWj/wDPfUP/AALf/Gusop8sewuaRyf/AArrR/8AnvqH/gW/+NH/AArrR/8AnvqH/gW/+NdZRRyx7BzSOT/4V1o//PfUP/At/wDGj/hXWj/899Q/8C3/AMa6yijlj2Dmkcn/AMK60f8A576h/wCBb/40f8K60f8A576h/wCBb/411lFHLHsHNI5P/hXWj/8APfUP/At/8a5zWPCdlZ+NND02G4vhb3gkMoN0xJ2jjnNen1xviL/kpfhj/dm/lScY9hxlIn/4V1o3/PbUP/At/wDGj/hXWj/89tQ/8C3/AMa6uinyx7C5pHKf8K60f/ntqH/gW/8AjR/wrrR/+e2of+Bb/wCNdXRRyx7BzSOU/wCFdaP/AM9tQ/8AAt/8aP8AhXWj/wDPbUP/AALf/Guroo5Y9g5pHKf8K60f/ntqH/gW/wDjR/wrrR/+e2of+Bb/AONdXRRyx7BzSOU/4V1o/wDz21D/AMC3/wAa5tfCVkfiO+jm4vvsi2ImA+1NndnHXNen1xq/8lml/wCwYv8A6FScY6aDUmT/APCutG/576h/4Fv/AI0f8K60b/nvqH/gW/8AjXV0U+WPYnml3OU/4V1o3/PfUP8AwLf/ABo/4V1o3/PfUP8AwLf/ABrq6KOWPYOaXc5T/hXWjf8APfUP/At/8aP+FdaN/wA99Q/8C3/xrq6KOWPYOaXc5T/hXWjf899Q/wDAt/8AGj/hXWjf899Q/wDAt/8AGuroo5Y9g5pdzlP+FdaN/wA99Q/8C3/xrntD8IWN/wCJtds7i4vjDZSRrCBdMCAVycnNemVyHhb/AJHfxV/12i/9BNS4q6KUnYk/4V1o3/PbUP8AwLf/ABo/4V1o/wDz21D/AMDH/wAa6uinyx7E8zOU/wCFdaP/AM9tQ/8AAx/8aP8AhXWj/wDPbUP/AAMf/Guroo5Y9g5mcp/wrrR/+e2of+Bj/wCNH/CutH/57ah/4GP/AI11dFHLHsHMzlP+FdaP/wA9tQ/8DH/xo/4V1o//AD21D/wMf/Guroo5Y9g5mcp/wrrR/wDnvqH/AIFv/jXN+DfCdlrNrqL31zfM1vfSQptumHyjGK9PNcb8N/8Ajx1j/sJy/wBKOWN9iuZ2Jv8AhXWjf899Q/8AAx6P+FdaN/z31D/wMeusop8sewuaRyf/AArrRv8AnvqH/gY9H/CutG/576h/4GPXWUUcsewc0jk/+FdaN/z31D/wMej/AIV1o3/PfUP/AAMeusoo5Y9g5pHJ/wDCutG/576h/wCBj0f8K60b/nvqH/gY9dZRRyx7BzSOMv8A4f6TBpt1NHPqAeOF3XN2/UKTWT4L8HafrXhO0v764vmnlDbit0wHBI6ZrvtV/wCQLff9e8n/AKCawPhr/wAiBp/0b/0I1PLG4+Z2E/4Vzov/AD21D/wLf/Gj/hXOi/8APbUP/At/8a6uinyR7E8zOU/4Vzov/PbUP/At/wDGj/hXOi/89tQ/8C3/AMa6uijkj2DmZyn/AArnRf8AntqH/gW/+NH/AArnRf8AntqH/gW/+NdXRRyR7BzM5T/hXOi/89tQ/wDAt/8AGj/hXOi/89tQ/wDAt/8AGuroo5I9g5mef+J/BGmaX4X1C9tLi+E0EJdCbpyAfzq3pPw/0m70ezuJp78ySwo7EXbjkjNa/jj/AJEbV/8Ar3NaWgf8i5p3/XtH/wCgivFzScqfLyOx6GESknzGF/wrfRf+e2of+Bj0f8K30X/ntqH/AIGPXWUV4n1mt/Mzu9nDscn/AMK30X/ntqH/AIGPR/wrfRf+e2of+Bj11lFH1mt/Mw9nDscn/wAK30X/AJ7ah/4GPR/wrfRf+e2of+Bj11lFH1mt/Mw9nDscn/wrfRf+e2of+Bj0f8K30b/nvqH/AIGPXWUUfWa38zD2cOx5n408JWOgaHFe6fcXwl+0xp89yzDBb0r2+P8A1a/7ory34n/8ilH/ANfkP/oVepJ/q1+gr3MDOU6V5O5xVklLQdRRRXcYhRRRQAUUUUAFFeP/ABE17Xrbx/HpmkapPapMkSoiyFVDNxmrf/CJ/Er/AKGJf/Apv/ia6/q3upyklcdj1WiuKvhrmhfC69bUr4vqcMZb7RG5JHzDHJHpXCeGU8e+K7GW707xDIscUnlsJZ2BzjPYH1qYYfmi5cySQWPcKK8dtvGninwb4hh03xa/2qByMucE7Scbg3f8a1fi1r+p6R/ZjaTfTWolDlvKbG7pin9VnzqN9+oz02ivIrbQviVPp8V9ba95gkjEiRm4OSCM45GK1vh/49v9V1eTQvEKAXkYO2QLgkr1BA70pYdqLlFp2A9HorzDxz8QtQg1r+wfC67rrd5byqNx3H+FR6j1rKfwt8S4bX7eNVlabG4wC6Jb6Y+7+FUsM+VOTSuI9korzjwD8QrrVtQbRfECbL5QfLkxt3kdVI7GsX4ieINdtfHcWnaTqc9sk0caqivhdzHGamOGm5uD0sB7DRXkV5pPxL0S0fUDrAukhG541m38Drww5rqvh340k8W6fOl6ipe2pHmbBgOD0P6Up0HGPOmmvILHZ0Vna/bX95oN1Bo84t710xFKWK7Tn1FeOT6p4v0DxrY6Tq2uTSs80RcJKWVlZunIFKlRdRNp7Ae6UUGisBBRRRQAUUUUAFQ3v/IPuP8Ark38jU1Q3v8AyD7j/rk38jQB5j8Mv+RIh/67zf8AoZrrK5P4Zf8AIkQ/9d5v/QzXWV2R+FHJLcKKKKokKKKKACiiigArH8Xf8iZq3/XpJ/6Ca2Kx/F3/ACJmrf8AXpJ/6CaT2KjuhPB//Il6T/16p/Ktmsbwf/yJek/9eqfyrZoWwnuFFFFMQUUUUAFFFFABXK/En/kQ73/fi/8AQ1rqq5X4k/8AIh3v+/F/6GtTLYqO50tn/wAeMH/XNf5Cpais/wDjxg/65r/IVLVCCiiigQUUUUAFFFFABXH+Pf8Aj68Of9haL+ddhXH+Pf8Aj68Of9haL+dTLYqO52FFFFUSFFFFABRRRQAUUUUAFcb4i/5KZ4Y/3Zv5V2Vcb4i/5KZ4Y/3Zv5VMionZUUUVRIUUUUAFFFFABRRRQAVxq/8AJZpf+wYv/oVdlXGr/wAlml/7Bi/+hVL6FLqdlRRRVEhRRRQAUUUUAFFFFABXIeFv+R38Vf8AXaL/ANBNdfXIeFv+R38Vf9dov/QTUvdFLY6+iiiqJCiiigAooooAKKKKAA9K434cf8eOsf8AYTl/pXZHpXG/Dj/jx1j/ALCcv9KnqV0OyoooqiQooooAKKKKACiiigCpqv8AyBb7/r3k/wDQTWB8Nf8AkQNP+jf+hGt/Vf8AkC33/XvJ/wCgmsD4a/8AIgaf9G/9CNT9or7J1VFFFUSFFFFABRRRQAUUUUAYPjj/AJEXV/8Ar3NaWgf8i5p3/XtH/wCgis3xx/yIur/9e5rS0D/kXNO/69o//QRXz+cfZPTwWzL9FFFeAeiFFFFABRRRQAUUUUAch8T/APkUo/8Ar8h/9Cr1JP8AVr9BXlvxP/5FKP8A6/If/Qq9ST/Vr9BX0OX/AME8+v8AGOooor0DAKKKKACiiigDwz4oLO/xOgWzbZcMkIibPRs8frW1/YXxSx/yFx/3+H+FN+IXhbxBqPjlNT0axaZIo4yjgjG5ead/aPxV7Wa/9+kr1ua9OPK47dSjq/FqXUfwqvE1Bt90toombOctkZP515r4B+INn4R0m4s7m0lnaWbzAyEADgDHP0rv5bfxJrPwy1C21m3zqkqlUjUAZGRjpUPwy8MXOk6Ddwa7p6pLJPlRKoYldoFYwlCNGUZ66iOF1G7vvin4wt/7Ps2hggUKWPOxM5LMa2/jUgiTR0HRUcflipz4T1zwj49/tDw1Zvc6dMcvGjAYUnlefTqKvfFTw5q3iH+zW0myefyw28Agbc461sqkFWhZ+6kMzrD4xWNhotvarps7zQwqmS4CkgYqt8NNF1HV/Fs3ii6i8m2YyMpxgOzdh7Cu9l8JWmq+C4dLvrZIpvs6rvCjcjgdc/Wue+HOn+JfDd5PpOq2TtpzMTFOGBCN/gax9pT9nL2ejA5bwGY4/i/dDUv9f5k4Tf8A38n+ma9xrzbxz8ObnUdT/tvw5IIr7IZ487dxH8QPrWGbz4oyw/YTbzDjaZAihv8AvqipCOIanGSXqIp6iUk+OSf2f/z9JuKeuPmqP4n3Is/iXb3LAsIUikIHfDZrtPAPw7k0G5bVdbkE2ouDtUHcI89TnuayvG3hLWNU+Ilpf2di01onlb3BGOG5rWNaHtbX0St6jIdX+Mttc6TcW9hp0qzSxlA0rDC5GM8VpfCDw1eaVY3WpX8ZhN4FESN12jJz+Oa2/HHgu38ReH3jtII472EF4GVQMn+7+NN+Hf8Ab1rox07xFZyQtbYEMrEHcvp9RWEpwdC1PTXUR2FeKePv+Sx6f/vW3/oVe115Z4w8K6zqXxNstSsrJ5bSNoC0oIwNrZNRhZKMpX7MD1M0UUVyCCiiigAooooAKhvf+Qfcf9cm/kamqG9/5B9x/wBcm/kaAPMfhl/yJEP/AF3m/wDQzXWV5r4F8aaBo/hdLLUb9YbhJpCyFScZY46Cui/4WP4V/wCgqn/fDf4V1xatuc0ou51FFcv/AMLH8K/9BVP++G/wo/4WP4V/6Cqf98N/hVXXcnlZ1FFcv/wsfwr/ANBVP++G/wAKP+Fj+Ff+gqn/AHw3+FF13DlZ1FFcv/wsfwr/ANBVP++G/wAKP+Fj+Ff+gqn/AHw3+FF13DlZ1FY/i7/kTNW/69JP/QTWf/wsfwr/ANBVP++G/wAKzPEnj3w3e+GNRtbXUlkmmt3RFCNySOB0pNq241F3Oi8H/wDIl6T/ANeqfyrZrg/DPj7w1ZeF9OtbrUkjmhgVHUo3BA+lan/Cx/Cn/QWT/vhv8KFJW3E4u+x1FFcv/wALH8Kf9BZP++G/wo/4WP4U/wCgsn/fDf4U+Zdw5X2Ooorl/wDhY/hT/oLJ/wB8N/hR/wALH8Kf9BZP++G/wo5l3DlfY6iiuX/4WP4U/wCgsn/fDf4Uf8LH8Kf9BZP++G/wo5l3DlfY6iuV+JP/ACId7/vxf+hrTv8AhY/hT/oLJ/3w3+Fc9458b+H9V8I3VnYags07tGVQIwzhwT29KmTVtxxi7noln/x4wf8AXNf5Cpa5K2+I3hZLWJG1RAyoARsbg4+lS/8ACyPCn/QVT/vhv8KfNHuHKzqKK5f/AIWR4U/6Cqf98N/hR/wsjwp/0FU/74b/AAo5o9xcrOoorl/+FkeFP+gqn/fDf4Uf8LI8Kf8AQVT/AL4b/Cjmj3DlZ1FFcv8A8LI8Kf8AQVT/AL4b/Cj/AIWR4U/6Cqf98N/hRzR7hys6iuP8e/8AH14c/wCwtF/OrH/CyPCn/QVT/vhv8K5rxf400DUbjRGsr9ZBbahHNLhT8qA8npSlJW3KjF3PTaK5cfEfwr/0FU/74b/Cl/4WP4V/6Cif98N/hT5l3J5Zdjp6K5j/AIWP4V/6Cif98N/hR/wsfwr/ANBRP++G/wAKOZdw5Zdjp6K5j/hY/hX/AKCif98N/hR/wsfwr/0FE/74b/CjmXcOWXY6eiuY/wCFj+Ff+gon/fDf4Uf8LH8K/wDQUT/vhv8ACjmXcOWXY6euN8Rf8lM8Mf7s38qt/wDCx/Cv/QUT/vhv8K5fW/Geg3PjvQL6C/Vra1WUTSbT8uRx2pOSKjFnp9Fcv/wsjwp/0Fk/74b/AAo/4WR4U/6Cyf8AfDf4U+aPcnll2Ooorl/+FkeFP+gsn/fDf4Uf8LI8Kf8AQWT/AL4b/Cjmj3Dll2Ooorl/+FkeFP8AoLJ/3w3+FH/CyPCn/QWT/vhv8KOaPcOWXY6iiuX/AOFkeFP+gsn/AHw3+FH/AAsjwp/0Fk/74b/Cjmj3Dll2OorjV/5LNL/2DF/9Cq1/wsjwp/0Fk/74b/CuYXxnoP8Aws6TVPt6/Y2sBEJdp+9np0pOS0KUWen0Vy//AAsfwr/0FU/74b/Cj/hY/hX/AKCqf98N/hT5o9yeVnUUVy//AAsfwr/0FU/74b/Cj/hY/hX/AKCqf98N/hRzR7hys6iiuX/4WP4V/wCgqn/fDf4Uf8LH8K/9BVP++G/wo5o9w5WdRRXL/wDCx/Cv/QVT/vhv8KP+Fj+Ff+gqn/fDf4Ucy7hys6iuQ8Lf8jv4q/67Rf8AoJqf/hY/hX/oKp/3w3+Fc3oHjXQLPxV4gurm/VILqWNoXKt84C4Pak2ropRdj0yiuX/4WR4U/wCgsn/fDf4Uf8LI8Kf9BZP++G/wp3RPLLsdRRXL/wDCyPCn/QWT/vhv8KP+FkeFP+gsn/fDf4U+ZByy7HUUVy//AAsjwp/0Fk/74b/Cj/hZHhT/AKCyf98N/hRzIOWXY6iiuX/4WR4U/wCgsn/fDf4Uf8LI8Kf9BZP++G/wo5kHLLsdQelcb8OP+PHWP+wnL/SrX/CyPCmP+Qsn/fDf4VzHgfxnoOl2mppf36xNNfySxgqxypxg9KnmVyuV2PT6K5f/AIWP4V/6Cqf98N/hR/wsfwr/ANBVP++G/wAKfMieVnUUVy//AAsfwr/0FU/74b/Cj/hY/hX/AKCqf98N/hRzIOVnUUVy/wDwsfwr/wBBVP8Avhv8KP8AhY/hX/oKp/3w3+FHMg5WdRRXL/8ACx/Cv/QVT/vhv8KP+Fj+Ff8AoKp/3w3+FHMg5Wbuq/8AIFvv+veT/wBBNYHw1/5EDT/o3/oRqHUPiH4Ym0y6ij1RGd4XVRsbklT7VjeBvG/h/SvB9nZ3+oLFPGG3IVJxyfalzK5XK7HpNFcv/wALH8K/9BVP++G/wo/4WP4V/wCgqn/fDf4U+ZE8rOoorl/+Fj+Ff+gqn/fDf4Uf8LH8K/8AQVT/AL4b/CjmQcrOoorl/wDhY/hX/oKp/wB8N/hR/wALH8K/9BVP++G/wo5kHKzqKK5f/hY/hX/oKp/3w3+FH/Cx/Cv/AEFU/wC+G/wo5kHKy144/wCRG1f/AK9zWloH/Iuad/17R/8AoIrjPFfjvw5qHhPUbS01FZJ5oSqIEbk/lV3R/iH4XttEsoJtURZI4EVl2NwQBntXh5rGU+XlVz0cG1FO52tFcv8A8LK8Kf8AQVT/AL4b/Cj/AIWV4U/6Cqf98N/hXiewq/ys7uePc6iiuX/4WV4U/wCgqn/fDf4Uf8LK8Kf9BVP++G/wo9hV/lYc8e51FFcv/wALK8Kf9BVP++G/wo/4WV4U/wCgqn/fDf4Uewq/ysOePc6iiuX/AOFleFP+gqn/AHw3+FJ/wsnwp/0Fk/74b/Cj2FX+Vhzx7kPxP/5FKP8A6/If/Qq9ST/Vr9BXiHjrxpoOteH4rTTL9Z5zdRMECsOA3PUV7fH/AKpP90V7uBjKNK0kcNZpz0HUUUV3GIUUUUAFFFFABRRRQAUUUUAFFFFABRRRQAUUUUAFFFFABRRRQAUUUUAFFFFABRRRQAUUUUAFGAQQRkHrRUN5/wAeFxjj9038qAKv9i6OT/yDbL/vwn+FH9i6R/0DbL/vwn+FeMeDvCFvr/h5b+81HUlleaQER3TAcMQOK3/+Fbad/wBBLVv/AAMatPZysR7RI9I/sXSP+gbZf9+E/wAKP7F0j/oG2X/fhP8ACvN/+Fbad/0E9W/8DGo/4Vtp3/QT1b/wMaj2cg9pE9I/sXSP+gbZf9+E/wAKP7F0j/oG2X/fhP8ACvN/+Fbad/0E9W/8DGo/4Vtp3/QT1b/wMaj2cg9pE9I/sXSP+gbZf9+E/wAKP7F0j/oG2X/fhP8ACvN/+Fbad/0E9W/8DGo/4Vtp3/QT1b/wMaj2cg9pE9I/sXSP+gbZf9+E/wAKDomjkc6bZf8AfhP8K83/AOFbad/0E9W/8DGrO8QeA7LTvDt/ewalqhlt4HkXddsRkDvR7OQe0iz1kaHov/QMsf8Avwn+FH9iaN/0DLH/AL8J/hXkvh/wJZ6l4esb241PVBLPCrsEu2AyR2rS/wCFbad/0E9W/wDAxqPZyF7SJ6R/Ymjf9Ayx/wC/Cf4Uf2Jo3/QMsf8Avwn+Feb/APCttO/6Cerf+BjUf8K207/oJ6t/4GNR7OQe0iekf2Jo3/QMsf8Avwn+FH9iaN/0DLH/AL8J/hXm/wDwrbTv+gnq3/gY1H/CttO/6Cerf+BjUezkHtInpH9iaN/0DLH/AL8J/hR/Ymjf9Ayx/wC/Cf4V5v8A8K207/oJ6t/4GNR/wrbTv+gnq3/gY1Hs5B7SJ6R/Ymjf9Ayx/wC/Cf4Uf2Ho3/QMsf8Avwn+Feb/APCttO/6Cerf+BjVheMvBltonhe4vrPUtTMsbIAJLpiOWAPH40ezkhqpFnsv9iaN/wBAyx/78J/hSf2Jo3/QMsf+/Cf4V5nb/DnT5LWJ21PVgWQE4u29Kk/4Vtp3/QU1b/wMaj2che0iekf2Jo3/AEDLH/vwn+FH9iaN/wBAyx/78J/hXm//AArbTv8AoKat/wCBjUf8K207/oKat/4GNR7OQe0iekf2Jo3/AEDLH/vwn+FH9iaN/wBAyx/78J/hXm//AArbTv8AoKat/wCBjUf8K207/oKat/4GNR7OQe0iekf2Jo3/AEDLH/vwn+FH9iaN/wBAyx/78J/hXm//AArbTv8AoKat/wCBjUf8K207/oKat/4GNR7OQe0iekf2Jo3/AEDLH/vwn+FH9h6N/wBAyx/78J/hXm//AArbTv8AoKat/wCBjVz3irwfb6RPpCW2pakwu75IJN90xwpPOPej2ckNTTPav7D0b/oGWP8A34T/AAo/sPR/+gZY/wDfhP8ACvN/+Fa6b/0EtW/8DGpP+Fbab/0EtW/8DGo9nIXtInpP9h6P/wBAyx/78J/hR/Yej/8AQMsf+/Cf4V5t/wAK203/AKCWrf8AgY1H/CttN/6CWrf+BjUezkHtInpP9h6P/wBAyx/78J/hR/Yej/8AQMsf+/Cf4V5t/wAK203/AKCWrf8AgY1H/CttN/6CWrf+BjUezkHtInpP9h6P/wBAyx/78J/hR/Yej/8AQMsf+/Cf4V5t/wAK203/AKCWrf8AgY1H/CttN/6CWrf+BjUezkHtInpP9h6P/wBAyx/78J/hSf2Ho3/QMsf+/Cf4V5v/AMK203/oJat/4GNXPav4Qt7LxjoumQ6jqXkXokMhN0xYbRkYNHs5IanFntX9h6P/ANAyy/78J/hR/Yekf9Ayy/78J/hXm3/CttP/AOgpq3/gY1H/AArbT/8AoKat/wCBjUezkL2kT0n+w9I/6Bll/wB+E/wo/sPSP+gZZf8AfhP8K82/4Vtp/wD0FNW/8DGo/wCFbaf/ANBTVv8AwMaj2cg9pE9J/sPSP+gZZf8AfhP8KP7D0j/oGWX/AH4T/CvNv+Fbaf8A9BTVv/AxqP8AhW2n/wDQU1b/AMDGo9nIPaRPSf7D0j/oGWX/AH4T/Cj+w9I/6Bll/wB+E/wrzb/hW2n/APQU1b/wMaj/AIVtp/8A0FNW/wDAxqPZyD2kT0n+w9I/6Bll/wB+E/wo/sTR/wDoG2P/AH4T/CvNv+Fbaf8A9BTVv/Axq50eELc/EN9GOo6l9mWyE4P2pt27OOvpR7OSGppntf8AYej/APQMsf8Avwn+FH9h6P8A9Ayx/wC/Cf4V5t/wrXTv+gnq3/gY1H/CttN/6Cer/wDgY1Hs5C9pE9J/sPR/+gZY/wDfhP8ACj+w9H/6Blj/AN+E/wAK82/4Vtpv/QT1f/wLaj/hW2m/9BPV/wDwLaj2cg9pE9J/sPR/+gZY/wDfhP8ACj+w9H/6Blj/AN+E/wAK82/4Vtpv/QT1f/wLaj/hW2m/9BPV/wDwLaj2cg9pE9J/sPR/+gZY/wDfhP8ACj+w9H/6Blj/AN+E/wAK82/4Vtpv/QT1f/wLaj/hW2m/9BPV/wDwMaj2cg9pE9J/sPR/+gZY/wDfhP8ACk/sTRs/8gyx/wC/Cf4V5v8A8K103/oJ6t/4GNWBofg62v8AxLrllPqWpiKykRYit0wJBGTk96PZyHzo9o/sTR/+gZZf9+E/wo/sTR/+gZZf9+E/wrzb/hW2nf8AQU1f/wADGo/4Vtp3/QU1f/wMaj2che0iek/2Jo//AEDLL/vwn+FH9iaP/wBAyy/78J/hXm3/AArbTv8AoKav/wCBjUf8K207/oKav/4GNR7OQe0iek/2Jo//AEDLL/vwn+FH9iaP/wBAyy/78J/hXm3/AArbTv8AoKav/wCBjUf8K207/oKav/4GNR7OQe0iek/2Jo//AEDLL/vwn+FH9iaP/wBAyy/78J/hXm3/AArbTv8AoKav/wCBjUf8K207/oKav/4GNR7OQe0iek/2Jo//AEDLL/vwn+FA0PRv+gZY/wDfhP8ACvNj8N9OA/5Cmrf+BjVzvg3whb63aahJealqatb3rwJ5d0wyoxjPvR7OQ/aRPa/7D0f/AKBll/34T/Cj+w9H/wCgZZf9+E/wrzf/AIVrpv8A0FNX/wDAxqP+Fbab/wBBTV//AAMaj2cg9pE9I/sPR/8AoGWX/fhP8KP7D0f/AKBll/34T/CvN/8AhW2m/wDQU1f/AMDGo/4Vtpv/AEFNX/8AAxqPZyD2kT0j+w9H/wCgZZf9+E/wo/sPR/8AoGWX/fhP8K83/wCFbab/ANBTV/8AwMaj/hW2m/8AQU1f/wADGo9nIPaRPSP7D0f/AKBll/34T/Cj+w9H/wCgZZf9+E/wrzf/AIVtpv8A0FNX/wDAxqP+Fbab/wBBTV//AAMaj2cg9pE9I/sPR/8AoGWX/fhP8KT+xNG/6Blj/wB+E/wrzC++Hen2+n3M0ep6sWjiZxm8bGQCazPBngm11zwpaahealqazSg7hHdsBwSOlc2Iqxw6TmaU06nwnsX9iaN/0DLL/vwn+FH9iaN/0DLL/vwn+Fedf8K003/oJ6v/AOBjUf8ACtNN/wCgnq//AIGNXJ/aFHzNvq8z0X+xNG/6Bll/34T/AAo/sTRv+gZZf9+E/wAK86/4Vppv/QT1f/wMaj/hWmm/9BPV/wDwMaj+0KPmHsJnov8AYmjf9Ayy/wC/Cf4Uf2Jo3/QMsv8Avwn+Fedf8K003/oJ6v8A+BjUf8K003/oJ6v/AOBjUf2hR8w9hM9F/sTRv+gZZf8AfhP8KP7E0b/oGWX/AH4T/CvOv+Faab/0E9X/APAxqP8AhWmm/wDQT1f/AMDGo/tCj5h7CZ6L/Ymjf9Ayx/78J/hR/Yej/wDQMsv+/Cf4V5L4m8B2eleGL++ttT1QywQl0D3bEZ9xU+lfD6xu9ItLiXU9V3ywq7bbtgMkZrsw9RYhNwMai9m7SPVP7E0f/oGWX/fhP8KP7E0f/oGWX/fhP8K83/4Vtpv/AEE9W/8AAxqP+Fbab/0E9W/8DGro9lIy9pE9I/sTR/8AoGWX/fhP8KP7E0f/AKBll/34T/CvN/8AhW2m/wDQT1b/AMDGo/4Vtpv/AEE9W/8AAxqPZSD2kT0j+xNH/wCgZZf9+E/wo/sTR/8AoGWX/fhP8K83/wCFbab/ANBPVv8AwMaj/hW2m/8AQT1b/wADGo9lIPaRPSP7E0f/AKBll/34T/Cj+xNG/wCgZZf9+E/wrzf/AIVtpv8A0E9W/wDAxqP+Fbab/wBBPVv/AAMaj2Ug9pE9I/sTRwQRptkCOn7hP8K0PpXhPjDwjb+H9GivbLUdSaQXMaYlumYYLele6R/6tf8AdFQ4uLsy001dDqKKKQwooooAKKKKACiiigAooooAKKKKACiiigAooooAKKKKACiiigAooooAKKKKACiiigAooooAKhvf+Qfcf9cm/lU1QXv/ACD7j/rk38jQB5h8Mv8AkSof+u8v/oZrrq5H4Z/8iVD/ANd5f/QzXXV2R2RyS3CiiiqJCiiigAooooAKxvF//Imav/16Sf8AoJrZrG8X/wDImav/ANekn/oJpPYqO4ng/wD5E3Sv+vVP5VtVi+D/APkTdK/69U/lW1QthPcKKKKYgooooAKKKKACuT+JZx4Fu/eSIf8Aj4rrK5L4m/8AIi3P/XWL/wBDFTLYqO509n/x4wf9c1/lU1Q2f/HjB/1zX+VTVQgooooEFFFFABRRRQAVx3j3/j68O/8AYVi/nXY1x/j3/j58O/8AYVi/nUy2KjudiaSg9aKokKKKKACiiigAooooAK43xF/yUvwx/uzf+g12Vcb4i/5KX4Y/3Zv/AEGpkXHc7KiiiqJCiiigQUUUUAFFFFABXGJ/yWST/sGD/wBCrs64xP8Akskn/YMH/oVTIqPU7OiiiqJCiiigAooooAKKKKACuQ8Lf8jv4p/67Rf+gmuvrkPC3/I7+Kf+u0X/AKCanqWtjr6KKKogKKKKACiiigAooooAQ/dNcd8Nf+Qdq/8A2E5f6V2J+6a474a/8g7V/wDsJy/0qXuilszszSUppKokKKKKACiiigAooooAqar/AMge9/693/8AQTWJ8NP+Sf6d9G/9CNbeq/8AIHvf+vd//QTWH8NP+Sf6d9G/9CNeHm/wRPRwW7Oqooor5w9MKKKKACiiigAooooAwvG//Ii6v/17NVrQP+Rc0/8A69o//QRVXxv/AMiLq/8A17NVrQP+Rb07/r2j/wDQRX0uUfw2eXjfiRoUUUV7R54UUUUAFFFFABRRRQByHxM/5FOP/r8h/wDQq9VT/Vr9BXlXxM/5FOP/AK/If/Qq9VT/AFa/QVy1PiOqn8I6iiisywooooAKKKKAOH8V/Ey28La42my6dNcMqK+9HAHPasf/AIXVb/8AQCuv++x/hXN/Ey5Wy+KcN1IhdIVhkZR1YDtXSf8AC49I/wCgFdfklen7CKhFqF7ruNnUx+NYpPAr+JTZyLGgJMBYbvvY61yy/Gy1bldEuSPaQGt7xtcpe/Cu7u4ozGk9ukgQjoCQcVg/CC7sIPDF0t9PbxubokCVgDjaPWsoQp+ydRxvqCNvw38UNH8QXyWTJJZXMhwizYwx9AR3q34z8cweDmtVns5Ln7QGI2OBjH1rzD4hSaddePbU+HDG8uEDm3HBk3e3fpWz8a92dG3/AHtj5+vFaLD03Ujpo1sM0B8bLTgvolyq928wV2Xhjxhpfiu3dtOcrLGP3kMnDL7+4qvpuo6Cnhi1F7c2OwWyCRXZT/DyCK8z+Hex/ijPJpKn7EPNPyjgJ2/pUeypzhJxjZoR6f4p8b6V4UjAvWaW4YZSCPliPU+grjF+NyeaDJociwZ+8Jufyxj9awPDlmvjf4p3cmrHzIo2klMZPVVbCr9ORXtU2k6fPZfZJbKBrcrt8sxjGKU40aFoTV2BQ8NeKtM8U2Zn0yU7k/1kT8Mn1FYHir4m2/hfXG02XTprh1RW3o4A5rhtMi/4RH4yLY6e5Fu83lFc/wADDOPwqTx+yr8XbRpCFUPbliegGRVxw8PaWeqtcDoI/jXY+YBcaPdRIT97eDXe6Jrtj4h01b3TJfMiJwQeCp9CKxPFmo+HD4XvlvJrORWhYIqspYtjjGO+a5L4IJOI9WYhvs5MYXPTdzn9KzlTpypOpFWsB6jf39vplhNeXsnlwQrudvQV5vc/GeIzMNL0Se6iU8yM+39ADXpzossbJIoZGGCrDIIrKm/sXwnos0xigs7RMswVQNxPb3NY0nDaUbsEZXhD4gad4td4IY3trtF3GGQ5yPUHvXWV4p8NbSbWPiLda3awGCyjMjdMAbui/rn8K9rp4inGnU5YiCiiiucAooooAKgvf+Qfcf8AXJv5Gp6gvf8AkH3H/XJv5GgDzD4Z/wDIlQ/9d5f/AEM111cj8M/+RKh/67y/+hmuursjsjkluFFFFUSFFFFABRRRQAVjeL/+RM1f/r0k/wDQTWzWN4v/AORM1f8A69JP/QTSexUdxPB//Im6V/16p/KtqsXwf/yJulf9eqfyraoWwnuFFFFMQUUUUAFFFFABXJfE3/kRbn/rrF/6GK62uS+Jgz4FusdpYv8A0MVMtio7nT2f/HjB/wBc1/lU1Q2f/HjB/wBc1/lU1UIKKKKACiiigAooooAK4/x7/wAfPh3/ALCsX867CuP8e/8AHz4d/wCwrF/OplsOO52B60UHrRVEhRRRQAUUUUAFFFFABXG+Iv8Akpfhj/dm/wDQa7KuN8Rf8lL8Mf7s3/oNTIuO52VFFFUSFFFFABRRRQAUUUUAFcYn/JZJP+wYP/Qq7OuMT/kskn/YMX/0I1Mhx6nZ0UUVRIUUUUAFFFFABRRRQAVyHhb/AJHfxT/12i/9BNdfXIeFv+R38U/9dov/AEE1PVFrY6+iiiqICiiigAooooAKKKKAEP3TXHfDX/kHav8A9hOX+ldifumuO+Gv/IO1f/sJy/0qXuilszszSUppKokKKKKACiiigAooooAqar/yB73/AK93/wDQTWH8NP8Akn+nfRv/AEI1uar/AMge9/693/8AQTWH8NP+Sf6d9G/9CNeHnHwRPRwW7Oqooor5w9MKKKKACiiigAooooAwvG//ACIur/8AXs1WtA/5FvTv+vaP/wBBFVfG/wDyIur/APXs1WtA/wCRb07/AK9o/wD0EV9LlH8N+p5eN+JGhRRRXtHAFFFFABRRRQAUUUUAch8TP+RTj/6/If8A0KvVU/1a/QV5V8TP+RUj/wCvyH/0KvVU/wBWv0FctT4jpp/COooorMsKKKKACiiigDwz4l3Edp8VLe4nG6KFYHcYzkA5NdX/AMLU8H/8+Ev/AIDLXcXmhaXqFx597p9vPLjG+SME4qD/AIRXQv8AoEWf/fkV2uvTlGKknou4zmfEuu2fiP4T6le6arpBtCAOuCMMO1cP4E+Htn4t0Oe8uLyeCSOYxgRgY6A5/WvaU0nT49PaxSzhW1b70IQbT+FPstPtNOhMVhbR28ZO4rGoUE+tTHEclNxhpqFzxTwdDa+EPiM+neIbZGkzsgnfohPRh2wfWtb438zaT/uv/MV6heaNpmoTia9sIJ5VGA8kYJA+tOvdJ0/UfL+32cNx5YwnmIG2/Sq+sr2qqWC55Nd/CWNvCS6jpd3NNdmBZhC4GG4yQPetb4Oajph0+404QJBqcZzIx+9Kv/1vSvTY40ijWONQqKMKoHAFU4dF0y3vDdW9jbx3BJPmJGA3PXmoliXODhP5AeO67Zaj8OvHx1uzgMtjNIzKf4SrfeQ+ldRL8atGFiXhs7prjHEbAAZ+ua9Ent4bmFormJJY26q4yDWQngzw4lx5y6NaCTOc+WKp1qdRJ1Y3YHmvgPRtS8U+NH8UapEY7dJDIpIxvbsF9h61R+JNqt98U4bSRiqz+TGWHUA8V7jHGkMYSJFRF4CqMAVUn0fTbq8W7ubGCW4XGJXjBYY6c044pqo526WQ7njvjX4Xjw/ov9o6XcTXSRn9+rgZVfUYr0H4a6lpmoeEYV0uGO3aH5J4l7P6/jXVyxJNE0UqK8bjDKwyCPSq1jpNhppc6fZw2xf73lIFzWc8Q6lPlnuIkvbyOwsJ7y4z5UEbSPgZOAM18/eJfGLeL9ej/tKaW20qN/kiiG4qPXHdjX0NLFHNC8UyB43G1lYZBHpWZ/wiug/9Aiz/AO/Qp4etCldtaiOS8J+O/CsTWeg6HbXMXmMETdGBk+pOa9DrNg8OaNazpNbaZaxSocq6xAEGtKsakoyd4gFFFFZgFFFFABUF7/yD7j/rk38jU9BAZSGGQRgg96APEfAfizQ9K8Kx2uoajDBOs0pKPnIyxxXS/wDCe+GP+gzb/r/hXbjw1oYJ/wCJRY88/wDHun+FH/CN6J/0CLH/AMB0/wAK0VRpWM3TTZxH/Ce+GP8AoM2/6/4Uf8J74Y/6DNv+v+Fdv/wjeif9Aix/8B0/wo/4RvRP+gRY/wDgOn+FP2rF7NHEf8J74Y/6DNv+v+FH/Ce+GP8AoM2/6/4V2/8Awjeif9Aix/8AAdP8KP8AhG9E/wCgRY/+A6f4Ue1YezRxH/Ce+GP+gzb/AK/4Uf8ACe+GP+gzb/r/AIV2/wDwjeif9Aix/wDAdP8ACj/hG9E/6BFj/wCA6f4Ue1YezRxH/Ce+GP8AoM2/6/4Vl+JvGvh278K6lb22qwSTS2zqiDOWJHA6V6X/AMI3on/QIsf/AAHT/CkPhrQyMHR7H/wHX/Ch1W0NU1c808L+NPD1p4V023udVhjmjt1V0OcqQOnStX/hPfDH/QYg/X/Cu2HhrQwMDR7H/wAB1/wo/wCEb0T/AKA9j/4Dp/hR7Vi9mjiP+E98Mf8AQYt/1/wo/wCE98Mf9Bi3/X/Cu3/4RvRP+gPY/wDgOn+FH/CN6J/0B7H/AMB0/wAKPasPZo4j/hPfDH/QYt/1/wAKP+E98Mf9Bi3/AF/wrt/+Eb0T/oD2P/gOn+FH/CN6J/0B7H/wHT/Cj2rD2aOI/wCE98Mf9Bi3/X/Cj/hPfDH/AEGLf9f8K7f/AIRvRP8AoD2P/gOn+FH/AAjeif8AQHsf/AdP8KPasPZo4j/hPfDH/QYt/wBf8K53x54v0HUvB91a2OpwzTu8ZVFzk4cE9vSvWf8AhG9E/wCgPY/+A6f4Uh8M6Gc50ex/8B1/wodRtWGqaTOFtfHfhlLSFW1iAMqAEc+n0qX/AIT3wx/0Gbf9f8K7b/hGtD/6BFj/AOA6f4Uf8I3on/QIsf8AwHT/AAo9qw9mjif+E98Mf9Bm3/X/AAo/4T3wx/0Gbf8AX/Cu2/4RvRP+gRY/+A6f4Uf8I3on/QIsf/AdP8KPasPZo4n/AIT3wx/0Gbf9f8KP+E98Mf8AQZt/1/wrtv8AhG9E/wCgRY/+A6f4Uf8ACN6J/wBAix/8B0/wo9qw9mjif+E98Mf9Bm3/AF/wo/4T3wx/0Gbf9f8ACu2/4RvRP+gRY/8AgOn+FH/CN6J/0CLH/wAB0/wo9qw9mjif+E98Mf8AQZt/1/wrl/Gfi3Qr+40M2epQyiDUY5ZSuflUHkmvXv8AhG9E/wCgRY/+A6f4UHw1oR66PYnH/Tun+FDqNh7NHE/8J74XP/MZt/1/wo/4Tzwv/wBBm3/X/Cu2/wCEa0P/AKBFj/4Dr/hR/wAI1of/AECLH/wHX/Cn7WQvZo4n/hPPC/8A0Gbf9f8ACj/hPPC//QZt/wBf8K7b/hGtD/6BFj/4Dr/hR/wjWh/9Aix/8B1/wo9tIPZo4n/hPPC//QZt/wBf8KP+E88L/wDQZt/1/wAK7b/hGtD/AOgRY/8AgOv+FH/CNaH/ANAix/8AAdf8KPbSD2aOJ/4Tzwv/ANBm3/X/AAo/4Tzwv/0Gbf8AX/Cu2/4RrQ/+gRY/+A6/4Uf8I1of/QIsf/Adf8KPbSD2aOJ/4Tzwv/0Gbf8AX/CuW1zxZodx498P3kGpQvb26yiWQZwmRxnivX/+Ea0P/oEWP/gOv+FJ/wAIzoec/wBj2Of+vdf8KXtWNU0jiv8AhPPDH/QZt/1/wo/4Tzwx/wBBm3/X/Cu2/wCEa0P/AKA9j/4Dr/hR/wAI1of/AECLH/wHX/Cj2rD2aOJ/4Tzwx/0Gbf8AX/Cj/hPPDH/QZt/1/wAK7b/hGtD/AOgRY/8AgOv+FH/CNaH/ANAix/8AAdf8KPasPZo4n/hPPDH/AEGbf9f8KP8AhPPDH/QZt/1/wrtv+Ea0P/oEWP8A4Dr/AIUf8I1of/QIsf8AwHX/AAo9qw9mjif+E88Mf9Bm3/X/AAo/4Tzwx/0Gbf8AX/Cu2/4RrQ/+gRY/+A6/4Uf8I1of/QIsf/Adf8KPasPZo4n/AITzwx/0Gbf9f8K5VfFmhj4pPqJ1GH7IdPEQl5xu3dK9g/4RrQ/+gRY/+A6/4Un/AAjWh9f7Hsc/9e6f4Ue1YezRxX/Ce+F/+gzb/r/hR/wnvhf/AKDNv+v+Fdt/wjWif9Aix/8AAZP8KP8AhGtE/wCgRY/+Ayf4Ue1YvZo4n/hPfC//AEGbf9f8KP8AhPfC/wD0Gbf9f8K7b/hGtE/6BFj/AOAyf4Uf8I1on/QIsf8AwGT/AAo9qw9mjif+E98L/wDQZt/1/wAKP+E98L/9Bm3/AF/wrtv+Ea0T/oEWP/gMn+FH/CNaJ/0CLH/wGT/Cj2rD2aOJ/wCE98L/APQZt/1/wo/4T3wv/wBBm3/X/Cu2/wCEa0T/AKBFj/4DJ/hR/wAI1on/AECLH/wGT/Cj2rD2aOJ/4T3wv/0Gbf8AX/CuY8PeLdCtfFniG5uNShjhuZYzC5zhwF5xXrv/AAjWif8AQIsf/AZP8KB4Z0IdNHsf/Adf8KPasPZo4j/hPfC//QZt/wAz/hR/wnvhf/oM2/5n/Cu3/wCEb0P/AKA9j/4Dp/hR/wAI3of/AEB7H/wHT/Cj2rD2aOI/4T3wv/0Gbf8AM/4Uf8J74X/6DNv+Z/wrt/8AhG9D/wCgPY/+A6f4Uf8ACN6H/wBAex/8B0/wo9qw9mjiP+E98L/9Bm3/ADP+FH/Ce+F/+gzb/mf8K7f/AIRvQ/8AoD2P/gOn+FH/AAjeh/8AQHsf/AdP8KPasPZo4j/hPfC//QZt/wAz/hR/wnvhf/oM2/5n/Cu3/wCEb0P/AKA9j/4Dp/hR/wAI3of/AEB7H/wHT/Cj2rD2aOIPj3wvg/8AE5t/1/wrl/AfizQ9MstTS+1GKFpdQkkQNn5lOMGvX/8AhG9D7aPY/wDgOn+FIPDWhjpo9iP+3df8KPaPcfs0cV/wn3hf/oMW/wCtJ/wnvhf/AKDFv+tdv/wjeif9Aix/8B0/wo/4RvRP+gRY/wDgOn+FHtWL2aOI/wCE98L/APQYt/1o/wCE98L/APQYt/1rt/8AhG9E/wCgRY/+A6f4Uf8ACN6J/wBAix/8B0/wo9qw9mjiP+E98L/9Bi3/AFo/4T3wv/0GLf8AWu3/AOEb0T/oEWP/AIDp/hR/wjeif9Aix/8AAdP8KPasPZo4j/hPfC//AEGLf9aP+E98L/8AQYg/X/Cu3/4RvRP+gRY/+A6f4Uf8I3on/QIsf/AdP8KPasPZo4DUfHXhqXS7qOPV4Gd4XVRzySp9qyPAXjDQNN8F2VrfanDDPGGDI2cjk16t/wAI3of/AEB7H/wHT/CkHhnQgBjR7EY/6d1/wrkxVJYlJS6G9GTpXscb/wAJ94W/6DNv+v8AhR/wn3hb/oM2/wCv+Fdn/wAI3on/AECLH/wHT/Cj/hG9E/6BFj/4Dp/hXD/ZtPuzo+sS7HGf8J94W/6DNv8Ar/hR/wAJ94W/6DNv+v8AhXZ/8I3on/QIsf8AwHT/AAo/4RvRP+gRY/8AgOn+FH9m0+7D6xLscZ/wn3hb/oM2/wCv+FH/AAn3hb/oM2/6/wCFdn/wjeif9Aix/wDAdP8ACj/hG9E/6BFj/wCA6f4Uf2bT7sPrEuxxn/CfeFv+gzb/AK/4Uf8ACfeFv+gzb/r/AIV2f/CN6J/0CLH/AMB0/wAKP+Eb0T/oEWP/AIDp/hR/ZtPuw+sS7Hmni7xp4dvfCGp21pqsEs0sBVEXOWP5VPo3jjw3BodjDNq0CSRwIrKc8ED6V6IfDWhnro9if+3df8KB4b0Mf8wex/8AAdP8K78NSWGi4xOeq/au7OJ/4T3wx/0Gbf8AX/Cj/hPfDH/QZt/1/wAK7f8A4RvQ/wDoEWP/AIDp/hSf8I3on/QIsf8AwHT/AArq9qzH2aOJ/wCE98Mf9Bm3/X/Cj/hPfDH/AEGbf9f8K7b/AIRvRP8AoEWP/gOn+FH/AAjeif8AQIsf/AdP8KPasPZo4n/hPfDH/QZt/wBf8KP+E98Mf9Bm3/X/AArtv+Eb0T/oEWP/AIDp/hR/wjeif9Aix/8AAdP8KPasPZo4n/hPfDH/AEGbf9f8KP8AhPfDH/QZt/1/wrtv+Eb0T/oEWP8A4Dp/hR/wjeif9Aix/wDAdP8ACj2rD2aPJPHnivRNV8Px22najFcTG6iYImc4DV7ZH/q1+grO/wCEb0TIP9kWOQcj/R0/wrTqJS5ncuKsrBRRRUjCiiigAooooAKKKKACiiigAooooAKKKKACiiigAooooAKKKKACiiigAooooAKKKKACiiigApryCKJ5H+6qlj9BTqgvf+PC4/65N/KgDi/+FyeFCTtkvGwSMrasRR/wuLwt/evf/AR6xPhooPgqLIB/fy9R/tmut2r/AHR+VaqldXuZOpZ2M3/hcXhb+9e/+Aj0f8Li8Lf3r3/wEetLaPQflRtHoPyp+x8xe18jN/4XF4W/vXv/AICPR/wuLwt/evf/AAEetLaPQflRtHoPyo9j5h7XyM3/AIXF4W/vXv8A4CPR/wALi8Lf3r3/AMBHrS2j0H5UbR6D8qPY+Ye18jM/4XD4W/vX3/gI9DfGPwqqks96AOpNo/FaeB6D8qxvF6j/AIQzVuB/x6ydvaj2XmHtCZfjF4VZQyyXpB6EWj80v/C4fC3969/8BHqt4OVf+EM0n5R/x6p29q29i/3R+VHsvMPamb/wuHwt/evf/AR6P+Fw+Fv717/4CPWlsX+6Pyo2L/dH5U/Y+Ye18jN/4XD4W/vXv/gI9H/C4fC3969/8BHrS2L/AHR+VGxf7o/Kj2PmHtfIzf8AhcPhb+9e/wDgI9H/AAuHwt/evf8AwEetLYv90flRsX+6Pyo9j5h7XyM3/hcPhb+9e/8AgI9Nf4yeFI13PJeKPU2rCtTYv90flXLfEhV/4QS9O0cPF2/6aLSdKy3Gql2a/wDwuHwsej3v/gI9H/C4fC3969/8BHq5aIv2GD5R/q17e1TbF/uj8qPY+Yva+Rm/8Lh8Lf3r3/wEej/hcPhb+9e/+Aj1pbF/uj8qNi/3R+VP2PmHtfIzf+Fw+Fv717/4CPR/wuHwt/evf/AR60ti/wB0flRsX+6Pyo9j5h7XyM3/AIXD4W/vXv8A4CPR/wALh8Lf3r3/AMBHrS2L/dH5UbF/uj8qPY+Ye18jN/4XD4W/vXv/AICPTW+MnhRMb5bxcnAzasMmtTYv90flXHePVAuPDuAP+QrF296TpWW41Uub/wDwuHwt/fvf/AR6P+Fw+Fv717/4CPWlsX+6Pyo2L/dH5Uex8xe18jN/4XD4W/vXv/gI9H/C4fC3969/8BHrS2L/AHR+VGxf7o/Kn7HzD2vkZv8AwuHwt/evf/AR6P8AhcPhb+9e/wDgI9aWxf7o/KjYv90flR7HzD2vkZv/AAuHwt/evf8AwEej/hcPhb+9e/8AgI9aWxf7o/KjYv8AdH5Uex8w9r5Gb/wuHwt/evf/AAEemn4yeE1cI0t4GboDatk1qbF/uj8q43xEq/8ACyvDAwPuzdval7K3UaqXOh/4XB4W/vXv/gI/+FH/AAuDwt/evf8AwEf/AArR2r/dH5UbV/uj8qfsfMXtfIzv+FweFv717/4CP/hR/wALg8Lf3r3/AMBH/wAK0dq/3R+VG1f7o/Kj2PmHtfIzv+FweFv717/4CP8A4Uf8Lg8Lf3r3/wABH/wrR2r/AHR+VG1f7o/Kj2PmHtfIzv8AhcHhb+9e/wDgI/8AhR/wuDwt/evf/AR/8K0dq/3R+VG1f7o/Kj2PmHtfIzv+FweFv717/wCAj/4Uz/hcnhPzNglvN+M7fsrZxWptX+6PyrjY1H/C5JBgY/swdv8AaNJ0rdR+0Og/4XB4W/vXv/gI9H/C4fC3969/8BHrTKr6D8qTaPQflR7HzF7XyM3/AIXD4W/vXv8A4CPR/wALh8Lf3r3/AMBHrS2j0H5UbR6D8qfsfMPa+Rm/8Lh8Lf3r3/wEej/hcPhb+9e/+Aj1pbR6D8qNo9B+VHsfMPa+Rm/8Lh8Lf3r3/wABHo/4XD4W/vXv/gI9aW0eg/KjaPQflR7HzD2vkZv/AAuHwt/evf8AwEemj4yeFGYgS3hK9QLVuK1Nq/3R+Vch4WVT428U5A4mixx/s0vZa2uP2hu/8Lh8Lf373/wEej/hcHhf+9e/+Aj1pbF/ur+VJsX+6v5Uex8xe08jO/4XB4X/AL17/wCAj0f8Lg8L/wB69/8AAR60di/3V/KjYv8AdX8qfsfMPa+Rnf8AC4PC/wDevf8AwEej/hcHhf8AvXv/AICPWjsX+6v5UbF/ur+VHsfMPa+Rnf8AC4PC/wDevf8AwEej/hcHhf8AvXv/AICPWjsX+6v5UbF/ur+VHsfMPa+Rnf8AC4PC3969/wDAR6anxk8KSZ8uW8bBwdtqxxWnsX+6v5VyPw2VTp+r5AP/ABM5eo+lceLqfVoc25vRXtXY3f8AhcHhb+9ff+Aj0f8AC4PC396+/wDAR61di/3V/KjYv91fyry/7T/unV9W8zK/4XB4W/vX3/gI9H/C4PC396+/8BHrV2L/AHV/KjYv91fyo/tP+6H1bzMr/hcHhb+9ff8AgI9H/C4PC396+/8AAR61di/3V/KjYv8AdX8qP7T/ALofVvMyv+FweFv719/4CPR/wuDwv/evv/AR61di/wB1fyo2L/dX8qP7T/uh9W8zKPxh8LAElr4AdSbR6anxj8KSLuSW8YdiLVjV3VEX+xr35V/495O3+ya5z4bKv/CBafwOjdv9o16GDrfWU3a1jnrx9lY2P+Fw+Fv797/4CPR/wuHwt/fvf/AR60ti/wB0flRtX+6Pyrv9j5nN7Uzf+Fw+Fv797/4CPR/wuHwt/fvf/AR60tq/3R+VG1f7o/Kn7HzD2pm/8Lh8Lf373/wEej/hcPhb+/e/+Aj1pbV/uj8qNq/3R+VHsfMPamb/AMLh8Lf373/wEej/AIXD4W/v3v8A4CPWltX+6Pyo2r/dH5Uex8w9qZjfGPwoilmkvAB1JtX4oHxi8KkAh70g9CLR6qeN1X/hB9W+Uf8AHs3ar2gov/CO6d8o/wCPaPt/sil7LW1x+00uM/4XD4W/vX3/AICPR/wuHwt/evv/AAEetLYv91fyo2L/AHV/Kn7HzF7XyM3/AIXD4W/vX3/gI9H/AAuHwt/evv8AwEetLYv91fyo2L/dX8qPY+Ye18jN/wCFw+Fv719/4CPR/wALh8Lf3r7/AMBHrS2L/dX8qNi/3V/Kj2PmHtfIzf8AhcPhb+9ff+Aj0f8AC4fC396+/wDAR60ti/3V/KjYv91fyo9j5h7XyM4fGHwruUNJeLuYKC1qwGTXdKdygjoRmvJ/iYoHhNMAD/TIeg/2q9Xj/wBWv+6KylHldjSMuZXHUUUVJQUUUUAFFFFABRRRQAUUUUAFFFFABRRRQAUUUUAFFFFABRRRQAUUUUAFFFFABRRRQAUUUUAFQXv/AB4XH/XJv5VPUF7/AMeFx/1yb+VAHmPwz/5EqL/rvL/6Ga601yXwz/5EqL/rvL/6Ga6012R+E5JbsKKKKokKKKKACiiigArG8X/8iZq3/XrJ/Ktmsbxf/wAiZq3/AF6yfypPYa3E8Hf8iXpP/Xqn8q2qxfB//ImaT/16p/KtqhbA9wooopiCiiigAooooAK5b4kf8iHe/wC/F/6MWuprlviR/wAiHe/78X/oxamWxUdzo7P/AI8YP+ua/wAqmqGz/wCPGD/rmv8AKpqYgooopiCiiigAooooAK4/x9/x8eHf+wrF/Ouwrj/Hv/Hx4d/7CsX86mWxUdzsKKDRVEhRRRQAUUUUAFFFFABXG+Iv+SleGP8Adm/lXZVxviL/AJKV4Y/3Zv5VLKidlRRRVEhRRRQAUUUUAFFFFABXGx/8llk/7Bg/9CNdlXGx/wDJZZP+wYP/AEI1L6FI7M0lKaSqJCiiigAooooAKKKKACuQ8K/8jt4q/wCu0X/oNdfXIeFf+R28Vf8AXaL/ANBqX8SLWx1/eijvRVEsKKKKBBRRRQAUUUUAFch8Nf8AkHax/wBhSb+ldfXIfDX/AJB2sf8AYUm/pXkZt/BXqd+C+NnZUUUV8ueqFFFFABRRRQAUUUUAVdV/5A17/wBe8n/oJrnPht/yIOn/AEb/ANCNdHqv/IGvf+veT/0E1znw2/5EHT/o3/oRr6HJ9pHm47odVRRRXvHmhRRRQAUUUUAFFFFAGF43/wCRG1b/AK9mq7oP/Iu6d/17R/8AoIql43/5EbVv+vZqu6D/AMi7p3/XtH/6CKn7RfQ0KKKKogKKKKACiiigAooooA5D4mf8inH/ANfkP/oVeqp/q1+gryr4mf8AIpx/9fkP/oVeqp/q1+grmqfEdNP4R1FFFZGgUUUUAFFFFAHlnjrxv4h0fxoNJ0WSLY6R7EaIElm9zTf7R+K//PjH/wB8Rf41gfE2SeP4oRPZLvuFWExLjOW7D862x4k+J3/QGX/vwP8AGvW9mlCLjFbdSjp7nWfEOmfDS51LVFSHVoVJIKKQPmAHA46Vxmj+LviLr9q1zpMUVxEjbGYRRjB9Oa7TxnJcy/Cq7kvk2XL20ZlXGMNlcj864n4a+NtG8NaDPa6rNIkr3BcBYy3GAP6VlSjek5KCbuCNXRvidqtlrkek+MrFbd3YL5oXYVz0JHQj3FaPxO8X6r4Xew/smWNBOG374w2cYx1rhvFGp/8ACwvHFomhW8jKirGGZcEjdksfQVt/G1dn9jqTnajjP5VoqUPawut1qgJI9f8Aih9lS8WwjlgKiQYhQ7l69Ac10ngX4hr4ouJLDULcWuoRru2rna4HXGehHpVPT/ip4bstBtonlneWGBVKLEeSBjFcv8NrS61jx9da9FbtFaKZHJPQFuij1rOVNSpyc48ttgOr8cfEr+wL46Xo0C3V/wABi2SsZPQYHU+1c4+ufFC3t/7QltnMAG4oYEPH+6Pmqj8Poo9R+K13LqgDTq00qB/7+7+gJr3HApVHDDtQUU+9xHFeBviFD4rLWl1EttqEa7igPyuPUf4VgeOfHHiLR/Gn9k6NJFsdY9iNEpJZvc+9YUsaaf8AHJI9NGxDdAFU6DI+YUnxGuI7P4s29zMSI4TA7kDsDk1rGjD2ui0avYDXufFHxK0WE3uqabG9rHy+YlIA9SVORXb+C/GFv4v0tp0j8m4hIWaLOcE9CPauc174reHp9Bu4LFpbieaJo1QxkDJGMkmq3wW0i6tbO/1C4jaOK5KrFuGN2M5P05rKpBOi5yjysD0fUmuU0u5bT13XQiYwg93xx1968sutb+KFlayXN1bQxQxKWd2SLCj869drzj4rWniLU47ax0W1lmsypefyh1OeAaxwzTlyyS+YIrfDnxj4m8Ta5IuoGOSwijJkdIQoD9hmvT68s+GPiy3gkXwvd6etjcrna4z+8YdQwPQ16nU4lWqNWsDCiiiucQUUUUAFQXv/AB4XH/XJv5VPUF7/AMeFx/1yb+VAHmPwz/5EqL/rvL/6Ga601yXwz/5EqL/rvN/6Ga62uyPwnJLdhRRRVEhRRRQAUUUUAFY3i/8A5EzVv+vWT+VbNY3i/wD5EzVv+vWT+VJ7DW4ng/8A5EzSf+vVP5VtVi+D/wDkTNJ/69U/lW1Qtge4UUUUxBRRRQAUUUUAFct8SP8AkQ73/fi/9GLXU1y3xI/5EO9/34v/AEYtTLYqO50dn/x4wf8AXNf5VNUNn/x4wf8AXNf5VNTEFFFFMQUUUUAFFFFABXH+Pf8Aj48O/wDYVi/nXYVx/j3/AI+PDv8A2FYv51Mtio7nYGig0UyQooopgFFFFABRRRQAVxviL/kpXhj/AHZv5V2Vcb4i/wCSleGP92b+VSyonZUUUVRIUUUUAFFFFABRRRQAVxsf/JZZP+wYP/QjXZVxsf8AyWWT/sGD/wBCNS+hSOzNJSmkqiQooooAKKKKACiiigArkPCv/I7eKv8ArtF/6DXX1yHhX/kdvFX/AF2i/wDQal/Ei1sdf3oooqhMKKKKBBRRRQAUUUUAFch8Nf8AkHax/wBhSb+ldfXIfDX/AJB2sf8AYUm/pXkZt/BXqd2C+NnZUUUuK+XPVEopcUYoASilxRigBKKXFFAFTVf+QNe/9e8n/oJrnPht/wAiDp/0b/0I10eq/wDIGvf+veT/ANBNc58Nv+RB0/6N/wChGvocn2kebjuh1VFFFe8eaFFFFABRRRQAUUUUAYXjf/kRtW/69mq7oP8AyLunf9e0f/oIql43/wCRG1f/AK9mq7oP/Iu6d/17R/8AoIqftF9DQoooqiAooooAKKKKACiiigDkPiZ/yKcf/X5D/wChV6qn+rX6CvKviZ/yKcf/AF+Q/wDoVeqp/q1+grmqfEdNP4R1FFFZGgUUUUAFFFFAHivxHtNRT4kR6hZWE9wsKwupWMlSV5xkVo/8LO8U/wDQsH/v29es0V1/WIuKUo3sO5wGpalqPiT4T6jPd6e9vdONogVDkgMOcHmsn4Z+DtPvvDty2v6QrT+eVVp4iGC7R0zXq1HFR7dqDhHTW4XPGdMsdS+HfxAkjhtJ7nS7nALpGWwhPB47ir/xlsbu/fSmsrWa4ADk+XGWxnHWvVu9BqliX7RVLahc4K4+HGj6p4Nijt7CG01BrdWWZUw2/Hf8etUPhdqOpacZfDusWM8SxMxglMZ257rn9RXplFT7aUoOEtQueS+M/BGraV4kPiXwmjOxk8144/vI3cgdwfSqr/E7xfNB9lh0XbdEbfMWFyc/SvZKTaM5wM/SrWJTSU4p2A8y+HvgO/t9WbxD4lDC7YloonOWBPVm9/asfx7o91f/ABUt2+wzT2rGBXYRkqRkZBNezUUliZqbm+qsFzzfx38N9Pn0E3Hh2wjt7u3y/lwrjzV7j61sfDnW7zUtBWz1S1mgurNQmZIyodexFdhQOKiVZyp8ktRFHXJ7220S6l0q3NzeLGfKjBAy3415nD8UPE1jGYNU8Ou9wvG4IyZP0xXrdNIB6gH8KVOpCKtKNwPIfBPh3Wdb8bt4o1m1a0iVzKAy7d7YwAB1x716/R2xRSq1XUldjCiiishBRRRQAVFdI0lnMiDLNGwA98VLRQB4z4f0zx/4e0oafbeHbWaNJHZXkuQCdzE+tan2j4i/9CxZf+BX/wBevUsUVfPIjkieW/aPiL/0LFl/4Ff/AF6PtHxF/wChYsv/AAK/+vXqVFHPLuHs4nlv2j4i/wDQsWX/AIFf/Xo+0fEX/oWLL/wK/wDr16lRRzy7h7OJ5b9o+Iv/AELFl/4Ff/Xo+0fEX/oWLL/wK/8Ar16lRRzy7h7OJ5b9o+Iv/QsWX/gV/wDXqpqkHxD1TSbqxk8NWaJcRNGWW6GRkY9a9doo55dw5InkOlQfEPStJtbGPw1aOlvGIwzXIycfjVv7T8Rf+hXsv/Ar/wCvXqdFHPIOSJ5Z9p+Iv/Qr2X/gV/8AXo+0/EX/AKFey/8AAr/69ep0Uc8g9nE8s+0/EX/oV7L/AMCv/r0fafiL/wBCvZf+BX/169Too55B7OJ5Z9p+Iv8A0K9l/wCBX/16PtPxF/6Fey/8Cv8A69ep0Uc8g9nE8s+0/EX/AKFey/8AAr/69ZviDT/iFr+iTadN4ctYklKkulyCRhgfX2r2WilzSYKEUeVRSfEWKFIx4YsyEUKD9qHYfWn/AGj4jf8AQrWX/gWP8a9Sop88u4ezieW/aPiN/wBCtZf+BY/xo+0fEb/oVrL/AMCx/jXqVFHPLuHs4nlv2j4jf9CtZf8AgWP8aPtHxG/6Fay/8Cx/jXqVFHPLuHs4nlv2j4jf9CtZf+BY/wAaPtHxG/6Fay/8Cx/jXqVFHPLuHs4nlv2j4jf9CtZf+BY/xrJ1zSviDrUlg0vhy1jNlcrcLsuQdxU9Dz0r2iilzyBQijyz7T8Rv+hXsv8AwKH+NH2n4j/9CvZf+BQ/xr1Oinzy7hyRPLPtPxH/AOhXsv8AwKH+NH2n4j/9CvZf+BQ/xr1Oijnl3D2cTyz7T8R/+hXsv/Aof40fafiP/wBCvZf+BQ/xr1Oijnl3D2cTyz7T8R/+hXsv/Aof40fafiP/ANCvZf8AgUP8a9Too55dw9nE8s+0/Ef/AKFey/8AAof41k3+lfEG+8Qabqr+HLVZLEOFRbkYbcMc817TRS55ByRR5Z9p+I3/AEK1l/4Fj/Gj7T8Rv+hWsv8AwKH+Nep0U+eXcPZxPLPtPxG/6Fay/wDAof40fafiN/0K1l/4FD/GvU6KOeXcPZxPLPtPxG/6Fay/8Ch/jR9p+I3/AEK1l/4FD/GvU6KOeXcPZxPLPtPxG/6Fay/8Ch/jR9p+I3/QrWX/AIFD/GvU6KOeXcPZxPLPtPxG/wChWsv/AAKH+NZI0r4gjxa2uDw5a+abYW5j+0jbjOc5zXtNFHPIOSKPLftPxH/6Fay/8Ch/jR9p+I//AEK1l/4FD/GvUqKOeXcOSJ5b9p+I/wD0K1l/4FD/ABo+0/Ef/oVrL/wKH+NepUUc8u4ezieW/afiP/0K1l/4FD/Gj7T8R/8AoVrL/wACh/jXqVFHPLuHs4nlv2n4j/8AQrWX/gUP8aPtPxH/AOhXsv8AwKH+NepUUc8u4ckTy37T8Rv+hXsv/Asf41labpnxB07WNSv4/Dlq76g6s6tcjC4GOOa9noo55D5Inlv2j4j/APQr2X/gUP8AGj7R8R/+hXsv/Ar/AOvXqVFHPLuHJE8t+0fEf/oV7L/wK/8Ar0faPiP/ANCvZf8AgV/9evUqKXPLuLkieW/aPiP/ANCvZf8AgV/9ej7R8R/+hXsv/Ar/AOvXqVFHPLuHJE8t+0fEf/oV7L/wK/8Ar0faPiP/ANCvZf8AgV/9evUqKOeXcOSJ5Z9o+I3/AEK9l/4FD/Gsvw9pfxB0CC6ih8O2soublrgl7kDBbHHX2r2eis6sVWjyz1NIe47xPL/tfxG/6Fey/wDAv/69H2v4jf8AQr2X/gX/APXr1CiuX6lQ/lNfbT7nl/2v4jf9CvZf+Bf/ANej7X8Rv+hXsv8AwL/+vXqFFH1Kh/KHtp9zy/7X8Rv+hXsv/Av/AOvR9r+I3/Qr2X/gX/8AXr1Cij6lQ/lD20+55f8Aa/iN/wBCvZf+Bf8A9ej7X8Rv+hXsv/Asf416hRT+pUP5Re2n3PKrmT4i3NpNA3hizAljZCRdDjIx61Q8Paf8QtA0ODTofDlrKkIIDvdAE5OfWvZKK3pU40b+z0uZzbn8R5d9o+I3/Qr2X/gWP8aT7R8Rv+hXsv8AwLH+NepUVvzy7mfJE8t+0fEb/oV7L/wLH+NH2j4jf9CvZf8AgWP8a9Soo55dw5Inlv2j4jf9CvZf+BY/xo+0fEb/AKFey/8AAsf416lRRzy7hyRPLftHxG/6Fey/8Cx/jR9o+I3/AEK9l/4Fj/GvUqKOeXcOSJ5BrNt8Q9X0W60+Xw1aIlxGULLdAkZ/GpbIfESysILVPDNmywxqgJuhk4GPWvWqKOeQ+SJ5Z9o+I3/Qr2X/AIFD/Gj7R8Rv+hXsv/Aof416nRRzy7i5Inln2j4jf9CvZf8AgUP8aPtHxG/6Fey/8Ch/jXqdFHPLuHJE8s+0fEb/AKFey/8AAof40faPiN/0K9l/4FD/ABr1Oijnl3DkieWfaPiN/wBCvZf+BQ/xo+0fEb/oV7L/AMCh/jXqdFHPLuHJE8Z17S/H/iGwjsrrw7bQxCZJC8dyCflOfWvZEyI1z1wM06ipbb3KSS2CiiikMKKKKACiiigAooooAKKKKACiiigAooooAKKKKACiiigAooooAKKKKACiiigAooooAKKKKACiiigAooooAKKKKACiiigAooooAKKKKACiiigAooooAKKKKACiiigAooooAKKKKACiiigAooooAKKKKACiiigAooooAKKKKACiiigAooooAKKKKACiiigAooooAKKKKACiiigAooooAKKKKACiiigAooooAKKKKACiiigAooooAKKKKACiiigAooooAKKKKACiiigAooooAKKKKACiiigAooooAKKKKACiiigAooooAKKKKACiiigAooooAKKKKACiiigAooooAKKKKACiiigAooooAKKKKACiiigAooooAKKKKACiiuNtfiRp114ybQEtpg28xrOSMFh2x/WrjCUruK2A7KiuN0v4kabqni2TQ47eZGVmRJj0dlznjt0NGh/EfT9c8Uy6LDbTRspYRzMRhyvXjtVOjUV7rYDsqKKKyAKKKKACiiigAooooAKKKKACiiigAooooAKKKKACiiigAooooAKKKKACiiigAooooAKKKKACiiigAooooAKKKKACiiigAooooAKKKKACiiigAooooAKKKKACiiigAooooAKKKKACiiigAooooAKKKKACiiigAooooA5jWfH+i6Fr0Wk3rS+fJt3MiZVM9MmjUPiBomm+JItFuJJDcSFVLqmUQt0BP4ipNX8C6Jretw6rfQyG4jx918K+OmRSX/gPQ9R8QxazcwP9qjKthXwrFehI/Cuhex632/EBl74/0Ww8Tpoc7y/aGYIXCfIrHoCa6eucvPAmiX3iRNbuIXN0pDEBvkZh0JFdHWc+TTk+YBRRRWYBRRRQAUUUUAFFFFABRRRQAUUUUAFFFFABRRRQAUUUUAFFFFABRRRQAUUUUAFFFFABRRRQAUUUUAFFFFABRRRQAUUUUAFFFFABRRRQAUUUUAFFFFABRRRQAUUUUAFFFFABRRRQAUUUUAFFFFABRRRQAUUUUAFY0XhPRYNebWYrFFvmyTJk9T1OOmfetmimpNbMDHtfCeiWWuS6vbWKJey53SAnqepA6AmksfCeiabq82p2VikV3Nnc4J4z1wOg/Ctmim5zfUAoooqQCiiigAooooAKKKKACiiigAooooAKKKKACiiigAooooAKKKKACiiigAooooAKKKKACiiigAooooAKKKKACiiigAoopM0ALRSZozQAtFJmjNAC0UmaM0ALRSZozQAtFFFABRRRQAUUUUAFFFFABRRRQAUUZooAKKKKACiiigAooooAKKKKACiiigAooooAKKKKACiiigAooooAKKKKACiiigAooooAKKKKACiiigAooooAKKKKACiiigAooooAKKKKACiiigAooooAKKKKACiiigAooooAKKKKACiiigAooooAKKKKACiiigAooooAKKKKACiiigAooooAKKKKACiiigAooooAKKKKACiiigAooooAKKKKACiiigAooooAKKKKACobwlbCcqcERsQR24qaoL7/AJB9x/1yb+VAHi/hHw5ceIvD66jd+ItYileWRSsVzhRhiO4Nbn/CAn/oZ9d/8CR/hR8Mf+RHi/6+Jv8A0M119fOVcVWVRpSPRjTg4p2OQ/4QE/8AQz67/wCBI/wo/wCEBP8A0M+u/wDgSP8ACuvorL63X/mK9lDsch/wgJ/6GfXf/Akf4Uf8ICf+hn13/wACR/hXX0UfW6/8weyh2OQ/4QE/9DPrv/gSP8KP+EBP/Qz67/4Ej/Cuvoo+t1/5g9lDsch/wgJ/6GfXf/Akf4VQ17wfLpnh++voPEuttJbwNIoe54JAzzxXfVjeL/8AkS9X/wCvST/0GtKWKrOaTkTKlBRehy+geEZ9U0Cyvp/EutJJcQrIwW54BI7cVo/8IE3/AEM+uf8AgUP8K0/B3/Il6T/16p/KtqvrlCNtjxXKXc5L/hAm/wChn1z/AMCh/hR/wgTf9DPrn/gUP8K62inyR7C55dzkv+ECb/oZ9c/8Ch/hR/wgTf8AQz65/wCBQ/wrraKOSPYOeXc5L/hAm/6GfXP/AAKH+FH/AAgTf9DPrn/gUP8ACutoo5I9g55dzkv+ECb/AKGfXP8AwKH+FYvi3w1caD4bn1C18SazJLGyALJc5BywB6D3r0euT+JbY8C3XvJEP/HxScI22HGUr7kMHgZ5baN28Ta4CyBiBcjuPpUn/CBH/oZ9d/8AAof4V09p/wAeUH/XNf5VNT5I9hc8u5yX/CBH/oZ9d/8AAof4Uf8ACBH/AKGfXf8AwKH+FdbRRyR7Bzy7nJf8IEf+hn13/wACh/hR/wAIEf8AoZ9d/wDAof4V1tFHJHsHPLucl/wgR/6GfXf/AAKH+FH/AAgR/wChn13/AMCh/hXW0Uckewc8u5yX/CBH/oZ9d/8AAof4VgeJ/D11os2lLbeI9YcXl6lu/mXOcKT1GB1r0yuO8ff6/wAO/wDYVi/nScI22GpSuSf8IGf+hn1z/wACh/hR/wAIGf8AoZ9d/wDAof4V1tFPkj2Fzy7nJf8ACBn/AKGfXf8AwKH+FH/CBn/oZ9d/8Ch/hXW0Uckewc8u5yX/AAgZ/wChn13/AMCh/hR/wgZ/6GfXf/Aof4V1tFHJHsHPLucl/wAIGf8AoZ9d/wDAof4Uf8IGf+hn13/wKH+FdbRRyR7Bzy7nJf8ACBn/AKGfXf8AwKH+Fc/q2gXVj4u0fSovEWsNDfCQyM1z8w2jIxxXptcb4h/5KZ4Y/wB2f/0Gk4R7DUpEv/CBn/oZtd/8Ch/8TR/wgZ/6GfXf/Aof4V1tFPkj2Fzy7nJf8IG3/Qz67/4FD/Cj/hA2/wChn13/AMCh/hXW0Uckewc8u5yX/CBt/wBDPrv/AIFD/Cj/AIQNv+hn13/wKH+FdbRRyR7Bzy7nJf8ACBt/0M+u/wDgUP8ACj/hAz/0M+u/+BQ/wrraKOSPYOeXc5L/AIQM/wDQz67/AOBQ/wAKwF0G6Pj19C/4SLWPs62YnD/afn3ZxjpjFemVxif8lll/7BY/9CNJwj2GpS7kv/CBt/0M+uf+BQ/wo/4QNv8AoZ9c/wDAof4V11FPkj2Fzy7nI/8ACBt/0M+uf+BQ/wAKP+EDb/oZ9c/8Ch/hXXUUckewc8u5yP8Awgbf9DPrn/gUP8KP+EDb/oZ9c/8AAof4V11FHJHsHPLucj/wgbf9DPrn/gUP8KP+EDb/AKGfXP8AwKH+FddRRyR7Bzy7nJf8IG3/AEM+uf8AgUP8KwtG8O3Oo+ItZsZ/EWsLHYSIsbLc8tuGTnivSq5Hwt/yOvin/rtF/wCgmlyRvsUpSsL/AMIGf+hm13/wKH+FH/CBn/oZtd/8Ch/hXW0U+SPYnnl3OS/4QM/9DNrv/gUP8KP+EDP/AEM2u/8AgUP8K62ijkj2Dnl3OS/4QM/9DNrv/gUP8KP+EDP/AEM2u/8AgUP8K62ijkj2Dnl3OS/4QM/9DNrv/gUP8KP+EDP/AEM2u/8AgUP8K62ijkj2Dnl3OS/4QM/9DNrv/gUP8K57wloF1rttfyXXiLWENvePAvl3OMhcYJyOtenHpXGfDcf6BrH/AGFJf6VLhG+xSlK25L/wgbf9DNrv/gUP8KX/AIQNv+hm13/wKH+FdbRVckexPPLucl/wgbf9DNrv/gUP8KP+EDb/AKGbXf8AwKH+FdbRRyR7Bzy7nJf8IG3/AEM2u/8AgUP8KP8AhA2/6GbXf/Aof4V1tFHJHsHPLucl/wAIG3/Qza7/AOBQ/wAKP+EDb/oZtd/8Ch/hXW0Uckewc8u5xd74Je30+4mTxLrhaOJnANyMEgE+lZnhHw1c6/4ZtdRuvEesxyzA5WO5wowcdxXe6p/yB73/AK95P/QTWB8Nf+RB0/6N/wChGlyRvsPmlYj/AOECb/oZ9d/8Ch/hR/wgTf8AQz67/wCBQ/wrraKfJHsLnl3OS/4QJv8AoZ9d/wDAof4Uf8IE3/Qz67/4FD/Cutoo5I9g55dzkv8AhAm/6GfXf/Aof4Uf8IE3/Qz67/4FD/Cutoo5I9g55dzkv+ECb/oZ9d/8Ch/hR/wgTf8AQz67/wCBQ/wrraKOSPYOeXc4DxF4Tn0jw5fahb+JNaeS3iLqr3OQT78VY0zwZJe6Va3UniTW1eaJXYLcjAJGfStrxv8A8iNq/wD17NV3QP8AkXNP/wCvaP8A9BFLkjfYrmlbcwf+ECP/AEM2uf8AgUP8KP8AhAj/ANDNrn/gUP8ACuuop8kexPPLucj/AMIEf+hm1z/wKH+FH/CBH/oZtc/8Ch/hXXUUckewc8u5yP8AwgR/6GbXP/Aof4Uf8IEf+hm1z/wKH+FddRRyR7Bzy7nI/wDCBH/oZtc/8Ch/hS/8IEf+hm1z/wACh/hXW0Uckewc8u55r4t0C58O6THfWniHV5X+0RptluMqQTz0Fe4R/wCrX/dFeVfEz/kVY/8Ar8h/9Cr1VP8AVr9BXPNJPQ3g21qOoooqCwooooAKKKKACiiigAooooAKKKKACiiigAooooAKKKKACiiigAooooAKKKKACiiigAooooAKgvv+Qdcf9cm/lU9QX3/IOuP+uTfyoA8z+GP/ACI8P/XxN/6Ga66uR+GP/Ijw/wDXxN/6Ga66vk638SXqepD4UFFFFZFhRRRQAUUUUAFY/i//AJEvV/8Ar0k/9BrYrH8X/wDIl6v/ANekn/oNa0f4kfUmfwsj8H/8iXpP/Xqn8q2axvB//Il6T/16p/KtmvuVsfPsKKKKZIUUUUAFFFFABXJfEz/kRrn/AK6xf+hiutrkviZ/yI1z/wBdYv8A0MVMtio7nT2n/HlB/wBc1/lU1Q2n/HlB/wBc1/lU1UIKKKKBBRRRQAUUUUAFcd4+/wBf4d/7CsX867GuO8ff6/w7/wBhWL+dTLYqO52NFFFUIKKKKBBRRRQAUUUUAFcb4h/5KZ4Y/wB2f/0GuyrjfEP/ACUzwx/uz/8AoNTIuJ2VFFFUQFFFFABRRRQAUUUUAFcYn/JZZf8AsFj/ANCNdnXGJ/yWWX/sFj/0I1LKXU7OiiiqJCiiigAooooAKKKKACuR8Lf8jr4p/wCu0X/oJrrq5Hwt/wAjr4p/67Rf+gmp6lrY66iiiqICiiigAooooAKKKKAA9K434b/8eGsf9hSb+ldkelcb8N/+PDWP+wpN/Spe6LWzOyoooqiAooooAKKKKACiiigCrqn/ACB73/r3k/8AQTWB8Nv+RB0/6N/6Ea39U/5A97/17yf+gmsD4bf8iDp/0b/0I1PUrodTRRRVEhRRRQAUUUUAFFFFAGF43/5EbV/+vZqu6B/yLmn/APXtH/6CKpeN/wDkRtX/AOvZqu6B/wAi5p//AF7R/wDoIqepf2TQoooqiAooooAKKKKACiiigDkPiZ/yKsf/AF+Q/wDoVeqp/q1+gryr4mf8irH/ANfkP/oVeqp/q1+grlqfEdNP4R1FFFZmgUUUUAFFFFAHF/FHVr7RvCa3GmXMltMZ1Uuh5xzxXF6JafEbXtJi1Gx1xvIlzt3zYPBx6V1Pxj/5ElP+vlP5GuO8K2XxAm8O27+H7lUsDny1LqMc89fevTopewTVr36j0O78F6X4v0/Up38U6iLu3aLEaiTdhs9eg7Vwdzrni7VfHt7o2j6xNEftEixIz4VQueOntXpPgm38TQWtyPFswllLgwkMDgY56V5LHrkPhz4sXupXUckscVzMCseMnORRRXNKbsm7fIDf1G5+I/g6Eajf3ovLUEB8sJFH14BH1rsV8WtrnwzvdZsS1tcxwOGCnmNwO1cT4u+J0PibRW0jSNPnD3LBWaQgnr0AHet7S9AufD/wc1OG+XZcTQySvGf4MjgUThpFzilK/wCAHLeGrjx94rgnl0vW3CwMFfzJdvJGfStGLxp4s8F67DY+LSLq2kwdxAJ25xlWHX6Gsf4eeO7HwhZXsV7bzzGeRWUxY4wMd6XX9WvPij4ntINJsnjhgXaN3JUE8sx7dK2lBuclKK5e4z1Hxl40tvC2iR3SKJ7i5H+jx54bjO4+1ef2UPxG8YRf2jBevaW78xjzPKUj2A5x71F8W7drTWNGglJNtFbKgJ6HBwf0r2TSzCdJtfsm3yfKXZt6YxxXLpQpRlFXb7iPJNP8ceJvBmtJpvjBWnt2I+d+WA/vKw6iuu+Jmt3en+DIb/Rbx4GkmTbLEeqkE1jfG02v9j6cG2/avOJT12Y5/DOKzfEwmHwN0b7Rnfvj6+nzY/TFaKMZunUta7Ar6Ja/EbXdJi1Kw1tjBLnaHmweDjpitXwx4+1uw8UL4e8YIGkZxGJdoDKx6ZxwQfWs3wf8UdN8O+FrXTbmzuZZYd2WTGDkk9/rVTR4tQ+IHxGXWktWgs4ZVZ36hAvQZ7mrlBtS9pFJLZge415R8UPEmsaR4qsbfTNQmtoZIVLJGcAncRXq9eJfGZzH4tsXHVbYEZ/3zXJhIqVWz7Aj0Txh40tfCmkI7kS3sy/uYc8k46n2rL+H1v4l1AHWfEWo3HkS5MFoTgEHuR6egry06ldnxRp+ueLLWSe2ncOquCFZB/d9h6V9EWN1b31hDc2Tq8EiBo2XpirrQVGCilv1AnooorhEFFFFABUF9/yDrj/rk38qnqC+/wCQdc/9cm/lQB5n8Mf+RHh/6+Jv/QzXXV5/8PPEWjaf4Rjt77U7W3mWeUmOSUAjLntXUf8ACYeHP+g3Y/8Af4V8tWhP2ktOp6kGuVGxRWP/AMJh4c/6Ddj/AN/hR/wmHhz/AKDdj/3+FZck+zKuu5sUVj/8Jh4c/wCg3Y/9/hR/wmHhz/oN2P8A3+FHJPswuu5sUVj/APCYeHP+g3Y/9/hR/wAJh4c/6Ddj/wB/hRyT7MLrubFY/i//AJEvV/8Ar0k/9Bo/4TDw5/0G7H/v8KyfFPinQbnwnqkNvq9nJLJauqIsoJYkdK0owkqkdOpM2uV6ml4P/wCRL0n/AK9U/lWzXI+FfFOg23hLTIbjV7OOWO2RWRpQCpx0Nav/AAl/h3/oNWP/AH+FfbJqx4DTNmisb/hL/Dv/AEGrH/v8KP8AhL/Dv/Qasf8Av8Kd0KzNmisb/hL/AA7/ANBqx/7/AAo/4S/w7/0GrH/v8KLoLM2aKxv+Ev8ADv8A0GrH/v8ACj/hL/Dv/Qasf+/wougszZrk/iYM+Bbn2li/9DFaf/CX+Hf+g1Y/9/hXN+P/ABJot94Murez1S1nmZ4yEjlBJw4JpSehUU7nb2n/AB5Qf9c1/lU1YNr4t8PLaQq2tWQIjUEGZeOKm/4S7w7/ANBux/7/AK07omzNiisf/hLvDv8A0G7H/v8ArR/wl3h3/oN2P/f9aLoLM2KKx/8AhLvDv/Qbsf8Av+tH/CXeHf8AoN2P/f8AWi6CzNiisf8A4S7w7/0G7H/v+tH/AAl3h3/oN2P/AH/Wi6CzNiuO8ff6/wAO/wDYVi/nWz/wl3h3/oN2P/f9a5Txt4i0a7n0L7LqdrMItSjkk2Sg7FB5J9qmTViop3PQ6Kx/+Eu8O/8AQasf+/60n/CX+Hf+g3Y/9/1qromzNmisb/hL/Dv/AEG7H/v+tH/CX+Hf+g3Y/wDf9aLoLM2aKxv+Ev8ADv8A0G7H/v8ArR/wl/h3/oN2P/f9aLoLM2aKxv8AhL/Dv/Qbsf8Av+tH/CX+Hf8AoN2P/f8AWi6CzNmuN8Q/8lM8Mf7s/wD6DWz/AMJf4d/6Ddj/AN/1rlNd8RaPN8QfDt1Dqdq8ECzebIsoKpkcZNTJoqKZ6JRWN/wl/h3/AKDVl/3+FH/CX+Hf+g1Zf9/hVXRNmbNFY3/CX+Hf+g1Zf9/hR/wl/h3/AKDVl/3+FF0FmbNFY3/CX+Hf+g1Zf9/hR/wl/h3/AKDVl/3+FF0FmbNFY3/CX+Hf+g1Zf9/hR/wl/h3/AKDVl/3+FF0FmbNcYn/JZZf+wWP/AEI1tf8ACX+Hf+g1Zf8Af4VyieItHHxWkvTqdr9mOnBPO8wbd27pn1pNopJnolFY3/CX+Hf+g1Zf9/hR/wAJf4d/6DVl/wB/hTuibM2aKxv+Ev8ADv8A0GrL/v8ACj/hL/Dv/Qasv+/wo0CzNmisb/hL/Dv/AEGrL/v8KP8AhL/Dv/Qasv8Av8KNAszZorG/4S/w7/0GrL/v8KP+Ev8ADv8A0GrL/v8ACjQLM2a5Hwt/yOvin/rtF/6Ca1f+Ev8ADv8A0GrL/v8ACuX8OeI9Hg8XeJJp9TtY4p5YzE7SgBwF5we9TdXKV7HoNFY3/CXeHf8AoNWP/f8AWj/hLvDv/Qasf+/61V0TZmzRWN/wl3h3/oNWP/f9aP8AhLvDv/Qasf8Av+tF0FmbNFY3/CXeHf8AoNWP/f8AWj/hLvDv/Qasf+/60XQWZs0Vjf8ACXeHf+g1Y/8Af9aP+Eu8O/8AQasf+/60XQWZsnpXG/Df/jw1j/sKTf0rZPi7w7/0GrH/AL/rXKeAfEWj2Nlqi3mp2sBk1GV0DygblOMEe1S2rlK9meiUVjf8Jf4d/wCg1Zf9/hR/wl/h3/oNWX/f4VV0TZmzRWN/wl/h3/oNWX/f4Uf8Jf4d/wCg1Zf9/hRdBZmzRWN/wl/h3/oNWX/f4Uf8Jf4d/wCg1Zf9/hRdBZmzRWN/wl/h3/oNWX/f4Uf8Jf4d/wCg1Zf9/hRdBZl/VP8AkD3v/XvJ/wCgmuf+G3/Ig6f9G/8AQjVjUfFnh+TSrtE1mzZmgcACYcnaaxfAHiXRbHwTY295qlrBMgbdHJKARye1K6uVZ2O8orGPi/w7/wBBqx/7/Cj/AIS/w7/0GrL/AL/CndE2Zs0Vjf8ACX+Hf+g1Zf8Af4Uf8Jf4d/6DVl/3+FF0FmbNFY3/AAl/h3/oNWX/AH+FH/CX+Hf+g1Zf9/hRdBZmzRWN/wAJf4d/6DVl/wB/hR/wl/h3/oNWP/f4UXQWZH43/wCRG1f/AK9mq7oH/Iuaf/17R/8AoIrnfF/ijQ7rwdqcFtq1pLLJAVRElBLH0FW9F8V6BDoNjHLrFmjpborK0wyDtHFTdXKs7HT0Vjf8Jf4d/wCg1Zf9/hR/wl/h3/oNWX/f4VV0TZmzRWN/wl/h3/oNWX/f4Uf8Jf4d/wCg1Zf9/hRdBZmzRWN/wl/h3/oNWX/f4Uf8Jf4d/wCg1Zf9/hRdBZmzRWN/wl/h3/oNWX/f4Uf8Jf4d/wCg1Zf9/hRdBZmT8TP+RVj/AOvyH/0KvVU/1a/QV4x8QPEOj6h4djgsdStriU3cR2RyAnAb0r2eP/Vr/uiuap8R00/hHUUUVmWFFFFABRRRQBxnxQ0i+1nwottpds9zMJ1bYnXHNcVo03xI0HSotPsNGYQRZ274QTyc9c17RRXRCu4w5Gk0O5wng7U/G15rhj8Taf8AZ7LymIfywvzcYHX61z+i+EtWT4sT6hfaY/8AZ7Tyt5kigqQQcV63RQsQ1zcqSuB5x8RfAkl8INW8N2+y/gIDRwgKXGeCPcVsM2s618N7y31HT5YdTa3aIxkD94ccEfWuvope3k1FPoB5v8LPC13pen6gmvaYI3klUxidAcjHOKzrzwrrfhHx4uqeF7GS6sZjl4oscKT8yEfyr1miq+sT5pSfUDmPGHhODxnoUaSbre6jG+F2HKEjlSPSvPrL/hZHhGP+zrW1e6to+IyFEqgf7J6ge1e0UUoV5RjytXXmB45pvgTxL4u1qPUvGTtDAhGUc/Mw/uhR0Fdb8S9DvNT8HQ2GjWjTvHMm2OPHCgEV21FDxE3NS7dBHG+DfCsS+AoNO13TkSZ1dZVdBuAJPeuc8K6J4j8FeMJrWGymu9GnfDSJjAHZvqO9eq0UvbytJPZjCvKvif4Y1jWvFFjcabp8l1AkKq7JjAO4nH5V6rRU0qjpS5kBheIvC9p4j8O/2dcIsbKo8lwP9WwHGK4/4dWvifw1qEukapp07aaznZMMFY29Rz0Nem0U1WkoOD1QBRRRWIgooooAKRlDKVYZBGCD3paKAMI+CfDDEk6FYknr+5FJ/wAIP4Y/6AVj/wB+RW9RQBg/8IP4Y/6AVj/35FH/AAg/hj/oBWP/AH5Fb1FAGD/wg/hj/oBWP/fkUf8ACD+GP+gFY/8AfkVvUUAYP/CD+GP+gFY/9+RR/wAIP4Y/6AVj/wB+RW9RQBg/8IP4Y/6AVj/35FKPBHhgdNCsf+/IrdooAwv+EI8MH/mBWP8A35FH/CEeGP8AoBWP/fkVu0UAYX/CEeGP+gFY/wDfkUf8IR4Y/wCgFY/9+RW7RQBhf8IR4Y/6AVj/AN+RR/whHhj/AKAVj/35FbtFAGF/whHhj/oBWP8A35FH/CEeGP8AoBWP/fkVu0UAYX/CEeGP+gFY/wDfkUf8IR4Y/wCgFY/9+RW7RQBhf8IR4Y/6AVj/AN+RSf8ACD+F/wDoBWP/AH5Fb1FAGD/wg/hf/oBWP/fkUf8ACD+F/wDoBWP/AH5Fb1FAGD/wg/hf/oBWP/fkUf8ACD+F/wDoBWP/AH5Fb1FAGD/wg/hf/oBWP/fkUf8ACD+F/wDoBWP/AH5Fb1FAGD/wg/hf/oBWP/fkUf8ACD+F/wDoBWP/AH5Fb1FAGF/whHhj/oBWP/fkUf8ACEeGP+gFY/8AfkVu0UAYX/CEeGP+gFY/9+RR/wAIR4Y/6AVj/wB+RW7RQBhf8IR4Y/6AVj/35FH/AAhHhj/oBWP/AH5FbtFAGF/whHhj/oBWP/fkUf8ACEeGP+gFY/8AfkVu0UAYX/CEeGP+gFY/9+RR/wAIR4Y/6AVj/wB+RW7RQBg/8IP4Y/6AVj/35FH/AAg/hj/oBWP/AH5Fb1FAGD/wg/hj/oBWP/fkUf8ACD+GP+gFY/8AfkVvUUAYP/CD+GP+gFY/9+RR/wAIP4Y/6AVj/wB+RW9RQBg/8IP4Y/6AVj/35FH/AAg/hj/oBWP/AH5Fb1FAGD/whHhj/oBWP/fkUv8AwhHhj/oBWP8A35FbtFAGD/whHhj/AKAVj/35FH/CD+GP+gFY/wDfkVvUUAYP/CD+GP8AoBWP/fkUf8IP4Y/6AVj/AN+RW9RQBg/8IP4Y/wCgFY/9+RR/wg/hj/oBWP8A35Fb1FAGD/wg/hj/AKAVj/35FH/CD+GP+gFY/wDfkVvUUAYP/CEeGP8AoBWP/fkUp8E+GTjOhWPH/TEVu0UAYX/CEeGP+gFY/wDfkUf8IR4Y/wCgFY/9+RW7RQBhf8IR4Y/6AVj/AN+RR/whHhj/AKAVj/35FbtFAGF/whHhj/oBWP8A35FH/CEeGP8AoBWP/fkVu0UAYX/CEeGP+gFY/wDfkUf8IR4Y/wCgFY/9+RW7RQBhf8IR4Y/6AVj/AN+RQfBHhg9dCsf+/IrdooAwf+EH8L/9AGx/78ij/hB/C/8A0AbH/vyK3qKAMH/hB/C//QBsf+/Io/4Qfwv/ANAGx/78it6igDB/4Qfwv/0AbH/vyKP+EH8L/wDQBsf+/IreooAwf+EH8L/9AGx/78ij/hB/C/8A0AbH/vyK3qKAMH/hB/DH/QCsf+/Ipf8AhCPDH/QCsf8AvyK3aKAML/hCPDH/AEArH/vyKP8AhCPDH/QCsf8AvyK3aKAML/hCPDH/AEArH/vyKP8AhCPDH/QCsf8AvyK3aKAML/hCPDH/AEArH/vyKP8AhCPDH/QCsf8AvyK3aKAML/hCPDH/AEArH/vyKP8AhCPDH/QCsf8AvyK3aKAML/hCPDA/5gVj/wB+RR/whHhg/wDMCsf+/IrdooAwv+EI8Mf9AKx/78ij/hCPDH/QCsf+/IrdooAwv+EI8Mf9AKx/78ij/hCPDH/QCsf+/IrdooAwv+EI8Mf9AKx/78ij/hCPDH/QCsf+/IrdooAwv+EI8Mf9AKx/78ij/hCPDH/QCsf+/IrdooAwl8FeGVYMuh2II5B8kVuAYGB0paKACiiigAooooAKKKKACiiigAooooAKKKKACiiigAooooAKKKKACiiigAooooAKKKKACiiigD//2Q==)"
      ]
    },
    {
      "cell_type": "markdown",
      "metadata": {
        "id": "ANgQF_h2qz3C"
      },
      "source": [
        "![Cross Validation 4.JPG](data:image/jpeg;base64,/9j/4AAQSkZJRgABAQEAYABgAAD/4RD4RXhpZgAATU0AKgAAAAgABAE7AAIAAAAPAAAISodpAAQAAAABAAAIWpydAAEAAAAeAAAQ0uocAAcAAAgMAAAAPgAAAAAc6gAAAAgAAAAAAAAAAAAAAAAAAAAAAAAAAAAAAAAAAAAAAAAAAAAAAAAAAAAAAAAAAAAAAAAAAAAAAAAAAAAAAAAAAAAAAAAAAAAAAAAAAAAAAAAAAAAAAAAAAAAAAAAAAAAAAAAAAAAAAAAAAAAAAAAAAAAAAAAAAAAAAAAAAAAAAAAAAAAAAAAAAAAAAAAAAAAAAAAAAAAAAAAAAAAAAAAAAAAAAAAAAAAAAAAAAAAAAAAAAAAAAAAAAAAAAAAAAAAAAAAAAAAAAAAAAAAAAAAAAAAAAAAAAAAAAAAAAAAAAAAAAAAAAAAAAAAAAAAAAAAAAAAAAAAAAAAAAAAAAAAAAAAAAAAAAAAAAAAAAAAAAAAAAAAAAAAAAAAAAAAAAAAAAAAAAAAAAAAAAAAAAAAAAAAAAAAAAAAAAAAAAAAAAAAAAAAAAAAAAAAAAAAAAAAAAAAAAAAAAAAAAAAAAAAAAAAAAAAAAAAAAAAAAAAAAAAAAAAAAAAAAAAAAAAAAAAAAAAAAAAAAAAAAAAAAAAAAAAAAAAAAAAAAAAAAAAAAAAAAAAAAAAAAAAAAAAAAAAAAAAAAAAAAAAAAAAAAAAAAAAAAAAAAAAAAAAAAAAAAAAAAAAAAAAAAAAAAAAAAAAAAAAAAAAAAAAAAAAAAAAAAAAAAAAAAAAAAAAAAAAAAAAAAAAAAAAAAAAAAAAAAAAAAAAAAAAAAAAAAAAAAAAAAAAAAAAAAAAAAAAAAAAAAAAAAAAAAAAAAAAAAAAAAAAAAAAAAAAAAAAAAAAAAAAAAAAAAAAAAAAAAAAAAAAAAAAAAAAAAAAAAAAAAAAAAAAAAAAAAAAAAAAAAAAAAAAAAAAAAAAAAAAAAAAAAAAAAAAAAAAAAAAAAAAAAAAAAAAAAAAAAAAAAAAAAAAAAAAAAAAAAAAAAAAAAAAAAAAAAAAAAAAAAAAAAAAAAAAAAAAAAAAAAAAAAAAAAAAAAAAAAAAAAAAAAAAAAAAAAAAAAAAAAAAAAAAAAAAAAAAAAAAAAAAAAAAAAAAAAAAAAAAAAAAAAAAAAAAAAAAAAAAAAAAAAAAAAAAAAAAAAAAAAAAAAAAAAAAAAAAAAAAAAAAAAAAAAAAAAAAAAAAAAAAAAAAAAAAAAAAAAAAAAAAAAAAAAAAAAAAAAAAAAAAAAAAAAAAAAAAAAAAAAAAAAAAAAAAAAAAAAAAAAAAAAAAAAAAAAAAAAAAAAAAAAAAAAAAAAAAAAAAAAAAAAAAAAAAAAAAAAAAAAAAAAAAAAAAAAAAAAAAAAAAAAAAAAAAAAAAAAAAAAAAAAAAAAAAAAAAAAAAAAAAAAAAAAAAAAAAAAAAAAAAAAAAAAAAAAAAAAAAAAAAAAAAAAAAAAAAAAAAAAAAAAAAAAAAAAAAAAAAAAAAAAAAAAAAAAAAAAAAAAAAAAAAAAAAAAAAAAAAAAAAAAAAAAAAAAAAAAAAAAAAAAAAAAAAAAAAAAAAAAAAAAAAAAAAAAAAAAAAAAAAAAAAAAAAAAAAAAAAAAAAAAAAAAAAAAAAAAAAAAAAAAAAAAAAAAAAAAAAAAAAAAAAAAAAAAAAAAAAAAAAAAAAAAAAAAAAAAAAAAAAAAAAAAAAAAAAAAAAAAAAAAAAAAAAAAAAAAAAAAAAAAAAAAAAAAAAAAAAAAAAAAAAAAAAAAAAAAAAAAAAAAAAAAAAAAAAAAAAAAAAAAAAAAAAAAAAAAAAAAAAAAAAAAAAAAAAAAAAAAAAAAAAAAAAAAAAAAAAAAAAAAAAAAAAAAAAAAAAAAAAAAAAAAAAAAAAAAAAAAAAAAAAAAAAAAAAAAAAAAAAAAAAAAAAAAAAAAAAAAAAAAAAAAAAAAAAAAAAAAAAAAAAAAAAAAAAAAAAAAAAAAAAAAAAAAAAAAAAAAAAAAAAAAAAAAAAAAAAAAAAAAAAAAAAAAAAAAAAAAAAAAAAAAAAAAAAAAAAAAAAAAAAAAAAAAAAAAAAAAAAAAAAAAAAAAAAAAAAAAAAAAAAAAAAAAAAAAAAAAAAAAAAAAAAAAAAAAAAAAAAAAAAAAAAAAAAAAAAAAAAAAAAAAAAAAAAAAAAAAAAAAAAAAAAAAAAAAAAAAAAAAAAAAAAAAAAAAAAAAAAAAAAAAAAAAAAAAAAAAAAAAAAAAAAAAAAAAAAAAAAAAAAAAAAAAAAAAAAAAAAAAAAAAAAAAAAAAAAAAAAAAAAAAAAAAAAAAAAAAAAAAAAAAAAAAAAAAAAAAAAAAAAAAAAAAAAAAAAAAAAAAAAAAAAAAAAAAAAAAAAAAAAAAAAAAAAAAAAAAAAAAAAAAAAAAAAAAAAAAAAAAAAAAAAAAAAAAAAAAAAAAAAAAAAAAAAAAAAAAAAAAAAAAAAAAAAAAAAAAAAAAAAAAAAAAAAAAAAAAAAAAAAAAAAAAAAAAAAAAAAAAAAAAAAAAAAAAAAAAAAAAAAAAAAAAAAAAAAAAAAAAAAAAAAAAAAAAAAAAAAAAAAAAAAAAAAAAAAAAAAAAAAAAAAAAAAAAAAAAAAAAAAAAAAAAAAAAAAAAAAAAAAAAAAAAAAAAAAAAAAAAAAAAAAAAAAAAAAAAAAAAAAAAAAAAAAAAAAAAAAAAAAAAAAAAAAAAAAAAAAAAAAAAAAAAAAAAAAAAAAAAAAAAAAAAAAAAAAAAAAAAAAAAAAAAAAAAAAAAAAAAAAAAAAAAAAAAAAAAAAAAAAAAAAAAAAAAAAAAAAAAAAAAAAAAAAAAE11Y2hhbWFkIEZhdXp5AAAABZADAAIAAAAUAAAQqJAEAAIAAAAUAAAQvJKRAAIAAAADNTQAAJKSAAIAAAADNTQAAOocAAcAAAgMAAAInAAAAAAc6gAAAAgAAAAAAAAAAAAAAAAAAAAAAAAAAAAAAAAAAAAAAAAAAAAAAAAAAAAAAAAAAAAAAAAAAAAAAAAAAAAAAAAAAAAAAAAAAAAAAAAAAAAAAAAAAAAAAAAAAAAAAAAAAAAAAAAAAAAAAAAAAAAAAAAAAAAAAAAAAAAAAAAAAAAAAAAAAAAAAAAAAAAAAAAAAAAAAAAAAAAAAAAAAAAAAAAAAAAAAAAAAAAAAAAAAAAAAAAAAAAAAAAAAAAAAAAAAAAAAAAAAAAAAAAAAAAAAAAAAAAAAAAAAAAAAAAAAAAAAAAAAAAAAAAAAAAAAAAAAAAAAAAAAAAAAAAAAAAAAAAAAAAAAAAAAAAAAAAAAAAAAAAAAAAAAAAAAAAAAAAAAAAAAAAAAAAAAAAAAAAAAAAAAAAAAAAAAAAAAAAAAAAAAAAAAAAAAAAAAAAAAAAAAAAAAAAAAAAAAAAAAAAAAAAAAAAAAAAAAAAAAAAAAAAAAAAAAAAAAAAAAAAAAAAAAAAAAAAAAAAAAAAAAAAAAAAAAAAAAAAAAAAAAAAAAAAAAAAAAAAAAAAAAAAAAAAAAAAAAAAAAAAAAAAAAAAAAAAAAAAAAAAAAAAAAAAAAAAAAAAAAAAAAAAAAAAAAAAAAAAAAAAAAAAAAAAAAAAAAAAAAAAAAAAAAAAAAAAAAAAAAAAAAAAAAAAAAAAAAAAAAAAAAAAAAAAAAAAAAAAAAAAAAAAAAAAAAAAAAAAAAAAAAAAAAAAAAAAAAAAAAAAAAAAAAAAAAAAAAAAAAAAAAAAAAAAAAAAAAAAAAAAAAAAAAAAAAAAAAAAAAAAAAAAAAAAAAAAAAAAAAAAAAAAAAAAAAAAAAAAAAAAAAAAAAAAAAAAAAAAAAAAAAAAAAAAAAAAAAAAAAAAAAAAAAAAAAAAAAAAAAAAAAAAAAAAAAAAAAAAAAAAAAAAAAAAAAAAAAAAAAAAAAAAAAAAAAAAAAAAAAAAAAAAAAAAAAAAAAAAAAAAAAAAAAAAAAAAAAAAAAAAAAAAAAAAAAAAAAAAAAAAAAAAAAAAAAAAAAAAAAAAAAAAAAAAAAAAAAAAAAAAAAAAAAAAAAAAAAAAAAAAAAAAAAAAAAAAAAAAAAAAAAAAAAAAAAAAAAAAAAAAAAAAAAAAAAAAAAAAAAAAAAAAAAAAAAAAAAAAAAAAAAAAAAAAAAAAAAAAAAAAAAAAAAAAAAAAAAAAAAAAAAAAAAAAAAAAAAAAAAAAAAAAAAAAAAAAAAAAAAAAAAAAAAAAAAAAAAAAAAAAAAAAAAAAAAAAAAAAAAAAAAAAAAAAAAAAAAAAAAAAAAAAAAAAAAAAAAAAAAAAAAAAAAAAAAAAAAAAAAAAAAAAAAAAAAAAAAAAAAAAAAAAAAAAAAAAAAAAAAAAAAAAAAAAAAAAAAAAAAAAAAAAAAAAAAAAAAAAAAAAAAAAAAAAAAAAAAAAAAAAAAAAAAAAAAAAAAAAAAAAAAAAAAAAAAAAAAAAAAAAAAAAAAAAAAAAAAAAAAAAAAAAAAAAAAAAAAAAAAAAAAAAAAAAAAAAAAAAAAAAAAAAAAAAAAAAAAAAAAAAAAAAAAAAAAAAAAAAAAAAAAAAAAAAAAAAAAAAAAAAAAAAAAAAAAAAAAAAAAAAAAAAAAAAAAAAAAAAAAAAAAAAAAAAAAAAAAAAAAAAAAAAAAAAAAAAAAAAAAAAAAAAAAAAAAAAAAAAAAAAAAAAAAAAAAAAAAAAAAAAAAAAAAAAAAAAAAAAAAAAAAAAAAAAAAAAAAAAAAAAAAAAAAAAAAAAAAAAAAAAAAAAAAAAAAAAAAAAAAAAAAAAAAAAAAAAAAAAAAAAAAAAAAAAAAAAAAAAAAAAAAAAAAAAAAAAAAAAAAAAAAAAAAAAAAAAAAAAAAAAAAAAAAAAAAAAAAAAAAAAAAAAAAAAAAAAAAAAAAAAAAAAAAAAAAAAAAAAAAAAAAAAAAAAAAAAAAAAAAAAAAAAAAAAAAAAAAAAAAAAAAAAAAAAAAAAAAAAAAAAAAAAAAAAAAAAAAAAAAAAAAAAAAAAAAAAAAAAAAAAAAAAAAAAAAAAAAAAAAAAAAAAAAAAAAAAAAAAAAAAAAAAAAAAAAAAAAAAAAAAAAAAAAAAAAAAAAAAAAAAAAAAAAAAAAAAAAAAAAAAAAAAAAAAAAAAAAAAAAAAAAAAAAAAAAAAAAAAAAAAAAAAAAAAAAAAAAAAAAAAAAAAAAAAAAAAAAAAAAAAAAAAAAAAAAAAAAAAAAAAAAAAAAAAAAAAAAAAAAAAAAAAAAAAAAAAAAAAAAAAAAAAAAAAAAAAAAAAAAAAAAAAAAAAAAAAAAAAAAAAAAAAAAAAAAAAAAAAAAAAAAAAAAAAAAAAAAAAAAAAAAAAAAAAAAAAAAAAAAAAAAAAAAAAAAAAAAAAAAAAAAAAAAAAAAAAAAAAAAAAAAAAAAAAAAAAAAAAAAAAAAAAAAAAAAAAAAAAAAAAAAAAAAAAAAAAAAAAAAAAAAAAAAAAAAAAAAAAAAAAAAAAAAAAAAAAAAAAAAAAAAAAAAAAAAAAAAAAAAAAAAAAAAAAAAAAAAAAAAAAAAAAAAAAAAAAAAAAAAAAAAAAAAAAAAAAAAAAAAAAAAAAAAAAAAAAAAAAAAAAAAAAAAAAAAAAAAAAAAAAAAAAAAAAAAAAAAAAAAAAAAAAAAAAAAAAAAAAAAAAAAAAAAAAAAAAAAAAAAAAAAAAAAAAAAAAAAAAAADIwMjE6MDM6MjAgMTk6NDQ6MDIAMjAyMTowMzoyMCAxOTo0NDowMgAAAE0AdQBjAGgAYQBtAGEAZAAgAEYAYQB1AHoAeQAAAP/hCyFodHRwOi8vbnMuYWRvYmUuY29tL3hhcC8xLjAvADw/eHBhY2tldCBiZWdpbj0n77u/JyBpZD0nVzVNME1wQ2VoaUh6cmVTek5UY3prYzlkJz8+DQo8eDp4bXBtZXRhIHhtbG5zOng9ImFkb2JlOm5zOm1ldGEvIj48cmRmOlJERiB4bWxuczpyZGY9Imh0dHA6Ly93d3cudzMub3JnLzE5OTkvMDIvMjItcmRmLXN5bnRheC1ucyMiPjxyZGY6RGVzY3JpcHRpb24gcmRmOmFib3V0PSJ1dWlkOmZhZjViZGQ1LWJhM2QtMTFkYS1hZDMxLWQzM2Q3NTE4MmYxYiIgeG1sbnM6ZGM9Imh0dHA6Ly9wdXJsLm9yZy9kYy9lbGVtZW50cy8xLjEvIi8+PHJkZjpEZXNjcmlwdGlvbiByZGY6YWJvdXQ9InV1aWQ6ZmFmNWJkZDUtYmEzZC0xMWRhLWFkMzEtZDMzZDc1MTgyZjFiIiB4bWxuczp4bXA9Imh0dHA6Ly9ucy5hZG9iZS5jb20veGFwLzEuMC8iPjx4bXA6Q3JlYXRlRGF0ZT4yMDIxLTAzLTIwVDE5OjQ0OjAyLjUzODwveG1wOkNyZWF0ZURhdGU+PC9yZGY6RGVzY3JpcHRpb24+PHJkZjpEZXNjcmlwdGlvbiByZGY6YWJvdXQ9InV1aWQ6ZmFmNWJkZDUtYmEzZC0xMWRhLWFkMzEtZDMzZDc1MTgyZjFiIiB4bWxuczpkYz0iaHR0cDovL3B1cmwub3JnL2RjL2VsZW1lbnRzLzEuMS8iPjxkYzpjcmVhdG9yPjxyZGY6U2VxIHhtbG5zOnJkZj0iaHR0cDovL3d3dy53My5vcmcvMTk5OS8wMi8yMi1yZGYtc3ludGF4LW5zIyI+PHJkZjpsaT5NdWNoYW1hZCBGYXV6eTwvcmRmOmxpPjwvcmRmOlNlcT4NCgkJCTwvZGM6Y3JlYXRvcj48L3JkZjpEZXNjcmlwdGlvbj48L3JkZjpSREY+PC94OnhtcG1ldGE+DQogICAgICAgICAgICAgICAgICAgICAgICAgICAgICAgICAgICAgICAgICAgICAgICAgICAgICAgICAgICAgICAgICAgICAgICAgICAgICAgICAgICAgICAgICAgICAgICAgICAgCiAgICAgICAgICAgICAgICAgICAgICAgICAgICAgICAgICAgICAgICAgICAgICAgICAgICAgICAgICAgICAgICAgICAgICAgICAgICAgICAgICAgICAgICAgICAgICAgICAgICAKICAgICAgICAgICAgICAgICAgICAgICAgICAgICAgICAgICAgICAgICAgICAgICAgICAgICAgICAgICAgICAgICAgICAgICAgICAgICAgICAgICAgICAgICAgICAgICAgICAgIAogICAgICAgICAgICAgICAgICAgICAgICAgICAgICAgICAgICAgICAgICAgICAgICAgICAgICAgICAgICAgICAgICAgICAgICAgICAgICAgICAgICAgICAgICAgICAgICAgICAgCiAgICAgICAgICAgICAgICAgICAgICAgICAgICAgICAgICAgICAgICAgICAgICAgICAgICAgICAgICAgICAgICAgICAgICAgICAgICAgICAgICAgICAgICAgICAgICAgICAgICAKICAgICAgICAgICAgICAgICAgICAgICAgICAgICAgICAgICAgICAgICAgICAgICAgICAgICAgICAgICAgICAgICAgICAgICAgICAgICAgICAgICAgICAgICAgICAgICAgICAgIAogICAgICAgICAgICAgICAgICAgICAgICAgICAgICAgICAgICAgICAgICAgICAgICAgICAgICAgICAgICAgICAgICAgICAgICAgICAgICAgICAgICAgICAgICAgICAgICAgICAgCiAgICAgICAgICAgICAgICAgICAgICAgICAgICAgICAgICAgICAgICAgICAgICAgICAgICAgICAgICAgICAgICAgICAgICAgICAgICAgICAgICAgICAgICAgICAgICAgICAgICAKICAgICAgICAgICAgICAgICAgICAgICAgICAgICAgICAgICAgICAgICAgICAgICAgICAgICAgICAgICAgICAgICAgICAgICAgICAgICAgICAgICAgICAgICAgICAgICAgICAgIAogICAgICAgICAgICAgICAgICAgICAgICAgICAgICAgICAgICAgICAgICAgICAgICAgICAgICAgICAgICAgICAgICAgICAgICAgICAgICAgICAgICAgICAgICAgICAgICAgICAgCiAgICAgICAgICAgICAgICAgICAgICAgICAgICAgICAgICAgICAgICAgICAgICAgICAgICAgICAgICAgICAgICAgICAgICAgICAgICAgICAgICAgICAgICAgICAgICAgICAgICAKICAgICAgICAgICAgICAgICAgICAgICAgICAgICAgICAgICAgICAgICAgICAgICAgICAgICAgICAgICAgICAgICAgICAgICAgICAgICAgICAgICAgICAgICAgICAgICAgICAgIAogICAgICAgICAgICAgICAgICAgICAgICAgICAgICAgICAgICAgICAgICAgICAgICAgICAgICAgICAgICAgICAgICAgICAgICAgICAgICAgICAgICAgICAgICAgICAgICAgICAgCiAgICAgICAgICAgICAgICAgICAgICAgICAgICAgICAgICAgICAgICAgICAgICAgICAgICAgICAgICAgICAgICAgICAgICAgICAgICAgICAgICAgICAgICAgICAgICAgICAgICAKICAgICAgICAgICAgICAgICAgICAgICAgICAgICAgICAgICAgICAgICAgICAgICAgICAgICAgICAgICAgICAgICAgICAgICAgICAgICAgICAgICAgICAgICAgICAgICAgICAgIAogICAgICAgICAgICAgICAgICAgICAgICAgICAgICAgICAgICAgICAgICAgICAgICAgICAgICAgICAgICAgICAgICAgICAgICAgICAgICAgICAgICAgICAgICAgICAgICAgICAgCiAgICAgICAgICAgICAgICAgICAgICAgICAgICAgICAgICAgICAgICAgICAgICAgICAgICAgICAgICAgICAgICAgICAgICAgICAgICAgICAgICAgICAgICAgICAgICAgICAgICAKICAgICAgICAgICAgICAgICAgICAgICAgICAgICAgICAgICAgICAgICAgICAgICAgICAgICAgICAgICAgICAgICAgICAgICAgICAgICAgICAgICAgICAgICAgICAgICAgICAgIAogICAgICAgICAgICAgICAgICAgICAgICAgICAgICAgICAgICAgICAgICAgICAgICAgICAgICAgICAgICAgICAgICAgICAgICAgICAgICAgICAgICAgICAgICAgICAgICAgICAgCiAgICAgICAgICAgICAgICAgICAgICAgICAgICAgICAgICAgICAgICAgICAgICAgICAgICAgICAgICAgICAgICAgICAgICAgICAgICAgICAgICAgICAgICAgICAgICAgICAgICAKICAgICAgICAgICAgICAgICAgICAgICAgICAgIDw/eHBhY2tldCBlbmQ9J3cnPz7/2wBDAAcFBQYFBAcGBQYIBwcIChELCgkJChUPEAwRGBUaGRgVGBcbHichGx0lHRcYIi4iJSgpKywrGiAvMy8qMicqKyr/2wBDAQcICAoJChQLCxQqHBgcKioqKioqKioqKioqKioqKioqKioqKioqKioqKioqKioqKioqKioqKioqKioqKioqKir/wAARCABWAIsDASIAAhEBAxEB/8QAHwAAAQUBAQEBAQEAAAAAAAAAAAECAwQFBgcICQoL/8QAtRAAAgEDAwIEAwUFBAQAAAF9AQIDAAQRBRIhMUEGE1FhByJxFDKBkaEII0KxwRVS0fAkM2JyggkKFhcYGRolJicoKSo0NTY3ODk6Q0RFRkdISUpTVFVWV1hZWmNkZWZnaGlqc3R1dnd4eXqDhIWGh4iJipKTlJWWl5iZmqKjpKWmp6ipqrKztLW2t7i5usLDxMXGx8jJytLT1NXW19jZ2uHi4+Tl5ufo6erx8vP09fb3+Pn6/8QAHwEAAwEBAQEBAQEBAQAAAAAAAAECAwQFBgcICQoL/8QAtREAAgECBAQDBAcFBAQAAQJ3AAECAxEEBSExBhJBUQdhcRMiMoEIFEKRobHBCSMzUvAVYnLRChYkNOEl8RcYGRomJygpKjU2Nzg5OkNERUZHSElKU1RVVldYWVpjZGVmZ2hpanN0dXZ3eHl6goOEhYaHiImKkpOUlZaXmJmaoqOkpaanqKmqsrO0tba3uLm6wsPExcbHyMnK0tPU1dbX2Nna4uPk5ebn6Onq8vP09fb3+Pn6/9oADAMBAAIRAxEAPwD6PooooAKKRmCIzHooya5vw7470jxLqU9jYmWOeEZ2yrjcAcHFUoyabS2A6WijFczqvj3SNI8QRaNOZZLqRlX92oIUscAHmiMZS+FAdNRWD4o8Xaf4Tht5NSWZhcMVTylz09a5z/hcvhz/AJ5Xv/fsf41pGhUmrxWgHoNFYHhfxhp3iyOd9MSZRAQH81cdfSr2u65Z+HtJk1DUCwhjIGEGWJPYCs+SXNy21GaNFYHhjxhpviyOdtN8xWgIDpKuDz3rR1jVYNE0i41G7V2ht13OEGTj2ocJKXK1qFi9RWF4Z8X6X4rglfTHYPEcPFIMMPfHpTvE/iqx8KWUNzqSysksnlr5S5OcZp+zlzcltRG3RVTS9Rh1bS7e/tgwiuEDoGGDg+tW6jYAooooAKKKKAI5/wDj3l/3D/KvmXTb290jXn1ewDH7HPlyOmCx4PselfTU/wDx7yf7h/lXi/wx0231fUvENheLuhnh2n2+Y816GFko05t7aDR6PfeNbCHwP/wkMTqUkj/dpnkyH+H868Ls2vJvF+m32ohvMvLqOcM3VgZOv04rcsfB2sXHitPC10Zv7PtpzMzYOzb/AHh7kYrS8f28Vp8TdEt4ECRRJboijoAHrenGFJuEXe6bHY1/jh/yDtJ/66yfyFV9G8W+A7bRLOG9sEa5jhRZSbYHLAc81Y+OH/IO0n/rrJ/IU3RdT+HCaHZJfxWJulgQTFoCTuxznj1qIpewhdN77Ad14Uu9F1HSze+HrZILeRyp2xhMkV5/8TtQl8QeKtP8LWDEhXBmx/eP+A/nXY6Z4m8L2ugXsugSQrbWSGWSOJCoBP1Hc15T4f0rxV4m1i71/QmWOYSnMzuBgnsM+1RQhaUqktLbX7iNeyT/AIVx8U0tg7f2ddgJlu6t0/Jq9F+IeD8PtWI7w/1FeV+LPCvjU6edT8Qypcx2g4ZZAWQE+wrrD4gHiD4I30rtm4t4PJmH+0COfxGKqpHmlConfVJjPM/D99qnhyaDX7JW+zrL5Tn+FuASp/Cu7+JuvWfiLwJpd/YPlHufmQ9UbYcg1Z+Fel2uteA9Ssb6MSQy3JBB7fKOR71574q0C/8AC2oSaXcuzWrP5kLfwuOgP1xXSuSpX7OP4ge8+CP+RG0j/r1Wt6sHwP8A8iLpH/Xqtb1eLP4mSFFFFSAUUUUAIyh1KtyCMGsjRvCmjeH7qa40m08iWcYkbzGbPOe5NbGKMU1JpWQAAM5wM+uKx9S8JaJq+qxalqFn5t3Dt2SeYwxg5HAOOtbFFNScdgMrXPDWk+I44k1m1+0LCSUG9lwT16EVj/8ACr/CH/QK/wDI8n/xVdbRVRqzirRbA5qL4feGoLGe0i07bBcFTKgmf5sdO9a+kaNYaFYCz0qAQQAltgYnk+55q9RSc5S3YEV1aw3tpLbXSCSGVSroe4NYlp4H8P2On3dja2JS2vABPH5zkPj6nj8K6CikpSSsmMzdF0DTfD1q9tpFv9nid97LvZsnGM5JNN1rw7pfiG3SHV7RbhI23JlipB+oOa1KKOaV+a+oFexsrfTbGGzs08uCFAkaZJwB7mrFFFSIKKKKACmucRtj0NOpsn+rb/dNC3A8D0JfEvirxLd6fZeILq3aMu+ZLiTGA2McGusj+HfjRJFZvFjMAwJH2iXmuG8NaVq+r+LL2DQL42VyvmMZBIUyu7pkV6FonhDxtZ65aXGo+IGntY5A0sf2l23r6YNexiJcj0kl5WKIPjHqd/pkWlfYL24ti5cOYZCu7GOuKoWPgnxtd6Xb6hbeKH/fRLKiNcSZ5GcelS/HHmPSP96T+lVLL4vXOm6FbWiaKT5EKxrK7nBwMZ6VEFU9jH2aQGr8PvGmrS+IZfDviJ/NnXcEkb7wZeoPrXP+KrzW734oT6Rp2r3VqJpljjAnZUXKjsK0PhnoV/q/iSTxZqACRMzlMH77nrgegrD8WaidI+Ls9+sXnG3nRxGD975RxVRjH20lBdPxA2tV8NeOvDGny6pH4hku1gG6RFmdiF9cNwa67wV44XWvCNxqGqFY5rDIuCBwwxkEfWuG8R/FW+1fR5tNh0wWjXS+WzsxJweoHFatn4RvdA+EereeD9su1Erxqc7UHQflmonByglVsm3+AGX/AG34s+JGsTW+izPY2KHnDlFVe24jkn2pdR8K+NPBlq2p2WrNcRR/NKIpGOB6lW6it/4K3Ns2hXtspUXKzbmHcqRwa7/WLm2tNFvJr1lWBYW3lumMdKidZ06vs1FW7WA5/wACeMV8WaHI8oEd7b/LMq9Dxww9jXlmgL4l8VeI7uws/EF1bmPfJmS4fGA2McfWtn4LQytq+rToCIPICk9sk5A/LNc14X8TP4W8VXl7HZtdlw8exTjGWzn9K2hT5JVFD5AdFrMHjbwCsV/LrTXtszhW3SM659CG9favVfDWtJ4h8PWupIuwzJ8y+jDgj868c8SeNNT8fNbaHZaaLcySg7N2WZu3JxgV694S0RvDvhi006Rg8ka5kI6bjya58TG0IuatITNqiiiuAQUjDKkeoxS0UAeK2fgPxto+sXF9o/lQSSsw3iReVJz3rV/s74p/8/yf99p/hXqtFdcsVKW6X3Dued/EbwlrPiey0pbGNJJbdW84s4Xkgf4GunXw7DfeC4NG1SJT/oqRPj+FgByD7Gt2isXWk4qPYLnnfgDw54k8KalcWV2qTaVIxKsJBlW7MB71WvPBOsTfFRdcWKM2IuFcsXGcAY6V6bRV+3nzOXcLnHfEDwYPFOkg2YRL+3OYmPG4d1Jq74OtdYi8NjTvE8KM8Q8tXDhvMTHf+VdJRiodWTgoPoFzyTV/hlrOjaw2oeC7vYjEkRb9rJ7Z6EVWuPCPxB8TFLbXLsR2wIzvkGPyXrXslFbfWqnlfuFzF8M+GbTwvoosLL5ifmllIwZG9a43wB4J1jQPFl5f6nFGsEsbqhDhiSWBHFemUh5BrJVppSXcLnnPxB8EXOpaja6z4e2w36SBX+bbuI6Nn1Fdvos97LpcA1eNYr0IBKqtkE+o+tLc5/cvKRsjLFiPXsKYkxM0UxGJCm0x46c1MqkpRUX0EaOR60bh6iqE3mLKwAdicDAHTnrmoy8/92Q+4XFZgalFFFABRRRQAUUUUAFFFFABRRRQAUUUUAFFFFAET20LyB2TLDnmpMD0FFFAC0UUUAf/2Q==)"
      ]
    },
    {
      "cell_type": "markdown",
      "metadata": {
        "id": "C_ZwOJzPnf4j"
      },
      "source": [
        "This is known as K-fold cross-validation\n",
        "\n",
        "Common choice for K is 10 so each test set is 10% of your total data\n",
        "\n",
        "Largest K possible would be K equal to the number of number of rows\n",
        "* This is known as `leave one out` cross validation\n",
        "* Computationally expensive"
      ]
    },
    {
      "cell_type": "markdown",
      "metadata": {
        "id": "quHqgqTYaeGH"
      },
      "source": [
        "---"
      ]
    },
    {
      "cell_type": "markdown",
      "metadata": {
        "id": "krce0y6v-QqQ"
      },
      "source": [
        "## **A. Cross Validation with cross_val_score**\n"
      ]
    },
    {
      "cell_type": "markdown",
      "metadata": {
        "id": "-bNweQlNUkMJ"
      },
      "source": [
        "![Grid_Search_Cross_Validation.png](data:image/png;base64,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)"
      ]
    },
    {
      "cell_type": "code",
      "metadata": {
        "id": "SbGtUCN8-QqQ"
      },
      "source": [
        "## CREATE X and y\n",
        "X = df.drop('sales',axis=1)\n",
        "y = df['sales']\n",
        "\n",
        "# TRAIN TEST SPLIT\n",
        "from sklearn.model_selection import train_test_split\n",
        "X_train, X_test, y_train, y_test = train_test_split(X, y, test_size=0.3, random_state=101)"
      ],
      "execution_count": null,
      "outputs": []
    },
    {
      "cell_type": "code",
      "metadata": {
        "id": "yMjYpMzkVuwG"
      },
      "source": [
        "# SCALE DATA\n",
        "from sklearn.preprocessing import StandardScaler\n",
        "scaler = StandardScaler()\n",
        "scaler.fit(X_train)\n",
        "scaled_X_train = scaler.transform(X_train)\n",
        "\n",
        "scaled_X_test = scaler.transform(X_test)"
      ],
      "execution_count": null,
      "outputs": []
    },
    {
      "cell_type": "markdown",
      "metadata": {
        "id": "0Gc1-NDEZPJ1"
      },
      "source": [
        "---"
      ]
    },
    {
      "cell_type": "markdown",
      "metadata": {
        "id": "qt4NntyjWSVS"
      },
      "source": [
        "### **a. Create Model**"
      ]
    },
    {
      "cell_type": "code",
      "metadata": {
        "id": "V9D2I2RhWSVU"
      },
      "source": [
        "from sklearn.linear_model import Ridge"
      ],
      "execution_count": null,
      "outputs": []
    },
    {
      "cell_type": "code",
      "metadata": {
        "id": "DKr4j4ew-QqR"
      },
      "source": [
        "model = Ridge(alpha=100)\n",
        "# We will Fit the Data later"
      ],
      "execution_count": null,
      "outputs": []
    },
    {
      "cell_type": "markdown",
      "metadata": {
        "id": "OpqBpLdAZP-W"
      },
      "source": [
        "---"
      ]
    },
    {
      "cell_type": "markdown",
      "metadata": {
        "id": "e-COxgl_ZHZa"
      },
      "source": [
        "### **b. Cross_Val_Score Evaluation**"
      ]
    },
    {
      "cell_type": "code",
      "metadata": {
        "id": "gyPTO0ZU-QqS"
      },
      "source": [
        "from sklearn.model_selection import cross_val_score"
      ],
      "execution_count": null,
      "outputs": []
    },
    {
      "cell_type": "code",
      "metadata": {
        "id": "Mgp2yqi_-QqS"
      },
      "source": [
        "# SCORING OPTIONS:\n",
        "# https://scikit-learn.org/stable/modules/model_evaluation.html\n",
        "# Negative RMSE so all metrics follow convention \"Higher is better\"\n",
        "scores = cross_val_score(model, scaled_X_train, y_train,\n",
        "                         scoring='neg_mean_squared_error', cv=5)"
      ],
      "execution_count": null,
      "outputs": []
    },
    {
      "cell_type": "code",
      "metadata": {
        "id": "yiPfOUYb-QqU",
        "colab": {
          "base_uri": "https://localhost:8080/"
        },
        "outputId": "23dd176f-2b49-4075-f410-64ec73f7fe55"
      },
      "source": [
        "scores"
      ],
      "execution_count": null,
      "outputs": [
        {
          "output_type": "execute_result",
          "data": {
            "text/plain": [
              "array([ -9.32552967,  -4.9449624 , -11.39665242,  -7.0242106 ,\n",
              "        -8.38562723])"
            ]
          },
          "metadata": {
            "tags": []
          },
          "execution_count": 39
        }
      ]
    },
    {
      "cell_type": "code",
      "metadata": {
        "id": "D9Uwgzzn-QqV",
        "colab": {
          "base_uri": "https://localhost:8080/"
        },
        "outputId": "53d64711-b2b2-4525-c201-22ef16ee113f"
      },
      "source": [
        "# Average of the MSE scores (we set back to positive)\n",
        "abs(scores.mean())"
      ],
      "execution_count": null,
      "outputs": [
        {
          "output_type": "execute_result",
          "data": {
            "text/plain": [
              "8.215396464543606"
            ]
          },
          "metadata": {
            "tags": []
          },
          "execution_count": 40
        }
      ]
    },
    {
      "cell_type": "markdown",
      "metadata": {
        "id": "n4exG_emZQtk"
      },
      "source": [
        "---"
      ]
    },
    {
      "cell_type": "markdown",
      "metadata": {
        "id": "FuJ2YaMY-QqW"
      },
      "source": [
        "### **c. Adjust model based on metrics**"
      ]
    },
    {
      "cell_type": "code",
      "metadata": {
        "id": "bUVJpnGu-QqW"
      },
      "source": [
        "model = Ridge(alpha=1)"
      ],
      "execution_count": null,
      "outputs": []
    },
    {
      "cell_type": "markdown",
      "metadata": {
        "id": "ZuyLVbPSdJDX"
      },
      "source": [
        "---"
      ]
    },
    {
      "cell_type": "markdown",
      "metadata": {
        "id": "cm-h18mQZh7l"
      },
      "source": [
        "### **d. Another Cross_Val_Score Evaluation**"
      ]
    },
    {
      "cell_type": "code",
      "metadata": {
        "id": "vZJbxZe8-QqX"
      },
      "source": [
        "# SCORING OPTIONS:\n",
        "# https://scikit-learn.org/stable/modules/model_evaluation.html\n",
        "# Negative RMSE so all metrics follow convention \"Higher is better\"\n",
        "scores = cross_val_score(model, scaled_X_train, y_train,\n",
        "                         scoring='neg_mean_squared_error', cv=5)"
      ],
      "execution_count": null,
      "outputs": []
    },
    {
      "cell_type": "code",
      "metadata": {
        "id": "GQSrA2zT-QqX",
        "colab": {
          "base_uri": "https://localhost:8080/"
        },
        "outputId": "c88b89d5-2e5d-49ec-b9f2-55370130d85f"
      },
      "source": [
        "# Average of the MSE scores (we set back to positive)\n",
        "abs(scores.mean())"
      ],
      "execution_count": null,
      "outputs": [
        {
          "output_type": "execute_result",
          "data": {
            "text/plain": [
              "3.344839296530695"
            ]
          },
          "metadata": {
            "tags": []
          },
          "execution_count": 43
        }
      ]
    },
    {
      "cell_type": "markdown",
      "metadata": {
        "id": "TAYNX4e7ZePF"
      },
      "source": [
        "---"
      ]
    },
    {
      "cell_type": "markdown",
      "metadata": {
        "id": "DS29ozCn-QqZ"
      },
      "source": [
        "### **e. Final Evaluation (Can no longer edit parameters after this!)**"
      ]
    },
    {
      "cell_type": "code",
      "metadata": {
        "id": "3l4tOtQN-QqZ",
        "colab": {
          "base_uri": "https://localhost:8080/"
        },
        "outputId": "b8bca841-494a-4c70-91d8-a08280c74ba7"
      },
      "source": [
        "# Need to fit the model first!\n",
        "model.fit(scaled_X_train, y_train)"
      ],
      "execution_count": null,
      "outputs": [
        {
          "output_type": "execute_result",
          "data": {
            "text/plain": [
              "Ridge(alpha=1, copy_X=True, fit_intercept=True, max_iter=None, normalize=False,\n",
              "      random_state=None, solver='auto', tol=0.001)"
            ]
          },
          "metadata": {
            "tags": []
          },
          "execution_count": 44
        }
      ]
    },
    {
      "cell_type": "code",
      "metadata": {
        "id": "AtA3YUUo-QqZ"
      },
      "source": [
        "y_final_test_pred = model.predict(scaled_X_test)"
      ],
      "execution_count": null,
      "outputs": []
    },
    {
      "cell_type": "code",
      "metadata": {
        "id": "L3rf4Wk2-Qqb",
        "colab": {
          "base_uri": "https://localhost:8080/"
        },
        "outputId": "4e1b2f51-ad59-4d3a-cf53-d248d3f96bac"
      },
      "source": [
        "mean_squared_error(y_test, y_final_test_pred)"
      ],
      "execution_count": null,
      "outputs": [
        {
          "output_type": "execute_result",
          "data": {
            "text/plain": [
              "2.3190215794287514"
            ]
          },
          "metadata": {
            "tags": []
          },
          "execution_count": 46
        }
      ]
    },
    {
      "cell_type": "markdown",
      "metadata": {
        "id": "gZih7ED-btzG"
      },
      "source": [
        "---"
      ]
    },
    {
      "cell_type": "markdown",
      "metadata": {
        "id": "9q5-rHxz-Qqc"
      },
      "source": [
        "## **B. Cross Validation with cross_validate**\n",
        "\n",
        "The cross_validate function `differs` from cross_val_score in two ways:\n",
        "\n",
        "* It allows specifying multiple metrics for evaluation.\n",
        "\n",
        "* It returns a dict containing fit-times, score-times (and optionally training scores as well as fitted estimators) in addition to the test score.\n",
        "\n",
        "For single metric evaluation, where the scoring parameter is a string, callable or None, the keys will be:\n",
        "        \n",
        "    ['test_score', 'fit_time', 'score_time']\n",
        "\n",
        "And for multiple metric evaluation, the return value is a dict with the following keys:\n",
        "\n",
        "    ['test_<scorer1_name>', 'test_<scorer2_name>', 'test_<scorer...>', 'fit_time', 'score_time']\n",
        "\n",
        "return_train_score is set to False by default to save computation time. To evaluate the scores on the training set as well you need to be set to True."
      ]
    },
    {
      "cell_type": "code",
      "metadata": {
        "id": "2CnKJAbV-Qqc"
      },
      "source": [
        "## CREATE X and y\n",
        "X = df.drop('sales',axis=1)\n",
        "y = df['sales']\n",
        "\n",
        "# TRAIN TEST SPLIT\n",
        "from sklearn.model_selection import train_test_split\n",
        "X_train, X_test, y_train, y_test = train_test_split(X, y, test_size=0.3, random_state=101)"
      ],
      "execution_count": null,
      "outputs": []
    },
    {
      "cell_type": "code",
      "metadata": {
        "id": "IvcUuBX-cH7m"
      },
      "source": [
        "# SCALE DATA\n",
        "from sklearn.preprocessing import StandardScaler\n",
        "scaler = StandardScaler()\n",
        "scaler.fit(X_train)\n",
        "scaled_X_train = scaler.transform(X_train)\n",
        "scaled_X_test = scaler.transform(X_test)"
      ],
      "execution_count": null,
      "outputs": []
    },
    {
      "cell_type": "markdown",
      "metadata": {
        "id": "TIAMMnMGcLx8"
      },
      "source": [
        "### **a. Create Model**"
      ]
    },
    {
      "cell_type": "code",
      "metadata": {
        "id": "-yiE2JafcP9e"
      },
      "source": [
        "from sklearn.linear_model import Ridge"
      ],
      "execution_count": null,
      "outputs": []
    },
    {
      "cell_type": "code",
      "metadata": {
        "id": "b4kDaxYb-Qqd"
      },
      "source": [
        "model = Ridge(alpha=100)"
      ],
      "execution_count": null,
      "outputs": []
    },
    {
      "cell_type": "markdown",
      "metadata": {
        "id": "u1mRDbqbcR7c"
      },
      "source": [
        "### **b. Cross_Validate Evaluation**"
      ]
    },
    {
      "cell_type": "code",
      "metadata": {
        "id": "D7tOoSWf-Qqd"
      },
      "source": [
        "from sklearn.model_selection import cross_validate"
      ],
      "execution_count": null,
      "outputs": []
    },
    {
      "cell_type": "markdown",
      "metadata": {
        "id": "-NpAwuF3ycbn"
      },
      "source": [
        "SCORING OPTIONS:\n",
        "\n",
        "https://scikit-learn.org/stable/modules/model_evaluation.html"
      ]
    },
    {
      "cell_type": "code",
      "metadata": {
        "id": "I_gUwx6J-Qqe"
      },
      "source": [
        "scores = cross_validate(model,scaled_X_train,y_train,\n",
        "                         scoring=['neg_mean_absolute_error','neg_mean_squared_error','max_error'],cv=5)"
      ],
      "execution_count": null,
      "outputs": []
    },
    {
      "cell_type": "code",
      "metadata": {
        "id": "pmA9Xual-Qqe",
        "colab": {
          "base_uri": "https://localhost:8080/"
        },
        "outputId": "c77dc88e-ba37-4044-b32b-73d07761808c"
      },
      "source": [
        "scores"
      ],
      "execution_count": null,
      "outputs": [
        {
          "output_type": "execute_result",
          "data": {
            "text/plain": [
              "{'fit_time': array([0.00183916, 0.00088024, 0.00079799, 0.00073552, 0.00073695]),\n",
              " 'score_time': array([0.00178647, 0.00085855, 0.00080752, 0.00150394, 0.00080919]),\n",
              " 'test_max_error': array([ -6.44988486,  -5.58926073, -10.33914027,  -6.61950405,\n",
              "         -7.75578515]),\n",
              " 'test_neg_mean_absolute_error': array([-2.31243044, -1.74653361, -2.56211701, -2.01873159, -2.27951906]),\n",
              " 'test_neg_mean_squared_error': array([ -9.32552967,  -4.9449624 , -11.39665242,  -7.0242106 ,\n",
              "         -8.38562723])}"
            ]
          },
          "metadata": {
            "tags": []
          },
          "execution_count": 53
        }
      ]
    },
    {
      "cell_type": "code",
      "metadata": {
        "id": "zl9Ab4l3-Qqf",
        "colab": {
          "base_uri": "https://localhost:8080/",
          "height": 206
        },
        "outputId": "00b0ac06-fefb-463a-ed6c-ab542dc02203"
      },
      "source": [
        "pd.DataFrame(scores)"
      ],
      "execution_count": null,
      "outputs": [
        {
          "output_type": "execute_result",
          "data": {
            "text/html": [
              "<div>\n",
              "<style scoped>\n",
              "    .dataframe tbody tr th:only-of-type {\n",
              "        vertical-align: middle;\n",
              "    }\n",
              "\n",
              "    .dataframe tbody tr th {\n",
              "        vertical-align: top;\n",
              "    }\n",
              "\n",
              "    .dataframe thead th {\n",
              "        text-align: right;\n",
              "    }\n",
              "</style>\n",
              "<table border=\"1\" class=\"dataframe\">\n",
              "  <thead>\n",
              "    <tr style=\"text-align: right;\">\n",
              "      <th></th>\n",
              "      <th>fit_time</th>\n",
              "      <th>score_time</th>\n",
              "      <th>test_neg_mean_absolute_error</th>\n",
              "      <th>test_neg_mean_squared_error</th>\n",
              "      <th>test_max_error</th>\n",
              "    </tr>\n",
              "  </thead>\n",
              "  <tbody>\n",
              "    <tr>\n",
              "      <th>0</th>\n",
              "      <td>0.001839</td>\n",
              "      <td>0.001786</td>\n",
              "      <td>-2.312430</td>\n",
              "      <td>-9.325530</td>\n",
              "      <td>-6.449885</td>\n",
              "    </tr>\n",
              "    <tr>\n",
              "      <th>1</th>\n",
              "      <td>0.000880</td>\n",
              "      <td>0.000859</td>\n",
              "      <td>-1.746534</td>\n",
              "      <td>-4.944962</td>\n",
              "      <td>-5.589261</td>\n",
              "    </tr>\n",
              "    <tr>\n",
              "      <th>2</th>\n",
              "      <td>0.000798</td>\n",
              "      <td>0.000808</td>\n",
              "      <td>-2.562117</td>\n",
              "      <td>-11.396652</td>\n",
              "      <td>-10.339140</td>\n",
              "    </tr>\n",
              "    <tr>\n",
              "      <th>3</th>\n",
              "      <td>0.000736</td>\n",
              "      <td>0.001504</td>\n",
              "      <td>-2.018732</td>\n",
              "      <td>-7.024211</td>\n",
              "      <td>-6.619504</td>\n",
              "    </tr>\n",
              "    <tr>\n",
              "      <th>4</th>\n",
              "      <td>0.000737</td>\n",
              "      <td>0.000809</td>\n",
              "      <td>-2.279519</td>\n",
              "      <td>-8.385627</td>\n",
              "      <td>-7.755785</td>\n",
              "    </tr>\n",
              "  </tbody>\n",
              "</table>\n",
              "</div>"
            ],
            "text/plain": [
              "   fit_time  score_time  ...  test_neg_mean_squared_error  test_max_error\n",
              "0  0.001839    0.001786  ...                    -9.325530       -6.449885\n",
              "1  0.000880    0.000859  ...                    -4.944962       -5.589261\n",
              "2  0.000798    0.000808  ...                   -11.396652      -10.339140\n",
              "3  0.000736    0.001504  ...                    -7.024211       -6.619504\n",
              "4  0.000737    0.000809  ...                    -8.385627       -7.755785\n",
              "\n",
              "[5 rows x 5 columns]"
            ]
          },
          "metadata": {
            "tags": []
          },
          "execution_count": 54
        }
      ]
    },
    {
      "cell_type": "code",
      "metadata": {
        "id": "M03idNmj-Qqf",
        "colab": {
          "base_uri": "https://localhost:8080/"
        },
        "outputId": "c558f7ea-32ff-4051-84a5-80b2e229ce77"
      },
      "source": [
        "pd.DataFrame(scores).mean().abs()"
      ],
      "execution_count": null,
      "outputs": [
        {
          "output_type": "execute_result",
          "data": {
            "text/plain": [
              "fit_time                        0.000998\n",
              "score_time                      0.001153\n",
              "test_neg_mean_absolute_error    2.183866\n",
              "test_neg_mean_squared_error     8.215396\n",
              "test_max_error                  7.350715\n",
              "dtype: float64"
            ]
          },
          "metadata": {
            "tags": []
          },
          "execution_count": 55
        }
      ]
    },
    {
      "cell_type": "markdown",
      "metadata": {
        "id": "tV5AUpfFdOdU"
      },
      "source": [
        "---"
      ]
    },
    {
      "cell_type": "markdown",
      "metadata": {
        "id": "blWbO9WdcyHk"
      },
      "source": [
        "### **c. Adjust model based on metrics**"
      ]
    },
    {
      "cell_type": "code",
      "metadata": {
        "id": "srGxE-yL-Qqg"
      },
      "source": [
        "model = Ridge(alpha=1)"
      ],
      "execution_count": null,
      "outputs": []
    },
    {
      "cell_type": "markdown",
      "metadata": {
        "id": "HmaKkaP4dNp8"
      },
      "source": [
        "---"
      ]
    },
    {
      "cell_type": "markdown",
      "metadata": {
        "id": "NG8Cj6dUc-Nq"
      },
      "source": [
        "### **d. Another Cross_Validate Evaluation**"
      ]
    },
    {
      "cell_type": "code",
      "metadata": {
        "id": "AP8A9Swq-Qqg"
      },
      "source": [
        "# SCORING OPTIONS:\n",
        "# https://scikit-learn.org/stable/modules/model_evaluation.html\n",
        "scores = cross_validate(model,scaled_X_train,y_train,\n",
        "                         scoring=['neg_mean_absolute_error','neg_mean_squared_error','max_error'],cv=5)"
      ],
      "execution_count": null,
      "outputs": []
    },
    {
      "cell_type": "code",
      "metadata": {
        "id": "yHqx68RW-Qqg",
        "colab": {
          "base_uri": "https://localhost:8080/"
        },
        "outputId": "c40777a9-957f-4ddf-8418-009cbcf3dcca"
      },
      "source": [
        "pd.DataFrame(scores).mean().abs()"
      ],
      "execution_count": null,
      "outputs": [
        {
          "output_type": "execute_result",
          "data": {
            "text/plain": [
              "fit_time                        0.001381\n",
              "score_time                      0.001458\n",
              "test_neg_mean_absolute_error    1.319685\n",
              "test_neg_mean_squared_error     3.344839\n",
              "test_max_error                  5.161145\n",
              "dtype: float64"
            ]
          },
          "metadata": {
            "tags": []
          },
          "execution_count": 58
        }
      ]
    },
    {
      "cell_type": "markdown",
      "metadata": {
        "id": "GUKjC0IB-Qqh"
      },
      "source": [
        "### **e. Final Evaluation (Can no longer edit parameters after this!)**"
      ]
    },
    {
      "cell_type": "code",
      "metadata": {
        "id": "SNit3h4b-Qqh",
        "colab": {
          "base_uri": "https://localhost:8080/"
        },
        "outputId": "14954fef-ff43-429e-b21b-0532d8273740"
      },
      "source": [
        "# Need to fit the model first!\n",
        "model.fit(scaled_X_train,y_train)"
      ],
      "execution_count": null,
      "outputs": [
        {
          "output_type": "execute_result",
          "data": {
            "text/plain": [
              "Ridge(alpha=1, copy_X=True, fit_intercept=True, max_iter=None, normalize=False,\n",
              "      random_state=None, solver='auto', tol=0.001)"
            ]
          },
          "metadata": {
            "tags": []
          },
          "execution_count": 59
        }
      ]
    },
    {
      "cell_type": "code",
      "metadata": {
        "id": "3J4UytQB-Qqh"
      },
      "source": [
        "y_final_test_pred = model.predict(scaled_X_test)"
      ],
      "execution_count": null,
      "outputs": []
    },
    {
      "cell_type": "code",
      "metadata": {
        "id": "29acXdRP-Qqj",
        "colab": {
          "base_uri": "https://localhost:8080/"
        },
        "outputId": "57962544-7a26-48a2-932f-ab64d54c0c5e"
      },
      "source": [
        "mean_squared_error(y_test,y_final_test_pred)"
      ],
      "execution_count": null,
      "outputs": [
        {
          "output_type": "execute_result",
          "data": {
            "text/plain": [
              "2.3190215794287514"
            ]
          },
          "metadata": {
            "tags": []
          },
          "execution_count": 61
        }
      ]
    },
    {
      "cell_type": "markdown",
      "metadata": {
        "id": "m6Kdq4buvWQ2"
      },
      "source": [
        "---\n",
        "---"
      ]
    },
    {
      "cell_type": "markdown",
      "metadata": {
        "id": "tfJc5P0lulf2"
      },
      "source": [
        "# **3 - Grid Search**\n",
        "\n",
        "We can `search` through a variety of `combinations` of `hyperparameters` with a `grid search`. While many linear models are quite simple and even come with their own specialized versions that do a search for you, this method of a `grid search` will can be `applied` to *any* model from sklearn, and we will `need` to use it later on for more `complex models`, such as Support Vector Machines."
      ]
    },
    {
      "cell_type": "markdown",
      "metadata": {
        "id": "Vwe3tAiq0MZq"
      },
      "source": [
        "A grid search is a way of training and validating a model on every possible combination of multiple hyperparameter options."
      ]
    },
    {
      "cell_type": "markdown",
      "metadata": {
        "id": "PhmcGBbeulgC"
      },
      "source": [
        "\n",
        "\n",
        "A search consists of:\n",
        "\n",
        "* an estimator (regressor or classifier such as sklearn.svm.SVC());\n",
        "* a parameter space;\n",
        "* a method for searching or sampling candidates;\n",
        "* a cross-validation scheme \n",
        "* a score function."
      ]
    },
    {
      "cell_type": "markdown",
      "metadata": {
        "id": "YBzSUs10ulf7"
      },
      "source": [
        "**Data**"
      ]
    },
    {
      "cell_type": "code",
      "metadata": {
        "id": "huNA2fuGulf5"
      },
      "source": [
        "import numpy as np\n",
        "import pandas as pd\n",
        "import matplotlib.pyplot as plt\n",
        "import seaborn as sns"
      ],
      "execution_count": null,
      "outputs": []
    },
    {
      "cell_type": "code",
      "metadata": {
        "id": "KY3SeNGUulf8"
      },
      "source": [
        "df = pd.read_csv('/content/drive/MyDrive/Data_Science/Materi/Notes/7_Cross_Validation_and_Grid_Search/Advertising.csv')"
      ],
      "execution_count": null,
      "outputs": []
    },
    {
      "cell_type": "code",
      "metadata": {
        "id": "TgyBIFt3ulf9",
        "colab": {
          "base_uri": "https://localhost:8080/",
          "height": 206
        },
        "outputId": "be5e98cd-656d-496f-e649-a2c9375f8cde"
      },
      "source": [
        "df.head()"
      ],
      "execution_count": null,
      "outputs": [
        {
          "output_type": "execute_result",
          "data": {
            "text/html": [
              "<div>\n",
              "<style scoped>\n",
              "    .dataframe tbody tr th:only-of-type {\n",
              "        vertical-align: middle;\n",
              "    }\n",
              "\n",
              "    .dataframe tbody tr th {\n",
              "        vertical-align: top;\n",
              "    }\n",
              "\n",
              "    .dataframe thead th {\n",
              "        text-align: right;\n",
              "    }\n",
              "</style>\n",
              "<table border=\"1\" class=\"dataframe\">\n",
              "  <thead>\n",
              "    <tr style=\"text-align: right;\">\n",
              "      <th></th>\n",
              "      <th>TV</th>\n",
              "      <th>radio</th>\n",
              "      <th>newspaper</th>\n",
              "      <th>sales</th>\n",
              "    </tr>\n",
              "  </thead>\n",
              "  <tbody>\n",
              "    <tr>\n",
              "      <th>0</th>\n",
              "      <td>230.1</td>\n",
              "      <td>37.8</td>\n",
              "      <td>69.2</td>\n",
              "      <td>22.1</td>\n",
              "    </tr>\n",
              "    <tr>\n",
              "      <th>1</th>\n",
              "      <td>44.5</td>\n",
              "      <td>39.3</td>\n",
              "      <td>45.1</td>\n",
              "      <td>10.4</td>\n",
              "    </tr>\n",
              "    <tr>\n",
              "      <th>2</th>\n",
              "      <td>17.2</td>\n",
              "      <td>45.9</td>\n",
              "      <td>69.3</td>\n",
              "      <td>9.3</td>\n",
              "    </tr>\n",
              "    <tr>\n",
              "      <th>3</th>\n",
              "      <td>151.5</td>\n",
              "      <td>41.3</td>\n",
              "      <td>58.5</td>\n",
              "      <td>18.5</td>\n",
              "    </tr>\n",
              "    <tr>\n",
              "      <th>4</th>\n",
              "      <td>180.8</td>\n",
              "      <td>10.8</td>\n",
              "      <td>58.4</td>\n",
              "      <td>12.9</td>\n",
              "    </tr>\n",
              "  </tbody>\n",
              "</table>\n",
              "</div>"
            ],
            "text/plain": [
              "      TV  radio  newspaper  sales\n",
              "0  230.1   37.8       69.2   22.1\n",
              "1   44.5   39.3       45.1   10.4\n",
              "2   17.2   45.9       69.3    9.3\n",
              "3  151.5   41.3       58.5   18.5\n",
              "4  180.8   10.8       58.4   12.9"
            ]
          },
          "metadata": {
            "tags": []
          },
          "execution_count": 64
        }
      ]
    },
    {
      "cell_type": "markdown",
      "metadata": {
        "id": "h8wC2FdJxErj"
      },
      "source": [
        "---"
      ]
    },
    {
      "cell_type": "markdown",
      "metadata": {
        "id": "-ur9Dx43ulf-"
      },
      "source": [
        "## **A. Setup**"
      ]
    },
    {
      "cell_type": "code",
      "metadata": {
        "id": "DbJqNEqQulf_"
      },
      "source": [
        "## CREATE X and y\n",
        "X = df.drop('sales',axis=1)\n",
        "y = df['sales']\n",
        "\n",
        "# TRAIN TEST SPLIT\n",
        "from sklearn.model_selection import train_test_split\n",
        "X_train, X_test, y_train, y_test = train_test_split(X, y, test_size=0.3, random_state=101)"
      ],
      "execution_count": null,
      "outputs": []
    },
    {
      "cell_type": "code",
      "metadata": {
        "id": "avJIv4PzwgY7"
      },
      "source": [
        "# SCALE DATA\n",
        "from sklearn.preprocessing import StandardScaler\n",
        "scaler = StandardScaler()\n",
        "scaler.fit(X_train)\n",
        "scaled_X_train = scaler.transform(X_train)\n",
        "\n",
        "scaled_X_test = scaler.transform(X_test)"
      ],
      "execution_count": null,
      "outputs": []
    },
    {
      "cell_type": "markdown",
      "metadata": {
        "id": "aRZ0jU4zxF1y"
      },
      "source": [
        "---"
      ]
    },
    {
      "cell_type": "markdown",
      "metadata": {
        "id": "swSaaoF0ulf_"
      },
      "source": [
        "## **B. Create Model**"
      ]
    },
    {
      "cell_type": "code",
      "metadata": {
        "id": "pMptA22aulgA"
      },
      "source": [
        "from sklearn.linear_model import ElasticNet"
      ],
      "execution_count": null,
      "outputs": []
    },
    {
      "cell_type": "code",
      "metadata": {
        "id": "1AAoCnjuulgC"
      },
      "source": [
        "#help(ElasticNet)"
      ],
      "execution_count": null,
      "outputs": []
    },
    {
      "cell_type": "code",
      "metadata": {
        "id": "S_JtqEtVulgC"
      },
      "source": [
        "base_elastic_model = ElasticNet()"
      ],
      "execution_count": null,
      "outputs": []
    },
    {
      "cell_type": "code",
      "metadata": {
        "id": "3adHkU1xulgC"
      },
      "source": [
        "# Note that a good choice of list of values for l1_ratio is often to put more values close to 1\n",
        "# (i.e. Lasso) and less close to 0 (i.e. Ridge)\n",
        "# l1_ratio is lambda and alpha is ratio between L1 and L2\n",
        "param_grid = {'alpha':[0.1,1,5,10,50,100], # 6 alpha \n",
        "              'l1_ratio':[.1, .5, .7, .9, .95, .99, 1]} # 7 L1 ratio\n",
        "\n",
        "#For more info on Elastic Net, check 5 - Linear Regression file"
      ],
      "execution_count": null,
      "outputs": []
    },
    {
      "cell_type": "code",
      "metadata": {
        "id": "A1_QWNQwulgE"
      },
      "source": [
        "from sklearn.model_selection import GridSearchCV"
      ],
      "execution_count": null,
      "outputs": []
    },
    {
      "cell_type": "code",
      "metadata": {
        "id": "pJ3lz_yEulgE"
      },
      "source": [
        "# verbose number a personal preference\n",
        "grid_model = GridSearchCV(estimator=base_elastic_model,\n",
        "                          param_grid=param_grid,\n",
        "                          scoring='neg_mean_squared_error',\n",
        "                          cv=5,\n",
        "                          verbose=0) # verbose: to print output of the fit (backend) -> the higher, the more messages"
      ],
      "execution_count": null,
      "outputs": []
    },
    {
      "cell_type": "code",
      "metadata": {
        "id": "x_BoiM0eulgF",
        "colab": {
          "base_uri": "https://localhost:8080/"
        },
        "outputId": "59d0b562-1a03-4d27-f1cd-5abf7af374cb"
      },
      "source": [
        "grid_model.fit(scaled_X_train, y_train)"
      ],
      "execution_count": null,
      "outputs": [
        {
          "output_type": "execute_result",
          "data": {
            "text/plain": [
              "GridSearchCV(cv=5, error_score=nan,\n",
              "             estimator=ElasticNet(alpha=1.0, copy_X=True, fit_intercept=True,\n",
              "                                  l1_ratio=0.5, max_iter=1000, normalize=False,\n",
              "                                  positive=False, precompute=False,\n",
              "                                  random_state=None, selection='cyclic',\n",
              "                                  tol=0.0001, warm_start=False),\n",
              "             iid='deprecated', n_jobs=None,\n",
              "             param_grid={'alpha': [0.1, 1, 5, 10, 50, 100],\n",
              "                         'l1_ratio': [0.1, 0.5, 0.7, 0.9, 0.95, 0.99, 1]},\n",
              "             pre_dispatch='2*n_jobs', refit=True, return_train_score=False,\n",
              "             scoring='neg_mean_squared_error', verbose=0)"
            ]
          },
          "metadata": {
            "tags": []
          },
          "execution_count": 73
        }
      ]
    },
    {
      "cell_type": "code",
      "metadata": {
        "id": "Hff-KZhpulgF",
        "colab": {
          "base_uri": "https://localhost:8080/"
        },
        "outputId": "04459a08-a0c6-45b0-cff4-4cdcfa80e6ad"
      },
      "source": [
        "grid_model.best_estimator_"
      ],
      "execution_count": null,
      "outputs": [
        {
          "output_type": "execute_result",
          "data": {
            "text/plain": [
              "ElasticNet(alpha=0.1, copy_X=True, fit_intercept=True, l1_ratio=1,\n",
              "           max_iter=1000, normalize=False, positive=False, precompute=False,\n",
              "           random_state=None, selection='cyclic', tol=0.0001, warm_start=False)"
            ]
          },
          "metadata": {
            "tags": []
          },
          "execution_count": 74
        }
      ]
    },
    {
      "cell_type": "code",
      "metadata": {
        "id": "Y2rf_NjGulgH",
        "colab": {
          "base_uri": "https://localhost:8080/"
        },
        "outputId": "86addb9a-1cc9-4c65-c5c0-3e44ce6ee86e"
      },
      "source": [
        "grid_model.best_params_"
      ],
      "execution_count": null,
      "outputs": [
        {
          "output_type": "execute_result",
          "data": {
            "text/plain": [
              "{'alpha': 0.1, 'l1_ratio': 1}"
            ]
          },
          "metadata": {
            "tags": []
          },
          "execution_count": 75
        }
      ]
    },
    {
      "cell_type": "code",
      "metadata": {
        "id": "C3wN1fupulgH",
        "colab": {
          "base_uri": "https://localhost:8080/",
          "height": 320
        },
        "outputId": "7a8912bf-25e0-4970-a784-77bced6ff5cf"
      },
      "source": [
        "pd.DataFrame(grid_model.cv_results_).head(3)"
      ],
      "execution_count": null,
      "outputs": [
        {
          "output_type": "execute_result",
          "data": {
            "text/html": [
              "<div>\n",
              "<style scoped>\n",
              "    .dataframe tbody tr th:only-of-type {\n",
              "        vertical-align: middle;\n",
              "    }\n",
              "\n",
              "    .dataframe tbody tr th {\n",
              "        vertical-align: top;\n",
              "    }\n",
              "\n",
              "    .dataframe thead th {\n",
              "        text-align: right;\n",
              "    }\n",
              "</style>\n",
              "<table border=\"1\" class=\"dataframe\">\n",
              "  <thead>\n",
              "    <tr style=\"text-align: right;\">\n",
              "      <th></th>\n",
              "      <th>mean_fit_time</th>\n",
              "      <th>std_fit_time</th>\n",
              "      <th>mean_score_time</th>\n",
              "      <th>std_score_time</th>\n",
              "      <th>param_alpha</th>\n",
              "      <th>param_l1_ratio</th>\n",
              "      <th>params</th>\n",
              "      <th>split0_test_score</th>\n",
              "      <th>split1_test_score</th>\n",
              "      <th>split2_test_score</th>\n",
              "      <th>split3_test_score</th>\n",
              "      <th>split4_test_score</th>\n",
              "      <th>mean_test_score</th>\n",
              "      <th>std_test_score</th>\n",
              "      <th>rank_test_score</th>\n",
              "    </tr>\n",
              "  </thead>\n",
              "  <tbody>\n",
              "    <tr>\n",
              "      <th>0</th>\n",
              "      <td>0.002645</td>\n",
              "      <td>0.001940</td>\n",
              "      <td>0.000785</td>\n",
              "      <td>0.000126</td>\n",
              "      <td>0.1</td>\n",
              "      <td>0.1</td>\n",
              "      <td>{'alpha': 0.1, 'l1_ratio': 0.1}</td>\n",
              "      <td>-3.453021</td>\n",
              "      <td>-1.405190</td>\n",
              "      <td>-5.789125</td>\n",
              "      <td>-2.187302</td>\n",
              "      <td>-4.645576</td>\n",
              "      <td>-3.496043</td>\n",
              "      <td>1.591601</td>\n",
              "      <td>7</td>\n",
              "    </tr>\n",
              "    <tr>\n",
              "      <th>1</th>\n",
              "      <td>0.001029</td>\n",
              "      <td>0.000231</td>\n",
              "      <td>0.000554</td>\n",
              "      <td>0.000190</td>\n",
              "      <td>0.1</td>\n",
              "      <td>0.5</td>\n",
              "      <td>{'alpha': 0.1, 'l1_ratio': 0.5}</td>\n",
              "      <td>-3.325440</td>\n",
              "      <td>-1.427522</td>\n",
              "      <td>-5.595610</td>\n",
              "      <td>-2.163089</td>\n",
              "      <td>-4.451679</td>\n",
              "      <td>-3.392668</td>\n",
              "      <td>1.506827</td>\n",
              "      <td>6</td>\n",
              "    </tr>\n",
              "    <tr>\n",
              "      <th>2</th>\n",
              "      <td>0.000722</td>\n",
              "      <td>0.000038</td>\n",
              "      <td>0.000371</td>\n",
              "      <td>0.000011</td>\n",
              "      <td>0.1</td>\n",
              "      <td>0.7</td>\n",
              "      <td>{'alpha': 0.1, 'l1_ratio': 0.7}</td>\n",
              "      <td>-3.269880</td>\n",
              "      <td>-1.442432</td>\n",
              "      <td>-5.502437</td>\n",
              "      <td>-2.163950</td>\n",
              "      <td>-4.356738</td>\n",
              "      <td>-3.347088</td>\n",
              "      <td>1.462765</td>\n",
              "      <td>5</td>\n",
              "    </tr>\n",
              "  </tbody>\n",
              "</table>\n",
              "</div>"
            ],
            "text/plain": [
              "   mean_fit_time  std_fit_time  ...  std_test_score  rank_test_score\n",
              "0       0.002645      0.001940  ...        1.591601                7\n",
              "1       0.001029      0.000231  ...        1.506827                6\n",
              "2       0.000722      0.000038  ...        1.462765                5\n",
              "\n",
              "[3 rows x 15 columns]"
            ]
          },
          "metadata": {
            "tags": []
          },
          "execution_count": 76
        }
      ]
    },
    {
      "cell_type": "markdown",
      "metadata": {
        "id": "pvyyTjefulgH"
      },
      "source": [
        "## **C. Using Best Model From Grid Search for Evaluation**"
      ]
    },
    {
      "cell_type": "code",
      "metadata": {
        "id": "QkR2ajS4ulgI"
      },
      "source": [
        "y_pred = grid_model.predict(scaled_X_test)"
      ],
      "execution_count": null,
      "outputs": []
    },
    {
      "cell_type": "code",
      "metadata": {
        "id": "znDMxmoPulgI"
      },
      "source": [
        "from sklearn.metrics import mean_squared_error"
      ],
      "execution_count": null,
      "outputs": []
    },
    {
      "cell_type": "code",
      "metadata": {
        "id": "Nt-6EvT2ulgJ",
        "colab": {
          "base_uri": "https://localhost:8080/"
        },
        "outputId": "56092d68-46cf-405f-cb15-6050d2a6c43e"
      },
      "source": [
        "mean_squared_error(y_test,y_pred)"
      ],
      "execution_count": null,
      "outputs": [
        {
          "output_type": "execute_result",
          "data": {
            "text/plain": [
              "2.387342642087474"
            ]
          },
          "metadata": {
            "tags": []
          },
          "execution_count": 79
        }
      ]
    },
    {
      "cell_type": "markdown",
      "metadata": {
        "id": "04RinLXF-Qqj"
      },
      "source": [
        "----\n",
        "----"
      ]
    }
  ]
}