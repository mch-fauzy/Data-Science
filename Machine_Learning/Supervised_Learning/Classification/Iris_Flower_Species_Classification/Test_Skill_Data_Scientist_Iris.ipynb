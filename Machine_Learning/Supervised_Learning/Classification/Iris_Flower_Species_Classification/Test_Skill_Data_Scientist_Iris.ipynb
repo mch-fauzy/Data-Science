{
  "nbformat": 4,
  "nbformat_minor": 0,
  "metadata": {
    "colab": {
      "name": "Test Skill Data Scientist Iris.ipynb",
      "provenance": [],
      "collapsed_sections": [],
      "toc_visible": true
    },
    "kernelspec": {
      "name": "python3",
      "display_name": "Python 3"
    },
    "language_info": {
      "name": "python"
    }
  },
  "cells": [
    {
      "cell_type": "markdown",
      "metadata": {
        "id": "OWG22ji3Px1K"
      },
      "source": [
        "---\n",
        "---"
      ]
    },
    {
      "cell_type": "markdown",
      "metadata": {
        "id": "lEXgnjDWPuN7"
      },
      "source": [
        "# **1 -  Data Set**"
      ]
    },
    {
      "cell_type": "markdown",
      "metadata": {
        "id": "_aJt9Z_4X9pq"
      },
      "source": [
        "Import Libraries"
      ]
    },
    {
      "cell_type": "code",
      "metadata": {
        "id": "U-xKIotnRdMk"
      },
      "source": [
        "import pandas as pd\n",
        "import seaborn as sns\n",
        "import matplotlib.pyplot as plt\n",
        "import numpy as np"
      ],
      "execution_count": 1,
      "outputs": []
    },
    {
      "cell_type": "markdown",
      "metadata": {
        "id": "RSJ1Jc3WX7_a"
      },
      "source": [
        "Read Data Set"
      ]
    },
    {
      "cell_type": "code",
      "metadata": {
        "id": "-WVN3A9mRohC"
      },
      "source": [
        "df = pd.read_csv('/content/drive/MyDrive/Data_Science/Dataset/Iris/Dataset_Iris.csv', sep=';')"
      ],
      "execution_count": 2,
      "outputs": []
    },
    {
      "cell_type": "markdown",
      "metadata": {
        "id": "0ke4J0RgX5jS"
      },
      "source": [
        "Print 5 baris pertama"
      ]
    },
    {
      "cell_type": "code",
      "metadata": {
        "colab": {
          "base_uri": "https://localhost:8080/",
          "height": 206
        },
        "id": "xHouJY3dRxED",
        "outputId": "ceb23d6d-3ee2-4c4c-b89e-c3066fadff5b"
      },
      "source": [
        "df.head()"
      ],
      "execution_count": 3,
      "outputs": [
        {
          "output_type": "execute_result",
          "data": {
            "text/html": [
              "<div>\n",
              "<style scoped>\n",
              "    .dataframe tbody tr th:only-of-type {\n",
              "        vertical-align: middle;\n",
              "    }\n",
              "\n",
              "    .dataframe tbody tr th {\n",
              "        vertical-align: top;\n",
              "    }\n",
              "\n",
              "    .dataframe thead th {\n",
              "        text-align: right;\n",
              "    }\n",
              "</style>\n",
              "<table border=\"1\" class=\"dataframe\">\n",
              "  <thead>\n",
              "    <tr style=\"text-align: right;\">\n",
              "      <th></th>\n",
              "      <th>Id</th>\n",
              "      <th>SepalLengthCm</th>\n",
              "      <th>SepalWidthCm</th>\n",
              "      <th>PetalLengthCm</th>\n",
              "      <th>PetalWidthCm</th>\n",
              "      <th>Species</th>\n",
              "    </tr>\n",
              "  </thead>\n",
              "  <tbody>\n",
              "    <tr>\n",
              "      <th>0</th>\n",
              "      <td>1</td>\n",
              "      <td>4.3</td>\n",
              "      <td>3.0</td>\n",
              "      <td>1.1</td>\n",
              "      <td>0.1</td>\n",
              "      <td>Iris-setosa</td>\n",
              "    </tr>\n",
              "    <tr>\n",
              "      <th>1</th>\n",
              "      <td>7</td>\n",
              "      <td>4.4</td>\n",
              "      <td>3.0</td>\n",
              "      <td>1.3</td>\n",
              "      <td>0.2</td>\n",
              "      <td>Iris-setosa</td>\n",
              "    </tr>\n",
              "    <tr>\n",
              "      <th>2</th>\n",
              "      <td>8</td>\n",
              "      <td>4.4</td>\n",
              "      <td>3.2</td>\n",
              "      <td>1.3</td>\n",
              "      <td>0.2</td>\n",
              "      <td>Iris-setosa</td>\n",
              "    </tr>\n",
              "    <tr>\n",
              "      <th>3</th>\n",
              "      <td>11</td>\n",
              "      <td>4.4</td>\n",
              "      <td>NaN</td>\n",
              "      <td>1.4</td>\n",
              "      <td>0.2</td>\n",
              "      <td>Iris-setosa</td>\n",
              "    </tr>\n",
              "    <tr>\n",
              "      <th>4</th>\n",
              "      <td>30</td>\n",
              "      <td>4.5</td>\n",
              "      <td>2.3</td>\n",
              "      <td>1.3</td>\n",
              "      <td>0.3</td>\n",
              "      <td>Iris-setosa</td>\n",
              "    </tr>\n",
              "  </tbody>\n",
              "</table>\n",
              "</div>"
            ],
            "text/plain": [
              "   Id  SepalLengthCm  SepalWidthCm  PetalLengthCm  PetalWidthCm      Species\n",
              "0   1            4.3           3.0            1.1           0.1  Iris-setosa\n",
              "1   7            4.4           3.0            1.3           0.2  Iris-setosa\n",
              "2   8            4.4           3.2            1.3           0.2  Iris-setosa\n",
              "3  11            4.4           NaN            1.4           0.2  Iris-setosa\n",
              "4  30            4.5           2.3            1.3           0.3  Iris-setosa"
            ]
          },
          "metadata": {
            "tags": []
          },
          "execution_count": 3
        }
      ]
    },
    {
      "cell_type": "markdown",
      "metadata": {
        "id": "kUa75OPcX31l"
      },
      "source": [
        "Cek Ukuran Data Set"
      ]
    },
    {
      "cell_type": "code",
      "metadata": {
        "colab": {
          "base_uri": "https://localhost:8080/"
        },
        "id": "jFNbWEQdR4cq",
        "outputId": "ae78ed8a-ab3b-4615-8f9f-6858bc6caef5"
      },
      "source": [
        "df.shape"
      ],
      "execution_count": 4,
      "outputs": [
        {
          "output_type": "execute_result",
          "data": {
            "text/plain": [
              "(135, 6)"
            ]
          },
          "metadata": {
            "tags": []
          },
          "execution_count": 4
        }
      ]
    },
    {
      "cell_type": "markdown",
      "metadata": {
        "id": "lfjJDEl3X2DD"
      },
      "source": [
        "Drop Id column"
      ]
    },
    {
      "cell_type": "code",
      "metadata": {
        "id": "KqZYTuFPSFCk"
      },
      "source": [
        "df = df.drop('Id', axis=1)"
      ],
      "execution_count": 5,
      "outputs": []
    },
    {
      "cell_type": "markdown",
      "metadata": {
        "id": "Y-nF12JiXyx0"
      },
      "source": [
        "Info Data Set"
      ]
    },
    {
      "cell_type": "code",
      "metadata": {
        "colab": {
          "base_uri": "https://localhost:8080/"
        },
        "id": "Elu6ptmlR61v",
        "outputId": "04ebde7a-1de0-4789-dc53-6839292ac3a1"
      },
      "source": [
        "df.info()"
      ],
      "execution_count": 6,
      "outputs": [
        {
          "output_type": "stream",
          "text": [
            "<class 'pandas.core.frame.DataFrame'>\n",
            "RangeIndex: 135 entries, 0 to 134\n",
            "Data columns (total 5 columns):\n",
            " #   Column         Non-Null Count  Dtype  \n",
            "---  ------         --------------  -----  \n",
            " 0   SepalLengthCm  130 non-null    float64\n",
            " 1   SepalWidthCm   132 non-null    float64\n",
            " 2   PetalLengthCm  133 non-null    float64\n",
            " 3   PetalWidthCm   132 non-null    float64\n",
            " 4   Species        135 non-null    object \n",
            "dtypes: float64(4), object(1)\n",
            "memory usage: 5.4+ KB\n"
          ],
          "name": "stdout"
        }
      ]
    },
    {
      "cell_type": "markdown",
      "metadata": {
        "id": "R-rgYJPGXyDm"
      },
      "source": [
        "Copy Dataset"
      ]
    },
    {
      "cell_type": "code",
      "metadata": {
        "id": "G9yd0WDeUQzO"
      },
      "source": [
        "df_copy = df.copy()"
      ],
      "execution_count": 7,
      "outputs": []
    },
    {
      "cell_type": "markdown",
      "metadata": {
        "id": "5GPMxhmsTZdx"
      },
      "source": [
        "---\n",
        "---"
      ]
    },
    {
      "cell_type": "markdown",
      "metadata": {
        "id": "vz8v3l1OTZ3j"
      },
      "source": [
        "# **2 - Exploratory Data Analysis and Feature Engineering**"
      ]
    },
    {
      "cell_type": "markdown",
      "metadata": {
        "id": "mquz7ur_YUMj"
      },
      "source": [
        "## **A. Dealing with Missing Value**"
      ]
    },
    {
      "cell_type": "markdown",
      "metadata": {
        "id": "c_fbMp7hXtvY"
      },
      "source": [
        "Cek Missing Value"
      ]
    },
    {
      "cell_type": "code",
      "metadata": {
        "colab": {
          "base_uri": "https://localhost:8080/"
        },
        "id": "a7JB7KbnSLui",
        "outputId": "84825278-5c04-40bc-a321-eaed6cb0e5fd"
      },
      "source": [
        "df_copy.isnull().sum()"
      ],
      "execution_count": 8,
      "outputs": [
        {
          "output_type": "execute_result",
          "data": {
            "text/plain": [
              "SepalLengthCm    5\n",
              "SepalWidthCm     3\n",
              "PetalLengthCm    2\n",
              "PetalWidthCm     3\n",
              "Species          0\n",
              "dtype: int64"
            ]
          },
          "metadata": {
            "tags": []
          },
          "execution_count": 8
        }
      ]
    },
    {
      "cell_type": "markdown",
      "metadata": {
        "id": "YAKCV7f_q_mW"
      },
      "source": [
        "Cek Outlier dengan boxplot"
      ]
    },
    {
      "cell_type": "code",
      "metadata": {
        "colab": {
          "base_uri": "https://localhost:8080/",
          "height": 289
        },
        "id": "16MXO6kjqbLO",
        "outputId": "35fe6bf2-eec5-43ab-c6e1-db59def57606"
      },
      "source": [
        "fig, axes = plt.subplots(1, 2, figsize=(12,4), dpi=75)\n",
        "\n",
        "for i in range(2):\n",
        "    sns.boxplot(x=df_copy.drop('Species',axis=1).columns[i], data=df_copy, ax=axes[i])"
      ],
      "execution_count": 9,
      "outputs": [
        {
          "output_type": "display_data",
          "data": {
            "image/png": "[encoded data removed]",
            "text/plain": [
              "<Figure size 900x300 with 2 Axes>"
            ]
          },
          "metadata": {
            "tags": [],
            "needs_background": "light"
          }
        }
      ]
    },
    {
      "cell_type": "markdown",
      "metadata": {
        "id": "LnPIAeURq5kv"
      },
      "source": [
        "Sepal Width memilki outlier"
      ]
    },
    {
      "cell_type": "code",
      "metadata": {
        "colab": {
          "base_uri": "https://localhost:8080/",
          "height": 289
        },
        "id": "QLcL50cgmikw",
        "outputId": "eaba3465-e7d7-471f-9f57-3880295691a4"
      },
      "source": [
        "fig, axes = plt.subplots(1, 2, figsize=(12,4), dpi=75)\n",
        "\n",
        "for i in range(2):\n",
        "  sns.boxplot(x=df_copy.drop('Species',axis=1).columns[i+2], data=df_copy, ax=axes[i])"
      ],
      "execution_count": 10,
      "outputs": [
        {
          "output_type": "display_data",
          "data": {
            "image/png": "[encoded data removed]",
            "text/plain": [
              "<Figure size 900x300 with 2 Axes>"
            ]
          },
          "metadata": {
            "tags": [],
            "needs_background": "light"
          }
        }
      ]
    },
    {
      "cell_type": "markdown",
      "metadata": {
        "id": "oHKeAshhYBW7"
      },
      "source": [
        "Cek Descriptive Statistics"
      ]
    },
    {
      "cell_type": "code",
      "metadata": {
        "colab": {
          "base_uri": "https://localhost:8080/",
          "height": 175
        },
        "id": "4BbGLvA1SQUK",
        "outputId": "cba29d8d-3cb2-4582-81c2-18bc373731cf"
      },
      "source": [
        "df_copy.describe().transpose()"
      ],
      "execution_count": 11,
      "outputs": [
        {
          "output_type": "execute_result",
          "data": {
            "text/html": [
              "<div>\n",
              "<style scoped>\n",
              "    .dataframe tbody tr th:only-of-type {\n",
              "        vertical-align: middle;\n",
              "    }\n",
              "\n",
              "    .dataframe tbody tr th {\n",
              "        vertical-align: top;\n",
              "    }\n",
              "\n",
              "    .dataframe thead th {\n",
              "        text-align: right;\n",
              "    }\n",
              "</style>\n",
              "<table border=\"1\" class=\"dataframe\">\n",
              "  <thead>\n",
              "    <tr style=\"text-align: right;\">\n",
              "      <th></th>\n",
              "      <th>count</th>\n",
              "      <th>mean</th>\n",
              "      <th>std</th>\n",
              "      <th>min</th>\n",
              "      <th>25%</th>\n",
              "      <th>50%</th>\n",
              "      <th>75%</th>\n",
              "      <th>max</th>\n",
              "    </tr>\n",
              "  </thead>\n",
              "  <tbody>\n",
              "    <tr>\n",
              "      <th>SepalLengthCm</th>\n",
              "      <td>130.0</td>\n",
              "      <td>5.838462</td>\n",
              "      <td>0.842052</td>\n",
              "      <td>4.3</td>\n",
              "      <td>5.1</td>\n",
              "      <td>5.8</td>\n",
              "      <td>6.4</td>\n",
              "      <td>7.9</td>\n",
              "    </tr>\n",
              "    <tr>\n",
              "      <th>SepalWidthCm</th>\n",
              "      <td>132.0</td>\n",
              "      <td>3.037121</td>\n",
              "      <td>0.416163</td>\n",
              "      <td>2.0</td>\n",
              "      <td>2.8</td>\n",
              "      <td>3.0</td>\n",
              "      <td>3.3</td>\n",
              "      <td>4.2</td>\n",
              "    </tr>\n",
              "    <tr>\n",
              "      <th>PetalLengthCm</th>\n",
              "      <td>133.0</td>\n",
              "      <td>3.790226</td>\n",
              "      <td>1.762439</td>\n",
              "      <td>1.1</td>\n",
              "      <td>1.6</td>\n",
              "      <td>4.4</td>\n",
              "      <td>5.1</td>\n",
              "      <td>6.9</td>\n",
              "    </tr>\n",
              "    <tr>\n",
              "      <th>PetalWidthCm</th>\n",
              "      <td>132.0</td>\n",
              "      <td>1.207576</td>\n",
              "      <td>0.768822</td>\n",
              "      <td>0.1</td>\n",
              "      <td>0.3</td>\n",
              "      <td>1.3</td>\n",
              "      <td>1.8</td>\n",
              "      <td>2.5</td>\n",
              "    </tr>\n",
              "  </tbody>\n",
              "</table>\n",
              "</div>"
            ],
            "text/plain": [
              "               count      mean       std  min  25%  50%  75%  max\n",
              "SepalLengthCm  130.0  5.838462  0.842052  4.3  5.1  5.8  6.4  7.9\n",
              "SepalWidthCm   132.0  3.037121  0.416163  2.0  2.8  3.0  3.3  4.2\n",
              "PetalLengthCm  133.0  3.790226  1.762439  1.1  1.6  4.4  5.1  6.9\n",
              "PetalWidthCm   132.0  1.207576  0.768822  0.1  0.3  1.3  1.8  2.5"
            ]
          },
          "metadata": {
            "tags": []
          },
          "execution_count": 11
        }
      ]
    },
    {
      "cell_type": "markdown",
      "metadata": {
        "id": "DYMtISVvYDSg"
      },
      "source": [
        "Karena Sepal Length, Sepal Width dan Petal Width memiliki mean dan median yang hampir sama serta karena adanya outlier, maka fill missing value dengan median dari masing-masing feature dianggap lebih aman.\n"
      ]
    },
    {
      "cell_type": "code",
      "metadata": {
        "id": "aDjTC8SZUr06"
      },
      "source": [
        "df_copy['SepalLengthCm'] = df_copy['SepalLengthCm'].fillna(df_copy['SepalLengthCm'].median())\n",
        "df_copy['SepalWidthCm'] = df_copy['SepalWidthCm'].fillna(df_copy['SepalWidthCm'].median())\n",
        "df_copy['PetalWidthCm'] = df_copy['PetalWidthCm'].fillna(df_copy['PetalWidthCm'].median())"
      ],
      "execution_count": 12,
      "outputs": []
    },
    {
      "cell_type": "markdown",
      "metadata": {
        "id": "lA1xwqPRYFpz"
      },
      "source": [
        "Cek persentase missing value"
      ]
    },
    {
      "cell_type": "code",
      "metadata": {
        "colab": {
          "base_uri": "https://localhost:8080/"
        },
        "id": "sipKxXaWVxxt",
        "outputId": "bd073a56-72c2-4f93-8b1c-9cf91804dd12"
      },
      "source": [
        "np.round(100 * (df_copy.isnull().sum() / len(df_copy)),2)"
      ],
      "execution_count": 13,
      "outputs": [
        {
          "output_type": "execute_result",
          "data": {
            "text/plain": [
              "SepalLengthCm    0.00\n",
              "SepalWidthCm     0.00\n",
              "PetalLengthCm    1.48\n",
              "PetalWidthCm     0.00\n",
              "Species          0.00\n",
              "dtype: float64"
            ]
          },
          "metadata": {
            "tags": []
          },
          "execution_count": 13
        }
      ]
    },
    {
      "cell_type": "markdown",
      "metadata": {
        "id": "_sDU3md9YHiW"
      },
      "source": [
        "Karena percentase missing value hanya 1.48% maka drop baris tersebut"
      ]
    },
    {
      "cell_type": "code",
      "metadata": {
        "id": "bKLhwxpMWDEb"
      },
      "source": [
        "df_copy = df_copy.dropna()"
      ],
      "execution_count": 14,
      "outputs": []
    },
    {
      "cell_type": "markdown",
      "metadata": {
        "id": "p10qSgErYJvD"
      },
      "source": [
        "Cek ulang missing value"
      ]
    },
    {
      "cell_type": "code",
      "metadata": {
        "colab": {
          "base_uri": "https://localhost:8080/"
        },
        "id": "_9TZ_nG3WINy",
        "outputId": "03eb7d56-e9a5-4610-ee30-957ddc71328a"
      },
      "source": [
        "df_copy.isnull().sum()"
      ],
      "execution_count": 15,
      "outputs": [
        {
          "output_type": "execute_result",
          "data": {
            "text/plain": [
              "SepalLengthCm    0\n",
              "SepalWidthCm     0\n",
              "PetalLengthCm    0\n",
              "PetalWidthCm     0\n",
              "Species          0\n",
              "dtype: int64"
            ]
          },
          "metadata": {
            "tags": []
          },
          "execution_count": 15
        }
      ]
    },
    {
      "cell_type": "markdown",
      "metadata": {
        "id": "DwCLYv4WgiED"
      },
      "source": [
        "Update dataframe setelah di clean"
      ]
    },
    {
      "cell_type": "code",
      "metadata": {
        "id": "SMnrcnApgeFX"
      },
      "source": [
        "df_clean = df_copy.copy()"
      ],
      "execution_count": 16,
      "outputs": []
    },
    {
      "cell_type": "markdown",
      "metadata": {
        "id": "Hg9r2BFBXHuw"
      },
      "source": [
        "---"
      ]
    },
    {
      "cell_type": "markdown",
      "metadata": {
        "id": "Qr9mVRG8XIBS"
      },
      "source": [
        "## **B. Label Count**"
      ]
    },
    {
      "cell_type": "markdown",
      "metadata": {
        "id": "EVxUelnYbyDC"
      },
      "source": [
        "Plot jumlah tiap spesies"
      ]
    },
    {
      "cell_type": "code",
      "metadata": {
        "colab": {
          "base_uri": "https://localhost:8080/",
          "height": 289
        },
        "id": "xL7UAAKNXLB-",
        "outputId": "33c66d28-121b-44de-c931-22f42eaff5a0"
      },
      "source": [
        "plt.figure(figsize=(6,4),dpi=75)\n",
        "sns.countplot(data=df_clean, x='Species');"
      ],
      "execution_count": 17,
      "outputs": [
        {
          "output_type": "display_data",
          "data": {
            "image/png": "[encoded data removed]",
            "text/plain": [
              "<Figure size 450x300 with 1 Axes>"
            ]
          },
          "metadata": {
            "tags": [],
            "needs_background": "light"
          }
        }
      ]
    },
    {
      "cell_type": "code",
      "metadata": {
        "colab": {
          "base_uri": "https://localhost:8080/"
        },
        "id": "8ONk3sypXb7N",
        "outputId": "7901ebcd-e940-4956-f8da-dc5e7cc94161"
      },
      "source": [
        "df_clean['Species'].value_counts()"
      ],
      "execution_count": 18,
      "outputs": [
        {
          "output_type": "execute_result",
          "data": {
            "text/plain": [
              "Iris-virginica     45\n",
              "Iris-versicolor    44\n",
              "Iris-setosa        44\n",
              "Name: Species, dtype: int64"
            ]
          },
          "metadata": {
            "tags": []
          },
          "execution_count": 18
        }
      ]
    },
    {
      "cell_type": "markdown",
      "metadata": {
        "id": "VjV42MKNXfoa"
      },
      "source": [
        "Data set memiliki balance target (memiliki jumlah target yang hampir sama)"
      ]
    },
    {
      "cell_type": "markdown",
      "metadata": {
        "id": "305W0F-OYcEs"
      },
      "source": [
        "---"
      ]
    },
    {
      "cell_type": "markdown",
      "metadata": {
        "id": "q2Uai01yYd7Z"
      },
      "source": [
        "## **C. Features Correlation**"
      ]
    },
    {
      "cell_type": "markdown",
      "metadata": {
        "id": "xjiV1HNEb5Aj"
      },
      "source": [
        "Plot korelasi antar feature"
      ]
    },
    {
      "cell_type": "code",
      "metadata": {
        "id": "xXwmvNDfr2GM",
        "colab": {
          "base_uri": "https://localhost:8080/",
          "height": 393
        },
        "outputId": "2fe66444-a3f7-4f6d-e46b-d3ba87c54df3"
      },
      "source": [
        "plt.figure(figsize=(10,6),dpi=75)\n",
        "sns.heatmap(np.round(df_clean.corr(),2), annot=True, cmap='viridis')\n",
        "plt.yticks(rotation=0);"
      ],
      "execution_count": 19,
      "outputs": [
        {
          "output_type": "display_data",
          "data": {
            "image/png": "[encoded data removed]",
            "text/plain": [
              "<Figure size 750x450 with 2 Axes>"
            ]
          },
          "metadata": {
            "tags": [],
            "needs_background": "light"
          }
        }
      ]
    },
    {
      "cell_type": "markdown",
      "metadata": {
        "id": "DUtWm37OZJHY"
      },
      "source": [
        "Berdasarkan grafik korelasi diatas, Sepal Width memiliki korelasi negatif (jika Sepal Width semakin besar maka 3 feature lainnya semakin kecil dan sebaliknya) terhadap ketiga feature lainnya.\n",
        "\n",
        "Sedangkan 3 feature lainnya memilki korelasi positif satu sama lain."
      ]
    },
    {
      "cell_type": "markdown",
      "metadata": {
        "id": "dVO3h3DhbHFV"
      },
      "source": [
        "---"
      ]
    },
    {
      "cell_type": "markdown",
      "metadata": {
        "id": "qQiGrbF2GtYC"
      },
      "source": [
        "## **D. Features Relationship**"
      ]
    },
    {
      "cell_type": "markdown",
      "metadata": {
        "id": "SH6eYlzLcHbw"
      },
      "source": [
        "Plot hubungan dan distribusi tiap feature"
      ]
    },
    {
      "cell_type": "code",
      "metadata": {
        "id": "NguMDDbqr2GL",
        "colab": {
          "base_uri": "https://localhost:8080/",
          "height": 869
        },
        "outputId": "05a56e59-7cb1-4963-a135-4f6fabb3a90f"
      },
      "source": [
        "sns.pairplot(df_clean, hue='Species', corner=True, height=4);"
      ],
      "execution_count": 20,
      "outputs": [
        {
          "output_type": "display_data",
          "data": {
            "image/png": "[encoded data removed]",
            "text/plain": [
              "<Figure size 1255.25x1152 with 14 Axes>"
            ]
          },
          "metadata": {
            "tags": [],
            "needs_background": "light"
          }
        }
      ]
    },
    {
      "cell_type": "markdown",
      "metadata": {
        "id": "21KXfl_EJRPh"
      },
      "source": [
        "Berdasarkan grafik diatas, feature pada Iris mudah untuk dipisahkan (memili separasi yang jelas) dan semua feature cenderung memilki distribusi normal meskipun beberapa spesies ada yang skew."
      ]
    },
    {
      "cell_type": "markdown",
      "metadata": {
        "id": "Jz77FCrwHX4r"
      },
      "source": [
        "Mari kita zoom salah satu feature yang mudah diamati"
      ]
    },
    {
      "cell_type": "code",
      "metadata": {
        "id": "hnWuGihEr2GK",
        "colab": {
          "base_uri": "https://localhost:8080/",
          "height": 419
        },
        "outputId": "a8b04dfd-b141-43c7-9bfb-1f86aa680b70"
      },
      "source": [
        "plt.figure(figsize=(10,6),dpi=75)\n",
        "sns.scatterplot(x='PetalLengthCm', y='PetalWidthCm', data=df_clean, hue='Species')\n",
        "plt.title('Petal Lenght vs Petal Width');"
      ],
      "execution_count": 21,
      "outputs": [
        {
          "output_type": "display_data",
          "data": {
            "image/png": "[encoded data removed]",
            "text/plain": [
              "<Figure size 750x450 with 1 Axes>"
            ]
          },
          "metadata": {
            "tags": [],
            "needs_background": "light"
          }
        }
      ]
    },
    {
      "cell_type": "markdown",
      "metadata": {
        "id": "4sw9j4noHgcb"
      },
      "source": [
        "Berdasarkan grafik Petal Length vs Petal Width, kita dapat dengan mudah mengenali tiap spesiesnya."
      ]
    },
    {
      "cell_type": "code",
      "metadata": {
        "colab": {
          "base_uri": "https://localhost:8080/",
          "height": 419
        },
        "id": "trQ_Fz7EdWAI",
        "outputId": "10f15ba5-dd21-406c-a1e2-ad38656b6528"
      },
      "source": [
        "plt.figure(figsize=(10,6),dpi=75)\n",
        "sns.scatterplot(x='SepalLengthCm', y='SepalWidthCm', data=df_clean, hue='Species')\n",
        "plt.title('Sepal Lenght vs Sepal Width');"
      ],
      "execution_count": 22,
      "outputs": [
        {
          "output_type": "display_data",
          "data": {
            "image/png": "[encoded data removed]",
            "text/plain": [
              "<Figure size 750x450 with 1 Axes>"
            ]
          },
          "metadata": {
            "tags": [],
            "needs_background": "light"
          }
        }
      ]
    },
    {
      "cell_type": "markdown",
      "metadata": {
        "id": "4_42kgwCdfD1"
      },
      "source": [
        "Untuk feature Sepal Length dan Sepal Width cukup susah untuk dikenali tetapi tetap bisa dipisahkan dengan cara mentransformasi ke dimensi yang lebih tinggi misalnya 3D dimension."
      ]
    },
    {
      "cell_type": "markdown",
      "metadata": {
        "id": "NPz9-QogIOP7"
      },
      "source": [
        "---\n",
        "---"
      ]
    },
    {
      "cell_type": "markdown",
      "metadata": {
        "id": "M0uY2qY-eo6M"
      },
      "source": [
        "# **3 - Machine Learning Model**"
      ]
    },
    {
      "cell_type": "markdown",
      "metadata": {
        "id": "5E5FGIP0ex78"
      },
      "source": [
        "## **A. Setup**"
      ]
    },
    {
      "cell_type": "markdown",
      "metadata": {
        "id": "aSX80yBer2GP"
      },
      "source": [
        "### **a. Train | Test Split**\n",
        "\n",
        "Kita split data agar model dapat meng-evaluasi secara fair dan menghindari overfitting"
      ]
    },
    {
      "cell_type": "code",
      "metadata": {
        "id": "C5NqKALJr2GP"
      },
      "source": [
        "X = df_clean.drop('Species',axis=1)\n",
        "y = df_clean['Species']"
      ],
      "execution_count": 23,
      "outputs": []
    },
    {
      "cell_type": "code",
      "metadata": {
        "id": "Y_f9Q5iir2GQ"
      },
      "source": [
        "from sklearn.model_selection import train_test_split"
      ],
      "execution_count": 24,
      "outputs": []
    },
    {
      "cell_type": "markdown",
      "metadata": {
        "id": "H2Y5wDAVfWzU"
      },
      "source": [
        "Split dengan rasio test size sebesar 25% dari keseluruhan data"
      ]
    },
    {
      "cell_type": "code",
      "metadata": {
        "id": "3s7H4jdIr2GQ"
      },
      "source": [
        "X_train, X_test, y_train, y_test = train_test_split(X, y, test_size=0.25, random_state=42)"
      ],
      "execution_count": 25,
      "outputs": []
    },
    {
      "cell_type": "code",
      "metadata": {
        "colab": {
          "base_uri": "https://localhost:8080/"
        },
        "id": "X4k8yR-pKe2I",
        "outputId": "03f990d1-7ace-402c-e9d2-a6cf08c3b8df"
      },
      "source": [
        "X_train.shape"
      ],
      "execution_count": 26,
      "outputs": [
        {
          "output_type": "execute_result",
          "data": {
            "text/plain": [
              "(99, 4)"
            ]
          },
          "metadata": {
            "tags": []
          },
          "execution_count": 26
        }
      ]
    },
    {
      "cell_type": "code",
      "metadata": {
        "colab": {
          "base_uri": "https://localhost:8080/"
        },
        "id": "x55HEzoFKhCA",
        "outputId": "51309471-7139-4f51-f513-0288e35894bb"
      },
      "source": [
        "X_test.shape"
      ],
      "execution_count": 27,
      "outputs": [
        {
          "output_type": "execute_result",
          "data": {
            "text/plain": [
              "(34, 4)"
            ]
          },
          "metadata": {
            "tags": []
          },
          "execution_count": 27
        }
      ]
    },
    {
      "cell_type": "markdown",
      "metadata": {
        "id": "KxhHPLJQflG1"
      },
      "source": [
        "---"
      ]
    },
    {
      "cell_type": "markdown",
      "metadata": {
        "id": "p_n6awvqKbwc"
      },
      "source": [
        "### **b. Standardization**\n",
        "\n",
        "Scale data agar memiliki mean = 0 dan standard deviasi = 1"
      ]
    },
    {
      "cell_type": "code",
      "metadata": {
        "id": "QOkUSvO7K19Q"
      },
      "source": [
        "from sklearn.preprocessing import StandardScaler"
      ],
      "execution_count": 28,
      "outputs": []
    },
    {
      "cell_type": "code",
      "metadata": {
        "id": "1Pyv45ylr2GQ"
      },
      "source": [
        "scaler = StandardScaler()"
      ],
      "execution_count": 29,
      "outputs": []
    },
    {
      "cell_type": "markdown",
      "metadata": {
        "id": "eIQTr8Xzfox8"
      },
      "source": [
        "Fit dan Transform hanya pada training data untuk menghindari data leakage ke test data"
      ]
    },
    {
      "cell_type": "code",
      "metadata": {
        "id": "hsr4FvQYK6ry"
      },
      "source": [
        "scaled_X_train = scaler.fit_transform(X_train)"
      ],
      "execution_count": 30,
      "outputs": []
    },
    {
      "cell_type": "code",
      "metadata": {
        "id": "fvA9q6KEK6rz"
      },
      "source": [
        "scaled_X_test = scaler.transform(X_test)"
      ],
      "execution_count": 31,
      "outputs": []
    },
    {
      "cell_type": "markdown",
      "metadata": {
        "id": "oKjQ6fzjLDx6"
      },
      "source": [
        "---"
      ]
    },
    {
      "cell_type": "markdown",
      "metadata": {
        "id": "DEd1Tv6ROAXy"
      },
      "source": [
        "## **B. Base Model Comparison**\n",
        "\n",
        "Kita cari model yang memiliki score tertinggi berdasarkan cross validation"
      ]
    },
    {
      "cell_type": "code",
      "metadata": {
        "id": "1GFq0GgFOgEt"
      },
      "source": [
        "from sklearn.linear_model import LogisticRegression\n",
        "from sklearn.neighbors import KNeighborsClassifier\n",
        "from sklearn.svm import SVC\n",
        "from sklearn.tree import DecisionTreeClassifier\n",
        "from sklearn.ensemble import RandomForestClassifier, AdaBoostClassifier"
      ],
      "execution_count": 32,
      "outputs": []
    },
    {
      "cell_type": "code",
      "metadata": {
        "id": "lw6j4cl9QPJG"
      },
      "source": [
        "model_list = [('Log_Reg', LogisticRegression()), \n",
        "              ('KNN', KNeighborsClassifier()), \n",
        "              ('SVC', SVC()), \n",
        "              ('DT', DecisionTreeClassifier()), \n",
        "              ('RF', RandomForestClassifier()), \n",
        "              ('AB', AdaBoostClassifier())]"
      ],
      "execution_count": 33,
      "outputs": []
    },
    {
      "cell_type": "code",
      "metadata": {
        "colab": {
          "base_uri": "https://localhost:8080/"
        },
        "id": "QPVtgKwMOM1G",
        "outputId": "416205ae-1181-4b2d-f230-676799f31547"
      },
      "source": [
        "from sklearn.model_selection import cross_val_score\n",
        "\n",
        "for name, model in model_list:\n",
        "  scores = cross_val_score(model, scaled_X_train, y_train,\n",
        "                           scoring='accuracy', cv=5)\n",
        "  print(f'{name:<7}: {scores.mean():.5f}')"
      ],
      "execution_count": 34,
      "outputs": [
        {
          "output_type": "stream",
          "text": [
            "Log_Reg: 0.95947\n",
            "KNN    : 0.96947\n",
            "SVC    : 0.96947\n",
            "DT     : 0.91947\n",
            "RF     : 0.95947\n",
            "AB     : 0.94000\n"
          ],
          "name": "stdout"
        }
      ]
    },
    {
      "cell_type": "markdown",
      "metadata": {
        "id": "PZvp7p5dSyFO"
      },
      "source": [
        "SVC (Support Vector Classifier) dan KNN (K Nearest Neighbors) memilki score tertinggi, coba kita gunakan SVC sebagai model kita"
      ]
    },
    {
      "cell_type": "markdown",
      "metadata": {
        "id": "LsTK7TbuUwZg"
      },
      "source": [
        "---"
      ]
    },
    {
      "cell_type": "markdown",
      "metadata": {
        "id": "rZX37yTrhQLz"
      },
      "source": [
        "## **C. SVC with GridSearch**"
      ]
    },
    {
      "cell_type": "markdown",
      "metadata": {
        "id": "m_f7Ritghnjn"
      },
      "source": [
        "Deklarasi SVC model"
      ]
    },
    {
      "cell_type": "code",
      "metadata": {
        "id": "SF98QMy2Also"
      },
      "source": [
        "svc = SVC()"
      ],
      "execution_count": 35,
      "outputs": []
    },
    {
      "cell_type": "markdown",
      "metadata": {
        "id": "7B8iFP9ah1GU"
      },
      "source": [
        "Gunakan Grid Search untuk mencari parameter terbaik untuk SVC"
      ]
    },
    {
      "cell_type": "code",
      "metadata": {
        "id": "SoPyvhUF-tky"
      },
      "source": [
        "from sklearn.model_selection import GridSearchCV"
      ],
      "execution_count": 36,
      "outputs": []
    },
    {
      "cell_type": "code",
      "metadata": {
        "id": "nDgaf5pZBGt4"
      },
      "source": [
        "param_grid = {'C':[0.01, 0.1, 1, 5, 10], # parameter regularization\n",
        "              'kernel':['linear','rbf'],\n",
        "              'gamma':['scale','auto']}"
      ],
      "execution_count": 37,
      "outputs": []
    },
    {
      "cell_type": "code",
      "metadata": {
        "id": "eOXZprmC-tky"
      },
      "source": [
        "grid_svc_model = GridSearchCV(svc,\n",
        "                              param_grid,\n",
        "                              cv=5)"
      ],
      "execution_count": 38,
      "outputs": []
    },
    {
      "cell_type": "markdown",
      "metadata": {
        "id": "MIavsCTdr9XE"
      },
      "source": [
        "---"
      ]
    },
    {
      "cell_type": "markdown",
      "metadata": {
        "id": "HCypLBYSrwVu"
      },
      "source": [
        "### **a. Train Model**"
      ]
    },
    {
      "cell_type": "code",
      "metadata": {
        "id": "2uomuHDn-tky",
        "colab": {
          "base_uri": "https://localhost:8080/"
        },
        "outputId": "1480261a-2c8a-4997-a523-df6ba5fd622c"
      },
      "source": [
        "grid_svc_model.fit(scaled_X_train, y_train)"
      ],
      "execution_count": 39,
      "outputs": [
        {
          "output_type": "execute_result",
          "data": {
            "text/plain": [
              "GridSearchCV(cv=5, error_score=nan,\n",
              "             estimator=SVC(C=1.0, break_ties=False, cache_size=200,\n",
              "                           class_weight=None, coef0=0.0,\n",
              "                           decision_function_shape='ovr', degree=3,\n",
              "                           gamma='scale', kernel='rbf', max_iter=-1,\n",
              "                           probability=False, random_state=None, shrinking=True,\n",
              "                           tol=0.001, verbose=False),\n",
              "             iid='deprecated', n_jobs=None,\n",
              "             param_grid={'C': [0.01, 0.1, 1, 5, 10], 'gamma': ['scale', 'auto'],\n",
              "                         'kernel': ['linear', 'rbf']},\n",
              "             pre_dispatch='2*n_jobs', refit=True, return_train_score=False,\n",
              "             scoring=None, verbose=0)"
            ]
          },
          "metadata": {
            "tags": []
          },
          "execution_count": 39
        }
      ]
    },
    {
      "cell_type": "markdown",
      "metadata": {
        "id": "3dffJUfIsHFV"
      },
      "source": [
        "---"
      ]
    },
    {
      "cell_type": "markdown",
      "metadata": {
        "id": "0H-mCxRKiXgh"
      },
      "source": [
        "### **b. Model Best Parameters**"
      ]
    },
    {
      "cell_type": "code",
      "metadata": {
        "id": "yk5ItRfU-tk0",
        "colab": {
          "base_uri": "https://localhost:8080/"
        },
        "outputId": "a7c88e8f-02a4-450e-cb69-3ce237eefcd3"
      },
      "source": [
        "grid_svc_model.best_params_"
      ],
      "execution_count": 40,
      "outputs": [
        {
          "output_type": "execute_result",
          "data": {
            "text/plain": [
              "{'C': 5, 'gamma': 'scale', 'kernel': 'linear'}"
            ]
          },
          "metadata": {
            "tags": []
          },
          "execution_count": 40
        }
      ]
    },
    {
      "cell_type": "markdown",
      "metadata": {
        "id": "o6k04UbqsH48"
      },
      "source": [
        "---"
      ]
    },
    {
      "cell_type": "markdown",
      "metadata": {
        "id": "48JzBngzsIKR"
      },
      "source": [
        "### **c. Performance Evaluation**\n",
        "\n",
        "Dengan menggunakan Test Data (Hold-out data), mari kita evaluasi model kita"
      ]
    },
    {
      "cell_type": "code",
      "metadata": {
        "id": "gBFVupnAiLJl"
      },
      "source": [
        "from sklearn.metrics import classification_report, plot_confusion_matrix"
      ],
      "execution_count": 41,
      "outputs": []
    },
    {
      "cell_type": "code",
      "metadata": {
        "id": "BXTAaQ_fDVqK"
      },
      "source": [
        "y_pred = grid_svc_model.predict(scaled_X_test)"
      ],
      "execution_count": 42,
      "outputs": []
    },
    {
      "cell_type": "code",
      "metadata": {
        "colab": {
          "base_uri": "https://localhost:8080/",
          "height": 407
        },
        "id": "cKIqCNoqLlos",
        "outputId": "471f2479-197d-4936-a021-f48a2f01e383"
      },
      "source": [
        "fig, ax = plt.subplots(figsize=(8,6), dpi=75)\n",
        "plot_confusion_matrix(grid_svc_model, scaled_X_test, y_test, ax=ax, values_format='d')\n",
        "plt.show()"
      ],
      "execution_count": 43,
      "outputs": [
        {
          "output_type": "display_data",
          "data": {
            "image/png": "[encoded data removed]",
            "text/plain": [
              "<Figure size 600x450 with 2 Axes>"
            ]
          },
          "metadata": {
            "tags": [],
            "needs_background": "light"
          }
        }
      ]
    },
    {
      "cell_type": "markdown",
      "metadata": {
        "id": "iF6khS5msVcd"
      },
      "source": [
        "Tiap spesies dapat diprediksi dengan tepat"
      ]
    },
    {
      "cell_type": "code",
      "metadata": {
        "id": "P1zow9pZDVqL",
        "colab": {
          "base_uri": "https://localhost:8080/"
        },
        "outputId": "4eb49f1b-a1ac-418b-dabc-0280998d9b0a"
      },
      "source": [
        "print(classification_report(y_test, y_pred))"
      ],
      "execution_count": 44,
      "outputs": [
        {
          "output_type": "stream",
          "text": [
            "                 precision    recall  f1-score   support\n",
            "\n",
            "    Iris-setosa       1.00      1.00      1.00        14\n",
            "Iris-versicolor       1.00      1.00      1.00        11\n",
            " Iris-virginica       1.00      1.00      1.00         9\n",
            "\n",
            "       accuracy                           1.00        34\n",
            "      macro avg       1.00      1.00      1.00        34\n",
            "   weighted avg       1.00      1.00      1.00        34\n",
            "\n"
          ],
          "name": "stdout"
        }
      ]
    },
    {
      "cell_type": "markdown",
      "metadata": {
        "id": "t_4rHb3LsOlL"
      },
      "source": [
        "Model memiliki performa yang baik dengan precision, recall dan f1 score bernilai 1"
      ]
    },
    {
      "cell_type": "markdown",
      "metadata": {
        "id": "D5E5ISPRSwpF"
      },
      "source": [
        "---\n",
        "---"
      ]
    },
    {
      "cell_type": "markdown",
      "metadata": {
        "id": "UUzgN-wNsasG"
      },
      "source": [
        "# **4 - Finalizing Model**"
      ]
    },
    {
      "cell_type": "markdown",
      "metadata": {
        "id": "7xNSEwTKsf_1"
      },
      "source": [
        "Buat pipeline untuk model dengan menggunakan best parameter dari GridSearch"
      ]
    },
    {
      "cell_type": "code",
      "metadata": {
        "id": "oOB0v7K7s7gt"
      },
      "source": [
        "scaler = StandardScaler()"
      ],
      "execution_count": 48,
      "outputs": []
    },
    {
      "cell_type": "code",
      "metadata": {
        "id": "6ahm_uIqsiyY"
      },
      "source": [
        "svc = SVC(C=5, gamma='scale', kernel= 'linear')"
      ],
      "execution_count": 49,
      "outputs": []
    },
    {
      "cell_type": "markdown",
      "metadata": {
        "id": "bocA7GeStpjN"
      },
      "source": [
        "---"
      ]
    },
    {
      "cell_type": "markdown",
      "metadata": {
        "id": "oZAMefXStqeT"
      },
      "source": [
        "## **A. Using Pipeline**"
      ]
    },
    {
      "cell_type": "markdown",
      "metadata": {
        "id": "hlZKdlxfs-xc"
      },
      "source": [
        "Gunakan pipeline untuk mempermudah penggunaan model"
      ]
    },
    {
      "cell_type": "code",
      "metadata": {
        "id": "uwiaiB2LsdLn"
      },
      "source": [
        "from sklearn.pipeline import Pipeline"
      ],
      "execution_count": 50,
      "outputs": []
    },
    {
      "cell_type": "code",
      "metadata": {
        "id": "GNamCKhUtKoo"
      },
      "source": [
        "svc_pipe = Pipeline([('scaler', scaler), \n",
        "                     ('svc', svc)])"
      ],
      "execution_count": 51,
      "outputs": []
    },
    {
      "cell_type": "code",
      "metadata": {
        "colab": {
          "base_uri": "https://localhost:8080/"
        },
        "id": "-poEXq6TtoiG",
        "outputId": "e8cedbd8-924c-4ee1-8fb6-91123b7c2618"
      },
      "source": [
        "svc_pipe.fit(X,y)"
      ],
      "execution_count": 52,
      "outputs": [
        {
          "output_type": "execute_result",
          "data": {
            "text/plain": [
              "Pipeline(memory=None,\n",
              "         steps=[('scaler',\n",
              "                 StandardScaler(copy=True, with_mean=True, with_std=True)),\n",
              "                ('svc',\n",
              "                 SVC(C=5, break_ties=False, cache_size=200, class_weight=None,\n",
              "                     coef0=0.0, decision_function_shape='ovr', degree=3,\n",
              "                     gamma='scale', kernel='linear', max_iter=-1,\n",
              "                     probability=False, random_state=None, shrinking=True,\n",
              "                     tol=0.001, verbose=False))],\n",
              "         verbose=False)"
            ]
          },
          "metadata": {
            "tags": []
          },
          "execution_count": 52
        }
      ]
    },
    {
      "cell_type": "markdown",
      "metadata": {
        "id": "OCotE1b2t9f3"
      },
      "source": [
        "---"
      ]
    },
    {
      "cell_type": "markdown",
      "metadata": {
        "id": "3uA_xLkyt9_2"
      },
      "source": [
        "## **B. Prediction on New Data**\n",
        "Gunakan model yang telah kita buat untuk memprediksi data baru (tidak pernah dilihat oleh model)"
      ]
    },
    {
      "cell_type": "markdown",
      "metadata": {
        "id": "GAXqb4UAuEU9"
      },
      "source": [
        "Read data baru dari Data iris submission.csv"
      ]
    },
    {
      "cell_type": "code",
      "metadata": {
        "colab": {
          "base_uri": "https://localhost:8080/",
          "height": 520
        },
        "id": "E0sswtEauAGf",
        "outputId": "3fa4145e-0546-4f8a-a302-a5ab872fa3f1"
      },
      "source": [
        "col_list = X.columns\n",
        "new_data = pd.read_csv('/content/drive/MyDrive/Data_Science/Dataset/Iris/Data_iris_submission.csv', sep=';', usecols=col_list)\n",
        "new_data"
      ],
      "execution_count": 64,
      "outputs": [
        {
          "output_type": "execute_result",
          "data": {
            "text/html": [
              "<div>\n",
              "<style scoped>\n",
              "    .dataframe tbody tr th:only-of-type {\n",
              "        vertical-align: middle;\n",
              "    }\n",
              "\n",
              "    .dataframe tbody tr th {\n",
              "        vertical-align: top;\n",
              "    }\n",
              "\n",
              "    .dataframe thead th {\n",
              "        text-align: right;\n",
              "    }\n",
              "</style>\n",
              "<table border=\"1\" class=\"dataframe\">\n",
              "  <thead>\n",
              "    <tr style=\"text-align: right;\">\n",
              "      <th></th>\n",
              "      <th>SepalLengthCm</th>\n",
              "      <th>SepalWidthCm</th>\n",
              "      <th>PetalLengthCm</th>\n",
              "      <th>PetalWidthCm</th>\n",
              "    </tr>\n",
              "  </thead>\n",
              "  <tbody>\n",
              "    <tr>\n",
              "      <th>0</th>\n",
              "      <td>4.6</td>\n",
              "      <td>3.6</td>\n",
              "      <td>1.0</td>\n",
              "      <td>0.2</td>\n",
              "    </tr>\n",
              "    <tr>\n",
              "      <th>1</th>\n",
              "      <td>5.0</td>\n",
              "      <td>3.2</td>\n",
              "      <td>1.2</td>\n",
              "      <td>0.2</td>\n",
              "    </tr>\n",
              "    <tr>\n",
              "      <th>2</th>\n",
              "      <td>5.8</td>\n",
              "      <td>4.0</td>\n",
              "      <td>1.2</td>\n",
              "      <td>0.2</td>\n",
              "    </tr>\n",
              "    <tr>\n",
              "      <th>3</th>\n",
              "      <td>5.3</td>\n",
              "      <td>3.7</td>\n",
              "      <td>1.5</td>\n",
              "      <td>0.2</td>\n",
              "    </tr>\n",
              "    <tr>\n",
              "      <th>4</th>\n",
              "      <td>5.4</td>\n",
              "      <td>3.7</td>\n",
              "      <td>1.5</td>\n",
              "      <td>0.2</td>\n",
              "    </tr>\n",
              "    <tr>\n",
              "      <th>5</th>\n",
              "      <td>5.6</td>\n",
              "      <td>2.9</td>\n",
              "      <td>3.6</td>\n",
              "      <td>1.3</td>\n",
              "    </tr>\n",
              "    <tr>\n",
              "      <th>6</th>\n",
              "      <td>5.5</td>\n",
              "      <td>2.3</td>\n",
              "      <td>4.0</td>\n",
              "      <td>1.3</td>\n",
              "    </tr>\n",
              "    <tr>\n",
              "      <th>7</th>\n",
              "      <td>5.2</td>\n",
              "      <td>2.7</td>\n",
              "      <td>3.9</td>\n",
              "      <td>1.4</td>\n",
              "    </tr>\n",
              "    <tr>\n",
              "      <th>8</th>\n",
              "      <td>6.6</td>\n",
              "      <td>3.0</td>\n",
              "      <td>4.4</td>\n",
              "      <td>1.4</td>\n",
              "    </tr>\n",
              "    <tr>\n",
              "      <th>9</th>\n",
              "      <td>6.7</td>\n",
              "      <td>3.1</td>\n",
              "      <td>4.4</td>\n",
              "      <td>1.4</td>\n",
              "    </tr>\n",
              "    <tr>\n",
              "      <th>10</th>\n",
              "      <td>7.2</td>\n",
              "      <td>3.2</td>\n",
              "      <td>6.0</td>\n",
              "      <td>1.8</td>\n",
              "    </tr>\n",
              "    <tr>\n",
              "      <th>11</th>\n",
              "      <td>7.3</td>\n",
              "      <td>2.9</td>\n",
              "      <td>6.3</td>\n",
              "      <td>1.8</td>\n",
              "    </tr>\n",
              "    <tr>\n",
              "      <th>12</th>\n",
              "      <td>6.3</td>\n",
              "      <td>2.5</td>\n",
              "      <td>5.0</td>\n",
              "      <td>1.9</td>\n",
              "    </tr>\n",
              "    <tr>\n",
              "      <th>13</th>\n",
              "      <td>6.3</td>\n",
              "      <td>2.8</td>\n",
              "      <td>5.1</td>\n",
              "      <td>1.5</td>\n",
              "    </tr>\n",
              "    <tr>\n",
              "      <th>14</th>\n",
              "      <td>6.2</td>\n",
              "      <td>2.8</td>\n",
              "      <td>4.8</td>\n",
              "      <td>1.8</td>\n",
              "    </tr>\n",
              "  </tbody>\n",
              "</table>\n",
              "</div>"
            ],
            "text/plain": [
              "    SepalLengthCm  SepalWidthCm  PetalLengthCm  PetalWidthCm\n",
              "0             4.6           3.6            1.0           0.2\n",
              "1             5.0           3.2            1.2           0.2\n",
              "2             5.8           4.0            1.2           0.2\n",
              "3             5.3           3.7            1.5           0.2\n",
              "4             5.4           3.7            1.5           0.2\n",
              "5             5.6           2.9            3.6           1.3\n",
              "6             5.5           2.3            4.0           1.3\n",
              "7             5.2           2.7            3.9           1.4\n",
              "8             6.6           3.0            4.4           1.4\n",
              "9             6.7           3.1            4.4           1.4\n",
              "10            7.2           3.2            6.0           1.8\n",
              "11            7.3           2.9            6.3           1.8\n",
              "12            6.3           2.5            5.0           1.9\n",
              "13            6.3           2.8            5.1           1.5\n",
              "14            6.2           2.8            4.8           1.8"
            ]
          },
          "metadata": {
            "tags": []
          },
          "execution_count": 64
        }
      ]
    },
    {
      "cell_type": "markdown",
      "metadata": {
        "id": "mB7HbkTswPmn"
      },
      "source": [
        "Hasil prediksi model pada data baru"
      ]
    },
    {
      "cell_type": "code",
      "metadata": {
        "colab": {
          "base_uri": "https://localhost:8080/"
        },
        "id": "y7uxQff5vchD",
        "outputId": "2de708cb-18e9-49e9-d664-b424ce141bf4"
      },
      "source": [
        "prediction = svc_pipe.predict(new_data)\n",
        "pd.Series(prediction)"
      ],
      "execution_count": 63,
      "outputs": [
        {
          "output_type": "execute_result",
          "data": {
            "text/plain": [
              "0         Iris-setosa\n",
              "1         Iris-setosa\n",
              "2         Iris-setosa\n",
              "3         Iris-setosa\n",
              "4         Iris-setosa\n",
              "5     Iris-versicolor\n",
              "6     Iris-versicolor\n",
              "7     Iris-versicolor\n",
              "8     Iris-versicolor\n",
              "9     Iris-versicolor\n",
              "10     Iris-virginica\n",
              "11     Iris-virginica\n",
              "12     Iris-virginica\n",
              "13    Iris-versicolor\n",
              "14     Iris-virginica\n",
              "dtype: object"
            ]
          },
          "metadata": {
            "tags": []
          },
          "execution_count": 63
        }
      ]
    },
    {
      "cell_type": "markdown",
      "metadata": {
        "id": "E80MR7K6v8KL"
      },
      "source": [
        "---\n",
        "---"
      ]
    }
  ]
}