{
  "nbformat": 4,
  "nbformat_minor": 0,
  "metadata": {
    "colab": {
      "name": "Wine Fraud Prediction_SVM.ipynb",
      "provenance": [],
      "collapsed_sections": [],
      "toc_visible": true
    },
    "kernelspec": {
      "name": "python3",
      "display_name": "Python 3"
    },
    "language_info": {
      "name": "python"
    }
  },
  "cells": [
    {
      "cell_type": "markdown",
      "metadata": {
        "id": "38LmqoqM6eSA"
      },
      "source": [
        "# **1 - Wine Data Set**\n",
        "\n",
        "## [Fraud in Wine](https://en.wikipedia.org/wiki/Wine_fraud)\n",
        "\n",
        "Wine fraud relates to the commercial aspects of wine. The most prevalent type of fraud is one where wines are adulterated, usually with the addition of cheaper products (e.g. juices) and sometimes with harmful chemicals and sweeteners (compensating for color or flavor).\n",
        "\n",
        "Counterfeiting and the relabelling of inferior and cheaper wines to more expensive brands is another common type of wine fraud.\n",
        "\n",
        "## Project Goals\n",
        "\n",
        "A distribution company that was recently a victim of fraud has completed an audit of various samples of wine through the use of chemical analysis on samples. The distribution company specializes in exporting extremely high quality, expensive wines, but was defrauded by a supplier who was attempting to pass off cheap, low quality wine as higher grade wine. The distribution company has hired you to attempt to create a machine learning model that can help detect low quality (a.k.a \"fraud\") wine samples. They want to know if it is even possible to detect such a difference.\n",
        "\n",
        "\n",
        "Data Source: *P. Cortez, A. Cerdeira, F. Almeida, T. Matos and J. Reis. Modeling wine preferences by data mining from physicochemical properties.\n",
        "In Decision Support Systems, Elsevier, 47(4):547-553, 2009.*\n",
        "\n",
        "---\n",
        "---\n",
        "\n",
        "**TASK: Your overall goal is to use the wine dataset shown below to develop a machine learning model that attempts to predict if a wine is \"Legit\" or \"Fraud\" based on various chemical features.**\n",
        "\n",
        "---\n",
        "---"
      ]
    },
    {
      "cell_type": "code",
      "metadata": {
        "id": "PO31BBRq6eSF"
      },
      "source": [
        "import numpy as np\n",
        "import pandas as pd\n",
        "import seaborn as sns\n",
        "import matplotlib.pyplot as plt"
      ],
      "execution_count": 1,
      "outputs": []
    },
    {
      "cell_type": "code",
      "metadata": {
        "id": "fVzVW5pK6eSH"
      },
      "source": [
        "df = pd.read_csv('/content/drive/MyDrive/Data_Science/Projects/Machine_Learning/Classification/Wine_Fraud_Prediction/wine_fraud.csv')"
      ],
      "execution_count": 2,
      "outputs": []
    },
    {
      "cell_type": "code",
      "metadata": {
        "id": "TAq2TU1P6eSJ",
        "colab": {
          "base_uri": "https://localhost:8080/",
          "height": 241
        },
        "outputId": "978f25ee-654a-494f-c7f0-00d15059c810"
      },
      "source": [
        "df.head()"
      ],
      "execution_count": 3,
      "outputs": [
        {
          "output_type": "execute_result",
          "data": {
            "text/html": [
              "<div>\n",
              "<style scoped>\n",
              "    .dataframe tbody tr th:only-of-type {\n",
              "        vertical-align: middle;\n",
              "    }\n",
              "\n",
              "    .dataframe tbody tr th {\n",
              "        vertical-align: top;\n",
              "    }\n",
              "\n",
              "    .dataframe thead th {\n",
              "        text-align: right;\n",
              "    }\n",
              "</style>\n",
              "<table border=\"1\" class=\"dataframe\">\n",
              "  <thead>\n",
              "    <tr style=\"text-align: right;\">\n",
              "      <th></th>\n",
              "      <th>fixed acidity</th>\n",
              "      <th>volatile acidity</th>\n",
              "      <th>citric acid</th>\n",
              "      <th>residual sugar</th>\n",
              "      <th>chlorides</th>\n",
              "      <th>free sulfur dioxide</th>\n",
              "      <th>total sulfur dioxide</th>\n",
              "      <th>density</th>\n",
              "      <th>pH</th>\n",
              "      <th>sulphates</th>\n",
              "      <th>alcohol</th>\n",
              "      <th>quality</th>\n",
              "      <th>type</th>\n",
              "    </tr>\n",
              "  </thead>\n",
              "  <tbody>\n",
              "    <tr>\n",
              "      <th>0</th>\n",
              "      <td>7.4</td>\n",
              "      <td>0.70</td>\n",
              "      <td>0.00</td>\n",
              "      <td>1.9</td>\n",
              "      <td>0.076</td>\n",
              "      <td>11.0</td>\n",
              "      <td>34.0</td>\n",
              "      <td>0.9978</td>\n",
              "      <td>3.51</td>\n",
              "      <td>0.56</td>\n",
              "      <td>9.4</td>\n",
              "      <td>Legit</td>\n",
              "      <td>red</td>\n",
              "    </tr>\n",
              "    <tr>\n",
              "      <th>1</th>\n",
              "      <td>7.8</td>\n",
              "      <td>0.88</td>\n",
              "      <td>0.00</td>\n",
              "      <td>2.6</td>\n",
              "      <td>0.098</td>\n",
              "      <td>25.0</td>\n",
              "      <td>67.0</td>\n",
              "      <td>0.9968</td>\n",
              "      <td>3.20</td>\n",
              "      <td>0.68</td>\n",
              "      <td>9.8</td>\n",
              "      <td>Legit</td>\n",
              "      <td>red</td>\n",
              "    </tr>\n",
              "    <tr>\n",
              "      <th>2</th>\n",
              "      <td>7.8</td>\n",
              "      <td>0.76</td>\n",
              "      <td>0.04</td>\n",
              "      <td>2.3</td>\n",
              "      <td>0.092</td>\n",
              "      <td>15.0</td>\n",
              "      <td>54.0</td>\n",
              "      <td>0.9970</td>\n",
              "      <td>3.26</td>\n",
              "      <td>0.65</td>\n",
              "      <td>9.8</td>\n",
              "      <td>Legit</td>\n",
              "      <td>red</td>\n",
              "    </tr>\n",
              "    <tr>\n",
              "      <th>3</th>\n",
              "      <td>11.2</td>\n",
              "      <td>0.28</td>\n",
              "      <td>0.56</td>\n",
              "      <td>1.9</td>\n",
              "      <td>0.075</td>\n",
              "      <td>17.0</td>\n",
              "      <td>60.0</td>\n",
              "      <td>0.9980</td>\n",
              "      <td>3.16</td>\n",
              "      <td>0.58</td>\n",
              "      <td>9.8</td>\n",
              "      <td>Legit</td>\n",
              "      <td>red</td>\n",
              "    </tr>\n",
              "    <tr>\n",
              "      <th>4</th>\n",
              "      <td>7.4</td>\n",
              "      <td>0.70</td>\n",
              "      <td>0.00</td>\n",
              "      <td>1.9</td>\n",
              "      <td>0.076</td>\n",
              "      <td>11.0</td>\n",
              "      <td>34.0</td>\n",
              "      <td>0.9978</td>\n",
              "      <td>3.51</td>\n",
              "      <td>0.56</td>\n",
              "      <td>9.4</td>\n",
              "      <td>Legit</td>\n",
              "      <td>red</td>\n",
              "    </tr>\n",
              "  </tbody>\n",
              "</table>\n",
              "</div>"
            ],
            "text/plain": [
              "   fixed acidity  volatile acidity  citric acid  ...  alcohol  quality  type\n",
              "0            7.4              0.70         0.00  ...      9.4    Legit   red\n",
              "1            7.8              0.88         0.00  ...      9.8    Legit   red\n",
              "2            7.8              0.76         0.04  ...      9.8    Legit   red\n",
              "3           11.2              0.28         0.56  ...      9.8    Legit   red\n",
              "4            7.4              0.70         0.00  ...      9.4    Legit   red\n",
              "\n",
              "[5 rows x 13 columns]"
            ]
          },
          "metadata": {
            "tags": []
          },
          "execution_count": 3
        }
      ]
    },
    {
      "cell_type": "markdown",
      "metadata": {
        "id": "d9I1wBzd6eSM"
      },
      "source": [
        "**What are the unique variables in the target column we are trying to predict (quality)?**"
      ]
    },
    {
      "cell_type": "code",
      "metadata": {
        "id": "uWJQMy136eSN",
        "colab": {
          "base_uri": "https://localhost:8080/"
        },
        "outputId": "bfc73714-b0d2-4ec2-e614-da71a65a6db3"
      },
      "source": [
        "df['quality'].unique()"
      ],
      "execution_count": 4,
      "outputs": [
        {
          "output_type": "execute_result",
          "data": {
            "text/plain": [
              "array(['Legit', 'Fraud'], dtype=object)"
            ]
          },
          "metadata": {
            "tags": []
          },
          "execution_count": 4
        }
      ]
    },
    {
      "cell_type": "code",
      "metadata": {
        "colab": {
          "base_uri": "https://localhost:8080/"
        },
        "id": "370BmfHbKYE7",
        "outputId": "a070fa4d-1077-4c2f-a16f-868b2c698ad3"
      },
      "source": [
        "df.isnull().sum()"
      ],
      "execution_count": 5,
      "outputs": [
        {
          "output_type": "execute_result",
          "data": {
            "text/plain": [
              "fixed acidity           0\n",
              "volatile acidity        0\n",
              "citric acid             0\n",
              "residual sugar          0\n",
              "chlorides               0\n",
              "free sulfur dioxide     0\n",
              "total sulfur dioxide    0\n",
              "density                 0\n",
              "pH                      0\n",
              "sulphates               0\n",
              "alcohol                 0\n",
              "quality                 0\n",
              "type                    0\n",
              "dtype: int64"
            ]
          },
          "metadata": {
            "tags": []
          },
          "execution_count": 5
        }
      ]
    },
    {
      "cell_type": "code",
      "metadata": {
        "colab": {
          "base_uri": "https://localhost:8080/"
        },
        "id": "QQydVie1KcIA",
        "outputId": "2f2a57a0-3d01-42ee-a1ca-c389efe54a1d"
      },
      "source": [
        "df.shape"
      ],
      "execution_count": 6,
      "outputs": [
        {
          "output_type": "execute_result",
          "data": {
            "text/plain": [
              "(6497, 13)"
            ]
          },
          "metadata": {
            "tags": []
          },
          "execution_count": 6
        }
      ]
    },
    {
      "cell_type": "markdown",
      "metadata": {
        "id": "UOfwq_pBKWlq"
      },
      "source": [
        "---"
      ]
    },
    {
      "cell_type": "markdown",
      "metadata": {
        "id": "x4-XqZBkKe4r"
      },
      "source": [
        "# **2 - Exploratory Data Analysis and Feature Engineering**"
      ]
    },
    {
      "cell_type": "markdown",
      "metadata": {
        "id": "1IaNaA2UKxmC"
      },
      "source": [
        "## **A. Label Count**"
      ]
    },
    {
      "cell_type": "markdown",
      "metadata": {
        "id": "OR33S3p36eSP"
      },
      "source": [
        "**Create a countplot that displays the count per category of Legit vs Fraud. Is the label/target balanced or unbalanced?**"
      ]
    },
    {
      "cell_type": "code",
      "metadata": {
        "id": "8V_5CT4i6eSQ",
        "colab": {
          "base_uri": "https://localhost:8080/",
          "height": 279
        },
        "outputId": "c1cf8eaa-ea29-488b-f578-adf1b32e2549"
      },
      "source": [
        "sns.countplot(x='quality', data=df);"
      ],
      "execution_count": 7,
      "outputs": [
        {
          "output_type": "display_data",
          "data": {
            "image/png": "[encoded data removed]",
            "text/plain": [
              "<Figure size 432x288 with 1 Axes>"
            ]
          },
          "metadata": {
            "tags": [],
            "needs_background": "light"
          }
        }
      ]
    },
    {
      "cell_type": "code",
      "metadata": {
        "colab": {
          "base_uri": "https://localhost:8080/"
        },
        "id": "ZVVyXw4BK8pJ",
        "outputId": "582fd45d-6880-4f1e-e6ba-4a5510572dde"
      },
      "source": [
        "df['quality'].value_counts()"
      ],
      "execution_count": 8,
      "outputs": [
        {
          "output_type": "execute_result",
          "data": {
            "text/plain": [
              "Legit    6251\n",
              "Fraud     246\n",
              "Name: quality, dtype: int64"
            ]
          },
          "metadata": {
            "tags": []
          },
          "execution_count": 8
        }
      ]
    },
    {
      "cell_type": "markdown",
      "metadata": {
        "id": "FMng_IFELEnj"
      },
      "source": [
        "The label is unbalanced, in SVM we can alter the weight to make it balance."
      ]
    },
    {
      "cell_type": "markdown",
      "metadata": {
        "id": "Mp-i6ElD6eST"
      },
      "source": [
        "**Let's find out if there is a difference between red and white wine when it comes to fraud. Create a countplot that has the wine *type* on the x axis with the hue separating columns by Fraud vs Legit.**"
      ]
    },
    {
      "cell_type": "code",
      "metadata": {
        "id": "HFrbjyEU6eSU",
        "colab": {
          "base_uri": "https://localhost:8080/",
          "height": 279
        },
        "outputId": "14843e0a-fb78-43d8-b49f-0f2d033ddfd2"
      },
      "source": [
        "sns.countplot(x='type', hue='quality', data=df);"
      ],
      "execution_count": 9,
      "outputs": [
        {
          "output_type": "display_data",
          "data": {
            "image/png": "[encoded data removed]",
            "text/plain": [
              "<Figure size 432x288 with 1 Axes>"
            ]
          },
          "metadata": {
            "tags": [],
            "needs_background": "light"
          }
        }
      ]
    },
    {
      "cell_type": "markdown",
      "metadata": {
        "id": "7lD-yEIv6eSV"
      },
      "source": [
        "**What percentage of red wines are Fraud? What percentage of white wines are fraud?**"
      ]
    },
    {
      "cell_type": "code",
      "metadata": {
        "id": "r0jFhrQX6eSV",
        "colab": {
          "base_uri": "https://localhost:8080/"
        },
        "outputId": "6b52313e-b77b-45cc-d753-559de7a55c53"
      },
      "source": [
        "red_wine_fraud_percentage = (len(df[(df['quality'] == 'Fraud') & (df['type'] == 'red')])\n",
        "                            /len(df[df['type'] == 'red']) * 100)\n",
        "print(f'Percentage of fraud in Red Wines:\\n{red_wine_fraud_percentage}')"
      ],
      "execution_count": 10,
      "outputs": [
        {
          "output_type": "stream",
          "text": [
            "Percentage of fraud in Red Wines:\n",
            "3.9399624765478425\n"
          ],
          "name": "stdout"
        }
      ]
    },
    {
      "cell_type": "code",
      "metadata": {
        "colab": {
          "base_uri": "https://localhost:8080/"
        },
        "id": "qqp9rCfWSQln",
        "outputId": "4219641c-9ef5-4124-9d9f-1e398398d47f"
      },
      "source": [
        "white_wine_fraud_percentage = (len(df[(df['quality'] == 'Fraud') & (df['type'] == 'white')])\n",
        "                              /len(df[df['type'] == 'white']) * 100)\n",
        "print(f'Percentage of fraud in White Wines:\\n{white_wine_fraud_percentage}')"
      ],
      "execution_count": 11,
      "outputs": [
        {
          "output_type": "stream",
          "text": [
            "Percentage of fraud in White Wines:\n",
            "3.7362188648427925\n"
          ],
          "name": "stdout"
        }
      ]
    },
    {
      "cell_type": "markdown",
      "metadata": {
        "id": "4tv7VYxuS2_u"
      },
      "source": [
        "There are similar percentage of fraud in both Red and White Wines."
      ]
    },
    {
      "cell_type": "markdown",
      "metadata": {
        "id": "gXl64IbASxzJ"
      },
      "source": [
        "---"
      ]
    },
    {
      "cell_type": "markdown",
      "metadata": {
        "id": "QVXrA_vNSyOl"
      },
      "source": [
        "## **B. Features Correlation**"
      ]
    },
    {
      "cell_type": "markdown",
      "metadata": {
        "id": "BDWDlYaHZEpT"
      },
      "source": [
        "### **a. Mapping Label**"
      ]
    },
    {
      "cell_type": "markdown",
      "metadata": {
        "id": "iatT5hrX6eSX"
      },
      "source": [
        "**Calculate the correlation between the various features and the \"quality\" column. To do this you may need to map the column to 0 and 1 instead of a string.**"
      ]
    },
    {
      "cell_type": "code",
      "metadata": {
        "id": "7XKHW7yr6eSY"
      },
      "source": [
        "# Create new column for quality mapping (1 if Fraud, 0 if Legit)\n",
        "df['Fraud'] = df['quality'].map({'Legit':0, 'Fraud':1})"
      ],
      "execution_count": 12,
      "outputs": []
    },
    {
      "cell_type": "code",
      "metadata": {
        "colab": {
          "base_uri": "https://localhost:8080/",
          "height": 261
        },
        "id": "rcVBclgVT832",
        "outputId": "f2161626-94d9-4d99-943a-d02c8173b1db"
      },
      "source": [
        "df.head()"
      ],
      "execution_count": 13,
      "outputs": [
        {
          "output_type": "execute_result",
          "data": {
            "text/html": [
              "<div>\n",
              "<style scoped>\n",
              "    .dataframe tbody tr th:only-of-type {\n",
              "        vertical-align: middle;\n",
              "    }\n",
              "\n",
              "    .dataframe tbody tr th {\n",
              "        vertical-align: top;\n",
              "    }\n",
              "\n",
              "    .dataframe thead th {\n",
              "        text-align: right;\n",
              "    }\n",
              "</style>\n",
              "<table border=\"1\" class=\"dataframe\">\n",
              "  <thead>\n",
              "    <tr style=\"text-align: right;\">\n",
              "      <th></th>\n",
              "      <th>fixed acidity</th>\n",
              "      <th>volatile acidity</th>\n",
              "      <th>citric acid</th>\n",
              "      <th>residual sugar</th>\n",
              "      <th>chlorides</th>\n",
              "      <th>free sulfur dioxide</th>\n",
              "      <th>total sulfur dioxide</th>\n",
              "      <th>density</th>\n",
              "      <th>pH</th>\n",
              "      <th>sulphates</th>\n",
              "      <th>alcohol</th>\n",
              "      <th>quality</th>\n",
              "      <th>type</th>\n",
              "      <th>Fraud</th>\n",
              "    </tr>\n",
              "  </thead>\n",
              "  <tbody>\n",
              "    <tr>\n",
              "      <th>0</th>\n",
              "      <td>7.4</td>\n",
              "      <td>0.70</td>\n",
              "      <td>0.00</td>\n",
              "      <td>1.9</td>\n",
              "      <td>0.076</td>\n",
              "      <td>11.0</td>\n",
              "      <td>34.0</td>\n",
              "      <td>0.9978</td>\n",
              "      <td>3.51</td>\n",
              "      <td>0.56</td>\n",
              "      <td>9.4</td>\n",
              "      <td>Legit</td>\n",
              "      <td>red</td>\n",
              "      <td>0</td>\n",
              "    </tr>\n",
              "    <tr>\n",
              "      <th>1</th>\n",
              "      <td>7.8</td>\n",
              "      <td>0.88</td>\n",
              "      <td>0.00</td>\n",
              "      <td>2.6</td>\n",
              "      <td>0.098</td>\n",
              "      <td>25.0</td>\n",
              "      <td>67.0</td>\n",
              "      <td>0.9968</td>\n",
              "      <td>3.20</td>\n",
              "      <td>0.68</td>\n",
              "      <td>9.8</td>\n",
              "      <td>Legit</td>\n",
              "      <td>red</td>\n",
              "      <td>0</td>\n",
              "    </tr>\n",
              "    <tr>\n",
              "      <th>2</th>\n",
              "      <td>7.8</td>\n",
              "      <td>0.76</td>\n",
              "      <td>0.04</td>\n",
              "      <td>2.3</td>\n",
              "      <td>0.092</td>\n",
              "      <td>15.0</td>\n",
              "      <td>54.0</td>\n",
              "      <td>0.9970</td>\n",
              "      <td>3.26</td>\n",
              "      <td>0.65</td>\n",
              "      <td>9.8</td>\n",
              "      <td>Legit</td>\n",
              "      <td>red</td>\n",
              "      <td>0</td>\n",
              "    </tr>\n",
              "    <tr>\n",
              "      <th>3</th>\n",
              "      <td>11.2</td>\n",
              "      <td>0.28</td>\n",
              "      <td>0.56</td>\n",
              "      <td>1.9</td>\n",
              "      <td>0.075</td>\n",
              "      <td>17.0</td>\n",
              "      <td>60.0</td>\n",
              "      <td>0.9980</td>\n",
              "      <td>3.16</td>\n",
              "      <td>0.58</td>\n",
              "      <td>9.8</td>\n",
              "      <td>Legit</td>\n",
              "      <td>red</td>\n",
              "      <td>0</td>\n",
              "    </tr>\n",
              "    <tr>\n",
              "      <th>4</th>\n",
              "      <td>7.4</td>\n",
              "      <td>0.70</td>\n",
              "      <td>0.00</td>\n",
              "      <td>1.9</td>\n",
              "      <td>0.076</td>\n",
              "      <td>11.0</td>\n",
              "      <td>34.0</td>\n",
              "      <td>0.9978</td>\n",
              "      <td>3.51</td>\n",
              "      <td>0.56</td>\n",
              "      <td>9.4</td>\n",
              "      <td>Legit</td>\n",
              "      <td>red</td>\n",
              "      <td>0</td>\n",
              "    </tr>\n",
              "  </tbody>\n",
              "</table>\n",
              "</div>"
            ],
            "text/plain": [
              "   fixed acidity  volatile acidity  citric acid  ...  quality  type  Fraud\n",
              "0            7.4              0.70         0.00  ...    Legit   red      0\n",
              "1            7.8              0.88         0.00  ...    Legit   red      0\n",
              "2            7.8              0.76         0.04  ...    Legit   red      0\n",
              "3           11.2              0.28         0.56  ...    Legit   red      0\n",
              "4            7.4              0.70         0.00  ...    Legit   red      0\n",
              "\n",
              "[5 rows x 14 columns]"
            ]
          },
          "metadata": {
            "tags": []
          },
          "execution_count": 13
        }
      ]
    },
    {
      "cell_type": "markdown",
      "metadata": {
        "id": "EDzPt2tDZQ8c"
      },
      "source": [
        "---"
      ]
    },
    {
      "cell_type": "markdown",
      "metadata": {
        "id": "G34ZYv2hZRny"
      },
      "source": [
        "### **b. Correlation**"
      ]
    },
    {
      "cell_type": "code",
      "metadata": {
        "id": "iUC6HMFF6eSZ",
        "colab": {
          "base_uri": "https://localhost:8080/"
        },
        "outputId": "36a53e97-cb58-4b4d-84ed-2f5536c42995"
      },
      "source": [
        "df.corr()['Fraud'].sort_values()"
      ],
      "execution_count": 14,
      "outputs": [
        {
          "output_type": "execute_result",
          "data": {
            "text/plain": [
              "free sulfur dioxide    -0.085204\n",
              "citric acid            -0.061789\n",
              "alcohol                -0.051141\n",
              "residual sugar         -0.048756\n",
              "total sulfur dioxide   -0.035252\n",
              "sulphates              -0.034046\n",
              "density                 0.016351\n",
              "pH                      0.020107\n",
              "fixed acidity           0.021794\n",
              "chlorides               0.034499\n",
              "volatile acidity        0.151228\n",
              "Fraud                   1.000000\n",
              "Name: Fraud, dtype: float64"
            ]
          },
          "metadata": {
            "tags": []
          },
          "execution_count": 14
        }
      ]
    },
    {
      "cell_type": "markdown",
      "metadata": {
        "id": "ZDONK4KU6eSa"
      },
      "source": [
        "**Create a bar plot of the correlation values to Fraudulent wine.**"
      ]
    },
    {
      "cell_type": "code",
      "metadata": {
        "id": "N3SsYbpRV4Nn"
      },
      "source": [
        "# Create series of features correlation\n",
        "corr_ser = df.corr()['Fraud'].sort_values().drop('Fraud', axis=0)"
      ],
      "execution_count": 15,
      "outputs": []
    },
    {
      "cell_type": "code",
      "metadata": {
        "id": "jgWCFz3f6eSb",
        "colab": {
          "base_uri": "https://localhost:8080/",
          "height": 349
        },
        "outputId": "dd706346-88cc-4d20-8f00-9a33b7b000dd"
      },
      "source": [
        "plt.figure(figsize=(8,4))\n",
        "sns.barplot(x=corr_ser.index, y=corr_ser.values, color='darkblue', alpha=0.8)\n",
        "plt.xticks(rotation=90);"
      ],
      "execution_count": 16,
      "outputs": [
        {
          "output_type": "display_data",
          "data": {
            "image/png": "[encoded data removed]",
            "text/plain": [
              "<Figure size 576x288 with 1 Axes>"
            ]
          },
          "metadata": {
            "tags": [],
            "needs_background": "light"
          }
        }
      ]
    },
    {
      "cell_type": "markdown",
      "metadata": {
        "id": "dWPW7xQ1ZLyq"
      },
      "source": [
        "---"
      ]
    },
    {
      "cell_type": "markdown",
      "metadata": {
        "id": "wy-OJlTZZIak"
      },
      "source": [
        "### **c. Clustermap**"
      ]
    },
    {
      "cell_type": "markdown",
      "metadata": {
        "id": "vQEA-nQP6eSe"
      },
      "source": [
        "**Create a clustermap with seaborn to explore the relationships between variables.**"
      ]
    },
    {
      "cell_type": "code",
      "metadata": {
        "id": "rmPLD_eV6eSf",
        "colab": {
          "base_uri": "https://localhost:8080/",
          "height": 730
        },
        "outputId": "2943310c-a713-47c1-d748-68cf5c226970"
      },
      "source": [
        "sns.clustermap(df.corr(), cmap='viridis');"
      ],
      "execution_count": 17,
      "outputs": [
        {
          "output_type": "display_data",
          "data": {
            "image/png": "[encoded data removed]",
            "text/plain": [
              "<Figure size 720x720 with 4 Axes>"
            ]
          },
          "metadata": {
            "tags": [],
            "needs_background": "light"
          }
        }
      ]
    },
    {
      "cell_type": "markdown",
      "metadata": {
        "id": "zU6VmRcdYWWk"
      },
      "source": [
        "Fraud wines tends to have higher density, ph, chlorides, fixed and volatile acidity."
      ]
    },
    {
      "cell_type": "markdown",
      "metadata": {
        "id": "WV1dzqc8ZYTc"
      },
      "source": [
        "---"
      ]
    },
    {
      "cell_type": "markdown",
      "metadata": {
        "id": "grbnRVxnBJr6"
      },
      "source": [
        "## **C. Convert Categorical Feature to Numeric**"
      ]
    },
    {
      "cell_type": "markdown",
      "metadata": {
        "id": "LYJP-8ZzZs-y"
      },
      "source": [
        "**Convert the categorical column \"type\" from a string or \"red\" or \"white\" to dummy variables:**"
      ]
    },
    {
      "cell_type": "code",
      "metadata": {
        "id": "biLFZUM56eSh"
      },
      "source": [
        "df['type'] = pd.get_dummies(df['type'], drop_first=True) # 0 is red, 1 is white"
      ],
      "execution_count": 18,
      "outputs": []
    },
    {
      "cell_type": "code",
      "metadata": {
        "id": "8atNWq0kBWcm"
      },
      "source": [
        "df['quality'] = df['quality'].map({'Legit':0, 'Fraud':1})"
      ],
      "execution_count": 19,
      "outputs": []
    },
    {
      "cell_type": "code",
      "metadata": {
        "colab": {
          "base_uri": "https://localhost:8080/",
          "height": 261
        },
        "id": "E46bkMffZcRk",
        "outputId": "6cece569-f3be-4d47-a64e-61d7a49cfdf3"
      },
      "source": [
        "df.head()"
      ],
      "execution_count": 20,
      "outputs": [
        {
          "output_type": "execute_result",
          "data": {
            "text/html": [
              "<div>\n",
              "<style scoped>\n",
              "    .dataframe tbody tr th:only-of-type {\n",
              "        vertical-align: middle;\n",
              "    }\n",
              "\n",
              "    .dataframe tbody tr th {\n",
              "        vertical-align: top;\n",
              "    }\n",
              "\n",
              "    .dataframe thead th {\n",
              "        text-align: right;\n",
              "    }\n",
              "</style>\n",
              "<table border=\"1\" class=\"dataframe\">\n",
              "  <thead>\n",
              "    <tr style=\"text-align: right;\">\n",
              "      <th></th>\n",
              "      <th>fixed acidity</th>\n",
              "      <th>volatile acidity</th>\n",
              "      <th>citric acid</th>\n",
              "      <th>residual sugar</th>\n",
              "      <th>chlorides</th>\n",
              "      <th>free sulfur dioxide</th>\n",
              "      <th>total sulfur dioxide</th>\n",
              "      <th>density</th>\n",
              "      <th>pH</th>\n",
              "      <th>sulphates</th>\n",
              "      <th>alcohol</th>\n",
              "      <th>quality</th>\n",
              "      <th>type</th>\n",
              "      <th>Fraud</th>\n",
              "    </tr>\n",
              "  </thead>\n",
              "  <tbody>\n",
              "    <tr>\n",
              "      <th>0</th>\n",
              "      <td>7.4</td>\n",
              "      <td>0.70</td>\n",
              "      <td>0.00</td>\n",
              "      <td>1.9</td>\n",
              "      <td>0.076</td>\n",
              "      <td>11.0</td>\n",
              "      <td>34.0</td>\n",
              "      <td>0.9978</td>\n",
              "      <td>3.51</td>\n",
              "      <td>0.56</td>\n",
              "      <td>9.4</td>\n",
              "      <td>0</td>\n",
              "      <td>0</td>\n",
              "      <td>0</td>\n",
              "    </tr>\n",
              "    <tr>\n",
              "      <th>1</th>\n",
              "      <td>7.8</td>\n",
              "      <td>0.88</td>\n",
              "      <td>0.00</td>\n",
              "      <td>2.6</td>\n",
              "      <td>0.098</td>\n",
              "      <td>25.0</td>\n",
              "      <td>67.0</td>\n",
              "      <td>0.9968</td>\n",
              "      <td>3.20</td>\n",
              "      <td>0.68</td>\n",
              "      <td>9.8</td>\n",
              "      <td>0</td>\n",
              "      <td>0</td>\n",
              "      <td>0</td>\n",
              "    </tr>\n",
              "    <tr>\n",
              "      <th>2</th>\n",
              "      <td>7.8</td>\n",
              "      <td>0.76</td>\n",
              "      <td>0.04</td>\n",
              "      <td>2.3</td>\n",
              "      <td>0.092</td>\n",
              "      <td>15.0</td>\n",
              "      <td>54.0</td>\n",
              "      <td>0.9970</td>\n",
              "      <td>3.26</td>\n",
              "      <td>0.65</td>\n",
              "      <td>9.8</td>\n",
              "      <td>0</td>\n",
              "      <td>0</td>\n",
              "      <td>0</td>\n",
              "    </tr>\n",
              "    <tr>\n",
              "      <th>3</th>\n",
              "      <td>11.2</td>\n",
              "      <td>0.28</td>\n",
              "      <td>0.56</td>\n",
              "      <td>1.9</td>\n",
              "      <td>0.075</td>\n",
              "      <td>17.0</td>\n",
              "      <td>60.0</td>\n",
              "      <td>0.9980</td>\n",
              "      <td>3.16</td>\n",
              "      <td>0.58</td>\n",
              "      <td>9.8</td>\n",
              "      <td>0</td>\n",
              "      <td>0</td>\n",
              "      <td>0</td>\n",
              "    </tr>\n",
              "    <tr>\n",
              "      <th>4</th>\n",
              "      <td>7.4</td>\n",
              "      <td>0.70</td>\n",
              "      <td>0.00</td>\n",
              "      <td>1.9</td>\n",
              "      <td>0.076</td>\n",
              "      <td>11.0</td>\n",
              "      <td>34.0</td>\n",
              "      <td>0.9978</td>\n",
              "      <td>3.51</td>\n",
              "      <td>0.56</td>\n",
              "      <td>9.4</td>\n",
              "      <td>0</td>\n",
              "      <td>0</td>\n",
              "      <td>0</td>\n",
              "    </tr>\n",
              "  </tbody>\n",
              "</table>\n",
              "</div>"
            ],
            "text/plain": [
              "   fixed acidity  volatile acidity  citric acid  ...  quality  type  Fraud\n",
              "0            7.4              0.70         0.00  ...        0     0      0\n",
              "1            7.8              0.88         0.00  ...        0     0      0\n",
              "2            7.8              0.76         0.04  ...        0     0      0\n",
              "3           11.2              0.28         0.56  ...        0     0      0\n",
              "4            7.4              0.70         0.00  ...        0     0      0\n",
              "\n",
              "[5 rows x 14 columns]"
            ]
          },
          "metadata": {
            "tags": []
          },
          "execution_count": 20
        }
      ]
    },
    {
      "cell_type": "markdown",
      "metadata": {
        "id": "U5mHtFkVBUZx"
      },
      "source": [
        "---\n",
        "---"
      ]
    },
    {
      "cell_type": "markdown",
      "metadata": {
        "id": "ZiVobEIwZYwD"
      },
      "source": [
        "# **3 - Support Vector Machines Classification**"
      ]
    },
    {
      "cell_type": "markdown",
      "metadata": {
        "id": "KWhrFFqE6eSg"
      },
      "source": [
        "## **A. Setup**\n",
        "\n"
      ]
    },
    {
      "cell_type": "markdown",
      "metadata": {
        "id": "1XrZmo-mZtmC"
      },
      "source": [
        "### **a. Stratified Train | Test Split**"
      ]
    },
    {
      "cell_type": "markdown",
      "metadata": {
        "id": "-FI4O1lX6eSi"
      },
      "source": [
        "**Separate out the data into X features and y target label (\"quality\" column)**"
      ]
    },
    {
      "cell_type": "code",
      "metadata": {
        "id": "dkhtujoe6eSj"
      },
      "source": [
        "X = df.drop(['quality','Fraud'], axis=1)\n",
        "y = df['quality']"
      ],
      "execution_count": 21,
      "outputs": []
    },
    {
      "cell_type": "markdown",
      "metadata": {
        "id": "UnW42Pq56eSk"
      },
      "source": [
        "**Perform a Train|Test split on the data, with a 10% test size. Note: The solution uses a random state of 101**"
      ]
    },
    {
      "cell_type": "code",
      "metadata": {
        "id": "C7U0K7gn6eSk"
      },
      "source": [
        "from sklearn.model_selection import train_test_split"
      ],
      "execution_count": 22,
      "outputs": []
    },
    {
      "cell_type": "code",
      "metadata": {
        "id": "vFXsLwkr6eSl"
      },
      "source": [
        "X_train, X_test, y_train, y_test = train_test_split(X, y, test_size=0.1, random_state=101, stratify=np.array(y))"
      ],
      "execution_count": 23,
      "outputs": []
    },
    {
      "cell_type": "code",
      "metadata": {
        "colab": {
          "base_uri": "https://localhost:8080/"
        },
        "id": "BluhwCWnanaA",
        "outputId": "b54229ee-3b37-48b8-e84d-d085fcc669dd"
      },
      "source": [
        "X_train.shape"
      ],
      "execution_count": 24,
      "outputs": [
        {
          "output_type": "execute_result",
          "data": {
            "text/plain": [
              "(5847, 12)"
            ]
          },
          "metadata": {
            "tags": []
          },
          "execution_count": 24
        }
      ]
    },
    {
      "cell_type": "code",
      "metadata": {
        "colab": {
          "base_uri": "https://localhost:8080/"
        },
        "id": "wTa8MRJsapkk",
        "outputId": "c780e4d1-4728-4bac-a58f-56d1e3db12d5"
      },
      "source": [
        "X_test.shape"
      ],
      "execution_count": 25,
      "outputs": [
        {
          "output_type": "execute_result",
          "data": {
            "text/plain": [
              "(650, 12)"
            ]
          },
          "metadata": {
            "tags": []
          },
          "execution_count": 25
        }
      ]
    },
    {
      "cell_type": "markdown",
      "metadata": {
        "id": "YRJy4Kl4bNJ-"
      },
      "source": [
        "---"
      ]
    },
    {
      "cell_type": "markdown",
      "metadata": {
        "id": "S7Si8c-faihE"
      },
      "source": [
        "### **b. Scaling the Data**"
      ]
    },
    {
      "cell_type": "markdown",
      "metadata": {
        "id": "TKq90-_76eSl"
      },
      "source": [
        "**Scale the X train and X test data.**"
      ]
    },
    {
      "cell_type": "code",
      "metadata": {
        "id": "cKxCwoJP6eSm"
      },
      "source": [
        "from sklearn.preprocessing import StandardScaler"
      ],
      "execution_count": 26,
      "outputs": []
    },
    {
      "cell_type": "code",
      "metadata": {
        "id": "3hgE2jnU6eSm"
      },
      "source": [
        "scaler = StandardScaler()"
      ],
      "execution_count": 27,
      "outputs": []
    },
    {
      "cell_type": "code",
      "metadata": {
        "id": "m824JtRr6eSn"
      },
      "source": [
        "# Fit (calculate statistical information)and Transform on train data\n",
        "scaled_X_train = scaler.fit_transform(X_train)"
      ],
      "execution_count": 28,
      "outputs": []
    },
    {
      "cell_type": "code",
      "metadata": {
        "id": "qmIQthKM6eSn"
      },
      "source": [
        "scaled_X_test = scaler.transform(X_test)"
      ],
      "execution_count": 29,
      "outputs": []
    },
    {
      "cell_type": "markdown",
      "metadata": {
        "id": "wr0H-_E-bN-h"
      },
      "source": [
        "---"
      ]
    },
    {
      "cell_type": "markdown",
      "metadata": {
        "id": "NJ-T8rWAbOU-"
      },
      "source": [
        "## **B. Create Estimator/Model**\n",
        "\n"
      ]
    },
    {
      "cell_type": "markdown",
      "metadata": {
        "id": "0ESoa27r6eSn"
      },
      "source": [
        "**Create an instance of a Support Vector Machine classifier. Previously we have left this model \"blank\", (e.g. with no parameters). However, we already know that the classes are unbalanced, in an attempt to help alleviate this issue, we can automatically adjust weights inversely proportional to class frequencies in the input data with a argument call in the SVC() call. Check out the [documentation for SVC](https://scikit-learn.org/stable/modules/generated/sklearn.svm.SVC.html) online and look up what the argument\\parameter is.**"
      ]
    },
    {
      "cell_type": "code",
      "metadata": {
        "id": "vUSipnUM6eSo"
      },
      "source": [
        "from sklearn.svm import SVC "
      ],
      "execution_count": 30,
      "outputs": []
    },
    {
      "cell_type": "code",
      "metadata": {
        "id": "DUkzj5Ib6eSo"
      },
      "source": [
        "# set class_weight to balanced to adjust with unbalanced label\n",
        "#svm = SVC(class_weight='balanced')\n",
        "svm = SVC(class_weight='balanced')"
      ],
      "execution_count": 31,
      "outputs": []
    },
    {
      "cell_type": "markdown",
      "metadata": {
        "id": "r7pUNEIrcekL"
      },
      "source": [
        "---"
      ]
    },
    {
      "cell_type": "markdown",
      "metadata": {
        "id": "ig8Z5AFFcfX-"
      },
      "source": [
        "### **a. Grid Search for best Hyper-Parameters**"
      ]
    },
    {
      "cell_type": "markdown",
      "metadata": {
        "id": "HgtZmPKF6eSp"
      },
      "source": [
        "**Use a GridSearchCV to run a grid search for the best C and gamma parameters.**"
      ]
    },
    {
      "cell_type": "code",
      "metadata": {
        "id": "HBbO7MXH6eSp"
      },
      "source": [
        "from sklearn.model_selection import GridSearchCV, StratifiedKFold"
      ],
      "execution_count": 32,
      "outputs": []
    },
    {
      "cell_type": "code",
      "metadata": {
        "id": "LRIzEPac6eSq"
      },
      "source": [
        "# Make the C smaller because of unbalanced dataset to make bigger bias \n",
        "# (bigger miss-clasification) toward Fraud Wine\n",
        "param_grid = {'C':[0.0005,0.001,0.01,0.1], \n",
        "              'kernel':['linear','rbf'], \n",
        "              'gamma':['scale','auto']\n",
        "              }"
      ],
      "execution_count": 33,
      "outputs": []
    },
    {
      "cell_type": "code",
      "metadata": {
        "id": "nLWjQGZu6eSq"
      },
      "source": [
        "skf = StratifiedKFold(n_splits=5)\n",
        "grid_svm_model = GridSearchCV(svm, \n",
        "                              param_grid, \n",
        "                              cv=skf, \n",
        "                              scoring='f1'\n",
        "                              )"
      ],
      "execution_count": 34,
      "outputs": []
    },
    {
      "cell_type": "markdown",
      "metadata": {
        "id": "sUVPxESOnven"
      },
      "source": [
        "---"
      ]
    },
    {
      "cell_type": "markdown",
      "metadata": {
        "id": "HuzMJ4x0nryd"
      },
      "source": [
        "### **b. Fit/Train Model**"
      ]
    },
    {
      "cell_type": "code",
      "metadata": {
        "colab": {
          "base_uri": "https://localhost:8080/"
        },
        "id": "xoLwqSkod7lG",
        "outputId": "94996bac-0097-44ce-d22b-5dbec53a7c0a"
      },
      "source": [
        "grid_svm_model.fit(scaled_X_train, y_train)"
      ],
      "execution_count": 35,
      "outputs": [
        {
          "output_type": "execute_result",
          "data": {
            "text/plain": [
              "GridSearchCV(cv=StratifiedKFold(n_splits=5, random_state=None, shuffle=False),\n",
              "             error_score=nan,\n",
              "             estimator=SVC(C=1.0, break_ties=False, cache_size=200,\n",
              "                           class_weight='balanced', coef0=0.0,\n",
              "                           decision_function_shape='ovr', degree=3,\n",
              "                           gamma='scale', kernel='rbf', max_iter=-1,\n",
              "                           probability=False, random_state=None, shrinking=True,\n",
              "                           tol=0.001, verbose=False),\n",
              "             iid='deprecated', n_jobs=None,\n",
              "             param_grid={'C': [0.0005, 0.001, 0.01, 0.1],\n",
              "                         'gamma': ['scale', 'auto'],\n",
              "                         'kernel': ['linear', 'rbf']},\n",
              "             pre_dispatch='2*n_jobs', refit=True, return_train_score=False,\n",
              "             scoring='f1', verbose=0)"
            ]
          },
          "metadata": {
            "tags": []
          },
          "execution_count": 35
        }
      ]
    },
    {
      "cell_type": "code",
      "metadata": {
        "colab": {
          "base_uri": "https://localhost:8080/"
        },
        "id": "J8RSejL9yQ7u",
        "outputId": "c298af40-0771-4355-ceb8-51ab6d295692"
      },
      "source": [
        "grid_svm_model.best_score_"
      ],
      "execution_count": 36,
      "outputs": [
        {
          "output_type": "execute_result",
          "data": {
            "text/plain": [
              "0.20499107564037092"
            ]
          },
          "metadata": {
            "tags": []
          },
          "execution_count": 36
        }
      ]
    },
    {
      "cell_type": "markdown",
      "metadata": {
        "id": "6FkRNM7xnwTK"
      },
      "source": [
        "---"
      ]
    },
    {
      "cell_type": "markdown",
      "metadata": {
        "id": "IUB7Msnmnw7s"
      },
      "source": [
        "### **c. Coefficients/Parameters**"
      ]
    },
    {
      "cell_type": "code",
      "metadata": {
        "colab": {
          "base_uri": "https://localhost:8080/"
        },
        "id": "3mBiNoaheDU2",
        "outputId": "67c381b8-b351-49ab-9d1d-e95536290d80"
      },
      "source": [
        "grid_svm_model.best_estimator_"
      ],
      "execution_count": 37,
      "outputs": [
        {
          "output_type": "execute_result",
          "data": {
            "text/plain": [
              "SVC(C=0.1, break_ties=False, cache_size=200, class_weight='balanced', coef0=0.0,\n",
              "    decision_function_shape='ovr', degree=3, gamma='auto', kernel='rbf',\n",
              "    max_iter=-1, probability=False, random_state=None, shrinking=True,\n",
              "    tol=0.001, verbose=False)"
            ]
          },
          "metadata": {
            "tags": []
          },
          "execution_count": 37
        }
      ]
    },
    {
      "cell_type": "code",
      "metadata": {
        "colab": {
          "base_uri": "https://localhost:8080/"
        },
        "id": "AtNTYNuRh2IE",
        "outputId": "131ea03a-20ff-4817-cca3-ee4fb18c12ab"
      },
      "source": [
        "grid_svm_model.best_params_"
      ],
      "execution_count": 38,
      "outputs": [
        {
          "output_type": "execute_result",
          "data": {
            "text/plain": [
              "{'C': 0.1, 'gamma': 'auto', 'kernel': 'rbf'}"
            ]
          },
          "metadata": {
            "tags": []
          },
          "execution_count": 38
        }
      ]
    },
    {
      "cell_type": "code",
      "metadata": {
        "id": "TKLqMdUTAugT"
      },
      "source": [
        "#grid_svm_model.cv_results_['mean_test_score']"
      ],
      "execution_count": 39,
      "outputs": []
    },
    {
      "cell_type": "markdown",
      "metadata": {
        "id": "SOp2aJiLn_Nr"
      },
      "source": [
        "---"
      ]
    },
    {
      "cell_type": "markdown",
      "metadata": {
        "id": "hPqI27Dpn_nd"
      },
      "source": [
        "## **C. Performance Evaluation**"
      ]
    },
    {
      "cell_type": "markdown",
      "metadata": {
        "id": "GU1VaX0K6eSu"
      },
      "source": [
        "### **a. Classification Metrics on Test Set**\n",
        "\n",
        "**Display the confusion matrix and classification report for your model.**"
      ]
    },
    {
      "cell_type": "code",
      "metadata": {
        "id": "eQBS3j8K6eSv"
      },
      "source": [
        "from sklearn.metrics import confusion_matrix, plot_confusion_matrix, classification_report, f1_score"
      ],
      "execution_count": 40,
      "outputs": []
    },
    {
      "cell_type": "code",
      "metadata": {
        "id": "d0-eKlv26eSv"
      },
      "source": [
        "y_pred = grid_svm_model.predict(scaled_X_test)"
      ],
      "execution_count": 41,
      "outputs": []
    },
    {
      "cell_type": "code",
      "metadata": {
        "id": "_XhyBr9A6eSw",
        "colab": {
          "base_uri": "https://localhost:8080/"
        },
        "outputId": "e9757a43-3177-45ca-a7b0-c5534ceab7c9"
      },
      "source": [
        "confusion_matrix(y_test, y_pred)"
      ],
      "execution_count": 42,
      "outputs": [
        {
          "output_type": "execute_result",
          "data": {
            "text/plain": [
              "array([[509, 116],\n",
              "       [  7,  18]])"
            ]
          },
          "metadata": {
            "tags": []
          },
          "execution_count": 42
        }
      ]
    },
    {
      "cell_type": "code",
      "metadata": {
        "colab": {
          "base_uri": "https://localhost:8080/"
        },
        "id": "Z_7E_RTJvF5c",
        "outputId": "6afe13fc-4ebf-4fea-abef-67f4ef394753"
      },
      "source": [
        "tp, fn, fp, tn = confusion_matrix(y_test, y_pred).ravel()\n",
        "print(tp,fn,fp,tn)"
      ],
      "execution_count": 43,
      "outputs": [
        {
          "output_type": "stream",
          "text": [
            "509 116 7 18\n"
          ],
          "name": "stdout"
        }
      ]
    },
    {
      "cell_type": "code",
      "metadata": {
        "colab": {
          "base_uri": "https://localhost:8080/"
        },
        "id": "WNbLxFDHPL1a",
        "outputId": "d670c1c0-884e-4e51-b310-d2032e602698"
      },
      "source": [
        "f1_score(y_test, y_pred)"
      ],
      "execution_count": 44,
      "outputs": [
        {
          "output_type": "execute_result",
          "data": {
            "text/plain": [
              "0.22641509433962265"
            ]
          },
          "metadata": {
            "tags": []
          },
          "execution_count": 44
        }
      ]
    },
    {
      "cell_type": "code",
      "metadata": {
        "colab": {
          "base_uri": "https://localhost:8080/",
          "height": 289
        },
        "id": "6_UkzprFoz79",
        "outputId": "72884fb8-313c-4e8a-917f-09bcd1eed437"
      },
      "source": [
        "fig, ax = plt.subplots(figsize=(6,4), dpi=75)\n",
        "plot_confusion_matrix(grid_svm_model, scaled_X_test, y_test, ax=ax, values_format='d', display_labels=['Legit', 'Fraud']);"
      ],
      "execution_count": 45,
      "outputs": [
        {
          "output_type": "display_data",
          "data": {
            "image/png": "[encoded data removed]",
            "text/plain": [
              "<Figure size 450x300 with 2 Axes>"
            ]
          },
          "metadata": {
            "tags": [],
            "needs_background": "light"
          }
        }
      ]
    },
    {
      "cell_type": "markdown",
      "metadata": {
        "id": "8v1uIR5nrFGm"
      },
      "source": [
        "It is harder to interpret based on chemical features of wine because of imbalanced label, but it is good step to make another decision. In this model, be careful when the model predicted the wine as Legit (0)."
      ]
    },
    {
      "cell_type": "code",
      "metadata": {
        "colab": {
          "base_uri": "https://localhost:8080/"
        },
        "id": "kJwtNvtxpcKn",
        "outputId": "f45d7b9a-ed4e-494e-9c09-349cc2376e8b"
      },
      "source": [
        "print(classification_report(y_test, y_pred, target_names=['Legit', 'Fraud']))"
      ],
      "execution_count": 46,
      "outputs": [
        {
          "output_type": "stream",
          "text": [
            "              precision    recall  f1-score   support\n",
            "\n",
            "       Legit       0.99      0.81      0.89       625\n",
            "       Fraud       0.13      0.72      0.23        25\n",
            "\n",
            "    accuracy                           0.81       650\n",
            "   macro avg       0.56      0.77      0.56       650\n",
            "weighted avg       0.95      0.81      0.87       650\n",
            "\n"
          ],
          "name": "stdout"
        }
      ]
    },
    {
      "cell_type": "markdown",
      "metadata": {
        "id": "fj9qqiEh6eSz"
      },
      "source": [
        "**It is difficult to predict fraud wine based on chemical features, trying to focused on another features beyond chemicel, such as, store, wine factory, etc. Or you can try another model. If you want to use this model, you must check again if the model predicted wine as Fraud (1) by human analyst**"
      ]
    },
    {
      "cell_type": "markdown",
      "metadata": {
        "id": "JPSlhLFNLCOR"
      },
      "source": [
        "**Precision: Ukuran seberapa banyak prediksi yang tepat**\n",
        "\n",
        "**Recall: Ukuran seberapa banyak Nilai Aktual yang diprediksi dengan tepat**"
      ]
    },
    {
      "cell_type": "markdown",
      "metadata": {
        "id": "jSqOdOGHD_98"
      },
      "source": [
        "### **b. Performance Curves**\n",
        "\n",
        "When to Use ROC vs. Precision-Recall Curves?\n",
        "\n",
        "Generally, the use of ROC curves and precision-recall curves are as follows:\n",
        "\n",
        "    ROC curves should be used when there are roughly equal numbers of observations for each class.\n",
        "    Precision-Recall curves should be used when there is a moderate to large class imbalance.\n"
      ]
    },
    {
      "cell_type": "code",
      "metadata": {
        "id": "RA7fCy3ZD_99"
      },
      "source": [
        "from sklearn.metrics import plot_precision_recall_curve, plot_roc_curve"
      ],
      "execution_count": 47,
      "outputs": []
    },
    {
      "cell_type": "code",
      "metadata": {
        "colab": {
          "base_uri": "https://localhost:8080/",
          "height": 289
        },
        "id": "x4rMF1o5HXQu",
        "outputId": "03cc1933-9142-4d7e-b555-e894369539e0"
      },
      "source": [
        "fig, ax = plt.subplots(figsize=(8,4), dpi=75)\n",
        "plot_precision_recall_curve(grid_svm_model, scaled_X_test, y_test, ax=ax)\n",
        "sns.despine() # Remove border from graph\n",
        "plt.show()"
      ],
      "execution_count": 48,
      "outputs": [
        {
          "output_type": "display_data",
          "data": {
            "image/png": "[encoded data removed]",
            "text/plain": [
              "<Figure size 600x300 with 1 Axes>"
            ]
          },
          "metadata": {
            "tags": [],
            "needs_background": "light"
          }
        }
      ]
    },
    {
      "cell_type": "markdown",
      "metadata": {
        "id": "nHtZQeYLtdl0"
      },
      "source": [
        "---\n",
        "---"
      ]
    }
  ]
}